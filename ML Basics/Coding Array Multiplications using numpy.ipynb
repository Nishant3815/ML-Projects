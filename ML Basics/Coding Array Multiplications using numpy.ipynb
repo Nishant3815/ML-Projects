{
 "cells": [
  {
   "cell_type": "code",
   "execution_count": 1,
   "metadata": {},
   "outputs": [],
   "source": [
    "# Coding of matrix operations \n",
    "# 1D Array example: [1,2,3]\n",
    "\n",
    "# 2D Array example: \n",
    "\"\"\"[[1 2 3]\n",
    " [1 2 3]\n",
    " [1 2 3]]\"\"\"\n",
    "\n",
    "# 3D Array example: \n",
    "\"\"\"\n",
    "[[[1 2 3]\n",
    "  [1 2 3]]\n",
    "  \n",
    " [[1 2 3]\n",
    "  [1 2 3]]]\n",
    "\n",
    "This example has 2 layers, 2 rows and 3 columns. Note that the second layer should always have the same dimension as the first\n",
    "\"\"\"\n",
    "import numpy as np"
   ]
  },
  {
   "cell_type": "code",
   "execution_count": 2,
   "metadata": {},
   "outputs": [
    {
     "data": {
      "text/plain": [
       "array([2., 4., 6.])"
      ]
     },
     "execution_count": 2,
     "metadata": {},
     "output_type": "execute_result"
    }
   ],
   "source": [
    "# Section 1, Question 1, 1st Quantity (cx)  \n",
    "# Example input to check devised function \n",
    "x = np.asarray([1,2,3])\n",
    "c = 2\n",
    "# Create a function for scaler multiplication\n",
    "def scaler_multiply_1d_matrix(x,c):\n",
    "    out_vector = np.zeros(x.shape)\n",
    "    for i in range(x.shape[0]):\n",
    "        out_vector[i] = x[i]*c\n",
    "    return out_vector\n",
    "scaler_multiply_1d_matrix(x,c)"
   ]
  },
  {
   "cell_type": "code",
   "execution_count": 3,
   "metadata": {},
   "outputs": [
    {
     "name": "stdout",
     "output_type": "stream",
     "text": [
      "Matrix A:  [[0.35853207 0.6007516 ]\n",
      " [0.3509333  0.46171745]\n",
      " [0.1014812  0.66256409]]\n"
     ]
    },
    {
     "data": {
      "text/plain": [
       "array([[0.71706414, 1.20150321],\n",
       "       [0.7018666 , 0.92343489],\n",
       "       [0.20296241, 1.32512817]])"
      ]
     },
     "execution_count": 3,
     "metadata": {},
     "output_type": "execute_result"
    }
   ],
   "source": [
    "# Section 1, Question 1, 2nd Quantity (cA) \n",
    "# Example input to check devised function \n",
    "A = np.random.rand(3,2)\n",
    "print(\"Matrix A: \",A)\n",
    "c = 2\n",
    "# Create a function for scaler multiplication\n",
    "def scaler_multiply_2d_matrix(c,A):\n",
    "    out_mat = np.zeros(A.shape)\n",
    "    for i in range(A.shape[0]):\n",
    "        for j in range(A.shape[1]):\n",
    "            out_mat[i][j] = c*A[i][j]\n",
    "    return out_mat\n",
    "scaler_multiply_2d_matrix(c,A)"
   ]
  },
  {
   "cell_type": "code",
   "execution_count": null,
   "metadata": {},
   "outputs": [],
   "source": [
    "# Section 1, Question 1, 3rd Quantity (Ax) \n",
    "# Example input to check devised function \n",
    "print(\"Matrix A: \",A)\n",
    "x = np.asarray([2,1])\n",
    "print(\"x:\", x)\n",
    "# Create a function for scaler multiplication\n",
    "def mult_2d_1d_matrix(A,x):\n",
    "    # Check if the matrix satisfies the requirements, otherwise raise assertion error\n",
    "    assert(A.shape[1]==x.shape[0])\n",
    "    prod_2d_1d = []\n",
    "    for i in range(A.shape[0]):\n",
    "        sum_row = 0\n",
    "        for j in range(A.shape[1]):\n",
    "            sum_row += A[i][j]*x[j]\n",
    "        prod_2d_1d.append(sum_row)\n",
    "    return prod_2d_1d\n",
    "mult_2d_1d_matrix(A,x)"
   ]
  },
  {
   "cell_type": "code",
   "execution_count": null,
   "metadata": {},
   "outputs": [],
   "source": [
    "# Section 1, Question 1, 4th Quantity (x^{T}Ay) \n",
    "# Example input to check devised function\n",
    "print(\"Matrix A: \", A)\n",
    "print(\"**********************\")\n",
    "x = np.asarray([2,1,1])\n",
    "print(\"x: \", x)\n",
    "print(\"**********************\")\n",
    "y = np.asarray([1,2,3])\n",
    "print(\"y: \",y)\n",
    "def xt_a_y_mult(x,A,y):\n",
    "    \"As per assignment notations, x transpose A is just a notation to indicate the inner product of x and A\"\n",
    "    # Check if the dimensions of x and A match laws for inner product multiplication\n",
    "    assert(len(x)==A.shape[0])\n",
    "    mid_array = []\n",
    "    for i in range(A.shape[0]):\n",
    "        sum_mid = 0\n",
    "        for j in range(A.shape[1]):\n",
    "            sum_mid += A[i][j]*x[j]\n",
    "        mid_array.append(sum_mid)\n",
    "    assert(len(mid_array)==len(y))\n",
    "    sum_all = 0\n",
    "    for k in range(y.shape[0]):\n",
    "        sum_all += mid_array[k]*y[k]\n",
    "    \n",
    "    return np.asarray(sum_all)\n",
    "xt_a_y_mult(x,A,y)"
   ]
  },
  {
   "cell_type": "code",
   "execution_count": null,
   "metadata": {},
   "outputs": [],
   "source": [
    "# Section 1, Question 1, 5th Quantity (xy^T) \n",
    "# Example input to check devised function\n",
    "# As explained in assignment, this denotes outer product \n",
    "x = np.asarray([2,1,1])\n",
    "print(\"x: \", x)\n",
    "print(\"**********************\")\n",
    "y = np.asarray([1,2,3])\n",
    "print(\"**********************\")\n",
    "print(\"y: \",y)\n",
    "def get_outer_xy_t_prod(x,y):\n",
    "    \"\"\"\n",
    "    Compute outer product of two 1D array\n",
    "    \"\"\"\n",
    "    outer = np.zeros((len(x),len(y)))\n",
    "    for i in range(len(x)):\n",
    "        for j in range(len(y)):\n",
    "            outer[i][j] = x[i]*y[j]\n",
    "    return outer\n",
    "get_outer_xy_t_prod(x,y)"
   ]
  },
  {
   "cell_type": "code",
   "execution_count": null,
   "metadata": {},
   "outputs": [],
   "source": [
    "# Section 1, Question 1, 6th Quantity (AB) \n",
    "# Example input to check devised function\n",
    "print(\"Matrix A: \", A)\n",
    "print(\"*****************\")\n",
    "B  = np.random.rand(2,4)\n",
    "print(\"Matrix B: \", B)\n",
    "print(\"*****************\")\n",
    "\n",
    "def matrix_matrix_mult(A,B):\n",
    "    \"\"\"\n",
    "    Create a dot product equivalent using matrix-matrix multiplication \n",
    "    \"\"\"\n",
    "    out_mat = np.zeros((A.shape[0],B.shape[1]))\n",
    "    assert(A.shape[1]==B.shape[0])\n",
    "    for i in range(A.shape[0]):\n",
    "        for j in range(B.shape[1]):\n",
    "            mid_sum = 0\n",
    "            for k in range(B.shape[0]):\n",
    "                mid_sum += A[i][k]*B[k][j]\n",
    "            out_mat[i][j] = mid_sum\n",
    "    return out_mat\n",
    "matrix_matrix_mult(A,B)"
   ]
  },
  {
   "cell_type": "code",
   "execution_count": null,
   "metadata": {},
   "outputs": [],
   "source": [
    "# Section 1, Question 1, 7th Quantity (ABC) \n",
    "# Example input to check devised function\n",
    "print(\"Matrix A: \", A)\n",
    "print(\"*****************\")\n",
    "B  = np.random.rand(2,4)\n",
    "print(\"Matrix B: \", B)\n",
    "print(\"*****************\")\n",
    "C  = np.random.rand(4,2)\n",
    "print(\"Matrix C: \", C)\n",
    "print(\"*****************\")\n",
    "def triple_matrix_mult(A,B,C):\n",
    "    \"\"\"\n",
    "    Multiply the three given matrix\n",
    "    Note: Associative laws for matrices allow for A(BC) = (AB)C. So, we will first use (AB) and leverage the code \n",
    "    for next computation i.e. (AB)C\n",
    "    \"\"\"\n",
    "    def matrix_matrix_mult(A,B):\n",
    "        \"\"\"\n",
    "        Creating a dot product equivalent using matrix-matrix multiplication \n",
    "        \"\"\"\n",
    "        out_mat = np.zeros((A.shape[0],B.shape[1]))\n",
    "        assert(A.shape[1]==B.shape[0])\n",
    "        for i in range(A.shape[0]):\n",
    "            for j in range(B.shape[1]):\n",
    "                mid_sum = 0\n",
    "                for k in range(B.shape[0]):\n",
    "                    mid_sum += A[i][k]*B[k][j]\n",
    "                out_mat[i][j] = mid_sum\n",
    "        return out_mat\n",
    "    mid_matrix = matrix_matrix_mult(A,B)\n",
    "    final_out_matrix = np.zeros((mid_matrix.shape[0],C.shape[1]))\n",
    "    assert(mid_matrix.shape[1]==C.shape[0])\n",
    "    final_out_matrix = matrix_matrix_mult(mid_matrix,C)\n",
    "    return final_out_matrix\n",
    "triple_matrix_mult(A,B,C)"
   ]
  },
  {
   "cell_type": "code",
   "execution_count": null,
   "metadata": {},
   "outputs": [],
   "source": []
  },
  {
   "cell_type": "code",
   "execution_count": null,
   "metadata": {},
   "outputs": [],
   "source": []
  },
  {
   "cell_type": "code",
   "execution_count": null,
   "metadata": {},
   "outputs": [],
   "source": []
  },
  {
   "cell_type": "code",
   "execution_count": null,
   "metadata": {},
   "outputs": [],
   "source": []
  }
 ],
 "metadata": {
  "kernelspec": {
   "display_name": "Python 3",
   "language": "python",
   "name": "python3"
  },
  "language_info": {
   "codemirror_mode": {
    "name": "ipython",
    "version": 3
   },
   "file_extension": ".py",
   "mimetype": "text/x-python",
   "name": "python",
   "nbconvert_exporter": "python",
   "pygments_lexer": "ipython3",
   "version": "3.8.5"
  }
 },
 "nbformat": 4,
 "nbformat_minor": 4
}
