{
 "cells": [
  {
   "cell_type": "code",
   "execution_count": 1,
   "metadata": {
    "collapsed": true
   },
   "outputs": [],
   "source": [
    "#Initial imports \n",
    "import numpy as np\n",
    "import pandas as pd \n",
    "from pandas import DataFrame, Series\n",
    "import matplotlib.pyplot as plt\n",
    "import seaborn as sns\n",
    "from scipy import stats\n",
    "%matplotlib inline\n",
    "from IPython.core.interactiveshell import InteractiveShell #Show all consecutive outputs\n",
    "InteractiveShell.ast_node_interactivity = \"all\""
   ]
  },
  {
   "cell_type": "code",
   "execution_count": 2,
   "metadata": {
    "collapsed": true
   },
   "outputs": [],
   "source": [
    "#Removes all unnecessary warnings by Python\n",
    "import warnings\n",
    "warnings.filterwarnings('ignore')"
   ]
  },
  {
   "cell_type": "code",
   "execution_count": 3,
   "metadata": {
    "collapsed": true
   },
   "outputs": [],
   "source": [
    "from collections import defaultdict\n",
    "import scipy as sp\n",
    "from matplotlib import rcParams\n",
    "import matplotlib.cm as cm\n",
    "import matplotlib as mpl\n",
    "\n",
    "#colorbrewer2 Dark2 qualitative color table\n",
    "dark2_colors = [(0.10588235294117647, 0.6196078431372549, 0.4666666666666667),\n",
    "                (0.8509803921568627, 0.37254901960784315, 0.00784313725490196),\n",
    "                (0.4588235294117647, 0.4392156862745098, 0.7019607843137254),\n",
    "                (0.9058823529411765, 0.1607843137254902, 0.5411764705882353),\n",
    "                (0.4, 0.6509803921568628, 0.11764705882352941),\n",
    "                (0.9019607843137255, 0.6705882352941176, 0.00784313725490196),\n",
    "                (0.6509803921568628, 0.4627450980392157, 0.11372549019607843)]\n",
    "\n",
    "rcParams['figure.figsize'] = (12, 8)\n",
    "rcParams['figure.dpi'] = 250\n",
    "rcParams['axes.color_cycle'] = dark2_colors\n",
    "rcParams['lines.linewidth'] = 3\n",
    "rcParams['axes.facecolor'] = 'white'\n",
    "rcParams['font.size'] = 25\n",
    "rcParams['patch.edgecolor'] = 'white'\n",
    "rcParams['patch.facecolor'] = dark2_colors[0]\n",
    "rcParams['font.family'] = 'StixGeneral'"
   ]
  },
  {
   "cell_type": "code",
   "execution_count": 4,
   "metadata": {
    "collapsed": true
   },
   "outputs": [],
   "source": [
    "#Show all the columns \n",
    "pd.set_option('display.max_columns',None)"
   ]
  },
  {
   "cell_type": "code",
   "execution_count": 13,
   "metadata": {
    "collapsed": true
   },
   "outputs": [],
   "source": [
    "train = pd.read_csv('train.csv')\n",
    "test = pd.read_csv('test.csv')"
   ]
  },
  {
   "cell_type": "code",
   "execution_count": 14,
   "metadata": {
    "collapsed": false
   },
   "outputs": [
    {
     "data": {
      "text/html": [
       "<div>\n",
       "<table border=\"1\" class=\"dataframe\">\n",
       "  <thead>\n",
       "    <tr style=\"text-align: right;\">\n",
       "      <th></th>\n",
       "      <th>Trip_Distance</th>\n",
       "      <th>Customer_Since_Months</th>\n",
       "      <th>Life_Style_Index</th>\n",
       "      <th>Customer_Rating</th>\n",
       "      <th>Cancellation_Last_1Month</th>\n",
       "      <th>Var1</th>\n",
       "      <th>Var2</th>\n",
       "      <th>Var3</th>\n",
       "      <th>Surge_Pricing_Type</th>\n",
       "    </tr>\n",
       "  </thead>\n",
       "  <tbody>\n",
       "    <tr>\n",
       "      <th>count</th>\n",
       "      <td>131662.000000</td>\n",
       "      <td>125742.000000</td>\n",
       "      <td>111469.000000</td>\n",
       "      <td>131662.000000</td>\n",
       "      <td>131662.000000</td>\n",
       "      <td>60632.000000</td>\n",
       "      <td>131662.000000</td>\n",
       "      <td>131662.000000</td>\n",
       "      <td>131662.000000</td>\n",
       "    </tr>\n",
       "    <tr>\n",
       "      <th>mean</th>\n",
       "      <td>44.200909</td>\n",
       "      <td>6.016661</td>\n",
       "      <td>2.802064</td>\n",
       "      <td>2.849458</td>\n",
       "      <td>0.782838</td>\n",
       "      <td>64.202698</td>\n",
       "      <td>51.202800</td>\n",
       "      <td>75.099019</td>\n",
       "      <td>2.155747</td>\n",
       "    </tr>\n",
       "    <tr>\n",
       "      <th>std</th>\n",
       "      <td>25.522882</td>\n",
       "      <td>3.626887</td>\n",
       "      <td>0.225796</td>\n",
       "      <td>0.980675</td>\n",
       "      <td>1.037559</td>\n",
       "      <td>21.820447</td>\n",
       "      <td>4.986142</td>\n",
       "      <td>11.578278</td>\n",
       "      <td>0.738164</td>\n",
       "    </tr>\n",
       "    <tr>\n",
       "      <th>min</th>\n",
       "      <td>0.310000</td>\n",
       "      <td>0.000000</td>\n",
       "      <td>1.596380</td>\n",
       "      <td>0.001250</td>\n",
       "      <td>0.000000</td>\n",
       "      <td>30.000000</td>\n",
       "      <td>40.000000</td>\n",
       "      <td>52.000000</td>\n",
       "      <td>1.000000</td>\n",
       "    </tr>\n",
       "    <tr>\n",
       "      <th>25%</th>\n",
       "      <td>24.580000</td>\n",
       "      <td>NaN</td>\n",
       "      <td>NaN</td>\n",
       "      <td>2.152500</td>\n",
       "      <td>0.000000</td>\n",
       "      <td>NaN</td>\n",
       "      <td>48.000000</td>\n",
       "      <td>67.000000</td>\n",
       "      <td>2.000000</td>\n",
       "    </tr>\n",
       "    <tr>\n",
       "      <th>50%</th>\n",
       "      <td>38.200000</td>\n",
       "      <td>NaN</td>\n",
       "      <td>NaN</td>\n",
       "      <td>2.895000</td>\n",
       "      <td>0.000000</td>\n",
       "      <td>NaN</td>\n",
       "      <td>50.000000</td>\n",
       "      <td>74.000000</td>\n",
       "      <td>2.000000</td>\n",
       "    </tr>\n",
       "    <tr>\n",
       "      <th>75%</th>\n",
       "      <td>60.730000</td>\n",
       "      <td>NaN</td>\n",
       "      <td>NaN</td>\n",
       "      <td>3.582500</td>\n",
       "      <td>1.000000</td>\n",
       "      <td>NaN</td>\n",
       "      <td>54.000000</td>\n",
       "      <td>82.000000</td>\n",
       "      <td>3.000000</td>\n",
       "    </tr>\n",
       "    <tr>\n",
       "      <th>max</th>\n",
       "      <td>109.230000</td>\n",
       "      <td>10.000000</td>\n",
       "      <td>4.875110</td>\n",
       "      <td>5.000000</td>\n",
       "      <td>8.000000</td>\n",
       "      <td>210.000000</td>\n",
       "      <td>124.000000</td>\n",
       "      <td>206.000000</td>\n",
       "      <td>3.000000</td>\n",
       "    </tr>\n",
       "  </tbody>\n",
       "</table>\n",
       "</div>"
      ],
      "text/plain": [
       "       Trip_Distance  Customer_Since_Months  Life_Style_Index  \\\n",
       "count  131662.000000          125742.000000     111469.000000   \n",
       "mean       44.200909               6.016661          2.802064   \n",
       "std        25.522882               3.626887          0.225796   \n",
       "min         0.310000               0.000000          1.596380   \n",
       "25%        24.580000                    NaN               NaN   \n",
       "50%        38.200000                    NaN               NaN   \n",
       "75%        60.730000                    NaN               NaN   \n",
       "max       109.230000              10.000000          4.875110   \n",
       "\n",
       "       Customer_Rating  Cancellation_Last_1Month          Var1           Var2  \\\n",
       "count    131662.000000             131662.000000  60632.000000  131662.000000   \n",
       "mean          2.849458                  0.782838     64.202698      51.202800   \n",
       "std           0.980675                  1.037559     21.820447       4.986142   \n",
       "min           0.001250                  0.000000     30.000000      40.000000   \n",
       "25%           2.152500                  0.000000           NaN      48.000000   \n",
       "50%           2.895000                  0.000000           NaN      50.000000   \n",
       "75%           3.582500                  1.000000           NaN      54.000000   \n",
       "max           5.000000                  8.000000    210.000000     124.000000   \n",
       "\n",
       "                Var3  Surge_Pricing_Type  \n",
       "count  131662.000000       131662.000000  \n",
       "mean       75.099019            2.155747  \n",
       "std        11.578278            0.738164  \n",
       "min        52.000000            1.000000  \n",
       "25%        67.000000            2.000000  \n",
       "50%        74.000000            2.000000  \n",
       "75%        82.000000            3.000000  \n",
       "max       206.000000            3.000000  "
      ]
     },
     "execution_count": 14,
     "metadata": {},
     "output_type": "execute_result"
    }
   ],
   "source": [
    "train.describe()"
   ]
  },
  {
   "cell_type": "code",
   "execution_count": 15,
   "metadata": {
    "collapsed": false
   },
   "outputs": [
    {
     "data": {
      "text/html": [
       "<div>\n",
       "<table border=\"1\" class=\"dataframe\">\n",
       "  <thead>\n",
       "    <tr style=\"text-align: right;\">\n",
       "      <th></th>\n",
       "      <th>Trip_Distance</th>\n",
       "      <th>Customer_Since_Months</th>\n",
       "      <th>Life_Style_Index</th>\n",
       "      <th>Customer_Rating</th>\n",
       "      <th>Cancellation_Last_1Month</th>\n",
       "      <th>Var1</th>\n",
       "      <th>Var2</th>\n",
       "      <th>Var3</th>\n",
       "    </tr>\n",
       "  </thead>\n",
       "  <tbody>\n",
       "    <tr>\n",
       "      <th>count</th>\n",
       "      <td>87395.000000</td>\n",
       "      <td>83429.000000</td>\n",
       "      <td>74068.000000</td>\n",
       "      <td>87395.000000</td>\n",
       "      <td>87395.000000</td>\n",
       "      <td>40606.000000</td>\n",
       "      <td>87395.000000</td>\n",
       "      <td>87395.000000</td>\n",
       "    </tr>\n",
       "    <tr>\n",
       "      <th>mean</th>\n",
       "      <td>44.095174</td>\n",
       "      <td>5.990051</td>\n",
       "      <td>2.803392</td>\n",
       "      <td>2.847389</td>\n",
       "      <td>0.783031</td>\n",
       "      <td>63.936610</td>\n",
       "      <td>51.162160</td>\n",
       "      <td>75.015699</td>\n",
       "    </tr>\n",
       "    <tr>\n",
       "      <th>std</th>\n",
       "      <td>25.483993</td>\n",
       "      <td>3.626861</td>\n",
       "      <td>0.227113</td>\n",
       "      <td>0.981744</td>\n",
       "      <td>1.034266</td>\n",
       "      <td>21.636247</td>\n",
       "      <td>4.956831</td>\n",
       "      <td>11.582761</td>\n",
       "    </tr>\n",
       "    <tr>\n",
       "      <th>min</th>\n",
       "      <td>1.550000</td>\n",
       "      <td>0.000000</td>\n",
       "      <td>1.317850</td>\n",
       "      <td>0.001250</td>\n",
       "      <td>0.000000</td>\n",
       "      <td>30.000000</td>\n",
       "      <td>41.000000</td>\n",
       "      <td>52.000000</td>\n",
       "    </tr>\n",
       "    <tr>\n",
       "      <th>25%</th>\n",
       "      <td>24.540000</td>\n",
       "      <td>NaN</td>\n",
       "      <td>NaN</td>\n",
       "      <td>2.152500</td>\n",
       "      <td>0.000000</td>\n",
       "      <td>NaN</td>\n",
       "      <td>48.000000</td>\n",
       "      <td>67.000000</td>\n",
       "    </tr>\n",
       "    <tr>\n",
       "      <th>50%</th>\n",
       "      <td>38.060000</td>\n",
       "      <td>NaN</td>\n",
       "      <td>NaN</td>\n",
       "      <td>2.895000</td>\n",
       "      <td>0.000000</td>\n",
       "      <td>NaN</td>\n",
       "      <td>50.000000</td>\n",
       "      <td>73.000000</td>\n",
       "    </tr>\n",
       "    <tr>\n",
       "      <th>75%</th>\n",
       "      <td>60.690000</td>\n",
       "      <td>NaN</td>\n",
       "      <td>NaN</td>\n",
       "      <td>3.580000</td>\n",
       "      <td>1.000000</td>\n",
       "      <td>NaN</td>\n",
       "      <td>54.000000</td>\n",
       "      <td>82.000000</td>\n",
       "    </tr>\n",
       "    <tr>\n",
       "      <th>max</th>\n",
       "      <td>109.230000</td>\n",
       "      <td>10.000000</td>\n",
       "      <td>4.871920</td>\n",
       "      <td>5.000000</td>\n",
       "      <td>8.000000</td>\n",
       "      <td>178.000000</td>\n",
       "      <td>116.000000</td>\n",
       "      <td>169.000000</td>\n",
       "    </tr>\n",
       "  </tbody>\n",
       "</table>\n",
       "</div>"
      ],
      "text/plain": [
       "       Trip_Distance  Customer_Since_Months  Life_Style_Index  \\\n",
       "count   87395.000000           83429.000000      74068.000000   \n",
       "mean       44.095174               5.990051          2.803392   \n",
       "std        25.483993               3.626861          0.227113   \n",
       "min         1.550000               0.000000          1.317850   \n",
       "25%        24.540000                    NaN               NaN   \n",
       "50%        38.060000                    NaN               NaN   \n",
       "75%        60.690000                    NaN               NaN   \n",
       "max       109.230000              10.000000          4.871920   \n",
       "\n",
       "       Customer_Rating  Cancellation_Last_1Month          Var1          Var2  \\\n",
       "count     87395.000000              87395.000000  40606.000000  87395.000000   \n",
       "mean          2.847389                  0.783031     63.936610     51.162160   \n",
       "std           0.981744                  1.034266     21.636247      4.956831   \n",
       "min           0.001250                  0.000000     30.000000     41.000000   \n",
       "25%           2.152500                  0.000000           NaN     48.000000   \n",
       "50%           2.895000                  0.000000           NaN     50.000000   \n",
       "75%           3.580000                  1.000000           NaN     54.000000   \n",
       "max           5.000000                  8.000000    178.000000    116.000000   \n",
       "\n",
       "               Var3  \n",
       "count  87395.000000  \n",
       "mean      75.015699  \n",
       "std       11.582761  \n",
       "min       52.000000  \n",
       "25%       67.000000  \n",
       "50%       73.000000  \n",
       "75%       82.000000  \n",
       "max      169.000000  "
      ]
     },
     "execution_count": 15,
     "metadata": {},
     "output_type": "execute_result"
    }
   ],
   "source": [
    "test.describe()"
   ]
  },
  {
   "cell_type": "code",
   "execution_count": 16,
   "metadata": {
    "collapsed": false
   },
   "outputs": [
    {
     "data": {
      "text/plain": [
       "Trip_ID                         object\n",
       "Trip_Distance                  float64\n",
       "Type_of_Cab                     object\n",
       "Customer_Since_Months          float64\n",
       "Life_Style_Index               float64\n",
       "Confidence_Life_Style_Index     object\n",
       "Destination_Type                object\n",
       "Customer_Rating                float64\n",
       "Cancellation_Last_1Month         int64\n",
       "Var1                           float64\n",
       "Var2                             int64\n",
       "Var3                             int64\n",
       "Gender                          object\n",
       "Surge_Pricing_Type               int64\n",
       "dtype: object"
      ]
     },
     "execution_count": 16,
     "metadata": {},
     "output_type": "execute_result"
    },
    {
     "data": {
      "text/plain": [
       "Trip_ID                         object\n",
       "Trip_Distance                  float64\n",
       "Type_of_Cab                     object\n",
       "Customer_Since_Months          float64\n",
       "Life_Style_Index               float64\n",
       "Confidence_Life_Style_Index     object\n",
       "Destination_Type                object\n",
       "Customer_Rating                float64\n",
       "Cancellation_Last_1Month         int64\n",
       "Var1                           float64\n",
       "Var2                             int64\n",
       "Var3                             int64\n",
       "Gender                          object\n",
       "dtype: object"
      ]
     },
     "execution_count": 16,
     "metadata": {},
     "output_type": "execute_result"
    }
   ],
   "source": [
    "train.dtypes\n",
    "test.dtypes"
   ]
  },
  {
   "cell_type": "code",
   "execution_count": 35,
   "metadata": {
    "collapsed": true
   },
   "outputs": [],
   "source": [
    "train = train.rename(columns={'Trip_Distance':'TD','Type_of_Cab':'TOC','Customer_Since_Months':'CSM','Life_Style_Index':'LSI','Confidence_Life_Style_Index':'CLSI','Destination_Type':'DT','Customer_Rating':'CR','Cancellation_Last_1Month':'CLM','Surge_Pricing_Type':'y'})"
   ]
  },
  {
   "cell_type": "code",
   "execution_count": 36,
   "metadata": {
    "collapsed": true
   },
   "outputs": [],
   "source": [
    "test = test.rename(columns={'Trip_Distance':'TD','Type_of_Cab':'TOC','Customer_Since_Months':'CSM','Life_Style_Index':'LSI','Confidence_Life_Style_Index':'CLSI','Destination_Type':'DT','Customer_Rating':'CR','Cancellation_Last_1Month':'CLM'})"
   ]
  },
  {
   "cell_type": "code",
   "execution_count": 12,
   "metadata": {
    "collapsed": true
   },
   "outputs": [],
   "source": [
    "train.to_csv('train1.csv',index=False)\n",
    "test.to_csv('test1.csv',index=False)"
   ]
  },
  {
   "cell_type": "code",
   "execution_count": 17,
   "metadata": {
    "collapsed": false
   },
   "outputs": [
    {
     "name": "stderr",
     "output_type": "stream",
     "text": [
      "C:\\Users\\hp pc\\Anaconda3\\lib\\site-packages\\sklearn\\cross_validation.py:44: DeprecationWarning: This module was deprecated in version 0.18 in favor of the model_selection module into which all the refactored classes and functions are moved. Also note that the interface of the new CV iterators are different from that of this module. This module will be removed in 0.20.\n",
      "  \"This module will be removed in 0.20.\", DeprecationWarning)\n"
     ]
    }
   ],
   "source": [
    "from xgboost.sklearn import XGBClassifier\n",
    "from sklearn.cross_validation import cross_val_score\n",
    "from sklearn.metrics import accuracy_score"
   ]
  },
  {
   "cell_type": "code",
   "execution_count": 20,
   "metadata": {
    "collapsed": false
   },
   "outputs": [
    {
     "data": {
      "text/plain": [
       "2    56728\n",
       "3    47720\n",
       "1    27214\n",
       "Name: Surge_Pricing_Type, dtype: int64"
      ]
     },
     "execution_count": 20,
     "metadata": {},
     "output_type": "execute_result"
    }
   ],
   "source": [
    "train['Surge_Pricing_Type'].value_counts()"
   ]
  },
  {
   "cell_type": "code",
   "execution_count": 92,
   "metadata": {
    "collapsed": false
   },
   "outputs": [
    {
     "data": {
      "text/plain": [
       "Trip_ID        0\n",
       "TD             0\n",
       "TOC        20210\n",
       "CSM            0\n",
       "LSI            0\n",
       "CLSI           0\n",
       "DT             0\n",
       "CR             0\n",
       "CLM            0\n",
       "Var1       71030\n",
       "Var2           0\n",
       "Var3           0\n",
       "Gender         0\n",
       "y              0\n",
       "dtype: int64"
      ]
     },
     "execution_count": 92,
     "metadata": {},
     "output_type": "execute_result"
    }
   ],
   "source": [
    "train.isnull().sum()"
   ]
  },
  {
   "cell_type": "code",
   "execution_count": 93,
   "metadata": {
    "collapsed": false
   },
   "outputs": [
    {
     "data": {
      "text/plain": [
       "Trip_ID        0\n",
       "TD             0\n",
       "TOC        13158\n",
       "CSM            0\n",
       "LSI            0\n",
       "CLSI           0\n",
       "DT             0\n",
       "CR             0\n",
       "CLM            0\n",
       "Var1       46789\n",
       "Var2           0\n",
       "Var3           0\n",
       "Gender         0\n",
       "dtype: int64"
      ]
     },
     "execution_count": 93,
     "metadata": {},
     "output_type": "execute_result"
    }
   ],
   "source": [
    "test.isnull().sum()"
   ]
  },
  {
   "cell_type": "code",
   "execution_count": 40,
   "metadata": {
    "collapsed": false
   },
   "outputs": [
    {
     "data": {
      "text/plain": [
       "<matplotlib.axes._subplots.AxesSubplot at 0x2c7183c7a90>"
      ]
     },
     "execution_count": 40,
     "metadata": {},
     "output_type": "execute_result"
    },
    {
     "data": {
      "text/plain": [
       "<matplotlib.text.Text at 0x2c7182d6128>"
      ]
     },
     "execution_count": 40,
     "metadata": {},
     "output_type": "execute_result"
    },
    {
     "data": {
      "text/plain": [
       "<matplotlib.axes._subplots.AxesSubplot at 0x2c7183e1898>"
      ]
     },
     "execution_count": 40,
     "metadata": {},
     "output_type": "execute_result"
    },
    {
     "data": {
      "text/plain": [
       "<matplotlib.text.Text at 0x2c7183ed4a8>"
      ]
     },
     "execution_count": 40,
     "metadata": {},
     "output_type": "execute_result"
    },
    {
     "data": {
      "image/png": "[encoded data removed]",
      "text/plain": [
       "<matplotlib.figure.Figure at 0x2c718351978>"
      ]
     },
     "metadata": {},
     "output_type": "display_data"
    }
   ],
   "source": [
    "fig, (ax1, ax2) = plt.subplots(1,2)\n",
    "sns.countplot(\"TOC\",data=train,ax=ax1)\n",
    "ax1.set_title('Train')\n",
    "sns.countplot(\"TOC\",data=test,ax=ax2)\n",
    "ax2.set_title('Test')\n",
    "#sns.countplot(\"Campaign\",data=data)"
   ]
  },
  {
   "cell_type": "code",
   "execution_count": 26,
   "metadata": {
    "collapsed": false
   },
   "outputs": [
    {
     "data": {
      "text/plain": [
       "<matplotlib.axes._subplots.AxesSubplot at 0x2c71c1b8358>"
      ]
     },
     "execution_count": 26,
     "metadata": {},
     "output_type": "execute_result"
    },
    {
     "data": {
      "text/plain": [
       "<matplotlib.text.Text at 0x2c71d9e8780>"
      ]
     },
     "execution_count": 26,
     "metadata": {},
     "output_type": "execute_result"
    },
    {
     "data": {
      "text/plain": [
       "<matplotlib.axes._subplots.AxesSubplot at 0x2c71d617ef0>"
      ]
     },
     "execution_count": 26,
     "metadata": {},
     "output_type": "execute_result"
    },
    {
     "data": {
      "text/plain": [
       "<matplotlib.text.Text at 0x2c71d63ec18>"
      ]
     },
     "execution_count": 26,
     "metadata": {},
     "output_type": "execute_result"
    },
    {
     "data": {
      "image/png": "[encoded data removed]",
      "text/plain": [
       "<matplotlib.figure.Figure at 0x2c71d5ef4e0>"
      ]
     },
     "metadata": {},
     "output_type": "display_data"
    }
   ],
   "source": [
    "fig, (ax1, ax2) = plt.subplots(1,2)\n",
    "sns.countplot(\"Customer_Since_Months\",data=train,ax=ax1)\n",
    "ax1.set_title('Train')\n",
    "sns.countplot(\"Customer_Since_Months\",data=test,ax=ax2)\n",
    "ax2.set_title('Test')\n",
    "#sns.countplot(\"Campaign\",data=data)"
   ]
  },
  {
   "cell_type": "code",
   "execution_count": 27,
   "metadata": {
    "collapsed": false
   },
   "outputs": [
    {
     "data": {
      "text/plain": [
       "<matplotlib.axes._subplots.AxesSubplot at 0x2c71d6d05f8>"
      ]
     },
     "execution_count": 27,
     "metadata": {},
     "output_type": "execute_result"
    },
    {
     "data": {
      "text/plain": [
       "<matplotlib.text.Text at 0x2c71d71b240>"
      ]
     },
     "execution_count": 27,
     "metadata": {},
     "output_type": "execute_result"
    },
    {
     "data": {
      "text/plain": [
       "<matplotlib.axes._subplots.AxesSubplot at 0x2c71d736ba8>"
      ]
     },
     "execution_count": 27,
     "metadata": {},
     "output_type": "execute_result"
    },
    {
     "data": {
      "text/plain": [
       "<matplotlib.text.Text at 0x2c71d75cf98>"
      ]
     },
     "execution_count": 27,
     "metadata": {},
     "output_type": "execute_result"
    },
    {
     "data": {
      "image/png": "[encoded data removed]",
      "text/plain": [
       "<matplotlib.figure.Figure at 0x2c71d6f1ba8>"
      ]
     },
     "metadata": {},
     "output_type": "display_data"
    }
   ],
   "source": [
    "fig, (ax1, ax2) = plt.subplots(1,2)\n",
    "sns.countplot(\"Type_of_Cab\",data=train,ax=ax1)\n",
    "ax1.set_title('Train')\n",
    "sns.countplot(\"Type_of_Cab\",data=test,ax=ax2)\n",
    "ax2.set_title('Test')\n",
    "#sns.countplot(\"Campaign\",data=data)\n"
   ]
  },
  {
   "cell_type": "code",
   "execution_count": 28,
   "metadata": {
    "collapsed": false
   },
   "outputs": [
    {
     "data": {
      "text/plain": [
       "<matplotlib.axes._subplots.AxesSubplot at 0x2c71d795278>"
      ]
     },
     "execution_count": 28,
     "metadata": {},
     "output_type": "execute_result"
    },
    {
     "data": {
      "text/plain": [
       "<matplotlib.text.Text at 0x2c71963b1d0>"
      ]
     },
     "execution_count": 28,
     "metadata": {},
     "output_type": "execute_result"
    },
    {
     "data": {
      "text/plain": [
       "<matplotlib.axes._subplots.AxesSubplot at 0x2c71806d940>"
      ]
     },
     "execution_count": 28,
     "metadata": {},
     "output_type": "execute_result"
    },
    {
     "data": {
      "text/plain": [
       "<matplotlib.text.Text at 0x2c718058668>"
      ]
     },
     "execution_count": 28,
     "metadata": {},
     "output_type": "execute_result"
    },
    {
     "data": {
      "image/png": "[encoded data removed]",
      "text/plain": [
       "<matplotlib.figure.Figure at 0x2c71d7a86a0>"
      ]
     },
     "metadata": {},
     "output_type": "display_data"
    }
   ],
   "source": [
    "fig, (ax1, ax2) = plt.subplots(1,2)\n",
    "sns.countplot(\"Confidence_Life_Style_Index\",data=train,ax=ax1)\n",
    "ax1.set_title('Train')\n",
    "sns.countplot(\"Confidence_Life_Style_Index\",data=test,ax=ax2)\n",
    "ax2.set_title('Test')\n",
    "#sns.countplot(\"Campaign\",data=data)"
   ]
  },
  {
   "cell_type": "code",
   "execution_count": 29,
   "metadata": {
    "collapsed": false
   },
   "outputs": [
    {
     "data": {
      "text/plain": [
       "<matplotlib.axes._subplots.AxesSubplot at 0x2c718a64eb8>"
      ]
     },
     "execution_count": 29,
     "metadata": {},
     "output_type": "execute_result"
    },
    {
     "data": {
      "text/plain": [
       "<matplotlib.text.Text at 0x2c71d7ff588>"
      ]
     },
     "execution_count": 29,
     "metadata": {},
     "output_type": "execute_result"
    },
    {
     "data": {
      "text/plain": [
       "<matplotlib.axes._subplots.AxesSubplot at 0x2c71a420ef0>"
      ]
     },
     "execution_count": 29,
     "metadata": {},
     "output_type": "execute_result"
    },
    {
     "data": {
      "text/plain": [
       "<matplotlib.text.Text at 0x2c71a3ff208>"
      ]
     },
     "execution_count": 29,
     "metadata": {},
     "output_type": "execute_result"
    },
    {
     "data": {
      "image/png": "[encoded data removed]",
      "text/plain": [
       "<matplotlib.figure.Figure at 0x2c71a1b1e10>"
      ]
     },
     "metadata": {},
     "output_type": "display_data"
    }
   ],
   "source": [
    "fig, (ax1, ax2) = plt.subplots(1,2)\n",
    "sns.countplot(\"Destination_Type\",data=train,ax=ax1)\n",
    "ax1.set_title('Train')\n",
    "sns.countplot(\"Destination_Type\",data=test,ax=ax2)\n",
    "ax2.set_title('Test')\n",
    "#sns.countplot(\"Campaign\",data=data)"
   ]
  },
  {
   "cell_type": "code",
   "execution_count": 30,
   "metadata": {
    "collapsed": false
   },
   "outputs": [
    {
     "data": {
      "text/plain": [
       "<matplotlib.axes._subplots.AxesSubplot at 0x2c7184f99b0>"
      ]
     },
     "execution_count": 30,
     "metadata": {},
     "output_type": "execute_result"
    },
    {
     "data": {
      "text/plain": [
       "<matplotlib.text.Text at 0x2c718520b70>"
      ]
     },
     "execution_count": 30,
     "metadata": {},
     "output_type": "execute_result"
    },
    {
     "data": {
      "text/plain": [
       "<matplotlib.axes._subplots.AxesSubplot at 0x2c718152518>"
      ]
     },
     "execution_count": 30,
     "metadata": {},
     "output_type": "execute_result"
    },
    {
     "data": {
      "text/plain": [
       "<matplotlib.text.Text at 0x2c718173fd0>"
      ]
     },
     "execution_count": 30,
     "metadata": {},
     "output_type": "execute_result"
    },
    {
     "data": {
      "image/png": "[encoded data removed]",
      "text/plain": [
       "<matplotlib.figure.Figure at 0x2c71a1c4e10>"
      ]
     },
     "metadata": {},
     "output_type": "display_data"
    }
   ],
   "source": [
    "fig, (ax1, ax2) = plt.subplots(1,2)\n",
    "sns.countplot(\"Cancellation_Last_1Month\",data=train,ax=ax1)\n",
    "ax1.set_title('Train')\n",
    "sns.countplot(\"Cancellation_Last_1Month\",data=test,ax=ax2)\n",
    "ax2.set_title('Test')\n",
    "#sns.countplot(\"Campaign\",data=data)"
   ]
  },
  {
   "cell_type": "code",
   "execution_count": 31,
   "metadata": {
    "collapsed": false
   },
   "outputs": [
    {
     "data": {
      "text/plain": [
       "<matplotlib.axes._subplots.AxesSubplot at 0x2c7180c7dd8>"
      ]
     },
     "execution_count": 31,
     "metadata": {},
     "output_type": "execute_result"
    },
    {
     "data": {
      "text/plain": [
       "<matplotlib.text.Text at 0x2c718234780>"
      ]
     },
     "execution_count": 31,
     "metadata": {},
     "output_type": "execute_result"
    },
    {
     "data": {
      "text/plain": [
       "<matplotlib.axes._subplots.AxesSubplot at 0x2c718252ef0>"
      ]
     },
     "execution_count": 31,
     "metadata": {},
     "output_type": "execute_result"
    },
    {
     "data": {
      "text/plain": [
       "<matplotlib.text.Text at 0x2c718278a20>"
      ]
     },
     "execution_count": 31,
     "metadata": {},
     "output_type": "execute_result"
    },
    {
     "data": {
      "image/png": "[encoded data removed]",
      "text/plain": [
       "<matplotlib.figure.Figure at 0x2c7181ebeb8>"
      ]
     },
     "metadata": {},
     "output_type": "display_data"
    }
   ],
   "source": [
    "fig, (ax1, ax2) = plt.subplots(1,2)\n",
    "sns.countplot(\"Gender\",data=train,ax=ax1)\n",
    "ax1.set_title('Train')\n",
    "sns.countplot(\"Gender\",data=test,ax=ax2)\n",
    "ax2.set_title('Test')\n",
    "#sns.countplot(\"Campaign\",data=data)"
   ]
  },
  {
   "cell_type": "code",
   "execution_count": 81,
   "metadata": {
    "collapsed": false
   },
   "outputs": [
    {
     "data": {
      "text/html": [
       "<div>\n",
       "<table border=\"1\" class=\"dataframe\">\n",
       "  <thead>\n",
       "    <tr>\n",
       "      <th></th>\n",
       "      <th colspan=\"3\" halign=\"left\">TD</th>\n",
       "      <th colspan=\"3\" halign=\"left\">CSM</th>\n",
       "      <th colspan=\"3\" halign=\"left\">LSI</th>\n",
       "      <th colspan=\"3\" halign=\"left\">CR</th>\n",
       "      <th colspan=\"3\" halign=\"left\">CLM</th>\n",
       "      <th colspan=\"3\" halign=\"left\">Var1</th>\n",
       "      <th colspan=\"3\" halign=\"left\">Var2</th>\n",
       "      <th colspan=\"3\" halign=\"left\">Var3</th>\n",
       "      <th colspan=\"3\" halign=\"left\">y</th>\n",
       "    </tr>\n",
       "    <tr>\n",
       "      <th></th>\n",
       "      <th>count</th>\n",
       "      <th>mean</th>\n",
       "      <th>median</th>\n",
       "      <th>count</th>\n",
       "      <th>mean</th>\n",
       "      <th>median</th>\n",
       "      <th>count</th>\n",
       "      <th>mean</th>\n",
       "      <th>median</th>\n",
       "      <th>count</th>\n",
       "      <th>mean</th>\n",
       "      <th>median</th>\n",
       "      <th>count</th>\n",
       "      <th>mean</th>\n",
       "      <th>median</th>\n",
       "      <th>count</th>\n",
       "      <th>mean</th>\n",
       "      <th>median</th>\n",
       "      <th>count</th>\n",
       "      <th>mean</th>\n",
       "      <th>median</th>\n",
       "      <th>count</th>\n",
       "      <th>mean</th>\n",
       "      <th>median</th>\n",
       "      <th>count</th>\n",
       "      <th>mean</th>\n",
       "      <th>median</th>\n",
       "    </tr>\n",
       "    <tr>\n",
       "      <th>DT</th>\n",
       "      <th></th>\n",
       "      <th></th>\n",
       "      <th></th>\n",
       "      <th></th>\n",
       "      <th></th>\n",
       "      <th></th>\n",
       "      <th></th>\n",
       "      <th></th>\n",
       "      <th></th>\n",
       "      <th></th>\n",
       "      <th></th>\n",
       "      <th></th>\n",
       "      <th></th>\n",
       "      <th></th>\n",
       "      <th></th>\n",
       "      <th></th>\n",
       "      <th></th>\n",
       "      <th></th>\n",
       "      <th></th>\n",
       "      <th></th>\n",
       "      <th></th>\n",
       "      <th></th>\n",
       "      <th></th>\n",
       "      <th></th>\n",
       "      <th></th>\n",
       "      <th></th>\n",
       "      <th></th>\n",
       "    </tr>\n",
       "  </thead>\n",
       "  <tbody>\n",
       "    <tr>\n",
       "      <th>A</th>\n",
       "      <td>77597</td>\n",
       "      <td>46.635770</td>\n",
       "      <td>42.800</td>\n",
       "      <td>74441</td>\n",
       "      <td>6.108610</td>\n",
       "      <td>7.0</td>\n",
       "      <td>65612</td>\n",
       "      <td>2.802360</td>\n",
       "      <td>2.797845</td>\n",
       "      <td>77597</td>\n",
       "      <td>2.763357</td>\n",
       "      <td>2.806250</td>\n",
       "      <td>77597</td>\n",
       "      <td>0.769437</td>\n",
       "      <td>0</td>\n",
       "      <td>36510</td>\n",
       "      <td>64.132786</td>\n",
       "      <td>61.0</td>\n",
       "      <td>77597</td>\n",
       "      <td>51.447298</td>\n",
       "      <td>51</td>\n",
       "      <td>77597</td>\n",
       "      <td>75.615256</td>\n",
       "      <td>74</td>\n",
       "      <td>77597</td>\n",
       "      <td>2.208513</td>\n",
       "      <td>2</td>\n",
       "    </tr>\n",
       "    <tr>\n",
       "      <th>B</th>\n",
       "      <td>29555</td>\n",
       "      <td>45.517439</td>\n",
       "      <td>39.990</td>\n",
       "      <td>28074</td>\n",
       "      <td>5.943293</td>\n",
       "      <td>6.0</td>\n",
       "      <td>25057</td>\n",
       "      <td>2.800238</td>\n",
       "      <td>2.797250</td>\n",
       "      <td>29555</td>\n",
       "      <td>2.808892</td>\n",
       "      <td>2.862500</td>\n",
       "      <td>29555</td>\n",
       "      <td>0.703570</td>\n",
       "      <td>0</td>\n",
       "      <td>12461</td>\n",
       "      <td>64.622582</td>\n",
       "      <td>62.0</td>\n",
       "      <td>29555</td>\n",
       "      <td>51.480494</td>\n",
       "      <td>51</td>\n",
       "      <td>29555</td>\n",
       "      <td>75.136999</td>\n",
       "      <td>73</td>\n",
       "      <td>29555</td>\n",
       "      <td>1.963458</td>\n",
       "      <td>2</td>\n",
       "    </tr>\n",
       "    <tr>\n",
       "      <th>C</th>\n",
       "      <td>7484</td>\n",
       "      <td>42.962588</td>\n",
       "      <td>36.100</td>\n",
       "      <td>7035</td>\n",
       "      <td>6.564179</td>\n",
       "      <td>7.0</td>\n",
       "      <td>6364</td>\n",
       "      <td>2.871486</td>\n",
       "      <td>2.863345</td>\n",
       "      <td>7484</td>\n",
       "      <td>3.193129</td>\n",
       "      <td>3.282500</td>\n",
       "      <td>7484</td>\n",
       "      <td>0.996392</td>\n",
       "      <td>1</td>\n",
       "      <td>3893</td>\n",
       "      <td>63.192140</td>\n",
       "      <td>60.0</td>\n",
       "      <td>7484</td>\n",
       "      <td>50.656066</td>\n",
       "      <td>50</td>\n",
       "      <td>7484</td>\n",
       "      <td>75.787948</td>\n",
       "      <td>74</td>\n",
       "      <td>7484</td>\n",
       "      <td>2.111571</td>\n",
       "      <td>2</td>\n",
       "    </tr>\n",
       "    <tr>\n",
       "      <th>D</th>\n",
       "      <td>6588</td>\n",
       "      <td>29.641900</td>\n",
       "      <td>23.130</td>\n",
       "      <td>6206</td>\n",
       "      <td>5.805511</td>\n",
       "      <td>6.0</td>\n",
       "      <td>5601</td>\n",
       "      <td>2.754494</td>\n",
       "      <td>2.747360</td>\n",
       "      <td>6588</td>\n",
       "      <td>3.042561</td>\n",
       "      <td>3.101250</td>\n",
       "      <td>6588</td>\n",
       "      <td>0.824529</td>\n",
       "      <td>1</td>\n",
       "      <td>3128</td>\n",
       "      <td>64.518862</td>\n",
       "      <td>62.0</td>\n",
       "      <td>6588</td>\n",
       "      <td>49.910595</td>\n",
       "      <td>49</td>\n",
       "      <td>6588</td>\n",
       "      <td>72.481937</td>\n",
       "      <td>71</td>\n",
       "      <td>6588</td>\n",
       "      <td>2.395871</td>\n",
       "      <td>3</td>\n",
       "    </tr>\n",
       "    <tr>\n",
       "      <th>E</th>\n",
       "      <td>2717</td>\n",
       "      <td>32.003544</td>\n",
       "      <td>24.580</td>\n",
       "      <td>2588</td>\n",
       "      <td>5.382148</td>\n",
       "      <td>5.0</td>\n",
       "      <td>2295</td>\n",
       "      <td>2.789105</td>\n",
       "      <td>2.790740</td>\n",
       "      <td>2717</td>\n",
       "      <td>3.295332</td>\n",
       "      <td>3.412500</td>\n",
       "      <td>2717</td>\n",
       "      <td>0.909091</td>\n",
       "      <td>1</td>\n",
       "      <td>1202</td>\n",
       "      <td>64.230449</td>\n",
       "      <td>61.0</td>\n",
       "      <td>2717</td>\n",
       "      <td>49.722488</td>\n",
       "      <td>49</td>\n",
       "      <td>2717</td>\n",
       "      <td>72.172617</td>\n",
       "      <td>70</td>\n",
       "      <td>2717</td>\n",
       "      <td>1.991167</td>\n",
       "      <td>2</td>\n",
       "    </tr>\n",
       "    <tr>\n",
       "      <th>F</th>\n",
       "      <td>1950</td>\n",
       "      <td>46.445538</td>\n",
       "      <td>38.910</td>\n",
       "      <td>1906</td>\n",
       "      <td>5.407135</td>\n",
       "      <td>5.0</td>\n",
       "      <td>1644</td>\n",
       "      <td>2.846214</td>\n",
       "      <td>2.843250</td>\n",
       "      <td>1950</td>\n",
       "      <td>3.296251</td>\n",
       "      <td>3.366875</td>\n",
       "      <td>1950</td>\n",
       "      <td>1.023590</td>\n",
       "      <td>1</td>\n",
       "      <td>886</td>\n",
       "      <td>62.401806</td>\n",
       "      <td>59.0</td>\n",
       "      <td>1950</td>\n",
       "      <td>49.873333</td>\n",
       "      <td>49</td>\n",
       "      <td>1950</td>\n",
       "      <td>72.702564</td>\n",
       "      <td>71</td>\n",
       "      <td>1950</td>\n",
       "      <td>2.409231</td>\n",
       "      <td>3</td>\n",
       "    </tr>\n",
       "    <tr>\n",
       "      <th>G</th>\n",
       "      <td>1489</td>\n",
       "      <td>25.405561</td>\n",
       "      <td>20.290</td>\n",
       "      <td>1420</td>\n",
       "      <td>5.192958</td>\n",
       "      <td>5.0</td>\n",
       "      <td>1259</td>\n",
       "      <td>2.739560</td>\n",
       "      <td>2.739190</td>\n",
       "      <td>1489</td>\n",
       "      <td>3.382707</td>\n",
       "      <td>3.513750</td>\n",
       "      <td>1489</td>\n",
       "      <td>0.822028</td>\n",
       "      <td>0</td>\n",
       "      <td>600</td>\n",
       "      <td>65.930000</td>\n",
       "      <td>63.0</td>\n",
       "      <td>1489</td>\n",
       "      <td>49.211551</td>\n",
       "      <td>48</td>\n",
       "      <td>1489</td>\n",
       "      <td>71.384150</td>\n",
       "      <td>70</td>\n",
       "      <td>1489</td>\n",
       "      <td>1.888516</td>\n",
       "      <td>2</td>\n",
       "    </tr>\n",
       "    <tr>\n",
       "      <th>H</th>\n",
       "      <td>1260</td>\n",
       "      <td>27.206849</td>\n",
       "      <td>20.475</td>\n",
       "      <td>1183</td>\n",
       "      <td>5.793745</td>\n",
       "      <td>6.0</td>\n",
       "      <td>1055</td>\n",
       "      <td>2.780245</td>\n",
       "      <td>2.779390</td>\n",
       "      <td>1260</td>\n",
       "      <td>2.979029</td>\n",
       "      <td>3.033750</td>\n",
       "      <td>1260</td>\n",
       "      <td>0.811111</td>\n",
       "      <td>0</td>\n",
       "      <td>603</td>\n",
       "      <td>63.718076</td>\n",
       "      <td>60.0</td>\n",
       "      <td>1260</td>\n",
       "      <td>50.372222</td>\n",
       "      <td>50</td>\n",
       "      <td>1260</td>\n",
       "      <td>74.159524</td>\n",
       "      <td>73</td>\n",
       "      <td>1260</td>\n",
       "      <td>2.346032</td>\n",
       "      <td>2</td>\n",
       "    </tr>\n",
       "    <tr>\n",
       "      <th>I</th>\n",
       "      <td>813</td>\n",
       "      <td>22.498647</td>\n",
       "      <td>16.670</td>\n",
       "      <td>771</td>\n",
       "      <td>4.172503</td>\n",
       "      <td>3.0</td>\n",
       "      <td>691</td>\n",
       "      <td>2.745843</td>\n",
       "      <td>2.731690</td>\n",
       "      <td>813</td>\n",
       "      <td>3.128407</td>\n",
       "      <td>3.226250</td>\n",
       "      <td>813</td>\n",
       "      <td>0.886839</td>\n",
       "      <td>1</td>\n",
       "      <td>364</td>\n",
       "      <td>64.357143</td>\n",
       "      <td>60.0</td>\n",
       "      <td>813</td>\n",
       "      <td>49.678967</td>\n",
       "      <td>49</td>\n",
       "      <td>813</td>\n",
       "      <td>71.311193</td>\n",
       "      <td>70</td>\n",
       "      <td>813</td>\n",
       "      <td>2.451415</td>\n",
       "      <td>3</td>\n",
       "    </tr>\n",
       "    <tr>\n",
       "      <th>J</th>\n",
       "      <td>695</td>\n",
       "      <td>19.405079</td>\n",
       "      <td>14.960</td>\n",
       "      <td>648</td>\n",
       "      <td>6.114198</td>\n",
       "      <td>6.0</td>\n",
       "      <td>580</td>\n",
       "      <td>2.747457</td>\n",
       "      <td>2.738865</td>\n",
       "      <td>695</td>\n",
       "      <td>3.012800</td>\n",
       "      <td>3.088750</td>\n",
       "      <td>695</td>\n",
       "      <td>0.817266</td>\n",
       "      <td>1</td>\n",
       "      <td>323</td>\n",
       "      <td>65.498452</td>\n",
       "      <td>63.0</td>\n",
       "      <td>695</td>\n",
       "      <td>49.828777</td>\n",
       "      <td>49</td>\n",
       "      <td>695</td>\n",
       "      <td>72.490647</td>\n",
       "      <td>71</td>\n",
       "      <td>695</td>\n",
       "      <td>2.336691</td>\n",
       "      <td>2</td>\n",
       "    </tr>\n",
       "    <tr>\n",
       "      <th>K</th>\n",
       "      <td>680</td>\n",
       "      <td>32.805941</td>\n",
       "      <td>29.105</td>\n",
       "      <td>671</td>\n",
       "      <td>4.356185</td>\n",
       "      <td>4.0</td>\n",
       "      <td>587</td>\n",
       "      <td>2.781620</td>\n",
       "      <td>2.780960</td>\n",
       "      <td>680</td>\n",
       "      <td>3.226469</td>\n",
       "      <td>3.251250</td>\n",
       "      <td>680</td>\n",
       "      <td>0.947059</td>\n",
       "      <td>1</td>\n",
       "      <td>281</td>\n",
       "      <td>65.925267</td>\n",
       "      <td>62.0</td>\n",
       "      <td>680</td>\n",
       "      <td>50.004412</td>\n",
       "      <td>49</td>\n",
       "      <td>680</td>\n",
       "      <td>70.458824</td>\n",
       "      <td>69</td>\n",
       "      <td>680</td>\n",
       "      <td>2.185294</td>\n",
       "      <td>2</td>\n",
       "    </tr>\n",
       "    <tr>\n",
       "      <th>L</th>\n",
       "      <td>643</td>\n",
       "      <td>46.542830</td>\n",
       "      <td>41.270</td>\n",
       "      <td>617</td>\n",
       "      <td>5.419773</td>\n",
       "      <td>5.0</td>\n",
       "      <td>559</td>\n",
       "      <td>2.812683</td>\n",
       "      <td>2.814760</td>\n",
       "      <td>643</td>\n",
       "      <td>3.312832</td>\n",
       "      <td>3.400000</td>\n",
       "      <td>643</td>\n",
       "      <td>1.332815</td>\n",
       "      <td>1</td>\n",
       "      <td>298</td>\n",
       "      <td>65.392617</td>\n",
       "      <td>62.0</td>\n",
       "      <td>643</td>\n",
       "      <td>50.132193</td>\n",
       "      <td>49</td>\n",
       "      <td>643</td>\n",
       "      <td>73.816485</td>\n",
       "      <td>72</td>\n",
       "      <td>643</td>\n",
       "      <td>2.289269</td>\n",
       "      <td>2</td>\n",
       "    </tr>\n",
       "    <tr>\n",
       "      <th>M</th>\n",
       "      <td>93</td>\n",
       "      <td>34.750860</td>\n",
       "      <td>30.730</td>\n",
       "      <td>87</td>\n",
       "      <td>6.298851</td>\n",
       "      <td>7.0</td>\n",
       "      <td>77</td>\n",
       "      <td>2.879111</td>\n",
       "      <td>2.875690</td>\n",
       "      <td>93</td>\n",
       "      <td>3.228696</td>\n",
       "      <td>3.232500</td>\n",
       "      <td>93</td>\n",
       "      <td>0.924731</td>\n",
       "      <td>1</td>\n",
       "      <td>43</td>\n",
       "      <td>65.395349</td>\n",
       "      <td>62.0</td>\n",
       "      <td>93</td>\n",
       "      <td>50.720430</td>\n",
       "      <td>50</td>\n",
       "      <td>93</td>\n",
       "      <td>72.967742</td>\n",
       "      <td>73</td>\n",
       "      <td>93</td>\n",
       "      <td>2.311828</td>\n",
       "      <td>3</td>\n",
       "    </tr>\n",
       "    <tr>\n",
       "      <th>N</th>\n",
       "      <td>98</td>\n",
       "      <td>18.638776</td>\n",
       "      <td>16.550</td>\n",
       "      <td>95</td>\n",
       "      <td>3.147368</td>\n",
       "      <td>2.0</td>\n",
       "      <td>88</td>\n",
       "      <td>2.580364</td>\n",
       "      <td>2.575790</td>\n",
       "      <td>98</td>\n",
       "      <td>3.523622</td>\n",
       "      <td>3.567500</td>\n",
       "      <td>98</td>\n",
       "      <td>0.948980</td>\n",
       "      <td>1</td>\n",
       "      <td>40</td>\n",
       "      <td>57.175000</td>\n",
       "      <td>59.5</td>\n",
       "      <td>98</td>\n",
       "      <td>49.091837</td>\n",
       "      <td>49</td>\n",
       "      <td>98</td>\n",
       "      <td>68.102041</td>\n",
       "      <td>66</td>\n",
       "      <td>98</td>\n",
       "      <td>1.765306</td>\n",
       "      <td>2</td>\n",
       "    </tr>\n",
       "  </tbody>\n",
       "</table>\n",
       "</div>"
      ],
      "text/plain": [
       "       TD                       CSM                     LSI            \\\n",
       "    count       mean  median  count      mean median  count      mean   \n",
       "DT                                                                      \n",
       "A   77597  46.635770  42.800  74441  6.108610    7.0  65612  2.802360   \n",
       "B   29555  45.517439  39.990  28074  5.943293    6.0  25057  2.800238   \n",
       "C    7484  42.962588  36.100   7035  6.564179    7.0   6364  2.871486   \n",
       "D    6588  29.641900  23.130   6206  5.805511    6.0   5601  2.754494   \n",
       "E    2717  32.003544  24.580   2588  5.382148    5.0   2295  2.789105   \n",
       "F    1950  46.445538  38.910   1906  5.407135    5.0   1644  2.846214   \n",
       "G    1489  25.405561  20.290   1420  5.192958    5.0   1259  2.739560   \n",
       "H    1260  27.206849  20.475   1183  5.793745    6.0   1055  2.780245   \n",
       "I     813  22.498647  16.670    771  4.172503    3.0    691  2.745843   \n",
       "J     695  19.405079  14.960    648  6.114198    6.0    580  2.747457   \n",
       "K     680  32.805941  29.105    671  4.356185    4.0    587  2.781620   \n",
       "L     643  46.542830  41.270    617  5.419773    5.0    559  2.812683   \n",
       "M      93  34.750860  30.730     87  6.298851    7.0     77  2.879111   \n",
       "N      98  18.638776  16.550     95  3.147368    2.0     88  2.580364   \n",
       "\n",
       "                 CR                        CLM                    Var1  \\\n",
       "      median  count      mean    median  count      mean median  count   \n",
       "DT                                                                       \n",
       "A   2.797845  77597  2.763357  2.806250  77597  0.769437      0  36510   \n",
       "B   2.797250  29555  2.808892  2.862500  29555  0.703570      0  12461   \n",
       "C   2.863345   7484  3.193129  3.282500   7484  0.996392      1   3893   \n",
       "D   2.747360   6588  3.042561  3.101250   6588  0.824529      1   3128   \n",
       "E   2.790740   2717  3.295332  3.412500   2717  0.909091      1   1202   \n",
       "F   2.843250   1950  3.296251  3.366875   1950  1.023590      1    886   \n",
       "G   2.739190   1489  3.382707  3.513750   1489  0.822028      0    600   \n",
       "H   2.779390   1260  2.979029  3.033750   1260  0.811111      0    603   \n",
       "I   2.731690    813  3.128407  3.226250    813  0.886839      1    364   \n",
       "J   2.738865    695  3.012800  3.088750    695  0.817266      1    323   \n",
       "K   2.780960    680  3.226469  3.251250    680  0.947059      1    281   \n",
       "L   2.814760    643  3.312832  3.400000    643  1.332815      1    298   \n",
       "M   2.875690     93  3.228696  3.232500     93  0.924731      1     43   \n",
       "N   2.575790     98  3.523622  3.567500     98  0.948980      1     40   \n",
       "\n",
       "                       Var2                     Var3                        y  \\\n",
       "         mean median  count       mean median  count       mean median  count   \n",
       "DT                                                                              \n",
       "A   64.132786   61.0  77597  51.447298     51  77597  75.615256     74  77597   \n",
       "B   64.622582   62.0  29555  51.480494     51  29555  75.136999     73  29555   \n",
       "C   63.192140   60.0   7484  50.656066     50   7484  75.787948     74   7484   \n",
       "D   64.518862   62.0   6588  49.910595     49   6588  72.481937     71   6588   \n",
       "E   64.230449   61.0   2717  49.722488     49   2717  72.172617     70   2717   \n",
       "F   62.401806   59.0   1950  49.873333     49   1950  72.702564     71   1950   \n",
       "G   65.930000   63.0   1489  49.211551     48   1489  71.384150     70   1489   \n",
       "H   63.718076   60.0   1260  50.372222     50   1260  74.159524     73   1260   \n",
       "I   64.357143   60.0    813  49.678967     49    813  71.311193     70    813   \n",
       "J   65.498452   63.0    695  49.828777     49    695  72.490647     71    695   \n",
       "K   65.925267   62.0    680  50.004412     49    680  70.458824     69    680   \n",
       "L   65.392617   62.0    643  50.132193     49    643  73.816485     72    643   \n",
       "M   65.395349   62.0     93  50.720430     50     93  72.967742     73     93   \n",
       "N   57.175000   59.5     98  49.091837     49     98  68.102041     66     98   \n",
       "\n",
       "                     \n",
       "        mean median  \n",
       "DT                   \n",
       "A   2.208513      2  \n",
       "B   1.963458      2  \n",
       "C   2.111571      2  \n",
       "D   2.395871      3  \n",
       "E   1.991167      2  \n",
       "F   2.409231      3  \n",
       "G   1.888516      2  \n",
       "H   2.346032      2  \n",
       "I   2.451415      3  \n",
       "J   2.336691      2  \n",
       "K   2.185294      2  \n",
       "L   2.289269      2  \n",
       "M   2.311828      3  \n",
       "N   1.765306      2  "
      ]
     },
     "execution_count": 81,
     "metadata": {},
     "output_type": "execute_result"
    }
   ],
   "source": [
    "train.groupby('DT').agg(['count','mean','median'])"
   ]
  },
  {
   "cell_type": "code",
   "execution_count": 85,
   "metadata": {
    "collapsed": false
   },
   "outputs": [
    {
     "data": {
      "text/html": [
       "<div>\n",
       "<table border=\"1\" class=\"dataframe\">\n",
       "  <thead>\n",
       "    <tr>\n",
       "      <th></th>\n",
       "      <th colspan=\"3\" halign=\"left\">TD</th>\n",
       "      <th colspan=\"3\" halign=\"left\">LSI</th>\n",
       "      <th colspan=\"3\" halign=\"left\">CR</th>\n",
       "      <th colspan=\"3\" halign=\"left\">CLM</th>\n",
       "      <th colspan=\"3\" halign=\"left\">Var1</th>\n",
       "      <th colspan=\"3\" halign=\"left\">Var2</th>\n",
       "      <th colspan=\"3\" halign=\"left\">Var3</th>\n",
       "      <th colspan=\"3\" halign=\"left\">y</th>\n",
       "    </tr>\n",
       "    <tr>\n",
       "      <th></th>\n",
       "      <th>count</th>\n",
       "      <th>mean</th>\n",
       "      <th>median</th>\n",
       "      <th>count</th>\n",
       "      <th>mean</th>\n",
       "      <th>median</th>\n",
       "      <th>count</th>\n",
       "      <th>mean</th>\n",
       "      <th>median</th>\n",
       "      <th>count</th>\n",
       "      <th>mean</th>\n",
       "      <th>median</th>\n",
       "      <th>count</th>\n",
       "      <th>mean</th>\n",
       "      <th>median</th>\n",
       "      <th>count</th>\n",
       "      <th>mean</th>\n",
       "      <th>median</th>\n",
       "      <th>count</th>\n",
       "      <th>mean</th>\n",
       "      <th>median</th>\n",
       "      <th>count</th>\n",
       "      <th>mean</th>\n",
       "      <th>median</th>\n",
       "    </tr>\n",
       "    <tr>\n",
       "      <th>CSM</th>\n",
       "      <th></th>\n",
       "      <th></th>\n",
       "      <th></th>\n",
       "      <th></th>\n",
       "      <th></th>\n",
       "      <th></th>\n",
       "      <th></th>\n",
       "      <th></th>\n",
       "      <th></th>\n",
       "      <th></th>\n",
       "      <th></th>\n",
       "      <th></th>\n",
       "      <th></th>\n",
       "      <th></th>\n",
       "      <th></th>\n",
       "      <th></th>\n",
       "      <th></th>\n",
       "      <th></th>\n",
       "      <th></th>\n",
       "      <th></th>\n",
       "      <th></th>\n",
       "      <th></th>\n",
       "      <th></th>\n",
       "      <th></th>\n",
       "    </tr>\n",
       "  </thead>\n",
       "  <tbody>\n",
       "    <tr>\n",
       "      <th>0.0</th>\n",
       "      <td>10169</td>\n",
       "      <td>40.442442</td>\n",
       "      <td>35.390</td>\n",
       "      <td>8636</td>\n",
       "      <td>2.761562</td>\n",
       "      <td>2.754160</td>\n",
       "      <td>10169</td>\n",
       "      <td>2.938305</td>\n",
       "      <td>3.00375</td>\n",
       "      <td>10169</td>\n",
       "      <td>0.781788</td>\n",
       "      <td>0</td>\n",
       "      <td>4285</td>\n",
       "      <td>64.008868</td>\n",
       "      <td>61.0</td>\n",
       "      <td>10169</td>\n",
       "      <td>50.939915</td>\n",
       "      <td>50</td>\n",
       "      <td>10169</td>\n",
       "      <td>73.615695</td>\n",
       "      <td>72</td>\n",
       "      <td>10169</td>\n",
       "      <td>2.117514</td>\n",
       "      <td>2</td>\n",
       "    </tr>\n",
       "    <tr>\n",
       "      <th>1.0</th>\n",
       "      <td>8297</td>\n",
       "      <td>40.975485</td>\n",
       "      <td>35.430</td>\n",
       "      <td>7040</td>\n",
       "      <td>2.772759</td>\n",
       "      <td>2.771065</td>\n",
       "      <td>8297</td>\n",
       "      <td>2.923747</td>\n",
       "      <td>2.97375</td>\n",
       "      <td>8297</td>\n",
       "      <td>0.796071</td>\n",
       "      <td>0</td>\n",
       "      <td>3506</td>\n",
       "      <td>63.002282</td>\n",
       "      <td>59.0</td>\n",
       "      <td>8297</td>\n",
       "      <td>51.013860</td>\n",
       "      <td>50</td>\n",
       "      <td>8297</td>\n",
       "      <td>73.713511</td>\n",
       "      <td>72</td>\n",
       "      <td>8297</td>\n",
       "      <td>2.127034</td>\n",
       "      <td>2</td>\n",
       "    </tr>\n",
       "    <tr>\n",
       "      <th>2.0</th>\n",
       "      <td>11621</td>\n",
       "      <td>41.851607</td>\n",
       "      <td>36.340</td>\n",
       "      <td>9850</td>\n",
       "      <td>2.783360</td>\n",
       "      <td>2.777160</td>\n",
       "      <td>11621</td>\n",
       "      <td>2.900874</td>\n",
       "      <td>2.96125</td>\n",
       "      <td>11621</td>\n",
       "      <td>0.794080</td>\n",
       "      <td>0</td>\n",
       "      <td>5140</td>\n",
       "      <td>63.725681</td>\n",
       "      <td>60.0</td>\n",
       "      <td>11621</td>\n",
       "      <td>51.093452</td>\n",
       "      <td>50</td>\n",
       "      <td>11621</td>\n",
       "      <td>73.983048</td>\n",
       "      <td>72</td>\n",
       "      <td>11621</td>\n",
       "      <td>2.138714</td>\n",
       "      <td>2</td>\n",
       "    </tr>\n",
       "    <tr>\n",
       "      <th>3.0</th>\n",
       "      <td>10351</td>\n",
       "      <td>42.017699</td>\n",
       "      <td>36.740</td>\n",
       "      <td>8762</td>\n",
       "      <td>2.790280</td>\n",
       "      <td>2.779470</td>\n",
       "      <td>10351</td>\n",
       "      <td>2.904038</td>\n",
       "      <td>2.93875</td>\n",
       "      <td>10351</td>\n",
       "      <td>0.797024</td>\n",
       "      <td>0</td>\n",
       "      <td>4643</td>\n",
       "      <td>63.961017</td>\n",
       "      <td>61.0</td>\n",
       "      <td>10351</td>\n",
       "      <td>51.089750</td>\n",
       "      <td>50</td>\n",
       "      <td>10351</td>\n",
       "      <td>73.984832</td>\n",
       "      <td>72</td>\n",
       "      <td>10351</td>\n",
       "      <td>2.125012</td>\n",
       "      <td>2</td>\n",
       "    </tr>\n",
       "    <tr>\n",
       "      <th>4.0</th>\n",
       "      <td>7726</td>\n",
       "      <td>41.965415</td>\n",
       "      <td>36.480</td>\n",
       "      <td>6549</td>\n",
       "      <td>2.788347</td>\n",
       "      <td>2.778900</td>\n",
       "      <td>7726</td>\n",
       "      <td>2.900602</td>\n",
       "      <td>2.94875</td>\n",
       "      <td>7726</td>\n",
       "      <td>0.774528</td>\n",
       "      <td>0</td>\n",
       "      <td>3381</td>\n",
       "      <td>65.345460</td>\n",
       "      <td>64.0</td>\n",
       "      <td>7726</td>\n",
       "      <td>51.076236</td>\n",
       "      <td>50</td>\n",
       "      <td>7726</td>\n",
       "      <td>73.923634</td>\n",
       "      <td>72</td>\n",
       "      <td>7726</td>\n",
       "      <td>2.136940</td>\n",
       "      <td>2</td>\n",
       "    </tr>\n",
       "    <tr>\n",
       "      <th>5.0</th>\n",
       "      <td>8641</td>\n",
       "      <td>42.751970</td>\n",
       "      <td>37.120</td>\n",
       "      <td>7286</td>\n",
       "      <td>2.795038</td>\n",
       "      <td>2.782040</td>\n",
       "      <td>8641</td>\n",
       "      <td>2.877746</td>\n",
       "      <td>2.91250</td>\n",
       "      <td>8641</td>\n",
       "      <td>0.794005</td>\n",
       "      <td>0</td>\n",
       "      <td>3817</td>\n",
       "      <td>65.834425</td>\n",
       "      <td>64.0</td>\n",
       "      <td>8641</td>\n",
       "      <td>51.086101</td>\n",
       "      <td>50</td>\n",
       "      <td>8641</td>\n",
       "      <td>74.074760</td>\n",
       "      <td>72</td>\n",
       "      <td>8641</td>\n",
       "      <td>2.149751</td>\n",
       "      <td>2</td>\n",
       "    </tr>\n",
       "    <tr>\n",
       "      <th>6.0</th>\n",
       "      <td>7375</td>\n",
       "      <td>43.617394</td>\n",
       "      <td>37.830</td>\n",
       "      <td>6227</td>\n",
       "      <td>2.802500</td>\n",
       "      <td>2.794890</td>\n",
       "      <td>7375</td>\n",
       "      <td>2.851551</td>\n",
       "      <td>2.89375</td>\n",
       "      <td>7375</td>\n",
       "      <td>0.800542</td>\n",
       "      <td>0</td>\n",
       "      <td>3246</td>\n",
       "      <td>66.443315</td>\n",
       "      <td>64.0</td>\n",
       "      <td>7375</td>\n",
       "      <td>51.113356</td>\n",
       "      <td>50</td>\n",
       "      <td>7375</td>\n",
       "      <td>74.304814</td>\n",
       "      <td>73</td>\n",
       "      <td>7375</td>\n",
       "      <td>2.169085</td>\n",
       "      <td>2</td>\n",
       "    </tr>\n",
       "    <tr>\n",
       "      <th>7.0</th>\n",
       "      <td>7407</td>\n",
       "      <td>44.857995</td>\n",
       "      <td>40.140</td>\n",
       "      <td>6273</td>\n",
       "      <td>2.808146</td>\n",
       "      <td>2.795040</td>\n",
       "      <td>7407</td>\n",
       "      <td>2.832913</td>\n",
       "      <td>2.88375</td>\n",
       "      <td>7407</td>\n",
       "      <td>0.797624</td>\n",
       "      <td>0</td>\n",
       "      <td>3319</td>\n",
       "      <td>65.514613</td>\n",
       "      <td>62.0</td>\n",
       "      <td>7407</td>\n",
       "      <td>51.256109</td>\n",
       "      <td>50</td>\n",
       "      <td>7407</td>\n",
       "      <td>74.737141</td>\n",
       "      <td>73</td>\n",
       "      <td>7407</td>\n",
       "      <td>2.176320</td>\n",
       "      <td>2</td>\n",
       "    </tr>\n",
       "    <tr>\n",
       "      <th>8.0</th>\n",
       "      <td>6328</td>\n",
       "      <td>44.834739</td>\n",
       "      <td>39.715</td>\n",
       "      <td>5341</td>\n",
       "      <td>2.808360</td>\n",
       "      <td>2.800660</td>\n",
       "      <td>6328</td>\n",
       "      <td>2.819887</td>\n",
       "      <td>2.87125</td>\n",
       "      <td>6328</td>\n",
       "      <td>0.779393</td>\n",
       "      <td>0</td>\n",
       "      <td>2862</td>\n",
       "      <td>64.502446</td>\n",
       "      <td>61.0</td>\n",
       "      <td>6328</td>\n",
       "      <td>51.272282</td>\n",
       "      <td>51</td>\n",
       "      <td>6328</td>\n",
       "      <td>74.876264</td>\n",
       "      <td>73</td>\n",
       "      <td>6328</td>\n",
       "      <td>2.153603</td>\n",
       "      <td>2</td>\n",
       "    </tr>\n",
       "    <tr>\n",
       "      <th>9.0</th>\n",
       "      <td>5147</td>\n",
       "      <td>45.269817</td>\n",
       "      <td>40.870</td>\n",
       "      <td>4355</td>\n",
       "      <td>2.812537</td>\n",
       "      <td>2.807620</td>\n",
       "      <td>5147</td>\n",
       "      <td>2.788672</td>\n",
       "      <td>2.84375</td>\n",
       "      <td>5147</td>\n",
       "      <td>0.774820</td>\n",
       "      <td>0</td>\n",
       "      <td>2384</td>\n",
       "      <td>63.585151</td>\n",
       "      <td>61.0</td>\n",
       "      <td>5147</td>\n",
       "      <td>51.282495</td>\n",
       "      <td>50</td>\n",
       "      <td>5147</td>\n",
       "      <td>75.128230</td>\n",
       "      <td>73</td>\n",
       "      <td>5147</td>\n",
       "      <td>2.180299</td>\n",
       "      <td>2</td>\n",
       "    </tr>\n",
       "    <tr>\n",
       "      <th>10.0</th>\n",
       "      <td>48600</td>\n",
       "      <td>46.970381</td>\n",
       "      <td>43.575</td>\n",
       "      <td>41150</td>\n",
       "      <td>2.823072</td>\n",
       "      <td>2.822070</td>\n",
       "      <td>48600</td>\n",
       "      <td>2.793598</td>\n",
       "      <td>2.83375</td>\n",
       "      <td>48600</td>\n",
       "      <td>0.770782</td>\n",
       "      <td>0</td>\n",
       "      <td>24049</td>\n",
       "      <td>63.683272</td>\n",
       "      <td>60.0</td>\n",
       "      <td>48600</td>\n",
       "      <td>51.369115</td>\n",
       "      <td>51</td>\n",
       "      <td>48600</td>\n",
       "      <td>76.720617</td>\n",
       "      <td>75</td>\n",
       "      <td>48600</td>\n",
       "      <td>2.175844</td>\n",
       "      <td>2</td>\n",
       "    </tr>\n",
       "  </tbody>\n",
       "</table>\n",
       "</div>"
      ],
      "text/plain": [
       "         TD                       LSI                         CR            \\\n",
       "      count       mean  median  count      mean    median  count      mean   \n",
       "CSM                                                                          \n",
       "0.0   10169  40.442442  35.390   8636  2.761562  2.754160  10169  2.938305   \n",
       "1.0    8297  40.975485  35.430   7040  2.772759  2.771065   8297  2.923747   \n",
       "2.0   11621  41.851607  36.340   9850  2.783360  2.777160  11621  2.900874   \n",
       "3.0   10351  42.017699  36.740   8762  2.790280  2.779470  10351  2.904038   \n",
       "4.0    7726  41.965415  36.480   6549  2.788347  2.778900   7726  2.900602   \n",
       "5.0    8641  42.751970  37.120   7286  2.795038  2.782040   8641  2.877746   \n",
       "6.0    7375  43.617394  37.830   6227  2.802500  2.794890   7375  2.851551   \n",
       "7.0    7407  44.857995  40.140   6273  2.808146  2.795040   7407  2.832913   \n",
       "8.0    6328  44.834739  39.715   5341  2.808360  2.800660   6328  2.819887   \n",
       "9.0    5147  45.269817  40.870   4355  2.812537  2.807620   5147  2.788672   \n",
       "10.0  48600  46.970381  43.575  41150  2.823072  2.822070  48600  2.793598   \n",
       "\n",
       "                 CLM                    Var1                     Var2  \\\n",
       "       median  count      mean median  count       mean median  count   \n",
       "CSM                                                                     \n",
       "0.0   3.00375  10169  0.781788      0   4285  64.008868   61.0  10169   \n",
       "1.0   2.97375   8297  0.796071      0   3506  63.002282   59.0   8297   \n",
       "2.0   2.96125  11621  0.794080      0   5140  63.725681   60.0  11621   \n",
       "3.0   2.93875  10351  0.797024      0   4643  63.961017   61.0  10351   \n",
       "4.0   2.94875   7726  0.774528      0   3381  65.345460   64.0   7726   \n",
       "5.0   2.91250   8641  0.794005      0   3817  65.834425   64.0   8641   \n",
       "6.0   2.89375   7375  0.800542      0   3246  66.443315   64.0   7375   \n",
       "7.0   2.88375   7407  0.797624      0   3319  65.514613   62.0   7407   \n",
       "8.0   2.87125   6328  0.779393      0   2862  64.502446   61.0   6328   \n",
       "9.0   2.84375   5147  0.774820      0   2384  63.585151   61.0   5147   \n",
       "10.0  2.83375  48600  0.770782      0  24049  63.683272   60.0  48600   \n",
       "\n",
       "                         Var3                        y                   \n",
       "           mean median  count       mean median  count      mean median  \n",
       "CSM                                                                      \n",
       "0.0   50.939915     50  10169  73.615695     72  10169  2.117514      2  \n",
       "1.0   51.013860     50   8297  73.713511     72   8297  2.127034      2  \n",
       "2.0   51.093452     50  11621  73.983048     72  11621  2.138714      2  \n",
       "3.0   51.089750     50  10351  73.984832     72  10351  2.125012      2  \n",
       "4.0   51.076236     50   7726  73.923634     72   7726  2.136940      2  \n",
       "5.0   51.086101     50   8641  74.074760     72   8641  2.149751      2  \n",
       "6.0   51.113356     50   7375  74.304814     73   7375  2.169085      2  \n",
       "7.0   51.256109     50   7407  74.737141     73   7407  2.176320      2  \n",
       "8.0   51.272282     51   6328  74.876264     73   6328  2.153603      2  \n",
       "9.0   51.282495     50   5147  75.128230     73   5147  2.180299      2  \n",
       "10.0  51.369115     51  48600  76.720617     75  48600  2.175844      2  "
      ]
     },
     "execution_count": 85,
     "metadata": {},
     "output_type": "execute_result"
    }
   ],
   "source": [
    "train.groupby('CSM').agg(['count','mean','median'])"
   ]
  },
  {
   "cell_type": "code",
   "execution_count": 83,
   "metadata": {
    "collapsed": true
   },
   "outputs": [],
   "source": [
    "train['CSM'].fillna(10,inplace=True)"
   ]
  },
  {
   "cell_type": "code",
   "execution_count": 84,
   "metadata": {
    "collapsed": true
   },
   "outputs": [],
   "source": [
    "test['CSM'].fillna(10,inplace=True)"
   ]
  },
  {
   "cell_type": "code",
   "execution_count": 88,
   "metadata": {
    "collapsed": true
   },
   "outputs": [],
   "source": [
    "train['LSI'].fillna(2.8,inplace=True)\n",
    "test['LSI'].fillna(2.8,inplace=True)"
   ]
  },
  {
   "cell_type": "code",
   "execution_count": 152,
   "metadata": {
    "collapsed": true
   },
   "outputs": [],
   "source": [
    "train['Var1'].fillna(64,inplace=True)\n",
    "test['Var1'].fillna(64,inplace=True)"
   ]
  },
  {
   "cell_type": "code",
   "execution_count": 91,
   "metadata": {
    "collapsed": true
   },
   "outputs": [],
   "source": [
    "train['CLSI'].fillna('D',inplace=True)\n",
    "test['CLSI'].fillna('D',inplace=True)"
   ]
  },
  {
   "cell_type": "code",
   "execution_count": 94,
   "metadata": {
    "collapsed": true
   },
   "outputs": [],
   "source": [
    "train['TOC'][(train['TOC'].isnull()==True)&(train['CLM']==1)] = 'E'\n",
    "test['TOC'][(test['TOC'].isnull()==True)&(test['CLM']==1)] = 'E'"
   ]
  },
  {
   "cell_type": "code",
   "execution_count": 167,
   "metadata": {
    "collapsed": false
   },
   "outputs": [],
   "source": [
    "train['TOC'].fillna('B',inplace=True)"
   ]
  },
  {
   "cell_type": "code",
   "execution_count": 168,
   "metadata": {
    "collapsed": true
   },
   "outputs": [],
   "source": [
    "test['TOC'].fillna('B',inplace=True)"
   ]
  },
  {
   "cell_type": "code",
   "execution_count": 111,
   "metadata": {
    "collapsed": true
   },
   "outputs": [],
   "source": [
    "train['log_var2'] = np.log(1+train[\"Var2\"])\n",
    "test['log_var2'] = np.log(1+test[\"Var2\"])\n",
    "train['log_var3'] = np.log(1+train[\"Var3\"])\n",
    "test['log_var3'] = np.log(1+test[\"Var3\"])"
   ]
  },
  {
   "cell_type": "code",
   "execution_count": 112,
   "metadata": {
    "collapsed": true
   },
   "outputs": [],
   "source": [
    "del train['Var2']\n",
    "del train['Var3']\n",
    "del test['Var2']\n",
    "del test['Var3']"
   ]
  },
  {
   "cell_type": "code",
   "execution_count": 201,
   "metadata": {
    "collapsed": false
   },
   "outputs": [],
   "source": [
    "dtr = train\n",
    "dt = test"
   ]
  },
  {
   "cell_type": "code",
   "execution_count": 202,
   "metadata": {
    "collapsed": true
   },
   "outputs": [],
   "source": [
    "y = train['y']"
   ]
  },
  {
   "cell_type": "code",
   "execution_count": 203,
   "metadata": {
    "collapsed": false
   },
   "outputs": [],
   "source": [
    "a =  pd.get_dummies(dtr['Gender'])\n",
    "b =  pd.get_dummies(dtr['DT'])\n",
    "c =  pd.get_dummies(dtr['CLSI'],prefix='CLSI')\n",
    "d =  pd.get_dummies(dt['CLSI'],prefix='CLSI')\n",
    "e =  pd.get_dummies(dt['Gender'])\n",
    "f =  pd.get_dummies(dt['DT'])"
   ]
  },
  {
   "cell_type": "code",
   "execution_count": 204,
   "metadata": {
    "collapsed": false
   },
   "outputs": [
    {
     "data": {
      "text/html": [
       "<div>\n",
       "<table border=\"1\" class=\"dataframe\">\n",
       "  <thead>\n",
       "    <tr style=\"text-align: right;\">\n",
       "      <th></th>\n",
       "      <th>Trip_ID</th>\n",
       "      <th>TD</th>\n",
       "      <th>TOC</th>\n",
       "      <th>CSM</th>\n",
       "      <th>LSI</th>\n",
       "      <th>CLSI</th>\n",
       "      <th>DT</th>\n",
       "      <th>CR</th>\n",
       "      <th>CLM</th>\n",
       "      <th>Var1</th>\n",
       "      <th>Gender</th>\n",
       "      <th>y</th>\n",
       "      <th>log_var2</th>\n",
       "      <th>log_var3</th>\n",
       "      <th>Female</th>\n",
       "      <th>Male</th>\n",
       "      <th>A</th>\n",
       "      <th>B</th>\n",
       "      <th>C</th>\n",
       "      <th>D</th>\n",
       "      <th>E</th>\n",
       "      <th>F</th>\n",
       "      <th>G</th>\n",
       "      <th>H</th>\n",
       "      <th>I</th>\n",
       "      <th>J</th>\n",
       "      <th>K</th>\n",
       "      <th>L</th>\n",
       "      <th>M</th>\n",
       "      <th>N</th>\n",
       "      <th>CLSI_A</th>\n",
       "      <th>CLSI_B</th>\n",
       "      <th>CLSI_C</th>\n",
       "      <th>CLSI_D</th>\n",
       "    </tr>\n",
       "  </thead>\n",
       "  <tbody>\n",
       "    <tr>\n",
       "      <th>0</th>\n",
       "      <td>T0005689460</td>\n",
       "      <td>6.77</td>\n",
       "      <td>B</td>\n",
       "      <td>1.0</td>\n",
       "      <td>2.42769</td>\n",
       "      <td>A</td>\n",
       "      <td>A</td>\n",
       "      <td>3.90500</td>\n",
       "      <td>0</td>\n",
       "      <td>40.0</td>\n",
       "      <td>Female</td>\n",
       "      <td>2</td>\n",
       "      <td>3.850148</td>\n",
       "      <td>4.110874</td>\n",
       "      <td>1.0</td>\n",
       "      <td>0.0</td>\n",
       "      <td>1.0</td>\n",
       "      <td>0.0</td>\n",
       "      <td>0.0</td>\n",
       "      <td>0.0</td>\n",
       "      <td>0.0</td>\n",
       "      <td>0.0</td>\n",
       "      <td>0.0</td>\n",
       "      <td>0.0</td>\n",
       "      <td>0.0</td>\n",
       "      <td>0.0</td>\n",
       "      <td>0.0</td>\n",
       "      <td>0.0</td>\n",
       "      <td>0.0</td>\n",
       "      <td>0.0</td>\n",
       "      <td>1.0</td>\n",
       "      <td>0.0</td>\n",
       "      <td>0.0</td>\n",
       "      <td>0.0</td>\n",
       "    </tr>\n",
       "    <tr>\n",
       "      <th>1</th>\n",
       "      <td>T0005689461</td>\n",
       "      <td>29.47</td>\n",
       "      <td>B</td>\n",
       "      <td>10.0</td>\n",
       "      <td>2.78245</td>\n",
       "      <td>B</td>\n",
       "      <td>A</td>\n",
       "      <td>3.45000</td>\n",
       "      <td>0</td>\n",
       "      <td>38.0</td>\n",
       "      <td>Male</td>\n",
       "      <td>2</td>\n",
       "      <td>4.043051</td>\n",
       "      <td>4.369448</td>\n",
       "      <td>0.0</td>\n",
       "      <td>1.0</td>\n",
       "      <td>1.0</td>\n",
       "      <td>0.0</td>\n",
       "      <td>0.0</td>\n",
       "      <td>0.0</td>\n",
       "      <td>0.0</td>\n",
       "      <td>0.0</td>\n",
       "      <td>0.0</td>\n",
       "      <td>0.0</td>\n",
       "      <td>0.0</td>\n",
       "      <td>0.0</td>\n",
       "      <td>0.0</td>\n",
       "      <td>0.0</td>\n",
       "      <td>0.0</td>\n",
       "      <td>0.0</td>\n",
       "      <td>0.0</td>\n",
       "      <td>1.0</td>\n",
       "      <td>0.0</td>\n",
       "      <td>0.0</td>\n",
       "    </tr>\n",
       "    <tr>\n",
       "      <th>2</th>\n",
       "      <td>T0005689464</td>\n",
       "      <td>41.58</td>\n",
       "      <td>B</td>\n",
       "      <td>10.0</td>\n",
       "      <td>2.80000</td>\n",
       "      <td>D</td>\n",
       "      <td>E</td>\n",
       "      <td>3.50125</td>\n",
       "      <td>2</td>\n",
       "      <td>64.0</td>\n",
       "      <td>Male</td>\n",
       "      <td>2</td>\n",
       "      <td>4.043051</td>\n",
       "      <td>4.356709</td>\n",
       "      <td>0.0</td>\n",
       "      <td>1.0</td>\n",
       "      <td>0.0</td>\n",
       "      <td>0.0</td>\n",
       "      <td>0.0</td>\n",
       "      <td>0.0</td>\n",
       "      <td>1.0</td>\n",
       "      <td>0.0</td>\n",
       "      <td>0.0</td>\n",
       "      <td>0.0</td>\n",
       "      <td>0.0</td>\n",
       "      <td>0.0</td>\n",
       "      <td>0.0</td>\n",
       "      <td>0.0</td>\n",
       "      <td>0.0</td>\n",
       "      <td>0.0</td>\n",
       "      <td>0.0</td>\n",
       "      <td>0.0</td>\n",
       "      <td>0.0</td>\n",
       "      <td>1.0</td>\n",
       "    </tr>\n",
       "    <tr>\n",
       "      <th>3</th>\n",
       "      <td>T0005689465</td>\n",
       "      <td>61.56</td>\n",
       "      <td>C</td>\n",
       "      <td>10.0</td>\n",
       "      <td>2.80000</td>\n",
       "      <td>D</td>\n",
       "      <td>A</td>\n",
       "      <td>3.45375</td>\n",
       "      <td>0</td>\n",
       "      <td>64.0</td>\n",
       "      <td>Male</td>\n",
       "      <td>3</td>\n",
       "      <td>3.970292</td>\n",
       "      <td>4.317488</td>\n",
       "      <td>0.0</td>\n",
       "      <td>1.0</td>\n",
       "      <td>1.0</td>\n",
       "      <td>0.0</td>\n",
       "      <td>0.0</td>\n",
       "      <td>0.0</td>\n",
       "      <td>0.0</td>\n",
       "      <td>0.0</td>\n",
       "      <td>0.0</td>\n",
       "      <td>0.0</td>\n",
       "      <td>0.0</td>\n",
       "      <td>0.0</td>\n",
       "      <td>0.0</td>\n",
       "      <td>0.0</td>\n",
       "      <td>0.0</td>\n",
       "      <td>0.0</td>\n",
       "      <td>0.0</td>\n",
       "      <td>0.0</td>\n",
       "      <td>0.0</td>\n",
       "      <td>1.0</td>\n",
       "    </tr>\n",
       "    <tr>\n",
       "      <th>4</th>\n",
       "      <td>T0005689467</td>\n",
       "      <td>54.95</td>\n",
       "      <td>C</td>\n",
       "      <td>10.0</td>\n",
       "      <td>3.03453</td>\n",
       "      <td>B</td>\n",
       "      <td>A</td>\n",
       "      <td>3.40250</td>\n",
       "      <td>4</td>\n",
       "      <td>51.0</td>\n",
       "      <td>Male</td>\n",
       "      <td>2</td>\n",
       "      <td>3.912023</td>\n",
       "      <td>4.634729</td>\n",
       "      <td>0.0</td>\n",
       "      <td>1.0</td>\n",
       "      <td>1.0</td>\n",
       "      <td>0.0</td>\n",
       "      <td>0.0</td>\n",
       "      <td>0.0</td>\n",
       "      <td>0.0</td>\n",
       "      <td>0.0</td>\n",
       "      <td>0.0</td>\n",
       "      <td>0.0</td>\n",
       "      <td>0.0</td>\n",
       "      <td>0.0</td>\n",
       "      <td>0.0</td>\n",
       "      <td>0.0</td>\n",
       "      <td>0.0</td>\n",
       "      <td>0.0</td>\n",
       "      <td>0.0</td>\n",
       "      <td>1.0</td>\n",
       "      <td>0.0</td>\n",
       "      <td>0.0</td>\n",
       "    </tr>\n",
       "  </tbody>\n",
       "</table>\n",
       "</div>"
      ],
      "text/plain": [
       "       Trip_ID     TD TOC   CSM      LSI CLSI DT       CR  CLM  Var1  Gender  \\\n",
       "0  T0005689460   6.77   B   1.0  2.42769    A  A  3.90500    0  40.0  Female   \n",
       "1  T0005689461  29.47   B  10.0  2.78245    B  A  3.45000    0  38.0    Male   \n",
       "2  T0005689464  41.58   B  10.0  2.80000    D  E  3.50125    2  64.0    Male   \n",
       "3  T0005689465  61.56   C  10.0  2.80000    D  A  3.45375    0  64.0    Male   \n",
       "4  T0005689467  54.95   C  10.0  3.03453    B  A  3.40250    4  51.0    Male   \n",
       "\n",
       "   y  log_var2  log_var3  Female  Male    A    B    C    D    E    F    G  \\\n",
       "0  2  3.850148  4.110874     1.0   0.0  1.0  0.0  0.0  0.0  0.0  0.0  0.0   \n",
       "1  2  4.043051  4.369448     0.0   1.0  1.0  0.0  0.0  0.0  0.0  0.0  0.0   \n",
       "2  2  4.043051  4.356709     0.0   1.0  0.0  0.0  0.0  0.0  1.0  0.0  0.0   \n",
       "3  3  3.970292  4.317488     0.0   1.0  1.0  0.0  0.0  0.0  0.0  0.0  0.0   \n",
       "4  2  3.912023  4.634729     0.0   1.0  1.0  0.0  0.0  0.0  0.0  0.0  0.0   \n",
       "\n",
       "     H    I    J    K    L    M    N  CLSI_A  CLSI_B  CLSI_C  CLSI_D  \n",
       "0  0.0  0.0  0.0  0.0  0.0  0.0  0.0     1.0     0.0     0.0     0.0  \n",
       "1  0.0  0.0  0.0  0.0  0.0  0.0  0.0     0.0     1.0     0.0     0.0  \n",
       "2  0.0  0.0  0.0  0.0  0.0  0.0  0.0     0.0     0.0     0.0     1.0  \n",
       "3  0.0  0.0  0.0  0.0  0.0  0.0  0.0     0.0     0.0     0.0     1.0  \n",
       "4  0.0  0.0  0.0  0.0  0.0  0.0  0.0     0.0     1.0     0.0     0.0  "
      ]
     },
     "execution_count": 204,
     "metadata": {},
     "output_type": "execute_result"
    }
   ],
   "source": [
    "dtr= pd.concat([dtr,a,b,c],axis=1)\n",
    "dtr.head()"
   ]
  },
  {
   "cell_type": "code",
   "execution_count": 205,
   "metadata": {
    "collapsed": false
   },
   "outputs": [
    {
     "data": {
      "text/html": [
       "<div>\n",
       "<table border=\"1\" class=\"dataframe\">\n",
       "  <thead>\n",
       "    <tr style=\"text-align: right;\">\n",
       "      <th></th>\n",
       "      <th>Trip_ID</th>\n",
       "      <th>TD</th>\n",
       "      <th>TOC</th>\n",
       "      <th>CSM</th>\n",
       "      <th>LSI</th>\n",
       "      <th>CLSI</th>\n",
       "      <th>DT</th>\n",
       "      <th>CR</th>\n",
       "      <th>CLM</th>\n",
       "      <th>Var1</th>\n",
       "      <th>Gender</th>\n",
       "      <th>log_var2</th>\n",
       "      <th>log_var3</th>\n",
       "      <th>Female</th>\n",
       "      <th>Male</th>\n",
       "      <th>A</th>\n",
       "      <th>B</th>\n",
       "      <th>C</th>\n",
       "      <th>D</th>\n",
       "      <th>E</th>\n",
       "      <th>F</th>\n",
       "      <th>G</th>\n",
       "      <th>H</th>\n",
       "      <th>I</th>\n",
       "      <th>J</th>\n",
       "      <th>K</th>\n",
       "      <th>L</th>\n",
       "      <th>M</th>\n",
       "      <th>N</th>\n",
       "      <th>CLSI_A</th>\n",
       "      <th>CLSI_B</th>\n",
       "      <th>CLSI_C</th>\n",
       "      <th>CLSI_D</th>\n",
       "    </tr>\n",
       "  </thead>\n",
       "  <tbody>\n",
       "    <tr>\n",
       "      <th>0</th>\n",
       "      <td>T0005689459</td>\n",
       "      <td>9.44</td>\n",
       "      <td>A</td>\n",
       "      <td>10.0</td>\n",
       "      <td>2.57438</td>\n",
       "      <td>A</td>\n",
       "      <td>B</td>\n",
       "      <td>3.68000</td>\n",
       "      <td>2</td>\n",
       "      <td>64.0</td>\n",
       "      <td>Male</td>\n",
       "      <td>3.850148</td>\n",
       "      <td>4.158883</td>\n",
       "      <td>0.0</td>\n",
       "      <td>1.0</td>\n",
       "      <td>0.0</td>\n",
       "      <td>1.0</td>\n",
       "      <td>0.0</td>\n",
       "      <td>0.0</td>\n",
       "      <td>0.0</td>\n",
       "      <td>0.0</td>\n",
       "      <td>0.0</td>\n",
       "      <td>0.0</td>\n",
       "      <td>0.0</td>\n",
       "      <td>0.0</td>\n",
       "      <td>0.0</td>\n",
       "      <td>0.0</td>\n",
       "      <td>0.0</td>\n",
       "      <td>0.0</td>\n",
       "      <td>1.0</td>\n",
       "      <td>0.0</td>\n",
       "      <td>0.0</td>\n",
       "      <td>0.0</td>\n",
       "    </tr>\n",
       "    <tr>\n",
       "      <th>1</th>\n",
       "      <td>T0005689462</td>\n",
       "      <td>32.15</td>\n",
       "      <td>B</td>\n",
       "      <td>10.0</td>\n",
       "      <td>2.85143</td>\n",
       "      <td>A</td>\n",
       "      <td>A</td>\n",
       "      <td>1.59375</td>\n",
       "      <td>0</td>\n",
       "      <td>65.0</td>\n",
       "      <td>Female</td>\n",
       "      <td>3.912023</td>\n",
       "      <td>4.394449</td>\n",
       "      <td>1.0</td>\n",
       "      <td>0.0</td>\n",
       "      <td>1.0</td>\n",
       "      <td>0.0</td>\n",
       "      <td>0.0</td>\n",
       "      <td>0.0</td>\n",
       "      <td>0.0</td>\n",
       "      <td>0.0</td>\n",
       "      <td>0.0</td>\n",
       "      <td>0.0</td>\n",
       "      <td>0.0</td>\n",
       "      <td>0.0</td>\n",
       "      <td>0.0</td>\n",
       "      <td>0.0</td>\n",
       "      <td>0.0</td>\n",
       "      <td>0.0</td>\n",
       "      <td>1.0</td>\n",
       "      <td>0.0</td>\n",
       "      <td>0.0</td>\n",
       "      <td>0.0</td>\n",
       "    </tr>\n",
       "    <tr>\n",
       "      <th>2</th>\n",
       "      <td>T0005689463</td>\n",
       "      <td>10.38</td>\n",
       "      <td>C</td>\n",
       "      <td>4.0</td>\n",
       "      <td>2.70530</td>\n",
       "      <td>A</td>\n",
       "      <td>D</td>\n",
       "      <td>4.50500</td>\n",
       "      <td>0</td>\n",
       "      <td>64.0</td>\n",
       "      <td>Male</td>\n",
       "      <td>3.871201</td>\n",
       "      <td>4.317488</td>\n",
       "      <td>0.0</td>\n",
       "      <td>1.0</td>\n",
       "      <td>0.0</td>\n",
       "      <td>0.0</td>\n",
       "      <td>0.0</td>\n",
       "      <td>1.0</td>\n",
       "      <td>0.0</td>\n",
       "      <td>0.0</td>\n",
       "      <td>0.0</td>\n",
       "      <td>0.0</td>\n",
       "      <td>0.0</td>\n",
       "      <td>0.0</td>\n",
       "      <td>0.0</td>\n",
       "      <td>0.0</td>\n",
       "      <td>0.0</td>\n",
       "      <td>0.0</td>\n",
       "      <td>1.0</td>\n",
       "      <td>0.0</td>\n",
       "      <td>0.0</td>\n",
       "      <td>0.0</td>\n",
       "    </tr>\n",
       "    <tr>\n",
       "      <th>3</th>\n",
       "      <td>T0005689466</td>\n",
       "      <td>14.94</td>\n",
       "      <td>B</td>\n",
       "      <td>6.0</td>\n",
       "      <td>2.48159</td>\n",
       "      <td>C</td>\n",
       "      <td>E</td>\n",
       "      <td>4.53000</td>\n",
       "      <td>0</td>\n",
       "      <td>63.0</td>\n",
       "      <td>Male</td>\n",
       "      <td>3.784190</td>\n",
       "      <td>4.007333</td>\n",
       "      <td>0.0</td>\n",
       "      <td>1.0</td>\n",
       "      <td>0.0</td>\n",
       "      <td>0.0</td>\n",
       "      <td>0.0</td>\n",
       "      <td>0.0</td>\n",
       "      <td>1.0</td>\n",
       "      <td>0.0</td>\n",
       "      <td>0.0</td>\n",
       "      <td>0.0</td>\n",
       "      <td>0.0</td>\n",
       "      <td>0.0</td>\n",
       "      <td>0.0</td>\n",
       "      <td>0.0</td>\n",
       "      <td>0.0</td>\n",
       "      <td>0.0</td>\n",
       "      <td>0.0</td>\n",
       "      <td>0.0</td>\n",
       "      <td>1.0</td>\n",
       "      <td>0.0</td>\n",
       "    </tr>\n",
       "    <tr>\n",
       "      <th>4</th>\n",
       "      <td>T0005689468</td>\n",
       "      <td>32.03</td>\n",
       "      <td>B</td>\n",
       "      <td>7.0</td>\n",
       "      <td>2.81598</td>\n",
       "      <td>A</td>\n",
       "      <td>K</td>\n",
       "      <td>4.60125</td>\n",
       "      <td>3</td>\n",
       "      <td>96.0</td>\n",
       "      <td>Male</td>\n",
       "      <td>3.806662</td>\n",
       "      <td>4.043051</td>\n",
       "      <td>0.0</td>\n",
       "      <td>1.0</td>\n",
       "      <td>0.0</td>\n",
       "      <td>0.0</td>\n",
       "      <td>0.0</td>\n",
       "      <td>0.0</td>\n",
       "      <td>0.0</td>\n",
       "      <td>0.0</td>\n",
       "      <td>0.0</td>\n",
       "      <td>0.0</td>\n",
       "      <td>0.0</td>\n",
       "      <td>0.0</td>\n",
       "      <td>1.0</td>\n",
       "      <td>0.0</td>\n",
       "      <td>0.0</td>\n",
       "      <td>0.0</td>\n",
       "      <td>1.0</td>\n",
       "      <td>0.0</td>\n",
       "      <td>0.0</td>\n",
       "      <td>0.0</td>\n",
       "    </tr>\n",
       "  </tbody>\n",
       "</table>\n",
       "</div>"
      ],
      "text/plain": [
       "       Trip_ID     TD TOC   CSM      LSI CLSI DT       CR  CLM  Var1  Gender  \\\n",
       "0  T0005689459   9.44   A  10.0  2.57438    A  B  3.68000    2  64.0    Male   \n",
       "1  T0005689462  32.15   B  10.0  2.85143    A  A  1.59375    0  65.0  Female   \n",
       "2  T0005689463  10.38   C   4.0  2.70530    A  D  4.50500    0  64.0    Male   \n",
       "3  T0005689466  14.94   B   6.0  2.48159    C  E  4.53000    0  63.0    Male   \n",
       "4  T0005689468  32.03   B   7.0  2.81598    A  K  4.60125    3  96.0    Male   \n",
       "\n",
       "   log_var2  log_var3  Female  Male    A    B    C    D    E    F    G    H  \\\n",
       "0  3.850148  4.158883     0.0   1.0  0.0  1.0  0.0  0.0  0.0  0.0  0.0  0.0   \n",
       "1  3.912023  4.394449     1.0   0.0  1.0  0.0  0.0  0.0  0.0  0.0  0.0  0.0   \n",
       "2  3.871201  4.317488     0.0   1.0  0.0  0.0  0.0  1.0  0.0  0.0  0.0  0.0   \n",
       "3  3.784190  4.007333     0.0   1.0  0.0  0.0  0.0  0.0  1.0  0.0  0.0  0.0   \n",
       "4  3.806662  4.043051     0.0   1.0  0.0  0.0  0.0  0.0  0.0  0.0  0.0  0.0   \n",
       "\n",
       "     I    J    K    L    M    N  CLSI_A  CLSI_B  CLSI_C  CLSI_D  \n",
       "0  0.0  0.0  0.0  0.0  0.0  0.0     1.0     0.0     0.0     0.0  \n",
       "1  0.0  0.0  0.0  0.0  0.0  0.0     1.0     0.0     0.0     0.0  \n",
       "2  0.0  0.0  0.0  0.0  0.0  0.0     1.0     0.0     0.0     0.0  \n",
       "3  0.0  0.0  0.0  0.0  0.0  0.0     0.0     0.0     1.0     0.0  \n",
       "4  0.0  0.0  1.0  0.0  0.0  0.0     1.0     0.0     0.0     0.0  "
      ]
     },
     "execution_count": 205,
     "metadata": {},
     "output_type": "execute_result"
    }
   ],
   "source": [
    "dt= pd.concat([dt,e,f,d],axis=1)\n",
    "dt.head()"
   ]
  },
  {
   "cell_type": "code",
   "execution_count": 206,
   "metadata": {
    "collapsed": true
   },
   "outputs": [],
   "source": [
    "del dtr['DT']\n",
    "del dt['DT']\n",
    "del dtr['CLSI']\n",
    "del dt['CLSI']\n",
    "del dtr['Female']\n",
    "del dt['Female']\n",
    "del dtr['Gender']\n",
    "del dt['Gender']"
   ]
  },
  {
   "cell_type": "code",
   "execution_count": 207,
   "metadata": {
    "collapsed": false
   },
   "outputs": [],
   "source": [
    "dtr['C'] = dtr['C'] + dtr['D']\n",
    "del dtr['D']\n",
    "dt['C'] = dt['C'] + dt['D']\n",
    "del dt['D']\n",
    "dtr['E'] = dtr['E'] + dtr['F']+dtr['G'] + dtr['H']+dtr['I'] + dtr['J']+dtr['K'] + dtr['L']+dtr['M'] + dtr['N']\n",
    "dt['E'] = dt['E'] + dt['F']+dt['G'] + dt['H']+dt['I'] + dt['J']+dt['K'] + dt['L']+dt['M'] + dt['N']\n",
    "del dtr['F']\n",
    "del dt['F']\n",
    "del dtr['G']\n",
    "del dt['G']\n",
    "del dtr['H']\n",
    "del dt['H']\n",
    "del dtr['I']\n",
    "del dt['I']\n",
    "del dtr['J']\n",
    "del dt['J']\n",
    "del dtr['K']\n",
    "del dt['K']\n",
    "del dtr['L']\n",
    "del dt['L']\n",
    "del dtr['M']\n",
    "del dt['M']\n",
    "del dtr['N']\n",
    "del dt['N']\n"
   ]
  },
  {
   "cell_type": "code",
   "execution_count": 208,
   "metadata": {
    "collapsed": false
   },
   "outputs": [],
   "source": [
    "dtr['TOC'] = dtr['TOC'].map({'A':1,'B':2,'C':3,'D':4,'E':5})\n",
    "dt['TOC'] = dt['TOC'].map({'A':1,'B':2,'C':3,'D':4,'E':5})"
   ]
  },
  {
   "cell_type": "code",
   "execution_count": 209,
   "metadata": {
    "collapsed": false
   },
   "outputs": [
    {
     "data": {
      "text/html": [
       "<div>\n",
       "<table border=\"1\" class=\"dataframe\">\n",
       "  <thead>\n",
       "    <tr style=\"text-align: right;\">\n",
       "      <th></th>\n",
       "      <th>Trip_ID</th>\n",
       "      <th>TD</th>\n",
       "      <th>TOC</th>\n",
       "      <th>CSM</th>\n",
       "      <th>LSI</th>\n",
       "      <th>CR</th>\n",
       "      <th>CLM</th>\n",
       "      <th>Var1</th>\n",
       "      <th>y</th>\n",
       "      <th>log_var2</th>\n",
       "      <th>log_var3</th>\n",
       "      <th>Male</th>\n",
       "      <th>A</th>\n",
       "      <th>B</th>\n",
       "      <th>C</th>\n",
       "      <th>E</th>\n",
       "      <th>CLSI_A</th>\n",
       "      <th>CLSI_B</th>\n",
       "      <th>CLSI_C</th>\n",
       "      <th>CLSI_D</th>\n",
       "    </tr>\n",
       "  </thead>\n",
       "  <tbody>\n",
       "    <tr>\n",
       "      <th>0</th>\n",
       "      <td>T0005689460</td>\n",
       "      <td>6.77</td>\n",
       "      <td>2</td>\n",
       "      <td>1.0</td>\n",
       "      <td>2.42769</td>\n",
       "      <td>3.90500</td>\n",
       "      <td>0</td>\n",
       "      <td>40.0</td>\n",
       "      <td>2</td>\n",
       "      <td>3.850148</td>\n",
       "      <td>4.110874</td>\n",
       "      <td>0.0</td>\n",
       "      <td>1.0</td>\n",
       "      <td>0.0</td>\n",
       "      <td>0.0</td>\n",
       "      <td>0.0</td>\n",
       "      <td>1.0</td>\n",
       "      <td>0.0</td>\n",
       "      <td>0.0</td>\n",
       "      <td>0.0</td>\n",
       "    </tr>\n",
       "    <tr>\n",
       "      <th>1</th>\n",
       "      <td>T0005689461</td>\n",
       "      <td>29.47</td>\n",
       "      <td>2</td>\n",
       "      <td>10.0</td>\n",
       "      <td>2.78245</td>\n",
       "      <td>3.45000</td>\n",
       "      <td>0</td>\n",
       "      <td>38.0</td>\n",
       "      <td>2</td>\n",
       "      <td>4.043051</td>\n",
       "      <td>4.369448</td>\n",
       "      <td>1.0</td>\n",
       "      <td>1.0</td>\n",
       "      <td>0.0</td>\n",
       "      <td>0.0</td>\n",
       "      <td>0.0</td>\n",
       "      <td>0.0</td>\n",
       "      <td>1.0</td>\n",
       "      <td>0.0</td>\n",
       "      <td>0.0</td>\n",
       "    </tr>\n",
       "    <tr>\n",
       "      <th>2</th>\n",
       "      <td>T0005689464</td>\n",
       "      <td>41.58</td>\n",
       "      <td>2</td>\n",
       "      <td>10.0</td>\n",
       "      <td>2.80000</td>\n",
       "      <td>3.50125</td>\n",
       "      <td>2</td>\n",
       "      <td>64.0</td>\n",
       "      <td>2</td>\n",
       "      <td>4.043051</td>\n",
       "      <td>4.356709</td>\n",
       "      <td>1.0</td>\n",
       "      <td>0.0</td>\n",
       "      <td>0.0</td>\n",
       "      <td>0.0</td>\n",
       "      <td>1.0</td>\n",
       "      <td>0.0</td>\n",
       "      <td>0.0</td>\n",
       "      <td>0.0</td>\n",
       "      <td>1.0</td>\n",
       "    </tr>\n",
       "    <tr>\n",
       "      <th>3</th>\n",
       "      <td>T0005689465</td>\n",
       "      <td>61.56</td>\n",
       "      <td>3</td>\n",
       "      <td>10.0</td>\n",
       "      <td>2.80000</td>\n",
       "      <td>3.45375</td>\n",
       "      <td>0</td>\n",
       "      <td>64.0</td>\n",
       "      <td>3</td>\n",
       "      <td>3.970292</td>\n",
       "      <td>4.317488</td>\n",
       "      <td>1.0</td>\n",
       "      <td>1.0</td>\n",
       "      <td>0.0</td>\n",
       "      <td>0.0</td>\n",
       "      <td>0.0</td>\n",
       "      <td>0.0</td>\n",
       "      <td>0.0</td>\n",
       "      <td>0.0</td>\n",
       "      <td>1.0</td>\n",
       "    </tr>\n",
       "    <tr>\n",
       "      <th>4</th>\n",
       "      <td>T0005689467</td>\n",
       "      <td>54.95</td>\n",
       "      <td>3</td>\n",
       "      <td>10.0</td>\n",
       "      <td>3.03453</td>\n",
       "      <td>3.40250</td>\n",
       "      <td>4</td>\n",
       "      <td>51.0</td>\n",
       "      <td>2</td>\n",
       "      <td>3.912023</td>\n",
       "      <td>4.634729</td>\n",
       "      <td>1.0</td>\n",
       "      <td>1.0</td>\n",
       "      <td>0.0</td>\n",
       "      <td>0.0</td>\n",
       "      <td>0.0</td>\n",
       "      <td>0.0</td>\n",
       "      <td>1.0</td>\n",
       "      <td>0.0</td>\n",
       "      <td>0.0</td>\n",
       "    </tr>\n",
       "  </tbody>\n",
       "</table>\n",
       "</div>"
      ],
      "text/plain": [
       "       Trip_ID     TD  TOC   CSM      LSI       CR  CLM  Var1  y  log_var2  \\\n",
       "0  T0005689460   6.77    2   1.0  2.42769  3.90500    0  40.0  2  3.850148   \n",
       "1  T0005689461  29.47    2  10.0  2.78245  3.45000    0  38.0  2  4.043051   \n",
       "2  T0005689464  41.58    2  10.0  2.80000  3.50125    2  64.0  2  4.043051   \n",
       "3  T0005689465  61.56    3  10.0  2.80000  3.45375    0  64.0  3  3.970292   \n",
       "4  T0005689467  54.95    3  10.0  3.03453  3.40250    4  51.0  2  3.912023   \n",
       "\n",
       "   log_var3  Male    A    B    C    E  CLSI_A  CLSI_B  CLSI_C  CLSI_D  \n",
       "0  4.110874   0.0  1.0  0.0  0.0  0.0     1.0     0.0     0.0     0.0  \n",
       "1  4.369448   1.0  1.0  0.0  0.0  0.0     0.0     1.0     0.0     0.0  \n",
       "2  4.356709   1.0  0.0  0.0  0.0  1.0     0.0     0.0     0.0     1.0  \n",
       "3  4.317488   1.0  1.0  0.0  0.0  0.0     0.0     0.0     0.0     1.0  \n",
       "4  4.634729   1.0  1.0  0.0  0.0  0.0     0.0     1.0     0.0     0.0  "
      ]
     },
     "execution_count": 209,
     "metadata": {},
     "output_type": "execute_result"
    }
   ],
   "source": [
    "dtr.head()"
   ]
  },
  {
   "cell_type": "code",
   "execution_count": null,
   "metadata": {
    "collapsed": true
   },
   "outputs": [],
   "source": []
  },
  {
   "cell_type": "code",
   "execution_count": null,
   "metadata": {
    "collapsed": true
   },
   "outputs": [],
   "source": []
  },
  {
   "cell_type": "code",
   "execution_count": 210,
   "metadata": {
    "collapsed": false
   },
   "outputs": [
    {
     "data": {
      "text/plain": [
       "XGBClassifier(base_score=0.5, colsample_bylevel=1, colsample_bytree=1,\n",
       "       gamma=0, learning_rate=0.1, max_delta_step=0, max_depth=3,\n",
       "       min_child_weight=1, missing=None, n_estimators=200, nthread=-1,\n",
       "       objective='multi:softprob', reg_alpha=0, reg_lambda=1,\n",
       "       scale_pos_weight=1, seed=0, silent=False, subsample=1)"
      ]
     },
     "execution_count": 210,
     "metadata": {},
     "output_type": "execute_result"
    }
   ],
   "source": [
    "xgb = XGBClassifier(n_estimators=200, objective='multi:softmax', silent=False)\n",
    "xgb.fit(dtr.drop(['Trip_ID','y'],axis=1),y)"
   ]
  },
  {
   "cell_type": "code",
   "execution_count": 211,
   "metadata": {
    "collapsed": false
   },
   "outputs": [],
   "source": [
    "# cross_val_score(xgb,dtr.drop(['Trip_ID','y'],axis=1),y,cv=5,scoring='accuracy')"
   ]
  },
  {
   "cell_type": "code",
   "execution_count": 212,
   "metadata": {
    "collapsed": false
   },
   "outputs": [
    {
     "data": {
      "text/plain": [
       "<matplotlib.axes._subplots.AxesSubplot at 0x2c72026a828>"
      ]
     },
     "execution_count": 212,
     "metadata": {},
     "output_type": "execute_result"
    },
    {
     "data": {
      "image/png": "[encoded data removed]",
      "text/plain": [
       "<matplotlib.figure.Figure at 0x2c7202649b0>"
      ]
     },
     "metadata": {},
     "output_type": "display_data"
    }
   ],
   "source": [
    "from xgboost import plot_importance\n",
    "rcParams['figure.figsize'] = (14, 6)\n",
    "plot_importance(xgb)"
   ]
  },
  {
   "cell_type": "code",
   "execution_count": 213,
   "metadata": {
    "collapsed": false
   },
   "outputs": [],
   "source": [
    "pred = xgb.predict(dt.drop(['Trip_ID'],axis=1))"
   ]
  },
  {
   "cell_type": "code",
   "execution_count": 214,
   "metadata": {
    "collapsed": true
   },
   "outputs": [],
   "source": [
    "pr = pd.DataFrame({'Surge_Pricing_Type':pred},index=dt['Trip_ID'])\n",
    "pr.to_csv('solution1.csv')"
   ]
  },
  {
   "cell_type": "code",
   "execution_count": null,
   "metadata": {
    "collapsed": true
   },
   "outputs": [],
   "source": []
  }
 ],
 "metadata": {
  "anaconda-cloud": {},
  "kernelspec": {
   "display_name": "Python 3",
   "language": "python",
   "name": "python3"
  },
  "language_info": {
   "codemirror_mode": {
    "name": "ipython",
    "version": 3
   },
   "file_extension": ".py",
   "mimetype": "text/x-python",
   "name": "python",
   "nbconvert_exporter": "python",
   "pygments_lexer": "ipython3",
   "version": "3.5.2"
  }
 },
 "nbformat": 4,
 "nbformat_minor": 1
}
