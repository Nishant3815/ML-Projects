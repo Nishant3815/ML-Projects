{
 "cells": [
  {
   "cell_type": "code",
   "execution_count": 338,
   "metadata": {
    "collapsed": true
   },
   "outputs": [],
   "source": [
    "from selenium import webdriver "
   ]
  },
  {
   "cell_type": "code",
   "execution_count": 339,
   "metadata": {
    "collapsed": false
   },
   "outputs": [],
   "source": [
    "driver = webdriver.Chrome(\"C:\\\\Users\\\\NISHANT\\\\Desktop\\\\chromedriver_win32\\\\chromedriver.exe\")"
   ]
  },
  {
   "cell_type": "code",
   "execution_count": 340,
   "metadata": {
    "collapsed": true
   },
   "outputs": [],
   "source": [
    "driver.get(\"https://channeli.in/placement/company/list/\")"
   ]
  },
  {
   "cell_type": "code",
   "execution_count": 341,
   "metadata": {
    "collapsed": true
   },
   "outputs": [],
   "source": [
    "driver.maximize_window()"
   ]
  },
  {
   "cell_type": "code",
   "execution_count": 342,
   "metadata": {
    "collapsed": false
   },
   "outputs": [
    {
     "data": {
      "text/plain": [
       "True"
      ]
     },
     "execution_count": 342,
     "metadata": {},
     "output_type": "execute_result"
    }
   ],
   "source": [
    "driver.get_screenshot_as_file(\"C:\\\\Users\\\\NISHANT\\\\Desktop\\\\channeli.png\")"
   ]
  },
  {
   "cell_type": "code",
   "execution_count": 343,
   "metadata": {
    "collapsed": false
   },
   "outputs": [],
   "source": [
    "driver.find_element_by_name(\"username\").send_keys(\"Enrollment number\")"
   ]
  },
  {
   "cell_type": "code",
   "execution_count": 344,
   "metadata": {
    "collapsed": true
   },
   "outputs": [],
   "source": [
    "driver.find_element_by_name(\"password\").send_keys(\"Password\")"
   ]
  },
  {
   "cell_type": "code",
   "execution_count": 345,
   "metadata": {
    "collapsed": true
   },
   "outputs": [],
   "source": [
    "driver.find_element_by_id(\"sign_in_button\").click()"
   ]
  },
  {
   "cell_type": "code",
   "execution_count": 346,
   "metadata": {
    "collapsed": true
   },
   "outputs": [],
   "source": [
    "company = []\n",
    "category = []\n",
    "urls = []"
   ]
  },
  {
   "cell_type": "code",
   "execution_count": 347,
   "metadata": {
    "collapsed": false
   },
   "outputs": [],
   "source": [
    "#Set individual wait parameters so that they wait before throwing exceptions\n",
    "from selenium.webdriver.common.by import By\n",
    "from selenium.webdriver.support.ui import WebDriverWait\n",
    "import selenium.webdriver.support.expected_conditions as EC\n",
    "from selenium.common.exceptions import TimeoutException\n"
   ]
  },
  {
   "cell_type": "code",
   "execution_count": 348,
   "metadata": {
    "collapsed": false
   },
   "outputs": [],
   "source": [
    "rows = driver.find_element_by_tag_name('tbody').find_elements_by_tag_name('tr')"
   ]
  },
  {
   "cell_type": "code",
   "execution_count": 349,
   "metadata": {
    "collapsed": false
   },
   "outputs": [],
   "source": [
    "for row in rows:\n",
    "    cells = row.find_elements_by_tag_name('td')\n",
    "    company.append(cells[1].text)\n",
    "    category.append(cells[2].text)\n",
    "    urls.append(cells[1].find_element_by_tag_name('a').get_attribute('href'))\n",
    "    \n",
    "\n",
    "    \n",
    "\n",
    "    \n",
    "    "
   ]
  },
  {
   "cell_type": "code",
   "execution_count": 350,
   "metadata": {
    "collapsed": false,
    "scrolled": false
   },
   "outputs": [
    {
     "data": {
      "text/plain": [
       "['https://channeli.in/placement/company/2107/info/',\n",
       " 'https://channeli.in/placement/company/2108/info/',\n",
       " 'https://channeli.in/placement/company/2109/info/',\n",
       " 'https://channeli.in/placement/company/2110/info/',\n",
       " 'https://channeli.in/placement/company/2111/info/',\n",
       " 'https://channeli.in/placement/company/2112/info/',\n",
       " 'https://channeli.in/placement/company/2113/info/',\n",
       " 'https://channeli.in/placement/company/2114/info/',\n",
       " 'https://channeli.in/placement/company/2115/info/',\n",
       " 'https://channeli.in/placement/company/2116/info/',\n",
       " 'https://channeli.in/placement/company/2118/info/',\n",
       " 'https://channeli.in/placement/company/2119/info/',\n",
       " 'https://channeli.in/placement/company/2120/info/',\n",
       " 'https://channeli.in/placement/company/2121/info/',\n",
       " 'https://channeli.in/placement/company/2122/info/',\n",
       " 'https://channeli.in/placement/company/2123/info/',\n",
       " 'https://channeli.in/placement/company/2124/info/',\n",
       " 'https://channeli.in/placement/company/2125/info/',\n",
       " 'https://channeli.in/placement/company/2126/info/',\n",
       " 'https://channeli.in/placement/company/2127/info/',\n",
       " 'https://channeli.in/placement/company/2128/info/',\n",
       " 'https://channeli.in/placement/company/2129/info/',\n",
       " 'https://channeli.in/placement/company/2130/info/',\n",
       " 'https://channeli.in/placement/company/2131/info/',\n",
       " 'https://channeli.in/placement/company/2132/info/',\n",
       " 'https://channeli.in/placement/company/2133/info/',\n",
       " 'https://channeli.in/placement/company/2134/info/',\n",
       " 'https://channeli.in/placement/company/2135/info/',\n",
       " 'https://channeli.in/placement/company/2136/info/',\n",
       " 'https://channeli.in/placement/company/2137/info/',\n",
       " 'https://channeli.in/placement/company/2138/info/',\n",
       " 'https://channeli.in/placement/company/2139/info/',\n",
       " 'https://channeli.in/placement/company/2140/info/',\n",
       " 'https://channeli.in/placement/company/2141/info/',\n",
       " 'https://channeli.in/placement/company/2142/info/',\n",
       " 'https://channeli.in/placement/company/2143/info/',\n",
       " 'https://channeli.in/placement/company/2144/info/',\n",
       " 'https://channeli.in/placement/company/2145/info/',\n",
       " 'https://channeli.in/placement/company/2146/info/',\n",
       " 'https://channeli.in/placement/company/2147/info/',\n",
       " 'https://channeli.in/placement/company/2148/info/',\n",
       " 'https://channeli.in/placement/company/2149/info/',\n",
       " 'https://channeli.in/placement/company/2150/info/',\n",
       " 'https://channeli.in/placement/company/2151/info/',\n",
       " 'https://channeli.in/placement/company/2152/info/',\n",
       " 'https://channeli.in/placement/company/2153/info/',\n",
       " 'https://channeli.in/placement/company/2154/info/',\n",
       " 'https://channeli.in/placement/company/2155/info/',\n",
       " 'https://channeli.in/placement/company/2156/info/',\n",
       " 'https://channeli.in/placement/company/2157/info/',\n",
       " 'https://channeli.in/placement/company/2158/info/',\n",
       " 'https://channeli.in/placement/company/2159/info/',\n",
       " 'https://channeli.in/placement/company/2160/info/',\n",
       " 'https://channeli.in/placement/company/2161/info/',\n",
       " 'https://channeli.in/placement/company/2162/info/',\n",
       " 'https://channeli.in/placement/company/2163/info/',\n",
       " 'https://channeli.in/placement/company/2167/info/',\n",
       " 'https://channeli.in/placement/company/2168/info/',\n",
       " 'https://channeli.in/placement/company/2169/info/',\n",
       " 'https://channeli.in/placement/company/2170/info/',\n",
       " 'https://channeli.in/placement/company/2171/info/',\n",
       " 'https://channeli.in/placement/company/2172/info/',\n",
       " 'https://channeli.in/placement/company/2173/info/',\n",
       " 'https://channeli.in/placement/company/2174/info/',\n",
       " 'https://channeli.in/placement/company/2175/info/',\n",
       " 'https://channeli.in/placement/company/2176/info/',\n",
       " 'https://channeli.in/placement/company/2177/info/',\n",
       " 'https://channeli.in/placement/company/2178/info/',\n",
       " 'https://channeli.in/placement/company/2179/info/',\n",
       " 'https://channeli.in/placement/company/2180/info/',\n",
       " 'https://channeli.in/placement/company/2181/info/',\n",
       " 'https://channeli.in/placement/company/2182/info/',\n",
       " 'https://channeli.in/placement/company/2183/info/',\n",
       " 'https://channeli.in/placement/company/2184/info/',\n",
       " 'https://channeli.in/placement/company/2185/info/',\n",
       " 'https://channeli.in/placement/company/2186/info/',\n",
       " 'https://channeli.in/placement/company/2187/info/',\n",
       " 'https://channeli.in/placement/company/2189/info/',\n",
       " 'https://channeli.in/placement/company/2190/info/',\n",
       " 'https://channeli.in/placement/company/2191/info/',\n",
       " 'https://channeli.in/placement/company/2192/info/',\n",
       " 'https://channeli.in/placement/company/2193/info/',\n",
       " 'https://channeli.in/placement/company/2194/info/',\n",
       " 'https://channeli.in/placement/company/2196/info/',\n",
       " 'https://channeli.in/placement/company/2197/info/',\n",
       " 'https://channeli.in/placement/company/2198/info/',\n",
       " 'https://channeli.in/placement/company/2199/info/',\n",
       " 'https://channeli.in/placement/company/2200/info/',\n",
       " 'https://channeli.in/placement/company/2201/info/',\n",
       " 'https://channeli.in/placement/company/2202/info/',\n",
       " 'https://channeli.in/placement/company/2203/info/',\n",
       " 'https://channeli.in/placement/company/2204/info/',\n",
       " 'https://channeli.in/placement/company/2205/info/',\n",
       " 'https://channeli.in/placement/company/2206/info/',\n",
       " 'https://channeli.in/placement/company/2207/info/',\n",
       " 'https://channeli.in/placement/company/2208/info/',\n",
       " 'https://channeli.in/placement/company/2209/info/',\n",
       " 'https://channeli.in/placement/company/2210/info/',\n",
       " 'https://channeli.in/placement/company/2211/info/',\n",
       " 'https://channeli.in/placement/company/2212/info/',\n",
       " 'https://channeli.in/placement/company/2213/info/',\n",
       " 'https://channeli.in/placement/company/2214/info/',\n",
       " 'https://channeli.in/placement/company/2215/info/',\n",
       " 'https://channeli.in/placement/company/2216/info/',\n",
       " 'https://channeli.in/placement/company/2217/info/',\n",
       " 'https://channeli.in/placement/company/2218/info/',\n",
       " 'https://channeli.in/placement/company/2219/info/',\n",
       " 'https://channeli.in/placement/company/2220/info/',\n",
       " 'https://channeli.in/placement/company/2221/info/',\n",
       " 'https://channeli.in/placement/company/2222/info/',\n",
       " 'https://channeli.in/placement/company/2223/info/',\n",
       " 'https://channeli.in/placement/company/2224/info/',\n",
       " 'https://channeli.in/placement/company/2225/info/',\n",
       " 'https://channeli.in/placement/company/2226/info/',\n",
       " 'https://channeli.in/placement/company/2227/info/',\n",
       " 'https://channeli.in/placement/company/2228/info/',\n",
       " 'https://channeli.in/placement/company/2229/info/',\n",
       " 'https://channeli.in/placement/company/2230/info/',\n",
       " 'https://channeli.in/placement/company/2231/info/',\n",
       " 'https://channeli.in/placement/company/2232/info/',\n",
       " 'https://channeli.in/placement/company/2233/info/',\n",
       " 'https://channeli.in/placement/company/2234/info/',\n",
       " 'https://channeli.in/placement/company/2235/info/',\n",
       " 'https://channeli.in/placement/company/2236/info/',\n",
       " 'https://channeli.in/placement/company/2237/info/',\n",
       " 'https://channeli.in/placement/company/2238/info/',\n",
       " 'https://channeli.in/placement/company/2239/info/',\n",
       " 'https://channeli.in/placement/company/2240/info/',\n",
       " 'https://channeli.in/placement/company/2241/info/',\n",
       " 'https://channeli.in/placement/company/2242/info/',\n",
       " 'https://channeli.in/placement/company/2243/info/',\n",
       " 'https://channeli.in/placement/company/2244/info/',\n",
       " 'https://channeli.in/placement/company/2245/info/',\n",
       " 'https://channeli.in/placement/company/2246/info/',\n",
       " 'https://channeli.in/placement/company/2247/info/',\n",
       " 'https://channeli.in/placement/company/2248/info/',\n",
       " 'https://channeli.in/placement/company/2249/info/',\n",
       " 'https://channeli.in/placement/company/2250/info/',\n",
       " 'https://channeli.in/placement/company/2252/info/',\n",
       " 'https://channeli.in/placement/company/2253/info/',\n",
       " 'https://channeli.in/placement/company/2254/info/',\n",
       " 'https://channeli.in/placement/company/2255/info/',\n",
       " 'https://channeli.in/placement/company/2256/info/',\n",
       " 'https://channeli.in/placement/company/2257/info/',\n",
       " 'https://channeli.in/placement/company/2258/info/',\n",
       " 'https://channeli.in/placement/company/2259/info/',\n",
       " 'https://channeli.in/placement/company/2261/info/',\n",
       " 'https://channeli.in/placement/company/2262/info/',\n",
       " 'https://channeli.in/placement/company/2263/info/',\n",
       " 'https://channeli.in/placement/company/2264/info/',\n",
       " 'https://channeli.in/placement/company/2265/info/',\n",
       " 'https://channeli.in/placement/company/2266/info/',\n",
       " 'https://channeli.in/placement/company/2267/info/',\n",
       " 'https://channeli.in/placement/company/2268/info/',\n",
       " 'https://channeli.in/placement/company/2269/info/',\n",
       " 'https://channeli.in/placement/company/2271/info/',\n",
       " 'https://channeli.in/placement/company/2272/info/',\n",
       " 'https://channeli.in/placement/company/2273/info/',\n",
       " 'https://channeli.in/placement/company/2274/info/',\n",
       " 'https://channeli.in/placement/company/2275/info/',\n",
       " 'https://channeli.in/placement/company/2276/info/',\n",
       " 'https://channeli.in/placement/company/2277/info/',\n",
       " 'https://channeli.in/placement/company/2278/info/',\n",
       " 'https://channeli.in/placement/company/2279/info/',\n",
       " 'https://channeli.in/placement/company/2280/info/',\n",
       " 'https://channeli.in/placement/company/2281/info/',\n",
       " 'https://channeli.in/placement/company/2282/info/',\n",
       " 'https://channeli.in/placement/company/2283/info/',\n",
       " 'https://channeli.in/placement/company/2284/info/',\n",
       " 'https://channeli.in/placement/company/2285/info/',\n",
       " 'https://channeli.in/placement/company/2286/info/',\n",
       " 'https://channeli.in/placement/company/2287/info/',\n",
       " 'https://channeli.in/placement/company/2288/info/',\n",
       " 'https://channeli.in/placement/company/2289/info/',\n",
       " 'https://channeli.in/placement/company/2290/info/',\n",
       " 'https://channeli.in/placement/company/2291/info/',\n",
       " 'https://channeli.in/placement/company/2292/info/',\n",
       " 'https://channeli.in/placement/company/2293/info/',\n",
       " 'https://channeli.in/placement/company/2294/info/',\n",
       " 'https://channeli.in/placement/company/2295/info/',\n",
       " 'https://channeli.in/placement/company/2296/info/',\n",
       " 'https://channeli.in/placement/company/2298/info/',\n",
       " 'https://channeli.in/placement/company/2299/info/',\n",
       " 'https://channeli.in/placement/company/2300/info/',\n",
       " 'https://channeli.in/placement/company/2301/info/',\n",
       " 'https://channeli.in/placement/company/2302/info/',\n",
       " 'https://channeli.in/placement/company/2303/info/',\n",
       " 'https://channeli.in/placement/company/2304/info/',\n",
       " 'https://channeli.in/placement/company/2305/info/',\n",
       " 'https://channeli.in/placement/company/2306/info/',\n",
       " 'https://channeli.in/placement/company/2307/info/',\n",
       " 'https://channeli.in/placement/company/2308/info/',\n",
       " 'https://channeli.in/placement/company/2309/info/',\n",
       " 'https://channeli.in/placement/company/2310/info/',\n",
       " 'https://channeli.in/placement/company/2311/info/',\n",
       " 'https://channeli.in/placement/company/2312/info/',\n",
       " 'https://channeli.in/placement/company/2313/info/',\n",
       " 'https://channeli.in/placement/company/2314/info/',\n",
       " 'https://channeli.in/placement/company/2315/info/',\n",
       " 'https://channeli.in/placement/company/2316/info/',\n",
       " 'https://channeli.in/placement/company/2317/info/',\n",
       " 'https://channeli.in/placement/company/2318/info/',\n",
       " 'https://channeli.in/placement/company/2319/info/',\n",
       " 'https://channeli.in/placement/company/2320/info/',\n",
       " 'https://channeli.in/placement/company/2321/info/',\n",
       " 'https://channeli.in/placement/company/2322/info/',\n",
       " 'https://channeli.in/placement/company/2323/info/',\n",
       " 'https://channeli.in/placement/company/2324/info/',\n",
       " 'https://channeli.in/placement/company/2325/info/',\n",
       " 'https://channeli.in/placement/company/2326/info/',\n",
       " 'https://channeli.in/placement/company/2327/info/',\n",
       " 'https://channeli.in/placement/company/2328/info/',\n",
       " 'https://channeli.in/placement/company/2329/info/',\n",
       " 'https://channeli.in/placement/company/2330/info/',\n",
       " 'https://channeli.in/placement/company/2331/info/',\n",
       " 'https://channeli.in/placement/company/2332/info/',\n",
       " 'https://channeli.in/placement/company/2333/info/',\n",
       " 'https://channeli.in/placement/company/2334/info/',\n",
       " 'https://channeli.in/placement/company/2335/info/',\n",
       " 'https://channeli.in/placement/company/2336/info/',\n",
       " 'https://channeli.in/placement/company/2337/info/',\n",
       " 'https://channeli.in/placement/company/2338/info/',\n",
       " 'https://channeli.in/placement/company/2339/info/',\n",
       " 'https://channeli.in/placement/company/2340/info/',\n",
       " 'https://channeli.in/placement/company/2341/info/',\n",
       " 'https://channeli.in/placement/company/2342/info/',\n",
       " 'https://channeli.in/placement/company/2343/info/',\n",
       " 'https://channeli.in/placement/company/2344/info/',\n",
       " 'https://channeli.in/placement/company/2345/info/',\n",
       " 'https://channeli.in/placement/company/2346/info/',\n",
       " 'https://channeli.in/placement/company/2347/info/',\n",
       " 'https://channeli.in/placement/company/2348/info/',\n",
       " 'https://channeli.in/placement/company/2349/info/',\n",
       " 'https://channeli.in/placement/company/2350/info/',\n",
       " 'https://channeli.in/placement/company/2351/info/',\n",
       " 'https://channeli.in/placement/company/2352/info/',\n",
       " 'https://channeli.in/placement/company/2355/info/',\n",
       " 'https://channeli.in/placement/company/2356/info/',\n",
       " 'https://channeli.in/placement/company/2357/info/',\n",
       " 'https://channeli.in/placement/company/2358/info/',\n",
       " 'https://channeli.in/placement/company/2359/info/',\n",
       " 'https://channeli.in/placement/company/2360/info/',\n",
       " 'https://channeli.in/placement/company/2361/info/',\n",
       " 'https://channeli.in/placement/company/2362/info/',\n",
       " 'https://channeli.in/placement/company/2363/info/',\n",
       " 'https://channeli.in/placement/company/2364/info/',\n",
       " 'https://channeli.in/placement/company/2365/info/',\n",
       " 'https://channeli.in/placement/company/2366/info/',\n",
       " 'https://channeli.in/placement/company/2367/info/',\n",
       " 'https://channeli.in/placement/company/2369/info/',\n",
       " 'https://channeli.in/placement/company/2370/info/',\n",
       " 'https://channeli.in/placement/company/2371/info/',\n",
       " 'https://channeli.in/placement/company/2372/info/',\n",
       " 'https://channeli.in/placement/company/2373/info/',\n",
       " 'https://channeli.in/placement/company/2374/info/',\n",
       " 'https://channeli.in/placement/company/2375/info/',\n",
       " 'https://channeli.in/placement/company/2376/info/',\n",
       " 'https://channeli.in/placement/company/2377/info/',\n",
       " 'https://channeli.in/placement/company/2378/info/',\n",
       " 'https://channeli.in/placement/company/2379/info/',\n",
       " 'https://channeli.in/placement/company/2380/info/',\n",
       " 'https://channeli.in/placement/company/2381/info/',\n",
       " 'https://channeli.in/placement/company/2382/info/',\n",
       " 'https://channeli.in/placement/company/2383/info/',\n",
       " 'https://channeli.in/placement/company/2384/info/',\n",
       " 'https://channeli.in/placement/company/2385/info/',\n",
       " 'https://channeli.in/placement/company/2386/info/',\n",
       " 'https://channeli.in/placement/company/2387/info/',\n",
       " 'https://channeli.in/placement/company/2388/info/',\n",
       " 'https://channeli.in/placement/company/2389/info/',\n",
       " 'https://channeli.in/placement/company/2390/info/',\n",
       " 'https://channeli.in/placement/company/2391/info/',\n",
       " 'https://channeli.in/placement/company/2392/info/',\n",
       " 'https://channeli.in/placement/company/2393/info/',\n",
       " 'https://channeli.in/placement/company/2394/info/',\n",
       " 'https://channeli.in/placement/company/2395/info/',\n",
       " 'https://channeli.in/placement/company/2396/info/',\n",
       " 'https://channeli.in/placement/company/2397/info/',\n",
       " 'https://channeli.in/placement/company/2398/info/',\n",
       " 'https://channeli.in/placement/company/2399/info/',\n",
       " 'https://channeli.in/placement/company/2400/info/',\n",
       " 'https://channeli.in/placement/company/2401/info/',\n",
       " 'https://channeli.in/placement/company/2402/info/',\n",
       " 'https://channeli.in/placement/company/2403/info/',\n",
       " 'https://channeli.in/placement/company/2404/info/',\n",
       " 'https://channeli.in/placement/company/2405/info/',\n",
       " 'https://channeli.in/placement/company/2406/info/',\n",
       " 'https://channeli.in/placement/company/2407/info/',\n",
       " 'https://channeli.in/placement/company/2408/info/',\n",
       " 'https://channeli.in/placement/company/2409/info/']"
      ]
     },
     "execution_count": 350,
     "metadata": {},
     "output_type": "execute_result"
    }
   ],
   "source": [
    "urls"
   ]
  },
  {
   "cell_type": "code",
   "execution_count": 411,
   "metadata": {
    "collapsed": false
   },
   "outputs": [],
   "source": [
    "posting = []\n",
    "CTCug = []\n",
    "CTCpg = []\n",
    "CTCrem = []\n",
    "cgpa = []\n",
    "descr = []\n",
    "ctcphd = []\n",
    "post = []\n",
    "despo = []\n",
    "webs = []\n",
    "sector = []\n",
    "catreq = []\n",
    "\n",
    "for i in urls:\n",
    "    driver.get(i)\n",
    "    posting.append(driver.find_element_by_xpath('//*[@id=\"content_middle\"]/table/tbody/tr[3]/td[2]').text)\n",
    "    CTCug.append(driver.find_element_by_xpath('//*[@id=\"content_middle\"]/table/tbody/tr[6]/td[2]').text)\n",
    "    CTCpg.append(driver.find_element_by_xpath('//*[@id=\"content_middle\"]/table/tbody/tr[7]/td[2]').text)\n",
    "    CTCrem.append(driver.find_element_by_xpath('//*[@id=\"content_middle\"]/table/tbody/tr[9]/td[2]').text)\n",
    "    cgpa.append(driver.find_element_by_xpath('//*[@id=\"content_middle\"]/table/tbody/tr[10]/td[2]').text)\n",
    "    descr.append(driver.find_element_by_xpath('//*[@id=\"content_middle\"]/table/tbody/tr[11]/td[2]').text)\n",
    "    ctcphd.append(driver.find_element_by_xpath('//*[@id=\"content_middle\"]/table/tbody/tr[8]/td[2]').text)\n",
    "    post.append(driver.find_element_by_xpath('//*[@id=\"content_middle\"]/table/tbody/tr[23]/td[2]').text)\n",
    "    despo.append(driver.find_element_by_xpath('//*[@id=\"content_middle\"]/table/tbody/tr[24]/td[2]').text)\n",
    "    webs.append(driver.find_element_by_xpath('//*[@id=\"content_middle\"]/table/tbody/tr[27]/td[2]').text)\n",
    "    sector.append(driver.find_element_by_xpath('//*[@id=\"content_middle\"]/table/tbody/tr[29]/td[2]').text)\n",
    "    catreq.append(driver.find_element_by_xpath('//*[@id=\"content_middle\"]/table/tbody/tr[30]/td[2]').text)\n",
    "    \n",
    "    \n",
    "    \n",
    "    "
   ]
  },
  {
   "cell_type": "code",
   "execution_count": 412,
   "metadata": {
    "collapsed": true
   },
   "outputs": [],
   "source": [
    "import pandas as pd"
   ]
  },
  {
   "cell_type": "code",
   "execution_count": 413,
   "metadata": {
    "collapsed": true
   },
   "outputs": [],
   "source": [
    "df1=pd.DataFrame(company)\n",
    "df2=pd.DataFrame(category)\n",
    "df3=pd.DataFrame(posting)\n",
    "df4=pd.DataFrame(CTCug)\n",
    "df5=pd.DataFrame(CTCpg)\n",
    "df5=pd.DataFrame(CTCrem)\n",
    "df6=pd.DataFrame(cgpa)\n",
    "df7=pd.DataFrame(descr)\n",
    "df8=pd.DataFrame(ctcphd)\n",
    "df9=pd.DataFrame(post)\n",
    "df10=pd.DataFrame(despo)\n",
    "df11=pd.DataFrame(webs)\n",
    "df12=pd.DataFrame(sector)\n",
    "df13=pd.DataFrame(catreq)\n",
    "\n",
    "\n",
    "\n"
   ]
  },
  {
   "cell_type": "code",
   "execution_count": 414,
   "metadata": {
    "collapsed": false
   },
   "outputs": [],
   "source": [
    "pdata = pd.concat([df1,df2,df3,df4,df5,df6,df7,df8,df9,df10,df11,df12,df13],axis=1)                                                                                                                        "
   ]
  }
 ],
 "metadata": {
  "anaconda-cloud": {},
  "kernelspec": {
   "display_name": "Python [Root]",
   "language": "python",
   "name": "Python [Root]"
  },
  "language_info": {
   "codemirror_mode": {
    "name": "ipython",
    "version": 3
   },
   "file_extension": ".py",
   "mimetype": "text/x-python",
   "name": "python",
   "nbconvert_exporter": "python",
   "pygments_lexer": "ipython3",
   "version": "3.5.2"
  }
 },
 "nbformat": 4,
 "nbformat_minor": 0
}
