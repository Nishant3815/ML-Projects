{
 "cells": [
  {
   "cell_type": "code",
   "execution_count": 36,
   "metadata": {
    "collapsed": true
   },
   "outputs": [],
   "source": [
    "from selenium import webdriver \n",
    "driver = webdriver.Chrome(\"C:\\\\Users\\\\NISHANT\\\\Desktop\\\\chromedriver_win32\\\\chromedriver.exe\")\n",
    "driver.get(\"https://channeli.in/placement/results/2016/department/\")\n",
    "driver.find_element_by_name(\"username\").send_keys(\"Enrollment number here\")\n",
    "driver.find_element_by_name(\"password\").send_keys(\"Password here\")\n",
    "driver.find_element_by_id(\"sign_in_button\").click()"
   ]
  },
  {
   "cell_type": "code",
   "execution_count": 37,
   "metadata": {
    "collapsed": true
   },
   "outputs": [],
   "source": [
    "branch =[]\n",
    "total  =[]\n",
    "placed =[]\n",
    "link1 = []\n",
    "link2 = []\n",
    "link3 = []"
   ]
  },
  {
   "cell_type": "code",
   "execution_count": 38,
   "metadata": {
    "collapsed": false
   },
   "outputs": [],
   "source": [
    "rows = driver.find_element_by_tag_name('tbody').find_elements_by_tag_name('tr')\n",
    "for row in rows:\n",
    "    k = row.find_elements_by_tag_name('td')\n",
    "    branch.append(k[1].text)\n",
    "    link1.append(k[2].find_element_by_tag_name('a').get_attribute('href'))\n",
    "    link2.append(k[3].find_element_by_tag_name('a').get_attribute('href'))\n",
    "    link3.append(k[3].find_element_by_tag_name('a').get_attribute('href'))\n",
    "\n",
    "\n"
   ]
  },
  {
   "cell_type": "code",
   "execution_count": 39,
   "metadata": {
    "collapsed": false
   },
   "outputs": [],
   "source": [
    "reg = []\n",
    "for i in link1:\n",
    "    driver.get(i)\n",
    "    rows2 = driver.find_element_by_tag_name('tbody').find_elements_by_tag_name('tr')\n",
    "    for ro in rows2:\n",
    "        m = ro.find_elements_by_tag_name('td')\n",
    "        total.append(m[0].text)\n",
    "        reg.append(m[1].text)\n",
    "        placed.append(m[2].text)"
   ]
  },
  {
   "cell_type": "code",
   "execution_count": 40,
   "metadata": {
    "collapsed": true
   },
   "outputs": [],
   "source": [
    "import pandas as pd \n",
    "from pandas import DataFrame"
   ]
  },
  {
   "cell_type": "code",
   "execution_count": 41,
   "metadata": {
    "collapsed": false
   },
   "outputs": [
    {
     "data": {
      "text/plain": [
       "['Alternate Hydro Energy Centre',\n",
       " 'Applied Science and Engineering Department',\n",
       " 'Centre for Nanotechnology',\n",
       " 'Architecture and Planning Department',\n",
       " 'Biotechnology Department',\n",
       " 'Chemical Engineering Department',\n",
       " 'Centre of Excellence in Disaster Mitigation and Management',\n",
       " 'Chemistry Department',\n",
       " 'Civil Engineering Department',\n",
       " 'Computer Science and Engineering Department',\n",
       " 'Centre for Transportation Systems',\n",
       " 'Earthquake Department',\n",
       " 'Earth Sciences Department',\n",
       " 'Electrical Engineering Department',\n",
       " 'Electronics and Communication Engineering Department',\n",
       " 'Humanities and Social Sciences Department',\n",
       " 'Hydrology Department',\n",
       " 'Management Studies Department',\n",
       " 'Mathematics Department',\n",
       " 'Mechanical and Industrial Engineering Department',\n",
       " 'Metallurgical and Materials Engineering Department',\n",
       " 'Paper Technology Department',\n",
       " 'Polymer and Process Engineering Department',\n",
       " 'Physics Department',\n",
       " 'Water Resources Development and Management Department',\n",
       " 'Centre for Disaster Mitigation',\n",
       " 'Institute Computer Centre',\n",
       " 'Institute Instrumentation Centre',\n",
       " 'Quality Improvement Programme']"
      ]
     },
     "execution_count": 41,
     "metadata": {},
     "output_type": "execute_result"
    }
   ],
   "source": [
    "branch"
   ]
  },
  {
   "cell_type": "code",
   "execution_count": 42,
   "metadata": {
    "collapsed": false
   },
   "outputs": [],
   "source": [
    "df = pd.DataFrame({'Branch':branch,'Total Students':total,'Registered_Students':reg,'Placed':placed})"
   ]
  },
  {
   "cell_type": "code",
   "execution_count": 33,
   "metadata": {
    "collapsed": true
   },
   "outputs": [],
   "source": [
    "#df.to_csv(\"depsel.csv\",index=False)"
   ]
  },
  {
   "cell_type": "code",
   "execution_count": 46,
   "metadata": {
    "collapsed": false
   },
   "outputs": [],
   "source": [
    "branch2 =[]\n",
    "total2  =[]\n",
    "placed2 =[]\n",
    "reg2 = []\n",
    "for i in link2:\n",
    "    driver.get(i)\n",
    "    rows3 = driver.find_element_by_tag_name('tbody').find_elements_by_tag_name('tr')\n",
    "    for ro in rows3:\n",
    "        m = ro.find_elements_by_tag_name('td')\n",
    "        total2.append(m[0].text)\n",
    "        reg2.append(m[1].text)\n",
    "        placed2.append(m[2].text)"
   ]
  },
  {
   "cell_type": "code",
   "execution_count": 48,
   "metadata": {
    "collapsed": false
   },
   "outputs": [],
   "source": [
    "df2 = pd.DataFrame({'Branch':branch,'Total Students_UG':total2,'Registered_Students_UG':reg2,'Placed_UG':placed2})"
   ]
  },
  {
   "cell_type": "code",
   "execution_count": 50,
   "metadata": {
    "collapsed": true
   },
   "outputs": [],
   "source": [
    "df.to_csv(\"ugplusidd.csv\",index=False)"
   ]
  }
 ],
 "metadata": {
  "anaconda-cloud": {},
  "kernelspec": {
   "display_name": "Python [Root]",
   "language": "python",
   "name": "Python [Root]"
  },
  "language_info": {
   "codemirror_mode": {
    "name": "ipython",
    "version": 3
   },
   "file_extension": ".py",
   "mimetype": "text/x-python",
   "name": "python",
   "nbconvert_exporter": "python",
   "pygments_lexer": "ipython3",
   "version": "3.5.2"
  }
 },
 "nbformat": 4,
 "nbformat_minor": 0
}
