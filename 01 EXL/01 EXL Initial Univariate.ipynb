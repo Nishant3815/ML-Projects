{
 "cells": [
  {
   "cell_type": "code",
   "execution_count": 1,
   "metadata": {
    "collapsed": true
   },
   "outputs": [],
   "source": [
    "#Initial imports \n",
    "import numpy as np\n",
    "import pandas as pd \n",
    "from pandas import DataFrame, Series\n",
    "import matplotlib.pyplot as plt\n",
    "import seaborn as sns\n",
    "from scipy import stats\n",
    "%matplotlib inline\n",
    "from IPython.core.interactiveshell import InteractiveShell #Show all consecutive outputs\n",
    "InteractiveShell.ast_node_interactivity = \"all\""
   ]
  },
  {
   "cell_type": "code",
   "execution_count": 2,
   "metadata": {
    "collapsed": true
   },
   "outputs": [],
   "source": [
    "#Removes all unnecessary warnings by Python\n",
    "import warnings\n",
    "warnings.filterwarnings('ignore')"
   ]
  },
  {
   "cell_type": "code",
   "execution_count": 3,
   "metadata": {
    "collapsed": true
   },
   "outputs": [],
   "source": [
    "# Imports for better visualization\n",
    "\n",
    "from collections import defaultdict\n",
    "import scipy as sp\n",
    "from matplotlib import rcParams\n",
    "import matplotlib.cm as cm\n",
    "import matplotlib as mpl\n",
    "\n",
    "#colorbrewer2 Dark2 qualitative color table\n",
    "dark2_colors = [(0.10588235294117647, 0.6196078431372549, 0.4666666666666667),\n",
    "                (0.8509803921568627, 0.37254901960784315, 0.00784313725490196),\n",
    "                (0.4588235294117647, 0.4392156862745098, 0.7019607843137254),\n",
    "                (0.9058823529411765, 0.1607843137254902, 0.5411764705882353),\n",
    "                (0.4, 0.6509803921568628, 0.11764705882352941),\n",
    "                (0.9019607843137255, 0.6705882352941176, 0.00784313725490196),\n",
    "                (0.6509803921568628, 0.4627450980392157, 0.11372549019607843)]\n",
    "\n",
    "rcParams['figure.figsize'] = (14, 6)\n",
    "rcParams['figure.dpi'] = 250\n",
    "rcParams['axes.color_cycle'] = dark2_colors\n",
    "rcParams['lines.linewidth'] = 3\n",
    "rcParams['axes.facecolor'] = 'white'\n",
    "rcParams['font.size'] = 25\n",
    "rcParams['patch.edgecolor'] = 'white'\n",
    "rcParams['patch.facecolor'] = dark2_colors[0]\n",
    "rcParams['font.family'] = 'StixGeneral'"
   ]
  },
  {
   "cell_type": "code",
   "execution_count": 4,
   "metadata": {
    "collapsed": true
   },
   "outputs": [],
   "source": [
    "#Show all the columns \n",
    "pd.set_option('display.max_columns',None)"
   ]
  },
  {
   "cell_type": "code",
   "execution_count": 5,
   "metadata": {
    "collapsed": true
   },
   "outputs": [],
   "source": [
    "#Reading in all the data from different datasets \n",
    "demog = pd.read_excel('exl_data.xlsx',sheetname='Demographic Data')\n",
    "fpayda = pd.read_excel('exl_data.xlsx',sheetname='Payments Data')\n",
    "defda = pd.read_excel('exl_data.xlsx',sheetname='Defaults data')\n",
    "usepa = pd.read_excel('exl_data.xlsx',sheetname='Use Pattern')\n",
    "datdi = pd.read_excel('exl_data.xlsx',sheetname='Data Dictionary')\n",
    "appen = pd.read_excel('exl_data.xlsx',sheetname='Appendix')\n",
    "\n",
    "\n",
    "\n",
    "\n"
   ]
  },
  {
   "cell_type": "code",
   "execution_count": 6,
   "metadata": {
    "collapsed": false
   },
   "outputs": [
    {
     "data": {
      "text/plain": [
       "(14952, 15)"
      ]
     },
     "execution_count": 6,
     "metadata": {},
     "output_type": "execute_result"
    },
    {
     "data": {
      "text/plain": [
       "(12674, 3)"
      ]
     },
     "execution_count": 6,
     "metadata": {},
     "output_type": "execute_result"
    },
    {
     "data": {
      "text/plain": [
       "(40444, 4)"
      ]
     },
     "execution_count": 6,
     "metadata": {},
     "output_type": "execute_result"
    },
    {
     "data": {
      "text/plain": [
       "(2471, 3)"
      ]
     },
     "execution_count": 6,
     "metadata": {},
     "output_type": "execute_result"
    },
    {
     "data": {
      "text/plain": [
       "(41730, 5)"
      ]
     },
     "execution_count": 6,
     "metadata": {},
     "output_type": "execute_result"
    },
    {
     "data": {
      "text/plain": [
       "(29, 4)"
      ]
     },
     "execution_count": 6,
     "metadata": {},
     "output_type": "execute_result"
    },
    {
     "data": {
      "text/plain": [
       "(45, 3)"
      ]
     },
     "execution_count": 6,
     "metadata": {},
     "output_type": "execute_result"
    }
   ],
   "source": [
    "#Seeing in all the data shapes\n",
    "demog.shape\n",
    "cacen.shape\n",
    "payda.shape\n",
    "defda.shape\n",
    "usepa.shape\n",
    "datdi.shape\n",
    "appen.shape"
   ]
  },
  {
   "cell_type": "code",
   "execution_count": 7,
   "metadata": {
    "collapsed": false
   },
   "outputs": [
    {
     "data": {
      "text/html": [
       "<div>\n",
       "<table border=\"1\" class=\"dataframe\">\n",
       "  <thead>\n",
       "    <tr style=\"text-align: right;\">\n",
       "      <th></th>\n",
       "      <th>Account Number</th>\n",
       "      <th>Commence Date</th>\n",
       "      <th>Address</th>\n",
       "      <th>Scheme</th>\n",
       "      <th>Staus</th>\n",
       "      <th>Gender</th>\n",
       "      <th>Zone</th>\n",
       "      <th>Equipsale</th>\n",
       "      <th>Age</th>\n",
       "      <th>Equipment Warranty</th>\n",
       "      <th>Salary Slab</th>\n",
       "      <th>Professional Info</th>\n",
       "      <th>Age of Home</th>\n",
       "      <th>Equipment Warranty Expiry Date</th>\n",
       "      <th>Churn Date</th>\n",
       "    </tr>\n",
       "  </thead>\n",
       "  <tbody>\n",
       "    <tr>\n",
       "      <th>0</th>\n",
       "      <td>M1</td>\n",
       "      <td>2011-11-04</td>\n",
       "      <td>VALID</td>\n",
       "      <td>KLA</td>\n",
       "      <td>Open</td>\n",
       "      <td>Female</td>\n",
       "      <td>Northern</td>\n",
       "      <td>RENTED</td>\n",
       "      <td>70.0</td>\n",
       "      <td>Three Full Years</td>\n",
       "      <td>5.0</td>\n",
       "      <td>0.0</td>\n",
       "      <td>17.0</td>\n",
       "      <td>2015-04-03</td>\n",
       "      <td>NaN</td>\n",
       "    </tr>\n",
       "    <tr>\n",
       "      <th>1</th>\n",
       "      <td>M2</td>\n",
       "      <td>2011-11-28</td>\n",
       "      <td>VALID</td>\n",
       "      <td>PPL</td>\n",
       "      <td>Open</td>\n",
       "      <td>Female</td>\n",
       "      <td>Western</td>\n",
       "      <td>RENTED</td>\n",
       "      <td>55.0</td>\n",
       "      <td>Three Full Years</td>\n",
       "      <td>7.0</td>\n",
       "      <td>0.0</td>\n",
       "      <td>22.0</td>\n",
       "      <td>2015-04-03</td>\n",
       "      <td>NaN</td>\n",
       "    </tr>\n",
       "    <tr>\n",
       "      <th>2</th>\n",
       "      <td>M3</td>\n",
       "      <td>2011-12-06</td>\n",
       "      <td>VALID</td>\n",
       "      <td>KLA</td>\n",
       "      <td>Open</td>\n",
       "      <td>Male</td>\n",
       "      <td>Eastern</td>\n",
       "      <td>RENTED</td>\n",
       "      <td>64.0</td>\n",
       "      <td>Three Full Years</td>\n",
       "      <td>1.0</td>\n",
       "      <td>5.0</td>\n",
       "      <td>17.0</td>\n",
       "      <td>2016-04-03</td>\n",
       "      <td>NaN</td>\n",
       "    </tr>\n",
       "    <tr>\n",
       "      <th>3</th>\n",
       "      <td>M4</td>\n",
       "      <td>2011-10-28</td>\n",
       "      <td>VALID</td>\n",
       "      <td>MXX</td>\n",
       "      <td>Open</td>\n",
       "      <td>Female</td>\n",
       "      <td>Northern</td>\n",
       "      <td>RENTED</td>\n",
       "      <td>66.0</td>\n",
       "      <td>Three Full Years</td>\n",
       "      <td>6.0</td>\n",
       "      <td>14.0</td>\n",
       "      <td>22.0</td>\n",
       "      <td>2015-04-03</td>\n",
       "      <td>NaN</td>\n",
       "    </tr>\n",
       "    <tr>\n",
       "      <th>4</th>\n",
       "      <td>M5</td>\n",
       "      <td>2015-01-18</td>\n",
       "      <td>VALID</td>\n",
       "      <td>PRP</td>\n",
       "      <td>Open</td>\n",
       "      <td>NaN</td>\n",
       "      <td>Western</td>\n",
       "      <td>RENTED</td>\n",
       "      <td>NaN</td>\n",
       "      <td>Full Year</td>\n",
       "      <td>NaN</td>\n",
       "      <td>NaN</td>\n",
       "      <td>NaN</td>\n",
       "      <td>2016-01-03</td>\n",
       "      <td>NaN</td>\n",
       "    </tr>\n",
       "  </tbody>\n",
       "</table>\n",
       "</div>"
      ],
      "text/plain": [
       "  Account Number Commence Date Address Scheme Staus  Gender      Zone  \\\n",
       "0             M1    2011-11-04   VALID    KLA  Open  Female  Northern   \n",
       "1             M2    2011-11-28   VALID    PPL  Open  Female   Western   \n",
       "2             M3    2011-12-06   VALID    KLA  Open    Male   Eastern   \n",
       "3             M4    2011-10-28   VALID    MXX  Open  Female  Northern   \n",
       "4             M5    2015-01-18   VALID    PRP  Open     NaN   Western   \n",
       "\n",
       "  Equipsale   Age Equipment Warranty  Salary Slab  Professional Info  \\\n",
       "0    RENTED  70.0   Three Full Years          5.0                0.0   \n",
       "1    RENTED  55.0   Three Full Years          7.0                0.0   \n",
       "2    RENTED  64.0   Three Full Years          1.0                5.0   \n",
       "3    RENTED  66.0   Three Full Years          6.0               14.0   \n",
       "4    RENTED   NaN          Full Year          NaN                NaN   \n",
       "\n",
       "   Age of Home Equipment Warranty Expiry Date Churn Date  \n",
       "0         17.0                     2015-04-03        NaN  \n",
       "1         22.0                     2015-04-03        NaN  \n",
       "2         17.0                     2016-04-03        NaN  \n",
       "3         22.0                     2015-04-03        NaN  \n",
       "4          NaN                     2016-01-03        NaN  "
      ]
     },
     "execution_count": 7,
     "metadata": {},
     "output_type": "execute_result"
    },
    {
     "data": {
      "text/html": [
       "<div>\n",
       "<table border=\"1\" class=\"dataframe\">\n",
       "  <thead>\n",
       "    <tr style=\"text-align: right;\">\n",
       "      <th></th>\n",
       "      <th>Account Number</th>\n",
       "      <th>Query Date</th>\n",
       "      <th>Full Statement of the Enquiry</th>\n",
       "    </tr>\n",
       "  </thead>\n",
       "  <tbody>\n",
       "    <tr>\n",
       "      <th>0</th>\n",
       "      <td>M2</td>\n",
       "      <td>2015-03-12</td>\n",
       "      <td>FDAEDBG!-Initial LevelPayment Settlement-Accou...</td>\n",
       "    </tr>\n",
       "    <tr>\n",
       "      <th>1</th>\n",
       "      <td>M2</td>\n",
       "      <td>2015-03-15</td>\n",
       "      <td>FDA!CEGD-Initial LevelTech-Operational Capabil...</td>\n",
       "    </tr>\n",
       "    <tr>\n",
       "      <th>2</th>\n",
       "      <td>M2</td>\n",
       "      <td>2015-03-25</td>\n",
       "      <td>FDCE#GHA-Initial LevelTech-Operational Capabil...</td>\n",
       "    </tr>\n",
       "    <tr>\n",
       "      <th>3</th>\n",
       "      <td>M2</td>\n",
       "      <td>2015-03-28</td>\n",
       "      <td>FDC#FAAD-Initial LevelPayment Settlement-Opera...</td>\n",
       "    </tr>\n",
       "    <tr>\n",
       "      <th>4</th>\n",
       "      <td>M2</td>\n",
       "      <td>2015-03-29</td>\n",
       "      <td>FDC!HGF#-Initial LevelPayment Settlement-Accou...</td>\n",
       "    </tr>\n",
       "  </tbody>\n",
       "</table>\n",
       "</div>"
      ],
      "text/plain": [
       "  Account Number Query Date                      Full Statement of the Enquiry\n",
       "0             M2 2015-03-12  FDAEDBG!-Initial LevelPayment Settlement-Accou...\n",
       "1             M2 2015-03-15  FDA!CEGD-Initial LevelTech-Operational Capabil...\n",
       "2             M2 2015-03-25  FDCE#GHA-Initial LevelTech-Operational Capabil...\n",
       "3             M2 2015-03-28  FDC#FAAD-Initial LevelPayment Settlement-Opera...\n",
       "4             M2 2015-03-29  FDC!HGF#-Initial LevelPayment Settlement-Accou..."
      ]
     },
     "execution_count": 7,
     "metadata": {},
     "output_type": "execute_result"
    },
    {
     "data": {
      "text/html": [
       "<div>\n",
       "<table border=\"1\" class=\"dataframe\">\n",
       "  <thead>\n",
       "    <tr style=\"text-align: right;\">\n",
       "      <th></th>\n",
       "      <th>Account Number</th>\n",
       "      <th>Realization Date</th>\n",
       "      <th>Sum</th>\n",
       "      <th>Mode</th>\n",
       "    </tr>\n",
       "  </thead>\n",
       "  <tbody>\n",
       "    <tr>\n",
       "      <th>0</th>\n",
       "      <td>M1</td>\n",
       "      <td>2015-03-01</td>\n",
       "      <td>1209.810</td>\n",
       "      <td>Card II TYPE</td>\n",
       "    </tr>\n",
       "    <tr>\n",
       "      <th>1</th>\n",
       "      <td>M1</td>\n",
       "      <td>2015-02-01</td>\n",
       "      <td>1209.810</td>\n",
       "      <td>Card II TYPE</td>\n",
       "    </tr>\n",
       "    <tr>\n",
       "      <th>2</th>\n",
       "      <td>M1</td>\n",
       "      <td>2015-01-01</td>\n",
       "      <td>1209.810</td>\n",
       "      <td>Card II TYPE</td>\n",
       "    </tr>\n",
       "    <tr>\n",
       "      <th>3</th>\n",
       "      <td>M2</td>\n",
       "      <td>2015-03-01</td>\n",
       "      <td>751.695</td>\n",
       "      <td>Card II TYPE</td>\n",
       "    </tr>\n",
       "    <tr>\n",
       "      <th>4</th>\n",
       "      <td>M2</td>\n",
       "      <td>2015-02-01</td>\n",
       "      <td>751.695</td>\n",
       "      <td>Card II TYPE</td>\n",
       "    </tr>\n",
       "  </tbody>\n",
       "</table>\n",
       "</div>"
      ],
      "text/plain": [
       "  Account Number Realization Date       Sum          Mode \n",
       "0             M1       2015-03-01  1209.810   Card II TYPE\n",
       "1             M1       2015-02-01  1209.810   Card II TYPE\n",
       "2             M1       2015-01-01  1209.810   Card II TYPE\n",
       "3             M2       2015-03-01   751.695   Card II TYPE\n",
       "4             M2       2015-02-01   751.695   Card II TYPE"
      ]
     },
     "execution_count": 7,
     "metadata": {},
     "output_type": "execute_result"
    },
    {
     "data": {
      "text/html": [
       "<div>\n",
       "<table border=\"1\" class=\"dataframe\">\n",
       "  <thead>\n",
       "    <tr style=\"text-align: right;\">\n",
       "      <th></th>\n",
       "      <th>Account Number</th>\n",
       "      <th>date of default</th>\n",
       "      <th>Default sum</th>\n",
       "    </tr>\n",
       "  </thead>\n",
       "  <tbody>\n",
       "    <tr>\n",
       "      <th>0</th>\n",
       "      <td>M100</td>\n",
       "      <td>2015-02-25</td>\n",
       "      <td>1037.2</td>\n",
       "    </tr>\n",
       "    <tr>\n",
       "      <th>1</th>\n",
       "      <td>M104</td>\n",
       "      <td>2015-03-13</td>\n",
       "      <td>611.8</td>\n",
       "    </tr>\n",
       "    <tr>\n",
       "      <th>2</th>\n",
       "      <td>M114</td>\n",
       "      <td>2015-03-07</td>\n",
       "      <td>2193.5</td>\n",
       "    </tr>\n",
       "    <tr>\n",
       "      <th>3</th>\n",
       "      <td>M125</td>\n",
       "      <td>2015-03-02</td>\n",
       "      <td>507.8</td>\n",
       "    </tr>\n",
       "    <tr>\n",
       "      <th>4</th>\n",
       "      <td>M132</td>\n",
       "      <td>2015-02-27</td>\n",
       "      <td>1405.5</td>\n",
       "    </tr>\n",
       "  </tbody>\n",
       "</table>\n",
       "</div>"
      ],
      "text/plain": [
       "  Account Number date of default  Default sum\n",
       "0           M100      2015-02-25       1037.2\n",
       "1           M104      2015-03-13        611.8\n",
       "2           M114      2015-03-07       2193.5\n",
       "3           M125      2015-03-02        507.8\n",
       "4           M132      2015-02-27       1405.5"
      ]
     },
     "execution_count": 7,
     "metadata": {},
     "output_type": "execute_result"
    },
    {
     "data": {
      "text/html": [
       "<div>\n",
       "<table border=\"1\" class=\"dataframe\">\n",
       "  <thead>\n",
       "    <tr style=\"text-align: right;\">\n",
       "      <th></th>\n",
       "      <th>Account Number</th>\n",
       "      <th>Used pattern in hours</th>\n",
       "      <th>Usage Post Limit Utilization in hrs</th>\n",
       "      <th>data used Gb</th>\n",
       "      <th>YYYYMM</th>\n",
       "    </tr>\n",
       "  </thead>\n",
       "  <tbody>\n",
       "    <tr>\n",
       "      <th>0</th>\n",
       "      <td>M1</td>\n",
       "      <td>717.90</td>\n",
       "      <td>0</td>\n",
       "      <td>43.80</td>\n",
       "      <td>201501</td>\n",
       "    </tr>\n",
       "    <tr>\n",
       "      <th>1</th>\n",
       "      <td>M1</td>\n",
       "      <td>662.42</td>\n",
       "      <td>0</td>\n",
       "      <td>110.35</td>\n",
       "      <td>201502</td>\n",
       "    </tr>\n",
       "    <tr>\n",
       "      <th>2</th>\n",
       "      <td>M1</td>\n",
       "      <td>634.68</td>\n",
       "      <td>0</td>\n",
       "      <td>109.10</td>\n",
       "      <td>201503</td>\n",
       "    </tr>\n",
       "    <tr>\n",
       "      <th>3</th>\n",
       "      <td>M2</td>\n",
       "      <td>696.12</td>\n",
       "      <td>5</td>\n",
       "      <td>98.40</td>\n",
       "      <td>201501</td>\n",
       "    </tr>\n",
       "    <tr>\n",
       "      <th>4</th>\n",
       "      <td>M2</td>\n",
       "      <td>652.40</td>\n",
       "      <td>0</td>\n",
       "      <td>70.90</td>\n",
       "      <td>201502</td>\n",
       "    </tr>\n",
       "  </tbody>\n",
       "</table>\n",
       "</div>"
      ],
      "text/plain": [
       "  Account Number   Used pattern in hours  Usage Post Limit Utilization in hrs  \\\n",
       "0              M1                 717.90                                    0   \n",
       "1              M1                 662.42                                    0   \n",
       "2              M1                 634.68                                    0   \n",
       "3              M2                 696.12                                    5   \n",
       "4              M2                 652.40                                    0   \n",
       "\n",
       "   data used Gb  YYYYMM  \n",
       "0         43.80  201501  \n",
       "1        110.35  201502  \n",
       "2        109.10  201503  \n",
       "3         98.40  201501  \n",
       "4         70.90  201502  "
      ]
     },
     "execution_count": 7,
     "metadata": {},
     "output_type": "execute_result"
    },
    {
     "data": {
      "text/html": [
       "<div>\n",
       "<table border=\"1\" class=\"dataframe\">\n",
       "  <thead>\n",
       "    <tr style=\"text-align: right;\">\n",
       "      <th></th>\n",
       "      <th>File</th>\n",
       "      <th>Variable</th>\n",
       "      <th>Variable Definition</th>\n",
       "      <th>Type</th>\n",
       "    </tr>\n",
       "  </thead>\n",
       "  <tbody>\n",
       "    <tr>\n",
       "      <th>0</th>\n",
       "      <td>Demography data</td>\n",
       "      <td>Account Number</td>\n",
       "      <td>Unique key</td>\n",
       "      <td>Char</td>\n",
       "    </tr>\n",
       "    <tr>\n",
       "      <th>1</th>\n",
       "      <td>NaN</td>\n",
       "      <td>Status</td>\n",
       "      <td>Closed, Open</td>\n",
       "      <td>Char</td>\n",
       "    </tr>\n",
       "    <tr>\n",
       "      <th>2</th>\n",
       "      <td>NaN</td>\n",
       "      <td>Commence Date</td>\n",
       "      <td>Date when Connection was installed</td>\n",
       "      <td>Char</td>\n",
       "    </tr>\n",
       "    <tr>\n",
       "      <th>3</th>\n",
       "      <td>NaN</td>\n",
       "      <td>Scheme</td>\n",
       "      <td>Service plan that the customer currently uses</td>\n",
       "      <td>Char</td>\n",
       "    </tr>\n",
       "    <tr>\n",
       "      <th>4</th>\n",
       "      <td>NaN</td>\n",
       "      <td>Address</td>\n",
       "      <td>Valid/Invalid</td>\n",
       "      <td>Char</td>\n",
       "    </tr>\n",
       "  </tbody>\n",
       "</table>\n",
       "</div>"
      ],
      "text/plain": [
       "              File        Variable   \\\n",
       "0  Demography data  Account Number    \n",
       "1              NaN           Status   \n",
       "2              NaN    Commence Date   \n",
       "3              NaN           Scheme   \n",
       "4              NaN          Address   \n",
       "\n",
       "                             Variable Definition  Type  \n",
       "0                                     Unique key  Char  \n",
       "1                                   Closed, Open  Char  \n",
       "2             Date when Connection was installed  Char  \n",
       "3  Service plan that the customer currently uses  Char  \n",
       "4                                  Valid/Invalid  Char  "
      ]
     },
     "execution_count": 7,
     "metadata": {},
     "output_type": "execute_result"
    },
    {
     "data": {
      "text/html": [
       "<div>\n",
       "<table border=\"1\" class=\"dataframe\">\n",
       "  <thead>\n",
       "    <tr style=\"text-align: right;\">\n",
       "      <th></th>\n",
       "      <th>Variable</th>\n",
       "      <th>Codes</th>\n",
       "      <th>Unnamed: 2</th>\n",
       "    </tr>\n",
       "  </thead>\n",
       "  <tbody>\n",
       "    <tr>\n",
       "      <th>0</th>\n",
       "      <td>Salary Slab</td>\n",
       "      <td>1</td>\n",
       "      <td>Very Low Salary bracket</td>\n",
       "    </tr>\n",
       "    <tr>\n",
       "      <th>1</th>\n",
       "      <td>NaN</td>\n",
       "      <td>2</td>\n",
       "      <td>Very Low Salary bracket</td>\n",
       "    </tr>\n",
       "    <tr>\n",
       "      <th>2</th>\n",
       "      <td>NaN</td>\n",
       "      <td>3</td>\n",
       "      <td>Very Low Salary bracket</td>\n",
       "    </tr>\n",
       "    <tr>\n",
       "      <th>3</th>\n",
       "      <td>NaN</td>\n",
       "      <td>4</td>\n",
       "      <td>Low Salary Bracket</td>\n",
       "    </tr>\n",
       "    <tr>\n",
       "      <th>4</th>\n",
       "      <td>NaN</td>\n",
       "      <td>5</td>\n",
       "      <td>Low Salary Bracket</td>\n",
       "    </tr>\n",
       "  </tbody>\n",
       "</table>\n",
       "</div>"
      ],
      "text/plain": [
       "      Variable Codes               Unnamed: 2\n",
       "0  Salary Slab     1  Very Low Salary bracket\n",
       "1          NaN     2  Very Low Salary bracket\n",
       "2          NaN     3  Very Low Salary bracket\n",
       "3          NaN     4       Low Salary Bracket\n",
       "4          NaN     5       Low Salary Bracket"
      ]
     },
     "execution_count": 7,
     "metadata": {},
     "output_type": "execute_result"
    }
   ],
   "source": [
    "#Seeing all the dataheads\n",
    "demog.head()\n",
    "cacen.head()\n",
    "payda.head()\n",
    "defda.head()\n",
    "usepa.head()\n",
    "datdi.head()\n",
    "appen.head()"
   ]
  },
  {
   "cell_type": "code",
   "execution_count": 8,
   "metadata": {
    "collapsed": false
   },
   "outputs": [
    {
     "name": "stdout",
     "output_type": "stream",
     "text": [
      "<class 'pandas.core.frame.DataFrame'>\n",
      "RangeIndex: 14952 entries, 0 to 14951\n",
      "Data columns (total 15 columns):\n",
      "Account Number                    14952 non-null object\n",
      "Commence Date                     14947 non-null datetime64[ns]\n",
      "Address                           14549 non-null object\n",
      "Scheme                            14952 non-null object\n",
      "Staus                             14952 non-null object\n",
      "Gender                            12913 non-null object\n",
      "Zone                              14952 non-null object\n",
      "Equipsale                         14952 non-null object\n",
      "Age                               11992 non-null float64\n",
      "Equipment Warranty                14320 non-null object\n",
      "Salary Slab                       12944 non-null float64\n",
      "Professional Info                 12944 non-null float64\n",
      "Age of Home                       12944 non-null float64\n",
      "Equipment Warranty Expiry Date    14320 non-null datetime64[ns]\n",
      "Churn Date                        506 non-null object\n",
      "dtypes: datetime64[ns](2), float64(4), object(9)\n",
      "memory usage: 1.7+ MB\n"
     ]
    },
    {
     "data": {
      "text/html": [
       "<div>\n",
       "<table border=\"1\" class=\"dataframe\">\n",
       "  <thead>\n",
       "    <tr style=\"text-align: right;\">\n",
       "      <th></th>\n",
       "      <th>Age</th>\n",
       "      <th>Salary Slab</th>\n",
       "      <th>Professional Info</th>\n",
       "      <th>Age of Home</th>\n",
       "    </tr>\n",
       "  </thead>\n",
       "  <tbody>\n",
       "    <tr>\n",
       "      <th>count</th>\n",
       "      <td>11992.000000</td>\n",
       "      <td>12944.000000</td>\n",
       "      <td>12944.000000</td>\n",
       "      <td>12944.000000</td>\n",
       "    </tr>\n",
       "    <tr>\n",
       "      <th>mean</th>\n",
       "      <td>50.193879</td>\n",
       "      <td>4.459672</td>\n",
       "      <td>3.535847</td>\n",
       "      <td>14.044036</td>\n",
       "    </tr>\n",
       "    <tr>\n",
       "      <th>std</th>\n",
       "      <td>14.107236</td>\n",
       "      <td>1.909911</td>\n",
       "      <td>5.684005</td>\n",
       "      <td>7.190689</td>\n",
       "    </tr>\n",
       "    <tr>\n",
       "      <th>min</th>\n",
       "      <td>14.000000</td>\n",
       "      <td>1.000000</td>\n",
       "      <td>0.000000</td>\n",
       "      <td>1.000000</td>\n",
       "    </tr>\n",
       "    <tr>\n",
       "      <th>25%</th>\n",
       "      <td>NaN</td>\n",
       "      <td>NaN</td>\n",
       "      <td>NaN</td>\n",
       "      <td>NaN</td>\n",
       "    </tr>\n",
       "    <tr>\n",
       "      <th>50%</th>\n",
       "      <td>NaN</td>\n",
       "      <td>NaN</td>\n",
       "      <td>NaN</td>\n",
       "      <td>NaN</td>\n",
       "    </tr>\n",
       "    <tr>\n",
       "      <th>75%</th>\n",
       "      <td>NaN</td>\n",
       "      <td>NaN</td>\n",
       "      <td>NaN</td>\n",
       "      <td>NaN</td>\n",
       "    </tr>\n",
       "    <tr>\n",
       "      <th>max</th>\n",
       "      <td>98.000000</td>\n",
       "      <td>13.000000</td>\n",
       "      <td>20.000000</td>\n",
       "      <td>22.000000</td>\n",
       "    </tr>\n",
       "  </tbody>\n",
       "</table>\n",
       "</div>"
      ],
      "text/plain": [
       "                Age   Salary Slab  Professional Info   Age of Home\n",
       "count  11992.000000  12944.000000       12944.000000  12944.000000\n",
       "mean      50.193879      4.459672           3.535847     14.044036\n",
       "std       14.107236      1.909911           5.684005      7.190689\n",
       "min       14.000000      1.000000           0.000000      1.000000\n",
       "25%             NaN           NaN                NaN           NaN\n",
       "50%             NaN           NaN                NaN           NaN\n",
       "75%             NaN           NaN                NaN           NaN\n",
       "max       98.000000     13.000000          20.000000     22.000000"
      ]
     },
     "execution_count": 8,
     "metadata": {},
     "output_type": "execute_result"
    },
    {
     "data": {
      "text/plain": [
       "Account Number                        0\n",
       "Commence Date                         5\n",
       "Address                             403\n",
       "Scheme                                0\n",
       "Staus                                 0\n",
       "Gender                             2039\n",
       "Zone                                  0\n",
       "Equipsale                             0\n",
       "Age                                2960\n",
       "Equipment Warranty                  632\n",
       "Salary Slab                        2008\n",
       "Professional Info                  2008\n",
       "Age of Home                        2008\n",
       "Equipment Warranty Expiry Date      632\n",
       "Churn Date                        14446\n",
       "dtype: int64"
      ]
     },
     "execution_count": 8,
     "metadata": {},
     "output_type": "execute_result"
    }
   ],
   "source": [
    "#Seeing the datatype and summary in next few commands and check for null values\n",
    "demog.info()\n",
    "demog.describe()\n",
    "demog.isnull().sum()"
   ]
  },
  {
   "cell_type": "code",
   "execution_count": 9,
   "metadata": {
    "collapsed": false
   },
   "outputs": [
    {
     "name": "stdout",
     "output_type": "stream",
     "text": [
      "<class 'pandas.core.frame.DataFrame'>\n",
      "RangeIndex: 12674 entries, 0 to 12673\n",
      "Data columns (total 3 columns):\n",
      "Account Number                   12674 non-null object\n",
      "Query Date                       12674 non-null datetime64[ns]\n",
      "Full Statement of the Enquiry    12674 non-null object\n",
      "dtypes: datetime64[ns](1), object(2)\n",
      "memory usage: 297.1+ KB\n"
     ]
    },
    {
     "data": {
      "text/html": [
       "<div>\n",
       "<table border=\"1\" class=\"dataframe\">\n",
       "  <thead>\n",
       "    <tr style=\"text-align: right;\">\n",
       "      <th></th>\n",
       "      <th>Account Number</th>\n",
       "      <th>Query Date</th>\n",
       "      <th>Full Statement of the Enquiry</th>\n",
       "    </tr>\n",
       "  </thead>\n",
       "  <tbody>\n",
       "    <tr>\n",
       "      <th>count</th>\n",
       "      <td>12674</td>\n",
       "      <td>12674</td>\n",
       "      <td>12674</td>\n",
       "    </tr>\n",
       "    <tr>\n",
       "      <th>unique</th>\n",
       "      <td>5463</td>\n",
       "      <td>178</td>\n",
       "      <td>12636</td>\n",
       "    </tr>\n",
       "    <tr>\n",
       "      <th>top</th>\n",
       "      <td>M2162</td>\n",
       "      <td>2015-01-25 00:00:00</td>\n",
       "      <td>BAADCAAAA-Initial LevelTech-Operational Capabi...</td>\n",
       "    </tr>\n",
       "    <tr>\n",
       "      <th>freq</th>\n",
       "      <td>47</td>\n",
       "      <td>145</td>\n",
       "      <td>6</td>\n",
       "    </tr>\n",
       "    <tr>\n",
       "      <th>first</th>\n",
       "      <td>NaN</td>\n",
       "      <td>2015-01-01 00:00:00</td>\n",
       "      <td>NaN</td>\n",
       "    </tr>\n",
       "    <tr>\n",
       "      <th>last</th>\n",
       "      <td>NaN</td>\n",
       "      <td>2015-07-30 00:00:00</td>\n",
       "      <td>NaN</td>\n",
       "    </tr>\n",
       "  </tbody>\n",
       "</table>\n",
       "</div>"
      ],
      "text/plain": [
       "       Account Number           Query Date  \\\n",
       "count           12674                12674   \n",
       "unique           5463                  178   \n",
       "top             M2162  2015-01-25 00:00:00   \n",
       "freq               47                  145   \n",
       "first             NaN  2015-01-01 00:00:00   \n",
       "last              NaN  2015-07-30 00:00:00   \n",
       "\n",
       "                            Full Statement of the Enquiry  \n",
       "count                                               12674  \n",
       "unique                                              12636  \n",
       "top     BAADCAAAA-Initial LevelTech-Operational Capabi...  \n",
       "freq                                                    6  \n",
       "first                                                 NaN  \n",
       "last                                                  NaN  "
      ]
     },
     "execution_count": 9,
     "metadata": {},
     "output_type": "execute_result"
    },
    {
     "data": {
      "text/plain": [
       "Account Number                   0\n",
       "Query Date                       0\n",
       "Full Statement of the Enquiry    0\n",
       "dtype: int64"
      ]
     },
     "execution_count": 9,
     "metadata": {},
     "output_type": "execute_result"
    }
   ],
   "source": [
    "#Seeing the datatype and summary in next few commands and check for null values\n",
    "cacen.info()\n",
    "cacen.describe()\n",
    "cacen.isnull().sum()"
   ]
  },
  {
   "cell_type": "code",
   "execution_count": 10,
   "metadata": {
    "collapsed": false
   },
   "outputs": [
    {
     "name": "stdout",
     "output_type": "stream",
     "text": [
      "<class 'pandas.core.frame.DataFrame'>\n",
      "RangeIndex: 40444 entries, 0 to 40443\n",
      "Data columns (total 4 columns):\n",
      "Account Number      40444 non-null object\n",
      "Realization Date    40444 non-null datetime64[ns]\n",
      "Sum                 40444 non-null float64\n",
      "Mode                40444 non-null object\n",
      "dtypes: datetime64[ns](1), float64(1), object(2)\n",
      "memory usage: 1.2+ MB\n"
     ]
    },
    {
     "data": {
      "text/html": [
       "<div>\n",
       "<table border=\"1\" class=\"dataframe\">\n",
       "  <thead>\n",
       "    <tr style=\"text-align: right;\">\n",
       "      <th></th>\n",
       "      <th>Sum</th>\n",
       "    </tr>\n",
       "  </thead>\n",
       "  <tbody>\n",
       "    <tr>\n",
       "      <th>count</th>\n",
       "      <td>40444.00000</td>\n",
       "    </tr>\n",
       "    <tr>\n",
       "      <th>mean</th>\n",
       "      <td>842.65590</td>\n",
       "    </tr>\n",
       "    <tr>\n",
       "      <th>std</th>\n",
       "      <td>448.71654</td>\n",
       "    </tr>\n",
       "    <tr>\n",
       "      <th>min</th>\n",
       "      <td>0.10500</td>\n",
       "    </tr>\n",
       "    <tr>\n",
       "      <th>25%</th>\n",
       "      <td>648.27000</td>\n",
       "    </tr>\n",
       "    <tr>\n",
       "      <th>50%</th>\n",
       "      <td>769.12500</td>\n",
       "    </tr>\n",
       "    <tr>\n",
       "      <th>75%</th>\n",
       "      <td>958.96500</td>\n",
       "    </tr>\n",
       "    <tr>\n",
       "      <th>max</th>\n",
       "      <td>23261.91000</td>\n",
       "    </tr>\n",
       "  </tbody>\n",
       "</table>\n",
       "</div>"
      ],
      "text/plain": [
       "               Sum\n",
       "count  40444.00000\n",
       "mean     842.65590\n",
       "std      448.71654\n",
       "min        0.10500\n",
       "25%      648.27000\n",
       "50%      769.12500\n",
       "75%      958.96500\n",
       "max    23261.91000"
      ]
     },
     "execution_count": 10,
     "metadata": {},
     "output_type": "execute_result"
    },
    {
     "data": {
      "text/plain": [
       "Account Number      0\n",
       "Realization Date    0\n",
       "Sum                 0\n",
       "Mode                0\n",
       "dtype: int64"
      ]
     },
     "execution_count": 10,
     "metadata": {},
     "output_type": "execute_result"
    }
   ],
   "source": [
    "#Seeing the datatype and summary in next few commands and check for null values\n",
    "payda.info()\n",
    "payda.describe()\n",
    "payda.isnull().sum()"
   ]
  },
  {
   "cell_type": "code",
   "execution_count": 11,
   "metadata": {
    "collapsed": false
   },
   "outputs": [
    {
     "name": "stdout",
     "output_type": "stream",
     "text": [
      "<class 'pandas.core.frame.DataFrame'>\n",
      "RangeIndex: 2471 entries, 0 to 2470\n",
      "Data columns (total 3 columns):\n",
      "Account Number     2471 non-null object\n",
      "date of default    2471 non-null datetime64[ns]\n",
      "Default sum        2471 non-null float64\n",
      "dtypes: datetime64[ns](1), float64(1), object(1)\n",
      "memory usage: 58.0+ KB\n"
     ]
    },
    {
     "data": {
      "text/html": [
       "<div>\n",
       "<table border=\"1\" class=\"dataframe\">\n",
       "  <thead>\n",
       "    <tr style=\"text-align: right;\">\n",
       "      <th></th>\n",
       "      <th>Default sum</th>\n",
       "    </tr>\n",
       "  </thead>\n",
       "  <tbody>\n",
       "    <tr>\n",
       "      <th>count</th>\n",
       "      <td>2471.000000</td>\n",
       "    </tr>\n",
       "    <tr>\n",
       "      <th>mean</th>\n",
       "      <td>803.314690</td>\n",
       "    </tr>\n",
       "    <tr>\n",
       "      <th>std</th>\n",
       "      <td>1086.605933</td>\n",
       "    </tr>\n",
       "    <tr>\n",
       "      <th>min</th>\n",
       "      <td>12.200000</td>\n",
       "    </tr>\n",
       "    <tr>\n",
       "      <th>25%</th>\n",
       "      <td>519.900000</td>\n",
       "    </tr>\n",
       "    <tr>\n",
       "      <th>50%</th>\n",
       "      <td>654.300000</td>\n",
       "    </tr>\n",
       "    <tr>\n",
       "      <th>75%</th>\n",
       "      <td>881.300000</td>\n",
       "    </tr>\n",
       "    <tr>\n",
       "      <th>max</th>\n",
       "      <td>28660.400000</td>\n",
       "    </tr>\n",
       "  </tbody>\n",
       "</table>\n",
       "</div>"
      ],
      "text/plain": [
       "        Default sum\n",
       "count   2471.000000\n",
       "mean     803.314690\n",
       "std     1086.605933\n",
       "min       12.200000\n",
       "25%      519.900000\n",
       "50%      654.300000\n",
       "75%      881.300000\n",
       "max    28660.400000"
      ]
     },
     "execution_count": 11,
     "metadata": {},
     "output_type": "execute_result"
    },
    {
     "data": {
      "text/plain": [
       "Account Number     0\n",
       "date of default    0\n",
       "Default sum        0\n",
       "dtype: int64"
      ]
     },
     "execution_count": 11,
     "metadata": {},
     "output_type": "execute_result"
    }
   ],
   "source": [
    "#Seeing the datatype and summary in next few commands and check for null values\n",
    "defda.info()\n",
    "defda.describe()\n",
    "defda.isnull().sum()"
   ]
  },
  {
   "cell_type": "code",
   "execution_count": 12,
   "metadata": {
    "collapsed": false
   },
   "outputs": [
    {
     "name": "stdout",
     "output_type": "stream",
     "text": [
      "<class 'pandas.core.frame.DataFrame'>\n",
      "RangeIndex: 41730 entries, 0 to 41729\n",
      "Data columns (total 5 columns):\n",
      "Account Number                         41730 non-null object\n",
      "Used pattern in hours                  41730 non-null float64\n",
      "Usage Post Limit Utilization in hrs    41730 non-null int64\n",
      "data used Gb                           41730 non-null float64\n",
      "YYYYMM                                 41730 non-null int64\n",
      "dtypes: float64(2), int64(2), object(1)\n",
      "memory usage: 1.6+ MB\n"
     ]
    },
    {
     "data": {
      "text/html": [
       "<div>\n",
       "<table border=\"1\" class=\"dataframe\">\n",
       "  <thead>\n",
       "    <tr style=\"text-align: right;\">\n",
       "      <th></th>\n",
       "      <th>Used pattern in hours</th>\n",
       "      <th>Usage Post Limit Utilization in hrs</th>\n",
       "      <th>data used Gb</th>\n",
       "      <th>YYYYMM</th>\n",
       "    </tr>\n",
       "  </thead>\n",
       "  <tbody>\n",
       "    <tr>\n",
       "      <th>count</th>\n",
       "      <td>41730.000000</td>\n",
       "      <td>41730.000000</td>\n",
       "      <td>41730.000000</td>\n",
       "      <td>41730.000000</td>\n",
       "    </tr>\n",
       "    <tr>\n",
       "      <th>mean</th>\n",
       "      <td>627.074917</td>\n",
       "      <td>58.375246</td>\n",
       "      <td>103.578622</td>\n",
       "      <td>201503.364246</td>\n",
       "    </tr>\n",
       "    <tr>\n",
       "      <th>std</th>\n",
       "      <td>136.673401</td>\n",
       "      <td>114.049965</td>\n",
       "      <td>117.736045</td>\n",
       "      <td>2.057045</td>\n",
       "    </tr>\n",
       "    <tr>\n",
       "      <th>min</th>\n",
       "      <td>1.020000</td>\n",
       "      <td>0.000000</td>\n",
       "      <td>0.000000</td>\n",
       "      <td>201501.000000</td>\n",
       "    </tr>\n",
       "    <tr>\n",
       "      <th>25%</th>\n",
       "      <td>593.022500</td>\n",
       "      <td>0.000000</td>\n",
       "      <td>34.050000</td>\n",
       "      <td>201502.000000</td>\n",
       "    </tr>\n",
       "    <tr>\n",
       "      <th>50%</th>\n",
       "      <td>662.525000</td>\n",
       "      <td>0.000000</td>\n",
       "      <td>72.950000</td>\n",
       "      <td>201503.000000</td>\n",
       "    </tr>\n",
       "    <tr>\n",
       "      <th>75%</th>\n",
       "      <td>717.300000</td>\n",
       "      <td>57.000000</td>\n",
       "      <td>131.650000</td>\n",
       "      <td>201505.000000</td>\n",
       "    </tr>\n",
       "    <tr>\n",
       "      <th>max</th>\n",
       "      <td>1390.770000</td>\n",
       "      <td>706.000000</td>\n",
       "      <td>2726.450000</td>\n",
       "      <td>201507.000000</td>\n",
       "    </tr>\n",
       "  </tbody>\n",
       "</table>\n",
       "</div>"
      ],
      "text/plain": [
       "       Used pattern in hours  Usage Post Limit Utilization in hrs  \\\n",
       "count           41730.000000                         41730.000000   \n",
       "mean              627.074917                            58.375246   \n",
       "std               136.673401                           114.049965   \n",
       "min                 1.020000                             0.000000   \n",
       "25%               593.022500                             0.000000   \n",
       "50%               662.525000                             0.000000   \n",
       "75%               717.300000                            57.000000   \n",
       "max              1390.770000                           706.000000   \n",
       "\n",
       "       data used Gb         YYYYMM  \n",
       "count  41730.000000   41730.000000  \n",
       "mean     103.578622  201503.364246  \n",
       "std      117.736045       2.057045  \n",
       "min        0.000000  201501.000000  \n",
       "25%       34.050000  201502.000000  \n",
       "50%       72.950000  201503.000000  \n",
       "75%      131.650000  201505.000000  \n",
       "max     2726.450000  201507.000000  "
      ]
     },
     "execution_count": 12,
     "metadata": {},
     "output_type": "execute_result"
    },
    {
     "data": {
      "text/plain": [
       "Account Number                         0\n",
       "Used pattern in hours                  0\n",
       "Usage Post Limit Utilization in hrs    0\n",
       "data used Gb                           0\n",
       "YYYYMM                                 0\n",
       "dtype: int64"
      ]
     },
     "execution_count": 12,
     "metadata": {},
     "output_type": "execute_result"
    }
   ],
   "source": [
    "#Seeing the datatype and summary in next few commands and check for null values\n",
    "usepa.info()\n",
    "usepa.describe()\n",
    "usepa.isnull().sum()"
   ]
  },
  {
   "cell_type": "code",
   "execution_count": 13,
   "metadata": {
    "collapsed": false
   },
   "outputs": [
    {
     "data": {
      "text/html": [
       "<div>\n",
       "<table border=\"1\" class=\"dataframe\">\n",
       "  <thead>\n",
       "    <tr style=\"text-align: right;\">\n",
       "      <th></th>\n",
       "      <th>Account Number</th>\n",
       "      <th>Commence Date</th>\n",
       "      <th>Address</th>\n",
       "      <th>Scheme</th>\n",
       "      <th>Staus</th>\n",
       "      <th>Gender</th>\n",
       "      <th>Zone</th>\n",
       "      <th>Equipsale</th>\n",
       "      <th>Age</th>\n",
       "      <th>Equipment Warranty</th>\n",
       "      <th>Salary Slab</th>\n",
       "      <th>Professional Info</th>\n",
       "      <th>Age of Home</th>\n",
       "      <th>Equipment Warranty Expiry Date</th>\n",
       "      <th>Churn Date</th>\n",
       "    </tr>\n",
       "  </thead>\n",
       "  <tbody>\n",
       "    <tr>\n",
       "      <th>0</th>\n",
       "      <td>M1</td>\n",
       "      <td>2011-11-04</td>\n",
       "      <td>VALID</td>\n",
       "      <td>KLA</td>\n",
       "      <td>Open</td>\n",
       "      <td>Female</td>\n",
       "      <td>Northern</td>\n",
       "      <td>RENTED</td>\n",
       "      <td>70.0</td>\n",
       "      <td>Three Full Years</td>\n",
       "      <td>5.0</td>\n",
       "      <td>0.0</td>\n",
       "      <td>17.0</td>\n",
       "      <td>2015-04-03</td>\n",
       "      <td>NaN</td>\n",
       "    </tr>\n",
       "    <tr>\n",
       "      <th>1</th>\n",
       "      <td>M2</td>\n",
       "      <td>2011-11-28</td>\n",
       "      <td>VALID</td>\n",
       "      <td>PPL</td>\n",
       "      <td>Open</td>\n",
       "      <td>Female</td>\n",
       "      <td>Western</td>\n",
       "      <td>RENTED</td>\n",
       "      <td>55.0</td>\n",
       "      <td>Three Full Years</td>\n",
       "      <td>7.0</td>\n",
       "      <td>0.0</td>\n",
       "      <td>22.0</td>\n",
       "      <td>2015-04-03</td>\n",
       "      <td>NaN</td>\n",
       "    </tr>\n",
       "    <tr>\n",
       "      <th>2</th>\n",
       "      <td>M3</td>\n",
       "      <td>2011-12-06</td>\n",
       "      <td>VALID</td>\n",
       "      <td>KLA</td>\n",
       "      <td>Open</td>\n",
       "      <td>Male</td>\n",
       "      <td>Eastern</td>\n",
       "      <td>RENTED</td>\n",
       "      <td>64.0</td>\n",
       "      <td>Three Full Years</td>\n",
       "      <td>1.0</td>\n",
       "      <td>5.0</td>\n",
       "      <td>17.0</td>\n",
       "      <td>2016-04-03</td>\n",
       "      <td>NaN</td>\n",
       "    </tr>\n",
       "    <tr>\n",
       "      <th>3</th>\n",
       "      <td>M4</td>\n",
       "      <td>2011-10-28</td>\n",
       "      <td>VALID</td>\n",
       "      <td>MXX</td>\n",
       "      <td>Open</td>\n",
       "      <td>Female</td>\n",
       "      <td>Northern</td>\n",
       "      <td>RENTED</td>\n",
       "      <td>66.0</td>\n",
       "      <td>Three Full Years</td>\n",
       "      <td>6.0</td>\n",
       "      <td>14.0</td>\n",
       "      <td>22.0</td>\n",
       "      <td>2015-04-03</td>\n",
       "      <td>NaN</td>\n",
       "    </tr>\n",
       "    <tr>\n",
       "      <th>4</th>\n",
       "      <td>M5</td>\n",
       "      <td>2015-01-18</td>\n",
       "      <td>VALID</td>\n",
       "      <td>PRP</td>\n",
       "      <td>Open</td>\n",
       "      <td>NaN</td>\n",
       "      <td>Western</td>\n",
       "      <td>RENTED</td>\n",
       "      <td>NaN</td>\n",
       "      <td>Full Year</td>\n",
       "      <td>NaN</td>\n",
       "      <td>NaN</td>\n",
       "      <td>NaN</td>\n",
       "      <td>2016-01-03</td>\n",
       "      <td>NaN</td>\n",
       "    </tr>\n",
       "  </tbody>\n",
       "</table>\n",
       "</div>"
      ],
      "text/plain": [
       "  Account Number Commence Date Address Scheme Staus  Gender      Zone  \\\n",
       "0             M1    2011-11-04   VALID    KLA  Open  Female  Northern   \n",
       "1             M2    2011-11-28   VALID    PPL  Open  Female   Western   \n",
       "2             M3    2011-12-06   VALID    KLA  Open    Male   Eastern   \n",
       "3             M4    2011-10-28   VALID    MXX  Open  Female  Northern   \n",
       "4             M5    2015-01-18   VALID    PRP  Open     NaN   Western   \n",
       "\n",
       "  Equipsale   Age Equipment Warranty  Salary Slab  Professional Info  \\\n",
       "0    RENTED  70.0   Three Full Years          5.0                0.0   \n",
       "1    RENTED  55.0   Three Full Years          7.0                0.0   \n",
       "2    RENTED  64.0   Three Full Years          1.0                5.0   \n",
       "3    RENTED  66.0   Three Full Years          6.0               14.0   \n",
       "4    RENTED   NaN          Full Year          NaN                NaN   \n",
       "\n",
       "   Age of Home Equipment Warranty Expiry Date Churn Date  \n",
       "0         17.0                     2015-04-03        NaN  \n",
       "1         22.0                     2015-04-03        NaN  \n",
       "2         17.0                     2016-04-03        NaN  \n",
       "3         22.0                     2015-04-03        NaN  \n",
       "4          NaN                     2016-01-03        NaN  "
      ]
     },
     "execution_count": 13,
     "metadata": {},
     "output_type": "execute_result"
    }
   ],
   "source": [
    "demog.head()"
   ]
  },
  {
   "cell_type": "markdown",
   "metadata": {},
   "source": [
    "# UNIVARIATE ANALYSIS"
   ]
  },
  {
   "cell_type": "code",
   "execution_count": 14,
   "metadata": {
    "collapsed": false
   },
   "outputs": [
    {
     "data": {
      "text/plain": [
       "VALID      13599\n",
       "INVALID      950\n",
       "Name: Address, dtype: int64"
      ]
     },
     "execution_count": 14,
     "metadata": {},
     "output_type": "execute_result"
    },
    {
     "data": {
      "text/plain": [
       "PPL    2993\n",
       "PWR    2615\n",
       "KLA    1508\n",
       "PRM    1397\n",
       "CNN    1268\n",
       "CHC    1172\n",
       "PRP     745\n",
       "POP     682\n",
       "PRR     651\n",
       "PMM     613\n",
       "MXX     459\n",
       "PWM     406\n",
       "PWP     201\n",
       "ESS     165\n",
       "PRS      77\n",
       "Name: Scheme, dtype: int64"
      ]
     },
     "execution_count": 14,
     "metadata": {},
     "output_type": "execute_result"
    },
    {
     "data": {
      "text/plain": [
       "Open      14384\n",
       "Closed      568\n",
       "Name: Staus, dtype: int64"
      ]
     },
     "execution_count": 14,
     "metadata": {},
     "output_type": "execute_result"
    },
    {
     "data": {
      "text/plain": [
       "Male      6956\n",
       "Female    5957\n",
       "Name: Gender, dtype: int64"
      ]
     },
     "execution_count": 14,
     "metadata": {},
     "output_type": "execute_result"
    },
    {
     "data": {
      "text/plain": [
       "49.0    352\n",
       "56.0    347\n",
       "47.0    336\n",
       "50.0    326\n",
       "58.0    319\n",
       "51.0    319\n",
       "59.0    312\n",
       "53.0    311\n",
       "48.0    310\n",
       "55.0    309\n",
       "57.0    304\n",
       "61.0    303\n",
       "63.0    302\n",
       "52.0    301\n",
       "54.0    300\n",
       "46.0    296\n",
       "62.0    291\n",
       "60.0    281\n",
       "42.0    263\n",
       "44.0    259\n",
       "39.0    258\n",
       "45.0    256\n",
       "40.0    255\n",
       "41.0    246\n",
       "64.0    245\n",
       "43.0    242\n",
       "38.0    230\n",
       "36.0    193\n",
       "67.0    191\n",
       "66.0    185\n",
       "       ... \n",
       "77.0     55\n",
       "75.0     54\n",
       "78.0     51\n",
       "76.0     50\n",
       "79.0     35\n",
       "80.0     34\n",
       "81.0     33\n",
       "18.0     31\n",
       "19.0     31\n",
       "82.0     26\n",
       "85.0     22\n",
       "83.0     16\n",
       "16.0     15\n",
       "84.0     15\n",
       "88.0     14\n",
       "15.0     10\n",
       "17.0     10\n",
       "89.0     10\n",
       "86.0     10\n",
       "87.0      9\n",
       "91.0      6\n",
       "14.0      3\n",
       "92.0      3\n",
       "93.0      3\n",
       "95.0      3\n",
       "96.0      3\n",
       "97.0      1\n",
       "90.0      1\n",
       "94.0      1\n",
       "98.0      1\n",
       "Name: Age, dtype: int64"
      ]
     },
     "execution_count": 14,
     "metadata": {},
     "output_type": "execute_result"
    },
    {
     "data": {
      "text/plain": [
       "Three Full Years           14260\n",
       "Full Year Plus 3 Months       44\n",
       "Full Year                     16\n",
       "Name: Equipment Warranty, dtype: int64"
      ]
     },
     "execution_count": 14,
     "metadata": {},
     "output_type": "execute_result"
    },
    {
     "data": {
      "text/plain": [
       "3.0     3023\n",
       "4.0     2928\n",
       "6.0     2202\n",
       "5.0     1904\n",
       "7.0      777\n",
       "2.0      689\n",
       "1.0      679\n",
       "8.0      328\n",
       "9.0      246\n",
       "10.0      82\n",
       "13.0      47\n",
       "11.0      20\n",
       "12.0      19\n",
       "Name: Salary Slab, dtype: int64"
      ]
     },
     "execution_count": 14,
     "metadata": {},
     "output_type": "execute_result"
    },
    {
     "data": {
      "text/plain": [
       "0.0     8505\n",
       "5.0     1093\n",
       "14.0     887\n",
       "6.0      554\n",
       "10.0     521\n",
       "20.0     355\n",
       "13.0     264\n",
       "9.0      221\n",
       "8.0      198\n",
       "19.0     115\n",
       "18.0     105\n",
       "12.0      59\n",
       "2.0       33\n",
       "7.0       17\n",
       "17.0      13\n",
       "15.0       2\n",
       "16.0       1\n",
       "11.0       1\n",
       "Name: Professional Info, dtype: int64"
      ]
     },
     "execution_count": 14,
     "metadata": {},
     "output_type": "execute_result"
    }
   ],
   "source": [
    "#Highly imbalanced type of data here in counts\n",
    "demog['Address'].value_counts()\n",
    "demog['Scheme'].value_counts()\n",
    "demog['Staus'].value_counts()\n",
    "demog['Gender'].value_counts()\n",
    "demog['Age'].value_counts()\n",
    "demog['Equipment Warranty'].value_counts()\n",
    "demog['Salary Slab'].value_counts()\n",
    "demog['Professional Info'].value_counts()\n",
    "\n",
    "\n",
    "\n"
   ]
  },
  {
   "cell_type": "code",
   "execution_count": 15,
   "metadata": {
    "collapsed": false,
    "scrolled": true
   },
   "outputs": [
    {
     "data": {
      "text/plain": [
       "Northern    6546\n",
       "Eastern     6240\n",
       "Western     1803\n",
       "Southern     363\n",
       "Name: Zone, dtype: int64"
      ]
     },
     "execution_count": 15,
     "metadata": {},
     "output_type": "execute_result"
    }
   ],
   "source": [
    "#Changed 'Region' to 'Zone' in original file\n",
    "demog['Zone'].value_counts()\n"
   ]
  },
  {
   "cell_type": "code",
   "execution_count": 16,
   "metadata": {
    "collapsed": false
   },
   "outputs": [
    {
     "data": {
      "text/plain": [
       "RENTED         13384\n",
       "BOUGHT          1497\n",
       "Second Hand       67\n",
       "Unknown            4\n",
       "Name: Equipsale, dtype: int64"
      ]
     },
     "execution_count": 16,
     "metadata": {},
     "output_type": "execute_result"
    }
   ],
   "source": [
    "#Changed 'Sale Equipment Status' to 'Equipsale'\n",
    "demog['Equipsale'].value_counts()"
   ]
  },
  {
   "cell_type": "markdown",
   "metadata": {},
   "source": [
    "Visualisation for missing value filling and hypothesis testing "
   ]
  },
  {
   "cell_type": "code",
   "execution_count": 17,
   "metadata": {
    "collapsed": false
   },
   "outputs": [
    {
     "data": {
      "text/plain": [
       "<seaborn.axisgrid.FacetGrid at 0x2069b9bdbe0>"
      ]
     },
     "execution_count": 17,
     "metadata": {},
     "output_type": "execute_result"
    },
    {
     "data": {
      "image/png": "[encoded data removed]",
      "text/plain": [
       "<matplotlib.figure.Figure at 0x2069bd25240>"
      ]
     },
     "metadata": {},
     "output_type": "display_data"
    }
   ],
   "source": [
    "sns.factorplot('Gender',data=demog,kind =\"count\",size=6)\n",
    "#Can't use mode for data imputation as both the classes have similar proportion"
   ]
  },
  {
   "cell_type": "code",
   "execution_count": 19,
   "metadata": {
    "collapsed": false
   },
   "outputs": [
    {
     "data": {
      "text/plain": [
       "<seaborn.axisgrid.FacetGrid at 0x2069b9366a0>"
      ]
     },
     "execution_count": 19,
     "metadata": {},
     "output_type": "execute_result"
    },
    {
     "data": {
      "image/png": "[encoded data removed]",
      "text/plain": [
       "<matplotlib.figure.Figure at 0x2069b94c048>"
      ]
     },
     "metadata": {},
     "output_type": "display_data"
    }
   ],
   "source": [
    "sns.factorplot('Age',data=demog,kind =\"count\",size=7)"
   ]
  },
  {
   "cell_type": "code",
   "execution_count": 21,
   "metadata": {
    "collapsed": false
   },
   "outputs": [
    {
     "data": {
      "text/plain": [
       "0    49.0\n",
       "dtype: float64"
      ]
     },
     "execution_count": 21,
     "metadata": {},
     "output_type": "execute_result"
    },
    {
     "data": {
      "text/plain": [
       "50.193879252835224"
      ]
     },
     "execution_count": 21,
     "metadata": {},
     "output_type": "execute_result"
    },
    {
     "data": {
      "text/plain": [
       "51.0"
      ]
     },
     "execution_count": 21,
     "metadata": {},
     "output_type": "execute_result"
    }
   ],
   "source": [
    "demog['Age'].mode()\n",
    "demog['Age'].mean()\n",
    "demog['Age'].median()"
   ]
  },
  {
   "cell_type": "code",
   "execution_count": 30,
   "metadata": {
    "collapsed": false
   },
   "outputs": [
    {
     "data": {
      "text/plain": [
       "<seaborn.axisgrid.FacetGrid at 0x2069b9935c0>"
      ]
     },
     "execution_count": 30,
     "metadata": {},
     "output_type": "execute_result"
    },
    {
     "data": {
      "image/png": "[encoded data removed]",
      "text/plain": [
       "<matplotlib.figure.Figure at 0x2069aa4ea90>"
      ]
     },
     "metadata": {},
     "output_type": "display_data"
    }
   ],
   "source": [
    "sns.factorplot('Equipment Warranty',data=demog,kind =\"count\",size=6,hue='Age')"
   ]
  },
  {
   "cell_type": "code",
   "execution_count": 32,
   "metadata": {
    "collapsed": false
   },
   "outputs": [
    {
     "data": {
      "text/plain": [
       "<seaborn.axisgrid.FacetGrid at 0x206a1d16ef0>"
      ]
     },
     "execution_count": 32,
     "metadata": {},
     "output_type": "execute_result"
    },
    {
     "data": {
      "image/png": "[encoded data removed]",
      "text/plain": [
       "<matplotlib.figure.Figure at 0x2069ac93860>"
      ]
     },
     "metadata": {},
     "output_type": "display_data"
    }
   ],
   "source": [
    "sns.factorplot('Salary Slab',data=demog,kind =\"count\",size=6)\n",
    "#Some right skewness observed with a fatter tail on left"
   ]
  },
  {
   "cell_type": "code",
   "execution_count": 24,
   "metadata": {
    "collapsed": false
   },
   "outputs": [
    {
     "data": {
      "text/plain": [
       "<seaborn.axisgrid.FacetGrid at 0x2069a95c1d0>"
      ]
     },
     "execution_count": 24,
     "metadata": {},
     "output_type": "execute_result"
    },
    {
     "data": {
      "image/png": "[encoded data removed]",
      "text/plain": [
       "<matplotlib.figure.Figure at 0x2069a947e80>"
      ]
     },
     "metadata": {},
     "output_type": "display_data"
    }
   ],
   "source": [
    "sns.factorplot('Professional Info',data=demog,kind =\"count\",size=6)"
   ]
  },
  {
   "cell_type": "markdown",
   "metadata": {},
   "source": [
    "Professional info seems to have more than 10500(8500+2000) missing values"
   ]
  },
  {
   "cell_type": "code",
   "execution_count": 34,
   "metadata": {
    "collapsed": false
   },
   "outputs": [
    {
     "data": {
      "text/plain": [
       "<seaborn.axisgrid.FacetGrid at 0x2069b868dd8>"
      ]
     },
     "execution_count": 34,
     "metadata": {},
     "output_type": "execute_result"
    },
    {
     "data": {
      "image/png": "[encoded data removed]",
      "text/plain": [
       "<matplotlib.figure.Figure at 0x2069ac3f4a8>"
      ]
     },
     "metadata": {},
     "output_type": "display_data"
    }
   ],
   "source": [
    "sns.factorplot('Age of Home',data=demog,kind =\"count\",size=6)\n"
   ]
  },
  {
   "cell_type": "code",
   "execution_count": 36,
   "metadata": {
    "collapsed": false
   },
   "outputs": [
    {
     "data": {
      "text/plain": [
       "<seaborn.axisgrid.FacetGrid at 0x206a39f8da0>"
      ]
     },
     "execution_count": 36,
     "metadata": {},
     "output_type": "execute_result"
    },
    {
     "data": {
      "image/png": "[encoded data removed]",
      "text/plain": [
       "<matplotlib.figure.Figure at 0x206a3bbd0f0>"
      ]
     },
     "metadata": {},
     "output_type": "display_data"
    }
   ],
   "source": [
    "sns.factorplot('Address',data=demog,kind =\"count\",size=6)\n"
   ]
  },
  {
   "cell_type": "code",
   "execution_count": 27,
   "metadata": {
    "collapsed": false
   },
   "outputs": [
    {
     "data": {
      "text/plain": [
       "PPL    2993\n",
       "PWR    2615\n",
       "KLA    1508\n",
       "PRM    1397\n",
       "CNN    1268\n",
       "CHC    1172\n",
       "PRP     745\n",
       "POP     682\n",
       "PRR     651\n",
       "PMM     613\n",
       "MXX     459\n",
       "PWM     406\n",
       "PWP     201\n",
       "ESS     165\n",
       "PRS      77\n",
       "Name: Scheme, dtype: int64"
      ]
     },
     "execution_count": 27,
     "metadata": {},
     "output_type": "execute_result"
    }
   ],
   "source": [
    "demog['Scheme'].value_counts()"
   ]
  },
  {
   "cell_type": "code",
   "execution_count": 28,
   "metadata": {
    "collapsed": false
   },
   "outputs": [
    {
     "data": {
      "text/plain": [
       "<seaborn.axisgrid.FacetGrid at 0x2069bc37f98>"
      ]
     },
     "execution_count": 28,
     "metadata": {},
     "output_type": "execute_result"
    },
    {
     "data": {
      "image/png": "[encoded data removed]",
      "text/plain": [
       "<matplotlib.figure.Figure at 0x2069ab41390>"
      ]
     },
     "metadata": {},
     "output_type": "display_data"
    }
   ],
   "source": [
    "sns.factorplot('Scheme',data=demog,kind =\"count\",size=6)\n"
   ]
  },
  {
   "cell_type": "code",
   "execution_count": 37,
   "metadata": {
    "collapsed": false,
    "scrolled": true
   },
   "outputs": [
    {
     "data": {
      "text/plain": [
       "<seaborn.axisgrid.FacetGrid at 0x206a325be80>"
      ]
     },
     "execution_count": 37,
     "metadata": {},
     "output_type": "execute_result"
    },
    {
     "data": {
      "image/png": "[encoded data removed]",
      "text/plain": [
       "<matplotlib.figure.Figure at 0x206a3ad8ba8>"
      ]
     },
     "metadata": {},
     "output_type": "display_data"
    }
   ],
   "source": [
    "sns.factorplot(x='Staus',data=demog,kind =\"count\",size=6,hue=\"Age of Home\")\n"
   ]
  },
  {
   "cell_type": "code",
   "execution_count": 38,
   "metadata": {
    "collapsed": false,
    "scrolled": true
   },
   "outputs": [
    {
     "data": {
      "text/plain": [
       "<seaborn.axisgrid.FacetGrid at 0x206a3630e80>"
      ]
     },
     "execution_count": 38,
     "metadata": {},
     "output_type": "execute_result"
    },
    {
     "data": {
      "image/png": "[encoded data removed]",
      "text/plain": [
       "<matplotlib.figure.Figure at 0x206a36302b0>"
      ]
     },
     "metadata": {},
     "output_type": "display_data"
    }
   ],
   "source": [
    "sns.factorplot('Zone',data=demog,kind =\"count\",size=6)"
   ]
  },
  {
   "cell_type": "code",
   "execution_count": null,
   "metadata": {
    "collapsed": false
   },
   "outputs": [],
   "source": [
    "sns.factorplot('Equipsale',data=demog,kind =\"count\",size=6)"
   ]
  },
  {
   "cell_type": "code",
   "execution_count": null,
   "metadata": {
    "collapsed": false,
    "scrolled": true
   },
   "outputs": [],
   "source": [
    "sns.factorplot('Gender',data= demog,hue='Scheme',kind= \"count\",size=8)"
   ]
  },
  {
   "cell_type": "code",
   "execution_count": null,
   "metadata": {
    "collapsed": false
   },
   "outputs": [],
   "source": [
    "demog.shape[0]"
   ]
  },
  {
   "cell_type": "code",
   "execution_count": null,
   "metadata": {
    "collapsed": false
   },
   "outputs": [],
   "source": [
    "demog.head(59)"
   ]
  }
 ],
 "metadata": {
  "anaconda-cloud": {},
  "kernelspec": {
   "display_name": "Python [Root]",
   "language": "python",
   "name": "Python [Root]"
  },
  "language_info": {
   "codemirror_mode": {
    "name": "ipython",
    "version": 3
   },
   "file_extension": ".py",
   "mimetype": "text/x-python",
   "name": "python",
   "nbconvert_exporter": "python",
   "pygments_lexer": "ipython3",
   "version": "3.5.2"
  }
 },
 "nbformat": 4,
 "nbformat_minor": 0
}
