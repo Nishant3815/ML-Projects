{
 "cells": [
  {
   "cell_type": "code",
   "execution_count": 2,
   "metadata": {
    "collapsed": true
   },
   "outputs": [],
   "source": [
    "#Initial imports \n",
    "import numpy as np\n",
    "import pandas as pd \n",
    "from pandas import DataFrame, Series\n",
    "import matplotlib.pyplot as plt\n",
    "import seaborn as sns\n",
    "from scipy import stats\n",
    "%matplotlib inline\n",
    "from IPython.core.interactiveshell import InteractiveShell #Show all consecutive outputs\n",
    "InteractiveShell.ast_node_interactivity = \"all\""
   ]
  },
  {
   "cell_type": "code",
   "execution_count": 3,
   "metadata": {
    "collapsed": true
   },
   "outputs": [],
   "source": [
    "#Removes all unnecessary warnings by Python\n",
    "import warnings\n",
    "warnings.filterwarnings('ignore')"
   ]
  },
  {
   "cell_type": "code",
   "execution_count": 4,
   "metadata": {
    "collapsed": true
   },
   "outputs": [],
   "source": [
    "# Imports for better visualization\n",
    "\n",
    "from collections import defaultdict\n",
    "import scipy as sp\n",
    "from matplotlib import rcParams\n",
    "import matplotlib.cm as cm\n",
    "import matplotlib as mpl\n",
    "\n",
    "#colorbrewer2 Dark2 qualitative color table\n",
    "dark2_colors = [(0.10588235294117647, 0.6196078431372549, 0.4666666666666667),\n",
    "                (0.8509803921568627, 0.37254901960784315, 0.00784313725490196),\n",
    "                (0.4588235294117647, 0.4392156862745098, 0.7019607843137254),\n",
    "                (0.9058823529411765, 0.1607843137254902, 0.5411764705882353),\n",
    "                (0.4, 0.6509803921568628, 0.11764705882352941),\n",
    "                (0.9019607843137255, 0.6705882352941176, 0.00784313725490196),\n",
    "                (0.6509803921568628, 0.4627450980392157, 0.11372549019607843)]\n",
    "\n",
    "rcParams['figure.figsize'] = (14, 6)\n",
    "rcParams['figure.dpi'] = 250\n",
    "rcParams['axes.color_cycle'] = dark2_colors\n",
    "rcParams['lines.linewidth'] = 3\n",
    "rcParams['axes.facecolor'] = 'white'\n",
    "rcParams['font.size'] = 25\n",
    "rcParams['patch.edgecolor'] = 'white'\n",
    "rcParams['patch.facecolor'] = dark2_colors[0]\n",
    "rcParams['font.family'] = 'StixGeneral'"
   ]
  },
  {
   "cell_type": "code",
   "execution_count": 5,
   "metadata": {
    "collapsed": true
   },
   "outputs": [],
   "source": [
    "#Show all the columns \n",
    "pd.set_option('display.max_columns',None)"
   ]
  },
  {
   "cell_type": "code",
   "execution_count": 6,
   "metadata": {
    "collapsed": false
   },
   "outputs": [],
   "source": [
    "#Reading in all the data from different datasets \n",
    "defdam = pd.read_csv('defdam.csv')\n",
    "defdav = pd.read_csv('defdav.csv')"
   ]
  },
  {
   "cell_type": "code",
   "execution_count": 7,
   "metadata": {
    "collapsed": false
   },
   "outputs": [
    {
     "data": {
      "text/plain": [
       "Account Number      object\n",
       "date of default     object\n",
       "Default sum        float64\n",
       "date                 int64\n",
       "month                int64\n",
       "year                 int64\n",
       "dtype: object"
      ]
     },
     "execution_count": 7,
     "metadata": {},
     "output_type": "execute_result"
    },
    {
     "data": {
      "text/plain": [
       "Account Number      object\n",
       "date of default     object\n",
       "Default sum        float64\n",
       "date                 int64\n",
       "month                int64\n",
       "year                 int64\n",
       "dtype: object"
      ]
     },
     "execution_count": 7,
     "metadata": {},
     "output_type": "execute_result"
    }
   ],
   "source": [
    "defdam.dtypes\n",
    "defdav.dtypes"
   ]
  },
  {
   "cell_type": "code",
   "execution_count": 8,
   "metadata": {
    "collapsed": true
   },
   "outputs": [],
   "source": [
    "del defdam['date of default']\n",
    "del defdav['date of default']\n",
    "del defdam['date']\n",
    "del defdav['date']\n",
    "del defdam['year']\n",
    "del defdav['year']"
   ]
  },
  {
   "cell_type": "code",
   "execution_count": 9,
   "metadata": {
    "collapsed": false
   },
   "outputs": [
    {
     "data": {
      "text/html": [
       "<div>\n",
       "<table border=\"1\" class=\"dataframe\">\n",
       "  <thead>\n",
       "    <tr style=\"text-align: right;\">\n",
       "      <th></th>\n",
       "      <th>Account Number</th>\n",
       "      <th>Default sum</th>\n",
       "      <th>Jan_def</th>\n",
       "      <th>Feb_def</th>\n",
       "      <th>Mar_def</th>\n",
       "    </tr>\n",
       "  </thead>\n",
       "  <tbody>\n",
       "    <tr>\n",
       "      <th>0</th>\n",
       "      <td>M100</td>\n",
       "      <td>1037.2</td>\n",
       "      <td>0.0</td>\n",
       "      <td>1.0</td>\n",
       "      <td>0.0</td>\n",
       "    </tr>\n",
       "    <tr>\n",
       "      <th>1</th>\n",
       "      <td>M104</td>\n",
       "      <td>611.8</td>\n",
       "      <td>0.0</td>\n",
       "      <td>0.0</td>\n",
       "      <td>1.0</td>\n",
       "    </tr>\n",
       "    <tr>\n",
       "      <th>2</th>\n",
       "      <td>M114</td>\n",
       "      <td>2193.5</td>\n",
       "      <td>0.0</td>\n",
       "      <td>0.0</td>\n",
       "      <td>1.0</td>\n",
       "    </tr>\n",
       "    <tr>\n",
       "      <th>3</th>\n",
       "      <td>M125</td>\n",
       "      <td>507.8</td>\n",
       "      <td>0.0</td>\n",
       "      <td>0.0</td>\n",
       "      <td>1.0</td>\n",
       "    </tr>\n",
       "    <tr>\n",
       "      <th>4</th>\n",
       "      <td>M132</td>\n",
       "      <td>1405.5</td>\n",
       "      <td>0.0</td>\n",
       "      <td>1.0</td>\n",
       "      <td>0.0</td>\n",
       "    </tr>\n",
       "  </tbody>\n",
       "</table>\n",
       "</div>"
      ],
      "text/plain": [
       "  Account Number  Default sum  Jan_def  Feb_def  Mar_def\n",
       "0           M100       1037.2      0.0      1.0      0.0\n",
       "1           M104        611.8      0.0      0.0      1.0\n",
       "2           M114       2193.5      0.0      0.0      1.0\n",
       "3           M125        507.8      0.0      0.0      1.0\n",
       "4           M132       1405.5      0.0      1.0      0.0"
      ]
     },
     "execution_count": 9,
     "metadata": {},
     "output_type": "execute_result"
    }
   ],
   "source": [
    "bill = pd.get_dummies(defdam['month'])\n",
    "dfm = pd.concat([defdam, bill], axis=1)\n",
    "dfm.rename(columns={1: 'Jan_def',2:'Feb_def',3:'Mar_def'}, inplace=True)\n",
    "del dfm['month']\n",
    "dfm.head()"
   ]
  },
  {
   "cell_type": "code",
   "execution_count": 10,
   "metadata": {
    "collapsed": false
   },
   "outputs": [
    {
     "data": {
      "text/html": [
       "<div>\n",
       "<table border=\"1\" class=\"dataframe\">\n",
       "  <thead>\n",
       "    <tr style=\"text-align: right;\">\n",
       "      <th></th>\n",
       "      <th>Account Number</th>\n",
       "      <th>Default sum</th>\n",
       "      <th>May_def</th>\n",
       "      <th>Jun_def</th>\n",
       "      <th>July_def</th>\n",
       "    </tr>\n",
       "  </thead>\n",
       "  <tbody>\n",
       "    <tr>\n",
       "      <th>0</th>\n",
       "      <td>V5</td>\n",
       "      <td>713.4</td>\n",
       "      <td>0.0</td>\n",
       "      <td>0.0</td>\n",
       "      <td>1.0</td>\n",
       "    </tr>\n",
       "    <tr>\n",
       "      <th>1</th>\n",
       "      <td>V48</td>\n",
       "      <td>1402.8</td>\n",
       "      <td>0.0</td>\n",
       "      <td>0.0</td>\n",
       "      <td>1.0</td>\n",
       "    </tr>\n",
       "    <tr>\n",
       "      <th>2</th>\n",
       "      <td>V74</td>\n",
       "      <td>899.9</td>\n",
       "      <td>0.0</td>\n",
       "      <td>0.0</td>\n",
       "      <td>1.0</td>\n",
       "    </tr>\n",
       "    <tr>\n",
       "      <th>3</th>\n",
       "      <td>V79</td>\n",
       "      <td>1483.2</td>\n",
       "      <td>0.0</td>\n",
       "      <td>1.0</td>\n",
       "      <td>0.0</td>\n",
       "    </tr>\n",
       "    <tr>\n",
       "      <th>4</th>\n",
       "      <td>V95</td>\n",
       "      <td>1350.3</td>\n",
       "      <td>1.0</td>\n",
       "      <td>0.0</td>\n",
       "      <td>0.0</td>\n",
       "    </tr>\n",
       "  </tbody>\n",
       "</table>\n",
       "</div>"
      ],
      "text/plain": [
       "  Account Number  Default sum  May_def  Jun_def  July_def\n",
       "0             V5        713.4      0.0      0.0       1.0\n",
       "1            V48       1402.8      0.0      0.0       1.0\n",
       "2            V74        899.9      0.0      0.0       1.0\n",
       "3            V79       1483.2      0.0      1.0       0.0\n",
       "4            V95       1350.3      1.0      0.0       0.0"
      ]
     },
     "execution_count": 10,
     "metadata": {},
     "output_type": "execute_result"
    }
   ],
   "source": [
    "bill = pd.get_dummies(defdav['month'])\n",
    "dfv = pd.concat([defdav, bill], axis=1)\n",
    "del dfv['month']\n",
    "dfv.rename(columns={5:'May_def',6:'Jun_def',7:'July_def'}, inplace=True)\n",
    "dfv.head()"
   ]
  },
  {
   "cell_type": "code",
   "execution_count": 11,
   "metadata": {
    "collapsed": true
   },
   "outputs": [],
   "source": [
    "dfm['Jan_def'] = dfm['Jan_def']*dfm['Default sum']\n",
    "dfm['Feb_def'] = dfm['Feb_def']*dfm['Default sum']\n",
    "dfm['Mar_def'] = dfm['Mar_def']*dfm['Default sum']"
   ]
  },
  {
   "cell_type": "code",
   "execution_count": 12,
   "metadata": {
    "collapsed": false
   },
   "outputs": [],
   "source": [
    "dfv['May_def'] = dfv['May_def']*dfv['Default sum']\n",
    "dfv['Jun_def'] = dfv['Jun_def']*dfv['Default sum']\n",
    "dfv['July_def'] = dfv['July_def']*dfv['Default sum']"
   ]
  },
  {
   "cell_type": "code",
   "execution_count": 13,
   "metadata": {
    "collapsed": false
   },
   "outputs": [],
   "source": [
    "defm = dfm.groupby('Account Number').sum()\n",
    "defv = dfv.groupby('Account Number').sum()"
   ]
  },
  {
   "cell_type": "code",
   "execution_count": 14,
   "metadata": {
    "collapsed": false
   },
   "outputs": [
    {
     "data": {
      "text/html": [
       "<div>\n",
       "<table border=\"1\" class=\"dataframe\">\n",
       "  <thead>\n",
       "    <tr style=\"text-align: right;\">\n",
       "      <th></th>\n",
       "      <th>Default sum</th>\n",
       "      <th>Jan_def</th>\n",
       "      <th>Feb_def</th>\n",
       "      <th>Mar_def</th>\n",
       "    </tr>\n",
       "    <tr>\n",
       "      <th>Account Number</th>\n",
       "      <th></th>\n",
       "      <th></th>\n",
       "      <th></th>\n",
       "      <th></th>\n",
       "    </tr>\n",
       "  </thead>\n",
       "  <tbody>\n",
       "    <tr>\n",
       "      <th>M100</th>\n",
       "      <td>1037.2</td>\n",
       "      <td>0.0</td>\n",
       "      <td>1037.2</td>\n",
       "      <td>0.0</td>\n",
       "    </tr>\n",
       "    <tr>\n",
       "      <th>M1002</th>\n",
       "      <td>2815.2</td>\n",
       "      <td>938.4</td>\n",
       "      <td>938.4</td>\n",
       "      <td>938.4</td>\n",
       "    </tr>\n",
       "    <tr>\n",
       "      <th>M1039</th>\n",
       "      <td>1802.6</td>\n",
       "      <td>0.0</td>\n",
       "      <td>1066.8</td>\n",
       "      <td>735.8</td>\n",
       "    </tr>\n",
       "    <tr>\n",
       "      <th>M104</th>\n",
       "      <td>611.8</td>\n",
       "      <td>0.0</td>\n",
       "      <td>0.0</td>\n",
       "      <td>611.8</td>\n",
       "    </tr>\n",
       "    <tr>\n",
       "      <th>M1045</th>\n",
       "      <td>649.8</td>\n",
       "      <td>0.0</td>\n",
       "      <td>0.0</td>\n",
       "      <td>649.8</td>\n",
       "    </tr>\n",
       "    <tr>\n",
       "      <th>M1049</th>\n",
       "      <td>969.1</td>\n",
       "      <td>969.1</td>\n",
       "      <td>0.0</td>\n",
       "      <td>0.0</td>\n",
       "    </tr>\n",
       "    <tr>\n",
       "      <th>M1072</th>\n",
       "      <td>549.9</td>\n",
       "      <td>549.9</td>\n",
       "      <td>0.0</td>\n",
       "      <td>0.0</td>\n",
       "    </tr>\n",
       "    <tr>\n",
       "      <th>M1077</th>\n",
       "      <td>1552.4</td>\n",
       "      <td>776.2</td>\n",
       "      <td>776.2</td>\n",
       "      <td>0.0</td>\n",
       "    </tr>\n",
       "    <tr>\n",
       "      <th>M1086</th>\n",
       "      <td>774.4</td>\n",
       "      <td>0.0</td>\n",
       "      <td>0.0</td>\n",
       "      <td>774.4</td>\n",
       "    </tr>\n",
       "    <tr>\n",
       "      <th>M1091</th>\n",
       "      <td>1951.4</td>\n",
       "      <td>1281.1</td>\n",
       "      <td>670.3</td>\n",
       "      <td>0.0</td>\n",
       "    </tr>\n",
       "  </tbody>\n",
       "</table>\n",
       "</div>"
      ],
      "text/plain": [
       "                Default sum  Jan_def  Feb_def  Mar_def\n",
       "Account Number                                        \n",
       "M100                 1037.2      0.0   1037.2      0.0\n",
       "M1002                2815.2    938.4    938.4    938.4\n",
       "M1039                1802.6      0.0   1066.8    735.8\n",
       "M104                  611.8      0.0      0.0    611.8\n",
       "M1045                 649.8      0.0      0.0    649.8\n",
       "M1049                 969.1    969.1      0.0      0.0\n",
       "M1072                 549.9    549.9      0.0      0.0\n",
       "M1077                1552.4    776.2    776.2      0.0\n",
       "M1086                 774.4      0.0      0.0    774.4\n",
       "M1091                1951.4   1281.1    670.3      0.0"
      ]
     },
     "execution_count": 14,
     "metadata": {},
     "output_type": "execute_result"
    },
    {
     "data": {
      "text/html": [
       "<div>\n",
       "<table border=\"1\" class=\"dataframe\">\n",
       "  <thead>\n",
       "    <tr style=\"text-align: right;\">\n",
       "      <th></th>\n",
       "      <th>Default sum</th>\n",
       "      <th>May_def</th>\n",
       "      <th>Jun_def</th>\n",
       "      <th>July_def</th>\n",
       "    </tr>\n",
       "    <tr>\n",
       "      <th>Account Number</th>\n",
       "      <th></th>\n",
       "      <th></th>\n",
       "      <th></th>\n",
       "      <th></th>\n",
       "    </tr>\n",
       "  </thead>\n",
       "  <tbody>\n",
       "    <tr>\n",
       "      <th>V1007</th>\n",
       "      <td>481.0</td>\n",
       "      <td>0.0</td>\n",
       "      <td>0.0</td>\n",
       "      <td>481.0</td>\n",
       "    </tr>\n",
       "    <tr>\n",
       "      <th>V1011</th>\n",
       "      <td>1647.6</td>\n",
       "      <td>584.8</td>\n",
       "      <td>531.4</td>\n",
       "      <td>531.4</td>\n",
       "    </tr>\n",
       "    <tr>\n",
       "      <th>V1013</th>\n",
       "      <td>1137.2</td>\n",
       "      <td>617.0</td>\n",
       "      <td>520.2</td>\n",
       "      <td>0.0</td>\n",
       "    </tr>\n",
       "    <tr>\n",
       "      <th>V1014</th>\n",
       "      <td>1345.4</td>\n",
       "      <td>0.0</td>\n",
       "      <td>742.7</td>\n",
       "      <td>602.7</td>\n",
       "    </tr>\n",
       "    <tr>\n",
       "      <th>V1029</th>\n",
       "      <td>614.8</td>\n",
       "      <td>0.0</td>\n",
       "      <td>0.0</td>\n",
       "      <td>614.8</td>\n",
       "    </tr>\n",
       "    <tr>\n",
       "      <th>V1034</th>\n",
       "      <td>814.8</td>\n",
       "      <td>0.0</td>\n",
       "      <td>0.0</td>\n",
       "      <td>814.8</td>\n",
       "    </tr>\n",
       "    <tr>\n",
       "      <th>V1041</th>\n",
       "      <td>677.7</td>\n",
       "      <td>677.7</td>\n",
       "      <td>0.0</td>\n",
       "      <td>0.0</td>\n",
       "    </tr>\n",
       "    <tr>\n",
       "      <th>V1042</th>\n",
       "      <td>1262.4</td>\n",
       "      <td>631.2</td>\n",
       "      <td>0.0</td>\n",
       "      <td>631.2</td>\n",
       "    </tr>\n",
       "    <tr>\n",
       "      <th>V1044</th>\n",
       "      <td>1027.0</td>\n",
       "      <td>0.0</td>\n",
       "      <td>513.5</td>\n",
       "      <td>513.5</td>\n",
       "    </tr>\n",
       "    <tr>\n",
       "      <th>V1049</th>\n",
       "      <td>1206.5</td>\n",
       "      <td>0.0</td>\n",
       "      <td>1206.5</td>\n",
       "      <td>0.0</td>\n",
       "    </tr>\n",
       "  </tbody>\n",
       "</table>\n",
       "</div>"
      ],
      "text/plain": [
       "                Default sum  May_def  Jun_def  July_def\n",
       "Account Number                                         \n",
       "V1007                 481.0      0.0      0.0     481.0\n",
       "V1011                1647.6    584.8    531.4     531.4\n",
       "V1013                1137.2    617.0    520.2       0.0\n",
       "V1014                1345.4      0.0    742.7     602.7\n",
       "V1029                 614.8      0.0      0.0     614.8\n",
       "V1034                 814.8      0.0      0.0     814.8\n",
       "V1041                 677.7    677.7      0.0       0.0\n",
       "V1042                1262.4    631.2      0.0     631.2\n",
       "V1044                1027.0      0.0    513.5     513.5\n",
       "V1049                1206.5      0.0   1206.5       0.0"
      ]
     },
     "execution_count": 14,
     "metadata": {},
     "output_type": "execute_result"
    }
   ],
   "source": [
    "defm.head(10)\n",
    "defv.head(10)"
   ]
  },
  {
   "cell_type": "code",
   "execution_count": 15,
   "metadata": {
    "collapsed": true
   },
   "outputs": [],
   "source": [
    "defm.to_csv('defdamup.csv',index=True)\n",
    "defv.to_csv('defdavup.csv',index=True)"
   ]
  },
  {
   "cell_type": "code",
   "execution_count": null,
   "metadata": {
    "collapsed": true
   },
   "outputs": [],
   "source": []
  }
 ],
 "metadata": {
  "anaconda-cloud": {},
  "kernelspec": {
   "display_name": "Python [Root]",
   "language": "python",
   "name": "Python [Root]"
  },
  "language_info": {
   "codemirror_mode": {
    "name": "ipython",
    "version": 3
   },
   "file_extension": ".py",
   "mimetype": "text/x-python",
   "name": "python",
   "nbconvert_exporter": "python",
   "pygments_lexer": "ipython3",
   "version": "3.5.2"
  }
 },
 "nbformat": 4,
 "nbformat_minor": 1
}
