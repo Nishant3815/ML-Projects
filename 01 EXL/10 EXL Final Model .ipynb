{
 "cells": [
  {
   "cell_type": "code",
   "execution_count": 128,
   "metadata": {
    "collapsed": true
   },
   "outputs": [],
   "source": [
    "#Initial imports \n",
    "import numpy as np\n",
    "import pandas as pd \n",
    "from pandas import DataFrame, Series\n",
    "import matplotlib.pyplot as plt\n",
    "import seaborn as sns\n",
    "from scipy import stats\n",
    "%matplotlib inline\n",
    "from IPython.core.interactiveshell import InteractiveShell #Show all consecutive outputs\n",
    "InteractiveShell.ast_node_interactivity = \"all\""
   ]
  },
  {
   "cell_type": "code",
   "execution_count": 129,
   "metadata": {
    "collapsed": true
   },
   "outputs": [],
   "source": [
    "#Removes all unnecessary warnings by Python\n",
    "import warnings\n",
    "warnings.filterwarnings('ignore')"
   ]
  },
  {
   "cell_type": "code",
   "execution_count": 130,
   "metadata": {
    "collapsed": true
   },
   "outputs": [],
   "source": [
    "from collections import defaultdict\n",
    "import scipy as sp\n",
    "from matplotlib import rcParams\n",
    "import matplotlib.cm as cm\n",
    "import matplotlib as mpl\n",
    "\n",
    "#colorbrewer2 Dark2 qualitative color table\n",
    "dark2_colors = [(0.10588235294117647, 0.6196078431372549, 0.4666666666666667),\n",
    "                (0.8509803921568627, 0.37254901960784315, 0.00784313725490196),\n",
    "                (0.4588235294117647, 0.4392156862745098, 0.7019607843137254),\n",
    "                (0.9058823529411765, 0.1607843137254902, 0.5411764705882353),\n",
    "                (0.4, 0.6509803921568628, 0.11764705882352941),\n",
    "                (0.9019607843137255, 0.6705882352941176, 0.00784313725490196),\n",
    "                (0.6509803921568628, 0.4627450980392157, 0.11372549019607843)]\n",
    "\n",
    "rcParams['figure.figsize'] = (12, 8)\n",
    "rcParams['figure.dpi'] = 250\n",
    "rcParams['axes.color_cycle'] = dark2_colors\n",
    "rcParams['lines.linewidth'] = 3\n",
    "rcParams['axes.facecolor'] = 'white'\n",
    "rcParams['font.size'] = 25\n",
    "rcParams['patch.edgecolor'] = 'white'\n",
    "rcParams['patch.facecolor'] = dark2_colors[0]\n",
    "rcParams['font.family'] = 'StixGeneral'"
   ]
  },
  {
   "cell_type": "code",
   "execution_count": 131,
   "metadata": {
    "collapsed": true
   },
   "outputs": [],
   "source": [
    "#Show all the columns \n",
    "pd.set_option('display.max_columns',None)"
   ]
  },
  {
   "cell_type": "code",
   "execution_count": 132,
   "metadata": {
    "collapsed": true
   },
   "outputs": [],
   "source": [
    "#ROC CODE\n",
    "def make_roc(name, clf, ytest, xtest, ax=None, labe=5, proba=True, skip=0):\n",
    "    initial=False\n",
    "    if not ax:\n",
    "        ax=plt.gca()\n",
    "        initial=True\n",
    "    if proba:\n",
    "        fpr, tpr, thresholds=roc_curve(ytest, clf.predict_proba(xtest)[:,1])\n",
    "    else:\n",
    "        fpr, tpr, thresholds=roc_curve(ytest, clf.decision_function(xtest))\n",
    "    roc_auc = auc(fpr, tpr)\n",
    "    if skip:\n",
    "        l=fpr.shape[0]\n",
    "        ax.plot(fpr[0:l:skip], tpr[0:l:skip], '.-', alpha=0.3, label='ROC curve for %s (area = %0.2f)' % (name, roc_auc))\n",
    "    else:\n",
    "        ax.plot(fpr, tpr, '.-', alpha=0.3, label='ROC curve for %s (area = %0.2f)' % (name, roc_auc))\n",
    "    label_kwargs = {}\n",
    "    label_kwargs['bbox'] = dict(\n",
    "        boxstyle='round,pad=0.3', alpha=0.2,\n",
    "    )\n",
    "    for k in range(0, fpr.shape[0],labe):\n",
    "        #from https://gist.github.com/podshumok/c1d1c9394335d86255b8\n",
    "        threshold = str(np.round(thresholds[k], 2))\n",
    "        ax.annotate(threshold, (fpr[k], tpr[k]), **label_kwargs)\n",
    "    if initial:\n",
    "        ax.plot([0, 1], [0, 1], 'k--')\n",
    "        ax.set_xlim([0.0, 1.0])\n",
    "        ax.set_ylim([0.0, 1.05])\n",
    "        ax.set_xlabel('False Positive Rate')\n",
    "        ax.set_ylabel('True Positive Rate')\n",
    "        ax.set_title('ROC')\n",
    "    ax.legend(loc=\"lower right\")\n",
    "    return ax"
   ]
  },
  {
   "cell_type": "code",
   "execution_count": 133,
   "metadata": {
    "collapsed": true
   },
   "outputs": [],
   "source": [
    "df = pd.read_csv('mfexltr.csv') #merge"
   ]
  },
  {
   "cell_type": "code",
   "execution_count": 134,
   "metadata": {
    "collapsed": false
   },
   "outputs": [
    {
     "data": {
      "text/html": [
       "<div>\n",
       "<table border=\"1\" class=\"dataframe\">\n",
       "  <thead>\n",
       "    <tr style=\"text-align: right;\">\n",
       "      <th></th>\n",
       "      <th>Account Number</th>\n",
       "      <th>Age</th>\n",
       "      <th>agehome</th>\n",
       "      <th>Churn</th>\n",
       "      <th>cardone</th>\n",
       "      <th>cardtwo</th>\n",
       "      <th>paper</th>\n",
       "      <th>Jan_pay</th>\n",
       "      <th>Feb_pay</th>\n",
       "      <th>Mar_pay</th>\n",
       "      <th>log_data_gb</th>\n",
       "      <th>Jan_hours</th>\n",
       "      <th>Feb_hours</th>\n",
       "      <th>Mar_hours</th>\n",
       "      <th>Jan_postlimit</th>\n",
       "      <th>Feb_postlimit</th>\n",
       "      <th>Mar_postlimit</th>\n",
       "      <th>Jan_def</th>\n",
       "      <th>Feb_def</th>\n",
       "      <th>Mar_def</th>\n",
       "      <th>Age_low</th>\n",
       "      <th>Age_med</th>\n",
       "      <th>Age_high</th>\n",
       "      <th>ILPS_Others</th>\n",
       "      <th>ILPS_ABC_BM</th>\n",
       "      <th>ILPS_TP</th>\n",
       "      <th>ILPS_PS_GI</th>\n",
       "      <th>ILPS_PS_Others</th>\n",
       "      <th>ILPS_SO</th>\n",
       "      <th>ILPS_U</th>\n",
       "      <th>ILT_ABC</th>\n",
       "      <th>ILT_Acc</th>\n",
       "      <th>ILT_TP</th>\n",
       "      <th>ILT_OC</th>\n",
       "      <th>ILT_Outbound</th>\n",
       "      <th>ILT_U_EA</th>\n",
       "      <th>ILT_U_AO3</th>\n",
       "      <th>year_diff__2.0</th>\n",
       "      <th>year_diff__3.0</th>\n",
       "      <th>month_diff__0.0</th>\n",
       "      <th>month_3</th>\n",
       "      <th>Sal_ch_low</th>\n",
       "      <th>Sal_ch_med</th>\n",
       "      <th>Sal_ch_high</th>\n",
       "      <th>Sch_ch_vlow</th>\n",
       "      <th>Sch_ch_low</th>\n",
       "      <th>Sch_ch_med</th>\n",
       "      <th>Sch_ch_high</th>\n",
       "      <th>prof_ntn</th>\n",
       "      <th>Female</th>\n",
       "      <th>Male</th>\n",
       "      <th>other</th>\n",
       "      <th>Closed</th>\n",
       "      <th>Open</th>\n",
       "      <th>Eastern</th>\n",
       "      <th>Northern</th>\n",
       "      <th>Southern</th>\n",
       "      <th>Western</th>\n",
       "      <th>BOUGHT</th>\n",
       "      <th>RENTED</th>\n",
       "      <th>Second Hand</th>\n",
       "      <th>INVALID</th>\n",
       "      <th>VALID</th>\n",
       "      <th>Full Year</th>\n",
       "      <th>Full Year Plus 3 Months</th>\n",
       "      <th>Three Full Years</th>\n",
       "      <th>IL_comb</th>\n",
       "    </tr>\n",
       "  </thead>\n",
       "  <tbody>\n",
       "    <tr>\n",
       "      <th>0</th>\n",
       "      <td>M1</td>\n",
       "      <td>70.0</td>\n",
       "      <td>17</td>\n",
       "      <td>0</td>\n",
       "      <td>0</td>\n",
       "      <td>3</td>\n",
       "      <td>0</td>\n",
       "      <td>1209.810</td>\n",
       "      <td>1209.810</td>\n",
       "      <td>1209.810</td>\n",
       "      <td>5.576896</td>\n",
       "      <td>717.90</td>\n",
       "      <td>662.42</td>\n",
       "      <td>634.68</td>\n",
       "      <td>0</td>\n",
       "      <td>0</td>\n",
       "      <td>0</td>\n",
       "      <td>0.0</td>\n",
       "      <td>0.0</td>\n",
       "      <td>0.0</td>\n",
       "      <td>0</td>\n",
       "      <td>0</td>\n",
       "      <td>1</td>\n",
       "      <td>0</td>\n",
       "      <td>0</td>\n",
       "      <td>0</td>\n",
       "      <td>0</td>\n",
       "      <td>0</td>\n",
       "      <td>0</td>\n",
       "      <td>0</td>\n",
       "      <td>0</td>\n",
       "      <td>0</td>\n",
       "      <td>0</td>\n",
       "      <td>0</td>\n",
       "      <td>0</td>\n",
       "      <td>0</td>\n",
       "      <td>0</td>\n",
       "      <td>0</td>\n",
       "      <td>0</td>\n",
       "      <td>0</td>\n",
       "      <td>0</td>\n",
       "      <td>0</td>\n",
       "      <td>1</td>\n",
       "      <td>0</td>\n",
       "      <td>0</td>\n",
       "      <td>0</td>\n",
       "      <td>1</td>\n",
       "      <td>0</td>\n",
       "      <td>0</td>\n",
       "      <td>1</td>\n",
       "      <td>0</td>\n",
       "      <td>0</td>\n",
       "      <td>0</td>\n",
       "      <td>1</td>\n",
       "      <td>0</td>\n",
       "      <td>1</td>\n",
       "      <td>0</td>\n",
       "      <td>0</td>\n",
       "      <td>0</td>\n",
       "      <td>1</td>\n",
       "      <td>0</td>\n",
       "      <td>0</td>\n",
       "      <td>1</td>\n",
       "      <td>0</td>\n",
       "      <td>0</td>\n",
       "      <td>1</td>\n",
       "      <td>0</td>\n",
       "    </tr>\n",
       "    <tr>\n",
       "      <th>1</th>\n",
       "      <td>M2</td>\n",
       "      <td>55.0</td>\n",
       "      <td>22</td>\n",
       "      <td>0</td>\n",
       "      <td>0</td>\n",
       "      <td>3</td>\n",
       "      <td>0</td>\n",
       "      <td>751.695</td>\n",
       "      <td>751.695</td>\n",
       "      <td>751.695</td>\n",
       "      <td>5.612398</td>\n",
       "      <td>696.12</td>\n",
       "      <td>652.40</td>\n",
       "      <td>495.77</td>\n",
       "      <td>5</td>\n",
       "      <td>0</td>\n",
       "      <td>0</td>\n",
       "      <td>0.0</td>\n",
       "      <td>0.0</td>\n",
       "      <td>0.0</td>\n",
       "      <td>0</td>\n",
       "      <td>1</td>\n",
       "      <td>0</td>\n",
       "      <td>0</td>\n",
       "      <td>0</td>\n",
       "      <td>0</td>\n",
       "      <td>0</td>\n",
       "      <td>0</td>\n",
       "      <td>0</td>\n",
       "      <td>0</td>\n",
       "      <td>0</td>\n",
       "      <td>0</td>\n",
       "      <td>0</td>\n",
       "      <td>2</td>\n",
       "      <td>0</td>\n",
       "      <td>0</td>\n",
       "      <td>0</td>\n",
       "      <td>0</td>\n",
       "      <td>0</td>\n",
       "      <td>0</td>\n",
       "      <td>0</td>\n",
       "      <td>0</td>\n",
       "      <td>1</td>\n",
       "      <td>0</td>\n",
       "      <td>0</td>\n",
       "      <td>0</td>\n",
       "      <td>0</td>\n",
       "      <td>1</td>\n",
       "      <td>0</td>\n",
       "      <td>1</td>\n",
       "      <td>0</td>\n",
       "      <td>0</td>\n",
       "      <td>0</td>\n",
       "      <td>1</td>\n",
       "      <td>0</td>\n",
       "      <td>0</td>\n",
       "      <td>0</td>\n",
       "      <td>1</td>\n",
       "      <td>0</td>\n",
       "      <td>1</td>\n",
       "      <td>0</td>\n",
       "      <td>0</td>\n",
       "      <td>1</td>\n",
       "      <td>0</td>\n",
       "      <td>0</td>\n",
       "      <td>1</td>\n",
       "      <td>4</td>\n",
       "    </tr>\n",
       "    <tr>\n",
       "      <th>2</th>\n",
       "      <td>M3</td>\n",
       "      <td>64.0</td>\n",
       "      <td>17</td>\n",
       "      <td>0</td>\n",
       "      <td>0</td>\n",
       "      <td>3</td>\n",
       "      <td>0</td>\n",
       "      <td>1064.385</td>\n",
       "      <td>1064.385</td>\n",
       "      <td>1064.385</td>\n",
       "      <td>5.277349</td>\n",
       "      <td>737.62</td>\n",
       "      <td>531.47</td>\n",
       "      <td>743.73</td>\n",
       "      <td>0</td>\n",
       "      <td>0</td>\n",
       "      <td>0</td>\n",
       "      <td>0.0</td>\n",
       "      <td>0.0</td>\n",
       "      <td>0.0</td>\n",
       "      <td>0</td>\n",
       "      <td>0</td>\n",
       "      <td>1</td>\n",
       "      <td>0</td>\n",
       "      <td>0</td>\n",
       "      <td>0</td>\n",
       "      <td>0</td>\n",
       "      <td>0</td>\n",
       "      <td>0</td>\n",
       "      <td>0</td>\n",
       "      <td>0</td>\n",
       "      <td>0</td>\n",
       "      <td>0</td>\n",
       "      <td>0</td>\n",
       "      <td>0</td>\n",
       "      <td>0</td>\n",
       "      <td>0</td>\n",
       "      <td>0</td>\n",
       "      <td>0</td>\n",
       "      <td>0</td>\n",
       "      <td>0</td>\n",
       "      <td>0</td>\n",
       "      <td>1</td>\n",
       "      <td>0</td>\n",
       "      <td>0</td>\n",
       "      <td>0</td>\n",
       "      <td>1</td>\n",
       "      <td>0</td>\n",
       "      <td>0</td>\n",
       "      <td>0</td>\n",
       "      <td>1</td>\n",
       "      <td>0</td>\n",
       "      <td>0</td>\n",
       "      <td>1</td>\n",
       "      <td>1</td>\n",
       "      <td>0</td>\n",
       "      <td>0</td>\n",
       "      <td>0</td>\n",
       "      <td>0</td>\n",
       "      <td>1</td>\n",
       "      <td>0</td>\n",
       "      <td>0</td>\n",
       "      <td>1</td>\n",
       "      <td>0</td>\n",
       "      <td>0</td>\n",
       "      <td>1</td>\n",
       "      <td>0</td>\n",
       "    </tr>\n",
       "    <tr>\n",
       "      <th>3</th>\n",
       "      <td>M4</td>\n",
       "      <td>66.0</td>\n",
       "      <td>22</td>\n",
       "      <td>0</td>\n",
       "      <td>0</td>\n",
       "      <td>3</td>\n",
       "      <td>0</td>\n",
       "      <td>963.375</td>\n",
       "      <td>1674.750</td>\n",
       "      <td>1488.375</td>\n",
       "      <td>5.153292</td>\n",
       "      <td>743.23</td>\n",
       "      <td>669.10</td>\n",
       "      <td>598.20</td>\n",
       "      <td>0</td>\n",
       "      <td>0</td>\n",
       "      <td>0</td>\n",
       "      <td>0.0</td>\n",
       "      <td>0.0</td>\n",
       "      <td>0.0</td>\n",
       "      <td>0</td>\n",
       "      <td>0</td>\n",
       "      <td>1</td>\n",
       "      <td>0</td>\n",
       "      <td>0</td>\n",
       "      <td>0</td>\n",
       "      <td>0</td>\n",
       "      <td>0</td>\n",
       "      <td>0</td>\n",
       "      <td>0</td>\n",
       "      <td>0</td>\n",
       "      <td>0</td>\n",
       "      <td>0</td>\n",
       "      <td>0</td>\n",
       "      <td>0</td>\n",
       "      <td>0</td>\n",
       "      <td>0</td>\n",
       "      <td>0</td>\n",
       "      <td>0</td>\n",
       "      <td>0</td>\n",
       "      <td>0</td>\n",
       "      <td>0</td>\n",
       "      <td>1</td>\n",
       "      <td>0</td>\n",
       "      <td>0</td>\n",
       "      <td>1</td>\n",
       "      <td>0</td>\n",
       "      <td>0</td>\n",
       "      <td>0</td>\n",
       "      <td>1</td>\n",
       "      <td>0</td>\n",
       "      <td>0</td>\n",
       "      <td>0</td>\n",
       "      <td>1</td>\n",
       "      <td>0</td>\n",
       "      <td>1</td>\n",
       "      <td>0</td>\n",
       "      <td>0</td>\n",
       "      <td>0</td>\n",
       "      <td>1</td>\n",
       "      <td>0</td>\n",
       "      <td>0</td>\n",
       "      <td>1</td>\n",
       "      <td>0</td>\n",
       "      <td>0</td>\n",
       "      <td>1</td>\n",
       "      <td>0</td>\n",
       "    </tr>\n",
       "    <tr>\n",
       "      <th>4</th>\n",
       "      <td>M5</td>\n",
       "      <td>47.5</td>\n",
       "      <td>12</td>\n",
       "      <td>0</td>\n",
       "      <td>0</td>\n",
       "      <td>3</td>\n",
       "      <td>0</td>\n",
       "      <td>839.895</td>\n",
       "      <td>919.590</td>\n",
       "      <td>856.695</td>\n",
       "      <td>2.923162</td>\n",
       "      <td>285.52</td>\n",
       "      <td>409.43</td>\n",
       "      <td>598.23</td>\n",
       "      <td>0</td>\n",
       "      <td>0</td>\n",
       "      <td>0</td>\n",
       "      <td>0.0</td>\n",
       "      <td>0.0</td>\n",
       "      <td>0.0</td>\n",
       "      <td>0</td>\n",
       "      <td>1</td>\n",
       "      <td>0</td>\n",
       "      <td>0</td>\n",
       "      <td>0</td>\n",
       "      <td>0</td>\n",
       "      <td>0</td>\n",
       "      <td>0</td>\n",
       "      <td>0</td>\n",
       "      <td>0</td>\n",
       "      <td>0</td>\n",
       "      <td>0</td>\n",
       "      <td>1</td>\n",
       "      <td>0</td>\n",
       "      <td>0</td>\n",
       "      <td>0</td>\n",
       "      <td>0</td>\n",
       "      <td>0</td>\n",
       "      <td>0</td>\n",
       "      <td>1</td>\n",
       "      <td>0</td>\n",
       "      <td>1</td>\n",
       "      <td>0</td>\n",
       "      <td>0</td>\n",
       "      <td>0</td>\n",
       "      <td>1</td>\n",
       "      <td>0</td>\n",
       "      <td>0</td>\n",
       "      <td>0</td>\n",
       "      <td>0</td>\n",
       "      <td>0</td>\n",
       "      <td>1</td>\n",
       "      <td>0</td>\n",
       "      <td>1</td>\n",
       "      <td>0</td>\n",
       "      <td>0</td>\n",
       "      <td>0</td>\n",
       "      <td>1</td>\n",
       "      <td>0</td>\n",
       "      <td>1</td>\n",
       "      <td>0</td>\n",
       "      <td>0</td>\n",
       "      <td>1</td>\n",
       "      <td>1</td>\n",
       "      <td>0</td>\n",
       "      <td>0</td>\n",
       "      <td>0</td>\n",
       "    </tr>\n",
       "  </tbody>\n",
       "</table>\n",
       "</div>"
      ],
      "text/plain": [
       "  Account Number   Age  agehome  Churn  cardone  cardtwo  paper   Jan_pay  \\\n",
       "0             M1  70.0       17      0        0        3      0  1209.810   \n",
       "1             M2  55.0       22      0        0        3      0   751.695   \n",
       "2             M3  64.0       17      0        0        3      0  1064.385   \n",
       "3             M4  66.0       22      0        0        3      0   963.375   \n",
       "4             M5  47.5       12      0        0        3      0   839.895   \n",
       "\n",
       "    Feb_pay   Mar_pay  log_data_gb  Jan_hours  Feb_hours  Mar_hours  \\\n",
       "0  1209.810  1209.810     5.576896     717.90     662.42     634.68   \n",
       "1   751.695   751.695     5.612398     696.12     652.40     495.77   \n",
       "2  1064.385  1064.385     5.277349     737.62     531.47     743.73   \n",
       "3  1674.750  1488.375     5.153292     743.23     669.10     598.20   \n",
       "4   919.590   856.695     2.923162     285.52     409.43     598.23   \n",
       "\n",
       "   Jan_postlimit  Feb_postlimit  Mar_postlimit  Jan_def  Feb_def  Mar_def  \\\n",
       "0              0              0              0      0.0      0.0      0.0   \n",
       "1              5              0              0      0.0      0.0      0.0   \n",
       "2              0              0              0      0.0      0.0      0.0   \n",
       "3              0              0              0      0.0      0.0      0.0   \n",
       "4              0              0              0      0.0      0.0      0.0   \n",
       "\n",
       "   Age_low  Age_med  Age_high  ILPS_Others  ILPS_ABC_BM  ILPS_TP  ILPS_PS_GI  \\\n",
       "0        0        0         1            0            0        0           0   \n",
       "1        0        1         0            0            0        0           0   \n",
       "2        0        0         1            0            0        0           0   \n",
       "3        0        0         1            0            0        0           0   \n",
       "4        0        1         0            0            0        0           0   \n",
       "\n",
       "   ILPS_PS_Others  ILPS_SO  ILPS_U  ILT_ABC  ILT_Acc  ILT_TP  ILT_OC  \\\n",
       "0               0        0       0        0        0       0       0   \n",
       "1               0        0       0        0        0       0       2   \n",
       "2               0        0       0        0        0       0       0   \n",
       "3               0        0       0        0        0       0       0   \n",
       "4               0        0       0        0        0       1       0   \n",
       "\n",
       "   ILT_Outbound  ILT_U_EA  ILT_U_AO3  year_diff__2.0  year_diff__3.0  \\\n",
       "0             0         0          0               0               0   \n",
       "1             0         0          0               0               0   \n",
       "2             0         0          0               0               0   \n",
       "3             0         0          0               0               0   \n",
       "4             0         0          0               0               0   \n",
       "\n",
       "   month_diff__0.0  month_3  Sal_ch_low  Sal_ch_med  Sal_ch_high  Sch_ch_vlow  \\\n",
       "0                0        0           0           1            0            0   \n",
       "1                0        0           0           1            0            0   \n",
       "2                0        0           0           1            0            0   \n",
       "3                0        0           0           1            0            0   \n",
       "4                1        0           1           0            0            0   \n",
       "\n",
       "   Sch_ch_low  Sch_ch_med  Sch_ch_high  prof_ntn  Female  Male  other  Closed  \\\n",
       "0           0           1            0         0       1     0      0       0   \n",
       "1           0           0            1         0       1     0      0       0   \n",
       "2           0           1            0         0       0     1      0       0   \n",
       "3           1           0            0         0       1     0      0       0   \n",
       "4           1           0            0         0       0     0      1       0   \n",
       "\n",
       "   Open  Eastern  Northern  Southern  Western  BOUGHT  RENTED  Second Hand  \\\n",
       "0     1        0         1         0        0       0       1            0   \n",
       "1     1        0         0         0        1       0       1            0   \n",
       "2     1        1         0         0        0       0       1            0   \n",
       "3     1        0         1         0        0       0       1            0   \n",
       "4     1        0         0         0        1       0       1            0   \n",
       "\n",
       "   INVALID  VALID  Full Year  Full Year Plus 3 Months  Three Full Years  \\\n",
       "0        0      1          0                        0                 1   \n",
       "1        0      1          0                        0                 1   \n",
       "2        0      1          0                        0                 1   \n",
       "3        0      1          0                        0                 1   \n",
       "4        0      1          1                        0                 0   \n",
       "\n",
       "   IL_comb  \n",
       "0        0  \n",
       "1        4  \n",
       "2        0  \n",
       "3        0  \n",
       "4        0  "
      ]
     },
     "execution_count": 134,
     "metadata": {},
     "output_type": "execute_result"
    }
   ],
   "source": [
    "df.head()"
   ]
  },
  {
   "cell_type": "code",
   "execution_count": 135,
   "metadata": {
    "collapsed": true
   },
   "outputs": [],
   "source": [
    "val = pd.read_csv('mfexltrv.csv')"
   ]
  },
  {
   "cell_type": "code",
   "execution_count": 136,
   "metadata": {
    "collapsed": false
   },
   "outputs": [
    {
     "data": {
      "text/html": [
       "<div>\n",
       "<table border=\"1\" class=\"dataframe\">\n",
       "  <thead>\n",
       "    <tr style=\"text-align: right;\">\n",
       "      <th></th>\n",
       "      <th>Account Number</th>\n",
       "      <th>Age</th>\n",
       "      <th>agehome</th>\n",
       "      <th>cardone</th>\n",
       "      <th>cardtwo</th>\n",
       "      <th>paper</th>\n",
       "      <th>Jan_pay</th>\n",
       "      <th>Feb_pay</th>\n",
       "      <th>Mar_pay</th>\n",
       "      <th>log_data_gb</th>\n",
       "      <th>Jan_hours</th>\n",
       "      <th>Feb_hours</th>\n",
       "      <th>Mar_hours</th>\n",
       "      <th>Jan_postlimit</th>\n",
       "      <th>Feb_postlimit</th>\n",
       "      <th>Mar_postlimit</th>\n",
       "      <th>Jan_def</th>\n",
       "      <th>Feb_def</th>\n",
       "      <th>Mar_def</th>\n",
       "      <th>ILPS_TP</th>\n",
       "      <th>ILPS_PS_GI</th>\n",
       "      <th>ILPS_PS_Others</th>\n",
       "      <th>ILT_Acc</th>\n",
       "      <th>ILT_TP</th>\n",
       "      <th>ILT_OC</th>\n",
       "      <th>ILT_U_EA</th>\n",
       "      <th>ILT_U_AO3</th>\n",
       "      <th>year_diff__2.0</th>\n",
       "      <th>year_diff__3.0</th>\n",
       "      <th>month_diff__0.0</th>\n",
       "      <th>month_3</th>\n",
       "      <th>Sal_ch_low</th>\n",
       "      <th>Sal_ch_med</th>\n",
       "      <th>Sal_ch_high</th>\n",
       "      <th>Sch_ch_vlow</th>\n",
       "      <th>Sch_ch_low</th>\n",
       "      <th>Sch_ch_med</th>\n",
       "      <th>Sch_ch_high</th>\n",
       "      <th>prof_ntn</th>\n",
       "      <th>Female</th>\n",
       "      <th>Male</th>\n",
       "      <th>other</th>\n",
       "      <th>Closed</th>\n",
       "      <th>Eastern</th>\n",
       "      <th>Northern</th>\n",
       "      <th>Southern</th>\n",
       "      <th>Western</th>\n",
       "      <th>BOUGHT</th>\n",
       "      <th>RENTED</th>\n",
       "      <th>Three Full Years</th>\n",
       "    </tr>\n",
       "  </thead>\n",
       "  <tbody>\n",
       "    <tr>\n",
       "      <th>0</th>\n",
       "      <td>V1</td>\n",
       "      <td>54.5</td>\n",
       "      <td>17</td>\n",
       "      <td>0</td>\n",
       "      <td>3</td>\n",
       "      <td>0</td>\n",
       "      <td>748.965</td>\n",
       "      <td>2061.465</td>\n",
       "      <td>748.965</td>\n",
       "      <td>5.444364</td>\n",
       "      <td>400.52</td>\n",
       "      <td>587.93</td>\n",
       "      <td>647.40</td>\n",
       "      <td>0</td>\n",
       "      <td>0</td>\n",
       "      <td>0</td>\n",
       "      <td>0.0</td>\n",
       "      <td>0.0</td>\n",
       "      <td>0.0</td>\n",
       "      <td>0</td>\n",
       "      <td>0</td>\n",
       "      <td>0</td>\n",
       "      <td>0</td>\n",
       "      <td>0</td>\n",
       "      <td>1</td>\n",
       "      <td>1</td>\n",
       "      <td>0</td>\n",
       "      <td>0</td>\n",
       "      <td>1</td>\n",
       "      <td>0</td>\n",
       "      <td>0</td>\n",
       "      <td>1</td>\n",
       "      <td>0</td>\n",
       "      <td>0</td>\n",
       "      <td>1</td>\n",
       "      <td>0</td>\n",
       "      <td>0</td>\n",
       "      <td>0</td>\n",
       "      <td>0</td>\n",
       "      <td>0</td>\n",
       "      <td>0</td>\n",
       "      <td>1</td>\n",
       "      <td>0</td>\n",
       "      <td>0</td>\n",
       "      <td>0</td>\n",
       "      <td>1</td>\n",
       "      <td>0</td>\n",
       "      <td>0</td>\n",
       "      <td>1</td>\n",
       "      <td>1</td>\n",
       "    </tr>\n",
       "    <tr>\n",
       "      <th>1</th>\n",
       "      <td>V2</td>\n",
       "      <td>71.0</td>\n",
       "      <td>22</td>\n",
       "      <td>0</td>\n",
       "      <td>3</td>\n",
       "      <td>0</td>\n",
       "      <td>824.670</td>\n",
       "      <td>824.670</td>\n",
       "      <td>824.670</td>\n",
       "      <td>6.076495</td>\n",
       "      <td>699.75</td>\n",
       "      <td>658.43</td>\n",
       "      <td>656.05</td>\n",
       "      <td>232</td>\n",
       "      <td>35</td>\n",
       "      <td>0</td>\n",
       "      <td>0.0</td>\n",
       "      <td>0.0</td>\n",
       "      <td>0.0</td>\n",
       "      <td>0</td>\n",
       "      <td>0</td>\n",
       "      <td>0</td>\n",
       "      <td>0</td>\n",
       "      <td>0</td>\n",
       "      <td>0</td>\n",
       "      <td>0</td>\n",
       "      <td>0</td>\n",
       "      <td>0</td>\n",
       "      <td>0</td>\n",
       "      <td>0</td>\n",
       "      <td>0</td>\n",
       "      <td>1</td>\n",
       "      <td>0</td>\n",
       "      <td>0</td>\n",
       "      <td>0</td>\n",
       "      <td>0</td>\n",
       "      <td>0</td>\n",
       "      <td>1</td>\n",
       "      <td>0</td>\n",
       "      <td>1</td>\n",
       "      <td>0</td>\n",
       "      <td>0</td>\n",
       "      <td>0</td>\n",
       "      <td>0</td>\n",
       "      <td>0</td>\n",
       "      <td>0</td>\n",
       "      <td>1</td>\n",
       "      <td>0</td>\n",
       "      <td>1</td>\n",
       "      <td>1</td>\n",
       "    </tr>\n",
       "    <tr>\n",
       "      <th>2</th>\n",
       "      <td>V3</td>\n",
       "      <td>69.0</td>\n",
       "      <td>22</td>\n",
       "      <td>0</td>\n",
       "      <td>3</td>\n",
       "      <td>0</td>\n",
       "      <td>839.895</td>\n",
       "      <td>839.895</td>\n",
       "      <td>839.895</td>\n",
       "      <td>6.314634</td>\n",
       "      <td>741.10</td>\n",
       "      <td>679.82</td>\n",
       "      <td>730.47</td>\n",
       "      <td>0</td>\n",
       "      <td>0</td>\n",
       "      <td>60</td>\n",
       "      <td>0.0</td>\n",
       "      <td>0.0</td>\n",
       "      <td>0.0</td>\n",
       "      <td>0</td>\n",
       "      <td>0</td>\n",
       "      <td>0</td>\n",
       "      <td>0</td>\n",
       "      <td>0</td>\n",
       "      <td>0</td>\n",
       "      <td>0</td>\n",
       "      <td>0</td>\n",
       "      <td>1</td>\n",
       "      <td>0</td>\n",
       "      <td>0</td>\n",
       "      <td>0</td>\n",
       "      <td>1</td>\n",
       "      <td>0</td>\n",
       "      <td>0</td>\n",
       "      <td>0</td>\n",
       "      <td>1</td>\n",
       "      <td>0</td>\n",
       "      <td>0</td>\n",
       "      <td>0</td>\n",
       "      <td>0</td>\n",
       "      <td>1</td>\n",
       "      <td>0</td>\n",
       "      <td>0</td>\n",
       "      <td>1</td>\n",
       "      <td>0</td>\n",
       "      <td>0</td>\n",
       "      <td>0</td>\n",
       "      <td>1</td>\n",
       "      <td>0</td>\n",
       "      <td>1</td>\n",
       "    </tr>\n",
       "    <tr>\n",
       "      <th>3</th>\n",
       "      <td>V4</td>\n",
       "      <td>71.0</td>\n",
       "      <td>22</td>\n",
       "      <td>0</td>\n",
       "      <td>3</td>\n",
       "      <td>0</td>\n",
       "      <td>1212.015</td>\n",
       "      <td>1212.015</td>\n",
       "      <td>1212.015</td>\n",
       "      <td>5.344724</td>\n",
       "      <td>683.67</td>\n",
       "      <td>645.82</td>\n",
       "      <td>702.88</td>\n",
       "      <td>0</td>\n",
       "      <td>0</td>\n",
       "      <td>0</td>\n",
       "      <td>0.0</td>\n",
       "      <td>0.0</td>\n",
       "      <td>0.0</td>\n",
       "      <td>0</td>\n",
       "      <td>0</td>\n",
       "      <td>0</td>\n",
       "      <td>0</td>\n",
       "      <td>0</td>\n",
       "      <td>0</td>\n",
       "      <td>0</td>\n",
       "      <td>0</td>\n",
       "      <td>0</td>\n",
       "      <td>0</td>\n",
       "      <td>0</td>\n",
       "      <td>0</td>\n",
       "      <td>0</td>\n",
       "      <td>1</td>\n",
       "      <td>0</td>\n",
       "      <td>1</td>\n",
       "      <td>0</td>\n",
       "      <td>0</td>\n",
       "      <td>0</td>\n",
       "      <td>1</td>\n",
       "      <td>0</td>\n",
       "      <td>1</td>\n",
       "      <td>0</td>\n",
       "      <td>0</td>\n",
       "      <td>1</td>\n",
       "      <td>0</td>\n",
       "      <td>0</td>\n",
       "      <td>0</td>\n",
       "      <td>0</td>\n",
       "      <td>1</td>\n",
       "      <td>1</td>\n",
       "    </tr>\n",
       "    <tr>\n",
       "      <th>4</th>\n",
       "      <td>V5</td>\n",
       "      <td>61.0</td>\n",
       "      <td>22</td>\n",
       "      <td>0</td>\n",
       "      <td>3</td>\n",
       "      <td>0</td>\n",
       "      <td>854.070</td>\n",
       "      <td>854.070</td>\n",
       "      <td>854.070</td>\n",
       "      <td>6.523048</td>\n",
       "      <td>742.82</td>\n",
       "      <td>718.52</td>\n",
       "      <td>733.88</td>\n",
       "      <td>0</td>\n",
       "      <td>0</td>\n",
       "      <td>194</td>\n",
       "      <td>0.0</td>\n",
       "      <td>0.0</td>\n",
       "      <td>713.4</td>\n",
       "      <td>0</td>\n",
       "      <td>0</td>\n",
       "      <td>0</td>\n",
       "      <td>0</td>\n",
       "      <td>0</td>\n",
       "      <td>0</td>\n",
       "      <td>0</td>\n",
       "      <td>0</td>\n",
       "      <td>1</td>\n",
       "      <td>0</td>\n",
       "      <td>1</td>\n",
       "      <td>0</td>\n",
       "      <td>0</td>\n",
       "      <td>1</td>\n",
       "      <td>0</td>\n",
       "      <td>0</td>\n",
       "      <td>0</td>\n",
       "      <td>1</td>\n",
       "      <td>0</td>\n",
       "      <td>0</td>\n",
       "      <td>0</td>\n",
       "      <td>1</td>\n",
       "      <td>0</td>\n",
       "      <td>0</td>\n",
       "      <td>0</td>\n",
       "      <td>1</td>\n",
       "      <td>0</td>\n",
       "      <td>0</td>\n",
       "      <td>0</td>\n",
       "      <td>1</td>\n",
       "      <td>1</td>\n",
       "    </tr>\n",
       "  </tbody>\n",
       "</table>\n",
       "</div>"
      ],
      "text/plain": [
       "  Account Number   Age  agehome  cardone  cardtwo  paper   Jan_pay   Feb_pay  \\\n",
       "0             V1  54.5       17        0        3      0   748.965  2061.465   \n",
       "1             V2  71.0       22        0        3      0   824.670   824.670   \n",
       "2             V3  69.0       22        0        3      0   839.895   839.895   \n",
       "3             V4  71.0       22        0        3      0  1212.015  1212.015   \n",
       "4             V5  61.0       22        0        3      0   854.070   854.070   \n",
       "\n",
       "    Mar_pay  log_data_gb  Jan_hours  Feb_hours  Mar_hours  Jan_postlimit  \\\n",
       "0   748.965     5.444364     400.52     587.93     647.40              0   \n",
       "1   824.670     6.076495     699.75     658.43     656.05            232   \n",
       "2   839.895     6.314634     741.10     679.82     730.47              0   \n",
       "3  1212.015     5.344724     683.67     645.82     702.88              0   \n",
       "4   854.070     6.523048     742.82     718.52     733.88              0   \n",
       "\n",
       "   Feb_postlimit  Mar_postlimit  Jan_def  Feb_def  Mar_def  ILPS_TP  \\\n",
       "0              0              0      0.0      0.0      0.0        0   \n",
       "1             35              0      0.0      0.0      0.0        0   \n",
       "2              0             60      0.0      0.0      0.0        0   \n",
       "3              0              0      0.0      0.0      0.0        0   \n",
       "4              0            194      0.0      0.0    713.4        0   \n",
       "\n",
       "   ILPS_PS_GI  ILPS_PS_Others  ILT_Acc  ILT_TP  ILT_OC  ILT_U_EA  ILT_U_AO3  \\\n",
       "0           0               0        0       0       1         1          0   \n",
       "1           0               0        0       0       0         0          0   \n",
       "2           0               0        0       0       0         0          0   \n",
       "3           0               0        0       0       0         0          0   \n",
       "4           0               0        0       0       0         0          0   \n",
       "\n",
       "   year_diff__2.0  year_diff__3.0  month_diff__0.0  month_3  Sal_ch_low  \\\n",
       "0               0               1                0        0           1   \n",
       "1               0               0                0        0           1   \n",
       "2               1               0                0        0           1   \n",
       "3               0               0                0        0           0   \n",
       "4               1               0                1        0           0   \n",
       "\n",
       "   Sal_ch_med  Sal_ch_high  Sch_ch_vlow  Sch_ch_low  Sch_ch_med  Sch_ch_high  \\\n",
       "0           0            0            1           0           0            0   \n",
       "1           0            0            0           0           0            1   \n",
       "2           0            0            0           1           0            0   \n",
       "3           1            0            1           0           0            0   \n",
       "4           1            0            0           0           1            0   \n",
       "\n",
       "   prof_ntn  Female  Male  other  Closed  Eastern  Northern  Southern  \\\n",
       "0         0       0     0      1       0        0         0         1   \n",
       "1         0       1     0      0       0        0         0         0   \n",
       "2         0       0     1      0       0        1         0         0   \n",
       "3         1       0     1      0       0        1         0         0   \n",
       "4         0       0     1      0       0        0         1         0   \n",
       "\n",
       "   Western  BOUGHT  RENTED  Three Full Years  \n",
       "0        0       0       1                 1  \n",
       "1        1       0       1                 1  \n",
       "2        0       1       0                 1  \n",
       "3        0       0       1                 1  \n",
       "4        0       0       1                 1  "
      ]
     },
     "execution_count": 136,
     "metadata": {},
     "output_type": "execute_result"
    }
   ],
   "source": [
    "val.head()"
   ]
  },
  {
   "cell_type": "code",
   "execution_count": 137,
   "metadata": {
    "collapsed": false
   },
   "outputs": [
    {
     "data": {
      "text/plain": [
       "Index(['Account Number', 'Age', 'agehome', 'Churn', 'cardone', 'cardtwo',\n",
       "       'paper', 'Jan_pay', 'Feb_pay', 'Mar_pay', 'log_data_gb', 'Jan_hours',\n",
       "       'Feb_hours', 'Mar_hours', 'Jan_postlimit', 'Feb_postlimit',\n",
       "       'Mar_postlimit', 'Jan_def', 'Feb_def', 'Mar_def', 'Age_low', 'Age_med',\n",
       "       'Age_high', 'ILPS_Others', 'ILPS_ABC_BM', 'ILPS_TP', 'ILPS_PS_GI',\n",
       "       'ILPS_PS_Others', 'ILPS_SO', 'ILPS_U', 'ILT_ABC', 'ILT_Acc', 'ILT_TP',\n",
       "       'ILT_OC', 'ILT_Outbound', 'ILT_U_EA', 'ILT_U_AO3', 'year_diff__2.0',\n",
       "       'year_diff__3.0', 'month_diff__0.0', 'month_3', 'Sal_ch_low',\n",
       "       'Sal_ch_med', 'Sal_ch_high', 'Sch_ch_vlow', 'Sch_ch_low', 'Sch_ch_med',\n",
       "       'Sch_ch_high', 'prof_ntn', 'Female', 'Male', 'other', 'Closed', 'Open',\n",
       "       'Eastern', 'Northern', 'Southern', 'Western', 'BOUGHT', 'RENTED',\n",
       "       'Second Hand', 'INVALID', 'VALID', 'Full Year',\n",
       "       'Full Year Plus 3 Months', 'Three Full Years', 'IL_comb'],\n",
       "      dtype='object')"
      ]
     },
     "execution_count": 137,
     "metadata": {},
     "output_type": "execute_result"
    },
    {
     "data": {
      "text/plain": [
       "Index(['Account Number', 'Age', 'agehome', 'cardone', 'cardtwo', 'paper',\n",
       "       'Jan_pay', 'Feb_pay', 'Mar_pay', 'log_data_gb', 'Jan_hours',\n",
       "       'Feb_hours', 'Mar_hours', 'Jan_postlimit', 'Feb_postlimit',\n",
       "       'Mar_postlimit', 'Jan_def', 'Feb_def', 'Mar_def', 'ILPS_TP',\n",
       "       'ILPS_PS_GI', 'ILPS_PS_Others', 'ILT_Acc', 'ILT_TP', 'ILT_OC',\n",
       "       'ILT_U_EA', 'ILT_U_AO3', 'year_diff__2.0', 'year_diff__3.0',\n",
       "       'month_diff__0.0', 'month_3', 'Sal_ch_low', 'Sal_ch_med', 'Sal_ch_high',\n",
       "       'Sch_ch_vlow', 'Sch_ch_low', 'Sch_ch_med', 'Sch_ch_high', 'prof_ntn',\n",
       "       'Female', 'Male', 'other', 'Closed', 'Eastern', 'Northern', 'Southern',\n",
       "       'Western', 'BOUGHT', 'RENTED', 'Three Full Years'],\n",
       "      dtype='object')"
      ]
     },
     "execution_count": 137,
     "metadata": {},
     "output_type": "execute_result"
    }
   ],
   "source": [
    "df.columns\n",
    "val.columns"
   ]
  },
  {
   "cell_type": "code",
   "execution_count": 138,
   "metadata": {
    "collapsed": false
   },
   "outputs": [
    {
     "data": {
      "text/plain": [
       "(9957, 67)"
      ]
     },
     "execution_count": 138,
     "metadata": {},
     "output_type": "execute_result"
    },
    {
     "data": {
      "text/plain": [
       "(4986, 50)"
      ]
     },
     "execution_count": 138,
     "metadata": {},
     "output_type": "execute_result"
    }
   ],
   "source": [
    "df.shape\n",
    "val.shape"
   ]
  },
  {
   "cell_type": "code",
   "execution_count": null,
   "metadata": {
    "collapsed": true
   },
   "outputs": [],
   "source": [
    "#DELETING ALL THE CALL CENTRE LEVELS WHICH ARE OF NO USE"
   ]
  },
  {
   "cell_type": "code",
   "execution_count": 139,
   "metadata": {
    "collapsed": false
   },
   "outputs": [],
   "source": [
    "del df[\"ILPS_SO\"]"
   ]
  },
  {
   "cell_type": "code",
   "execution_count": 140,
   "metadata": {
    "collapsed": false
   },
   "outputs": [],
   "source": [
    "del df['ILPS_U']"
   ]
  },
  {
   "cell_type": "code",
   "execution_count": 141,
   "metadata": {
    "collapsed": false
   },
   "outputs": [],
   "source": [
    "del df['ILPS_ABC_BM']"
   ]
  },
  {
   "cell_type": "code",
   "execution_count": 142,
   "metadata": {
    "collapsed": true
   },
   "outputs": [],
   "source": [
    "del df['Age_low']\n",
    "del df['Age_med']\n",
    "del df['Age_high']\n"
   ]
  },
  {
   "cell_type": "code",
   "execution_count": 143,
   "metadata": {
    "collapsed": true
   },
   "outputs": [],
   "source": [
    "del df['IL_comb']"
   ]
  },
  {
   "cell_type": "code",
   "execution_count": 144,
   "metadata": {
    "collapsed": true
   },
   "outputs": [],
   "source": [
    "del df['Full Year Plus 3 Months']\n",
    "del df['Full Year']\n"
   ]
  },
  {
   "cell_type": "code",
   "execution_count": 145,
   "metadata": {
    "collapsed": false
   },
   "outputs": [],
   "source": [
    "del df['ILPS_Others']\n",
    "del df['Open']"
   ]
  },
  {
   "cell_type": "code",
   "execution_count": 146,
   "metadata": {
    "collapsed": true
   },
   "outputs": [],
   "source": [
    "del df['VALID']\n",
    "del df['INVALID']"
   ]
  },
  {
   "cell_type": "code",
   "execution_count": 147,
   "metadata": {
    "collapsed": false
   },
   "outputs": [],
   "source": [
    "del df['ILT_ABC']"
   ]
  },
  {
   "cell_type": "code",
   "execution_count": 148,
   "metadata": {
    "collapsed": true
   },
   "outputs": [],
   "source": [
    "del df[\"Second Hand\"]"
   ]
  },
  {
   "cell_type": "code",
   "execution_count": 149,
   "metadata": {
    "collapsed": false
   },
   "outputs": [],
   "source": [
    "del df['ILT_Outbound']"
   ]
  },
  {
   "cell_type": "code",
   "execution_count": 150,
   "metadata": {
    "collapsed": false
   },
   "outputs": [],
   "source": [
    "from xgboost.sklearn import XGBClassifier\n",
    "from sklearn.cross_validation import cross_val_score, train_test_split\n",
    "from sklearn.metrics import accuracy_score\n",
    "from sklearn.metrics import roc_auc_score\n",
    "from sklearn.metrics import roc_curve\n",
    "from sklearn.metrics import precision_recall_curve\n",
    "from sklearn.metrics import auc\n"
   ]
  },
  {
   "cell_type": "code",
   "execution_count": 151,
   "metadata": {
    "collapsed": true
   },
   "outputs": [],
   "source": [
    "x_train, x_test, y_train, y_test = train_test_split(df.drop(['Account Number','Churn'], axis=1),df['Churn'],stratify=df['Churn'],test_size=0.333,random_state=468)"
   ]
  },
  {
   "cell_type": "code",
   "execution_count": 156,
   "metadata": {
    "collapsed": false
   },
   "outputs": [],
   "source": [
    "y_train.to_csv(\"ytrainxgb.csv\")"
   ]
  },
  {
   "cell_type": "code",
   "execution_count": 157,
   "metadata": {
    "collapsed": true
   },
   "outputs": [],
   "source": [
    "y_test.to_csv(\"ytestxgb.csv\")"
   ]
  },
  {
   "cell_type": "code",
   "execution_count": null,
   "metadata": {
    "collapsed": true
   },
   "outputs": [],
   "source": [
    "#XGBOOST HYPERPARAMETERS TO DEAL WITH IMBALANCED DATA"
   ]
  },
  {
   "cell_type": "code",
   "execution_count": 159,
   "metadata": {
    "collapsed": true
   },
   "outputs": [],
   "source": [
    "xgb = XGBClassifier(n_estimators=150, objective='binary:logistic', silent=False,max_depth=4,scale_pos_weight=15.25,gamma=14.5,max_delta_step=0.70,seed=42,learning_rate=0.1,reg_alpha=1,min_child_weight=2)"
   ]
  },
  {
   "cell_type": "code",
   "execution_count": 160,
   "metadata": {
    "collapsed": false
   },
   "outputs": [
    {
     "data": {
      "text/plain": [
       "XGBClassifier(base_score=0.5, colsample_bylevel=1, colsample_bytree=1,\n",
       "       gamma=14.5, learning_rate=0.1, max_delta_step=0.7, max_depth=4,\n",
       "       min_child_weight=2, missing=None, n_estimators=150, nthread=-1,\n",
       "       objective='binary:logistic', reg_alpha=1, reg_lambda=1,\n",
       "       scale_pos_weight=15.25, seed=42, silent=False, subsample=1)"
      ]
     },
     "execution_count": 160,
     "metadata": {},
     "output_type": "execute_result"
    }
   ],
   "source": [
    "xgb.fit(x_train,y_train)"
   ]
  },
  {
   "cell_type": "code",
   "execution_count": 161,
   "metadata": {
    "collapsed": true
   },
   "outputs": [],
   "source": [
    "pred_train = xgb.predict(x_train)"
   ]
  },
  {
   "cell_type": "code",
   "execution_count": 162,
   "metadata": {
    "collapsed": false
   },
   "outputs": [
    {
     "data": {
      "text/plain": [
       "0.91552477036590874"
      ]
     },
     "execution_count": 162,
     "metadata": {},
     "output_type": "execute_result"
    }
   ],
   "source": [
    "accuracy_score(y_train,pred_train)"
   ]
  },
  {
   "cell_type": "code",
   "execution_count": 163,
   "metadata": {
    "collapsed": false
   },
   "outputs": [],
   "source": [
    "pred_test = xgb.predict(x_test)"
   ]
  },
  {
   "cell_type": "code",
   "execution_count": 164,
   "metadata": {
    "collapsed": false
   },
   "outputs": [
    {
     "data": {
      "text/plain": [
       "0.87756332931242464"
      ]
     },
     "execution_count": 164,
     "metadata": {},
     "output_type": "execute_result"
    }
   ],
   "source": [
    "accuracy_score(y_test,pred_test)"
   ]
  },
  {
   "cell_type": "code",
   "execution_count": 204,
   "metadata": {
    "collapsed": false
   },
   "outputs": [
    {
     "data": {
      "text/plain": [
       "array([ 0.88562829,  0.89390519,  0.89457831,  0.88027108,  0.88771665])"
      ]
     },
     "execution_count": 204,
     "metadata": {},
     "output_type": "execute_result"
    }
   ],
   "source": [
    "cross_val_score(xgb,x_train,y_train,cv=5)"
   ]
  },
  {
   "cell_type": "code",
   "execution_count": 206,
   "metadata": {
    "collapsed": false
   },
   "outputs": [
    {
     "data": {
      "text/plain": [
       "0.87968378963489668"
      ]
     },
     "execution_count": 206,
     "metadata": {},
     "output_type": "execute_result"
    }
   ],
   "source": [
    "cross_val_score(xgb,x_test,y_test,cv=5).mean()"
   ]
  },
  {
   "cell_type": "code",
   "execution_count": 165,
   "metadata": {
    "collapsed": false
   },
   "outputs": [
    {
     "data": {
      "text/plain": [
       "<matplotlib.axes._subplots.AxesSubplot at 0x291a2eba6d8>"
      ]
     },
     "execution_count": 165,
     "metadata": {},
     "output_type": "execute_result"
    },
    {
     "data": {
      "image/png": "[encoded data removed]",
      "text/plain": [
       "<matplotlib.figure.Figure at 0x291a2ebfeb8>"
      ]
     },
     "metadata": {},
     "output_type": "display_data"
    }
   ],
   "source": [
    "from xgboost import plot_importance\n",
    "rcParams['figure.figsize'] = (14, 14)\n",
    "plot_importance(xgb)"
   ]
  },
  {
   "cell_type": "code",
   "execution_count": 202,
   "metadata": {
    "collapsed": false
   },
   "outputs": [
    {
     "data": {
      "text/plain": [
       "<matplotlib.axes._subplots.AxesSubplot at 0x291a4991dd8>"
      ]
     },
     "execution_count": 202,
     "metadata": {},
     "output_type": "execute_result"
    },
    {
     "data": {
      "image/png": "[encoded data removed]",
      "text/plain": [
       "<matplotlib.figure.Figure at 0x291a491fa20>"
      ]
     },
     "metadata": {},
     "output_type": "display_data"
    }
   ],
   "source": [
    "make_roc(\"XGB\",xgb,y_test,x_test,labe=5)\n",
    "rcParams['figure.figsize'] = (8, 6)"
   ]
  },
  {
   "cell_type": "code",
   "execution_count": 167,
   "metadata": {
    "collapsed": false
   },
   "outputs": [
    {
     "data": {
      "text/plain": [
       "0.25912408759124084"
      ]
     },
     "execution_count": 167,
     "metadata": {},
     "output_type": "execute_result"
    }
   ],
   "source": [
    "from sklearn.metrics import f1_score\n",
    "f1_score(y_test,pred_test)\n"
   ]
  },
  {
   "cell_type": "code",
   "execution_count": 168,
   "metadata": {
    "collapsed": true
   },
   "outputs": [],
   "source": [
    "#Predicting probabilities\n",
    "pred1 = xgb.predict_proba(x_train)\n",
    "pred2 = xgb.predict_proba(x_test)"
   ]
  },
  {
   "cell_type": "code",
   "execution_count": 169,
   "metadata": {
    "collapsed": true
   },
   "outputs": [],
   "source": [
    "px2 = pred1.reshape((-1,2))\n",
    "px3 = pd.DataFrame({'R':px2[:,0],\"S\":px2[:,1]})\n",
    "px4 = pred2.reshape((-1,2))\n",
    "px5 = pd.DataFrame({'R':px4[:,0],\"S\":px4[:,1]})"
   ]
  },
  {
   "cell_type": "code",
   "execution_count": 170,
   "metadata": {
    "collapsed": false
   },
   "outputs": [],
   "source": [
    "px3.to_csv(\"trexl.csv\",index=False)"
   ]
  },
  {
   "cell_type": "code",
   "execution_count": 171,
   "metadata": {
    "collapsed": true
   },
   "outputs": [],
   "source": [
    "px5.to_csv(\"teexl.csv\",index=False)"
   ]
  },
  {
   "cell_type": "code",
   "execution_count": 172,
   "metadata": {
    "collapsed": true
   },
   "outputs": [],
   "source": [
    "trexl = pd.read_csv('trexl.csv')"
   ]
  },
  {
   "cell_type": "code",
   "execution_count": 174,
   "metadata": {
    "collapsed": false
   },
   "outputs": [],
   "source": [
    "teexl = pd.read_csv('teexl.csv')"
   ]
  },
  {
   "cell_type": "code",
   "execution_count": 176,
   "metadata": {
    "collapsed": false
   },
   "outputs": [
    {
     "data": {
      "text/html": [
       "<div>\n",
       "<table border=\"1\" class=\"dataframe\">\n",
       "  <thead>\n",
       "    <tr style=\"text-align: right;\">\n",
       "      <th></th>\n",
       "      <th>R</th>\n",
       "      <th>S</th>\n",
       "      <th>Churn</th>\n",
       "      <th>c46</th>\n",
       "      <th>c53</th>\n",
       "      <th>c60</th>\n",
       "      <th>c65</th>\n",
       "      <th>c69</th>\n",
       "    </tr>\n",
       "  </thead>\n",
       "  <tbody>\n",
       "    <tr>\n",
       "      <th>0</th>\n",
       "      <td>0.479767</td>\n",
       "      <td>0.520233</td>\n",
       "      <td>0</td>\n",
       "      <td>1</td>\n",
       "      <td>0</td>\n",
       "      <td>0</td>\n",
       "      <td>0</td>\n",
       "      <td>0</td>\n",
       "    </tr>\n",
       "    <tr>\n",
       "      <th>1</th>\n",
       "      <td>0.832618</td>\n",
       "      <td>0.167382</td>\n",
       "      <td>0</td>\n",
       "      <td>0</td>\n",
       "      <td>0</td>\n",
       "      <td>0</td>\n",
       "      <td>0</td>\n",
       "      <td>0</td>\n",
       "    </tr>\n",
       "    <tr>\n",
       "      <th>2</th>\n",
       "      <td>0.781257</td>\n",
       "      <td>0.218743</td>\n",
       "      <td>0</td>\n",
       "      <td>0</td>\n",
       "      <td>0</td>\n",
       "      <td>0</td>\n",
       "      <td>0</td>\n",
       "      <td>0</td>\n",
       "    </tr>\n",
       "    <tr>\n",
       "      <th>3</th>\n",
       "      <td>0.814808</td>\n",
       "      <td>0.185192</td>\n",
       "      <td>0</td>\n",
       "      <td>0</td>\n",
       "      <td>0</td>\n",
       "      <td>0</td>\n",
       "      <td>0</td>\n",
       "      <td>0</td>\n",
       "    </tr>\n",
       "    <tr>\n",
       "      <th>4</th>\n",
       "      <td>0.948467</td>\n",
       "      <td>0.051533</td>\n",
       "      <td>0</td>\n",
       "      <td>0</td>\n",
       "      <td>0</td>\n",
       "      <td>0</td>\n",
       "      <td>0</td>\n",
       "      <td>0</td>\n",
       "    </tr>\n",
       "  </tbody>\n",
       "</table>\n",
       "</div>"
      ],
      "text/plain": [
       "          R         S  Churn  c46  c53  c60  c65  c69\n",
       "0  0.479767  0.520233      0    1    0    0    0    0\n",
       "1  0.832618  0.167382      0    0    0    0    0    0\n",
       "2  0.781257  0.218743      0    0    0    0    0    0\n",
       "3  0.814808  0.185192      0    0    0    0    0    0\n",
       "4  0.948467  0.051533      0    0    0    0    0    0"
      ]
     },
     "execution_count": 176,
     "metadata": {},
     "output_type": "execute_result"
    }
   ],
   "source": [
    "trexl.head()"
   ]
  },
  {
   "cell_type": "code",
   "execution_count": 177,
   "metadata": {
    "collapsed": false
   },
   "outputs": [
    {
     "data": {
      "text/html": [
       "<div>\n",
       "<table border=\"1\" class=\"dataframe\">\n",
       "  <thead>\n",
       "    <tr style=\"text-align: right;\">\n",
       "      <th>c46</th>\n",
       "      <th>0</th>\n",
       "      <th>1</th>\n",
       "    </tr>\n",
       "    <tr>\n",
       "      <th>Churn</th>\n",
       "      <th></th>\n",
       "      <th></th>\n",
       "    </tr>\n",
       "  </thead>\n",
       "  <tbody>\n",
       "    <tr>\n",
       "      <th>0</th>\n",
       "      <td>5734</td>\n",
       "      <td>570</td>\n",
       "    </tr>\n",
       "    <tr>\n",
       "      <th>1</th>\n",
       "      <td>52</td>\n",
       "      <td>285</td>\n",
       "    </tr>\n",
       "  </tbody>\n",
       "</table>\n",
       "</div>"
      ],
      "text/plain": [
       "c46       0    1\n",
       "Churn           \n",
       "0      5734  570\n",
       "1        52  285"
      ]
     },
     "execution_count": 177,
     "metadata": {},
     "output_type": "execute_result"
    },
    {
     "data": {
      "text/html": [
       "<div>\n",
       "<table border=\"1\" class=\"dataframe\">\n",
       "  <thead>\n",
       "    <tr style=\"text-align: right;\">\n",
       "      <th>c53</th>\n",
       "      <th>0</th>\n",
       "      <th>1</th>\n",
       "    </tr>\n",
       "    <tr>\n",
       "      <th>Churn</th>\n",
       "      <th></th>\n",
       "      <th></th>\n",
       "    </tr>\n",
       "  </thead>\n",
       "  <tbody>\n",
       "    <tr>\n",
       "      <th>0</th>\n",
       "      <td>5897</td>\n",
       "      <td>407</td>\n",
       "    </tr>\n",
       "    <tr>\n",
       "      <th>1</th>\n",
       "      <td>93</td>\n",
       "      <td>244</td>\n",
       "    </tr>\n",
       "  </tbody>\n",
       "</table>\n",
       "</div>"
      ],
      "text/plain": [
       "c53       0    1\n",
       "Churn           \n",
       "0      5897  407\n",
       "1        93  244"
      ]
     },
     "execution_count": 177,
     "metadata": {},
     "output_type": "execute_result"
    },
    {
     "data": {
      "text/html": [
       "<div>\n",
       "<table border=\"1\" class=\"dataframe\">\n",
       "  <thead>\n",
       "    <tr style=\"text-align: right;\">\n",
       "      <th>c60</th>\n",
       "      <th>0</th>\n",
       "      <th>1</th>\n",
       "    </tr>\n",
       "    <tr>\n",
       "      <th>Churn</th>\n",
       "      <th></th>\n",
       "      <th></th>\n",
       "    </tr>\n",
       "  </thead>\n",
       "  <tbody>\n",
       "    <tr>\n",
       "      <th>0</th>\n",
       "      <td>6021</td>\n",
       "      <td>283</td>\n",
       "    </tr>\n",
       "    <tr>\n",
       "      <th>1</th>\n",
       "      <td>115</td>\n",
       "      <td>222</td>\n",
       "    </tr>\n",
       "  </tbody>\n",
       "</table>\n",
       "</div>"
      ],
      "text/plain": [
       "c60       0    1\n",
       "Churn           \n",
       "0      6021  283\n",
       "1       115  222"
      ]
     },
     "execution_count": 177,
     "metadata": {},
     "output_type": "execute_result"
    },
    {
     "data": {
      "text/html": [
       "<div>\n",
       "<table border=\"1\" class=\"dataframe\">\n",
       "  <thead>\n",
       "    <tr style=\"text-align: right;\">\n",
       "      <th>c65</th>\n",
       "      <th>0</th>\n",
       "      <th>1</th>\n",
       "    </tr>\n",
       "    <tr>\n",
       "      <th>Churn</th>\n",
       "      <th></th>\n",
       "      <th></th>\n",
       "    </tr>\n",
       "  </thead>\n",
       "  <tbody>\n",
       "    <tr>\n",
       "      <th>0</th>\n",
       "      <td>6097</td>\n",
       "      <td>207</td>\n",
       "    </tr>\n",
       "    <tr>\n",
       "      <th>1</th>\n",
       "      <td>138</td>\n",
       "      <td>199</td>\n",
       "    </tr>\n",
       "  </tbody>\n",
       "</table>\n",
       "</div>"
      ],
      "text/plain": [
       "c65       0    1\n",
       "Churn           \n",
       "0      6097  207\n",
       "1       138  199"
      ]
     },
     "execution_count": 177,
     "metadata": {},
     "output_type": "execute_result"
    },
    {
     "data": {
      "text/html": [
       "<div>\n",
       "<table border=\"1\" class=\"dataframe\">\n",
       "  <thead>\n",
       "    <tr style=\"text-align: right;\">\n",
       "      <th>c69</th>\n",
       "      <th>0</th>\n",
       "      <th>1</th>\n",
       "    </tr>\n",
       "    <tr>\n",
       "      <th>Churn</th>\n",
       "      <th></th>\n",
       "      <th></th>\n",
       "    </tr>\n",
       "  </thead>\n",
       "  <tbody>\n",
       "    <tr>\n",
       "      <th>0</th>\n",
       "      <td>6153</td>\n",
       "      <td>151</td>\n",
       "    </tr>\n",
       "    <tr>\n",
       "      <th>1</th>\n",
       "      <td>154</td>\n",
       "      <td>183</td>\n",
       "    </tr>\n",
       "  </tbody>\n",
       "</table>\n",
       "</div>"
      ],
      "text/plain": [
       "c69       0    1\n",
       "Churn           \n",
       "0      6153  151\n",
       "1       154  183"
      ]
     },
     "execution_count": 177,
     "metadata": {},
     "output_type": "execute_result"
    }
   ],
   "source": [
    "#Analyzing different cutoffs using Crosstab value\n",
    "pd.crosstab(trexl['Churn'],trexl['c46'])\n",
    "pd.crosstab(trexl['Churn'],trexl['c53'])\n",
    "pd.crosstab(trexl['Churn'],trexl['c60'])\n",
    "pd.crosstab(trexl['Churn'],trexl['c65'])\n",
    "pd.crosstab(trexl['Churn'],trexl['c69'])"
   ]
  },
  {
   "cell_type": "code",
   "execution_count": 178,
   "metadata": {
    "collapsed": false
   },
   "outputs": [
    {
     "data": {
      "text/html": [
       "<div>\n",
       "<table border=\"1\" class=\"dataframe\">\n",
       "  <thead>\n",
       "    <tr style=\"text-align: right;\">\n",
       "      <th>c46</th>\n",
       "      <th>0</th>\n",
       "      <th>1</th>\n",
       "    </tr>\n",
       "    <tr>\n",
       "      <th>Churn</th>\n",
       "      <th></th>\n",
       "      <th></th>\n",
       "    </tr>\n",
       "  </thead>\n",
       "  <tbody>\n",
       "    <tr>\n",
       "      <th>0</th>\n",
       "      <td>2785</td>\n",
       "      <td>362</td>\n",
       "    </tr>\n",
       "    <tr>\n",
       "      <th>1</th>\n",
       "      <td>94</td>\n",
       "      <td>75</td>\n",
       "    </tr>\n",
       "  </tbody>\n",
       "</table>\n",
       "</div>"
      ],
      "text/plain": [
       "c46       0    1\n",
       "Churn           \n",
       "0      2785  362\n",
       "1        94   75"
      ]
     },
     "execution_count": 178,
     "metadata": {},
     "output_type": "execute_result"
    },
    {
     "data": {
      "text/html": [
       "<div>\n",
       "<table border=\"1\" class=\"dataframe\">\n",
       "  <thead>\n",
       "    <tr style=\"text-align: right;\">\n",
       "      <th>c53</th>\n",
       "      <th>0</th>\n",
       "      <th>1</th>\n",
       "    </tr>\n",
       "    <tr>\n",
       "      <th>Churn</th>\n",
       "      <th></th>\n",
       "      <th></th>\n",
       "    </tr>\n",
       "  </thead>\n",
       "  <tbody>\n",
       "    <tr>\n",
       "      <th>0</th>\n",
       "      <td>2886</td>\n",
       "      <td>261</td>\n",
       "    </tr>\n",
       "    <tr>\n",
       "      <th>1</th>\n",
       "      <td>100</td>\n",
       "      <td>69</td>\n",
       "    </tr>\n",
       "  </tbody>\n",
       "</table>\n",
       "</div>"
      ],
      "text/plain": [
       "c53       0    1\n",
       "Churn           \n",
       "0      2886  261\n",
       "1       100   69"
      ]
     },
     "execution_count": 178,
     "metadata": {},
     "output_type": "execute_result"
    },
    {
     "data": {
      "text/html": [
       "<div>\n",
       "<table border=\"1\" class=\"dataframe\">\n",
       "  <thead>\n",
       "    <tr style=\"text-align: right;\">\n",
       "      <th>c60</th>\n",
       "      <th>0</th>\n",
       "      <th>1</th>\n",
       "    </tr>\n",
       "    <tr>\n",
       "      <th>Churn</th>\n",
       "      <th></th>\n",
       "      <th></th>\n",
       "    </tr>\n",
       "  </thead>\n",
       "  <tbody>\n",
       "    <tr>\n",
       "      <th>0</th>\n",
       "      <td>2966</td>\n",
       "      <td>181</td>\n",
       "    </tr>\n",
       "    <tr>\n",
       "      <th>1</th>\n",
       "      <td>107</td>\n",
       "      <td>62</td>\n",
       "    </tr>\n",
       "  </tbody>\n",
       "</table>\n",
       "</div>"
      ],
      "text/plain": [
       "c60       0    1\n",
       "Churn           \n",
       "0      2966  181\n",
       "1       107   62"
      ]
     },
     "execution_count": 178,
     "metadata": {},
     "output_type": "execute_result"
    },
    {
     "data": {
      "text/html": [
       "<div>\n",
       "<table border=\"1\" class=\"dataframe\">\n",
       "  <thead>\n",
       "    <tr style=\"text-align: right;\">\n",
       "      <th>c65</th>\n",
       "      <th>0</th>\n",
       "      <th>1</th>\n",
       "    </tr>\n",
       "    <tr>\n",
       "      <th>Churn</th>\n",
       "      <th></th>\n",
       "      <th></th>\n",
       "    </tr>\n",
       "  </thead>\n",
       "  <tbody>\n",
       "    <tr>\n",
       "      <th>0</th>\n",
       "      <td>3022</td>\n",
       "      <td>125</td>\n",
       "    </tr>\n",
       "    <tr>\n",
       "      <th>1</th>\n",
       "      <td>109</td>\n",
       "      <td>60</td>\n",
       "    </tr>\n",
       "  </tbody>\n",
       "</table>\n",
       "</div>"
      ],
      "text/plain": [
       "c65       0    1\n",
       "Churn           \n",
       "0      3022  125\n",
       "1       109   60"
      ]
     },
     "execution_count": 178,
     "metadata": {},
     "output_type": "execute_result"
    },
    {
     "data": {
      "text/html": [
       "<div>\n",
       "<table border=\"1\" class=\"dataframe\">\n",
       "  <thead>\n",
       "    <tr style=\"text-align: right;\">\n",
       "      <th>c69</th>\n",
       "      <th>0</th>\n",
       "      <th>1</th>\n",
       "    </tr>\n",
       "    <tr>\n",
       "      <th>Churn</th>\n",
       "      <th></th>\n",
       "      <th></th>\n",
       "    </tr>\n",
       "  </thead>\n",
       "  <tbody>\n",
       "    <tr>\n",
       "      <th>0</th>\n",
       "      <td>3048</td>\n",
       "      <td>99</td>\n",
       "    </tr>\n",
       "    <tr>\n",
       "      <th>1</th>\n",
       "      <td>113</td>\n",
       "      <td>56</td>\n",
       "    </tr>\n",
       "  </tbody>\n",
       "</table>\n",
       "</div>"
      ],
      "text/plain": [
       "c69       0   1\n",
       "Churn          \n",
       "0      3048  99\n",
       "1       113  56"
      ]
     },
     "execution_count": 178,
     "metadata": {},
     "output_type": "execute_result"
    }
   ],
   "source": [
    "pd.crosstab(teexl['Churn'],teexl['c46'])\n",
    "pd.crosstab(teexl['Churn'],teexl['c53'])\n",
    "pd.crosstab(teexl['Churn'],teexl['c60'])\n",
    "pd.crosstab(teexl['Churn'],teexl['c65'])\n",
    "pd.crosstab(teexl['Churn'],teexl['c69'])"
   ]
  },
  {
   "cell_type": "code",
   "execution_count": 80,
   "metadata": {
    "collapsed": false
   },
   "outputs": [
    {
     "data": {
      "text/plain": [
       "(6641,)"
      ]
     },
     "execution_count": 80,
     "metadata": {},
     "output_type": "execute_result"
    }
   ],
   "source": [
    "y_train.shape"
   ]
  },
  {
   "cell_type": "code",
   "execution_count": 180,
   "metadata": {
    "collapsed": false
   },
   "outputs": [],
   "source": [
    "a = val['Account Number']\n",
    "del val['Account Number']"
   ]
  },
  {
   "cell_type": "code",
   "execution_count": 183,
   "metadata": {
    "collapsed": true
   },
   "outputs": [],
   "source": [
    "finale = xgb.predict(val)"
   ]
  },
  {
   "cell_type": "code",
   "execution_count": 197,
   "metadata": {
    "collapsed": false
   },
   "outputs": [
    {
     "data": {
      "text/plain": [
       "(4986, 49)"
      ]
     },
     "execution_count": 197,
     "metadata": {},
     "output_type": "execute_result"
    }
   ],
   "source": [
    "val.shape"
   ]
  },
  {
   "cell_type": "code",
   "execution_count": 185,
   "metadata": {
    "collapsed": true
   },
   "outputs": [],
   "source": [
    "finaleprob = xgb.predict_proba(val)"
   ]
  },
  {
   "cell_type": "code",
   "execution_count": 199,
   "metadata": {
    "collapsed": false
   },
   "outputs": [],
   "source": [
    "p2 = xgb.predict_proba(val)\n",
    "px9 = finaleprob.reshape((-1,2))\n",
    "px10 = pd.DataFrame({'R':px9[:,0],\"S\":px9[:,1]})"
   ]
  },
  {
   "cell_type": "code",
   "execution_count": 200,
   "metadata": {
    "collapsed": true
   },
   "outputs": [],
   "source": [
    "px10.to_csv(\"finallyabsahihai.csv\",index=False)"
   ]
  },
  {
   "cell_type": "code",
   "execution_count": 188,
   "metadata": {
    "collapsed": false
   },
   "outputs": [],
   "source": [
    "px7 = finaleprob.reshape((-1,2))\n",
    "px8 = pd.DataFrame({'R':px2[:,0],\"S\":px2[:,1]})"
   ]
  },
  {
   "cell_type": "code",
   "execution_count": 189,
   "metadata": {
    "collapsed": true
   },
   "outputs": [],
   "source": [
    "px8.to_csv(\"finaleprediction.csv\",index=False)"
   ]
  },
  {
   "cell_type": "code",
   "execution_count": 191,
   "metadata": {
    "collapsed": false
   },
   "outputs": [
    {
     "data": {
      "text/plain": [
       "(6641, 2)"
      ]
     },
     "execution_count": 191,
     "metadata": {},
     "output_type": "execute_result"
    }
   ],
   "source": [
    "px8.shape"
   ]
  },
  {
   "cell_type": "code",
   "execution_count": null,
   "metadata": {
    "collapsed": true
   },
   "outputs": [],
   "source": []
  }
 ],
 "metadata": {
  "anaconda-cloud": {},
  "kernelspec": {
   "display_name": "Python [Root]",
   "language": "python",
   "name": "Python [Root]"
  },
  "language_info": {
   "codemirror_mode": {
    "name": "ipython",
    "version": 3
   },
   "file_extension": ".py",
   "mimetype": "text/x-python",
   "name": "python",
   "nbconvert_exporter": "python",
   "pygments_lexer": "ipython3",
   "version": "3.5.2"
  }
 },
 "nbformat": 4,
 "nbformat_minor": 0
}
