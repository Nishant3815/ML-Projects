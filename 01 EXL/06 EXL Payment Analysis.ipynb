{
 "cells": [
  {
   "cell_type": "code",
   "execution_count": 1,
   "metadata": {
    "collapsed": true
   },
   "outputs": [],
   "source": [
    "#Initial imports \n",
    "import numpy as np\n",
    "import pandas as pd \n",
    "from pandas import DataFrame, Series\n",
    "import matplotlib.pyplot as plt\n",
    "import seaborn as sns\n",
    "from scipy import stats\n",
    "%matplotlib inline\n",
    "from IPython.core.interactiveshell import InteractiveShell #Show all consecutive outputs\n",
    "InteractiveShell.ast_node_interactivity = \"all\""
   ]
  },
  {
   "cell_type": "code",
   "execution_count": 2,
   "metadata": {
    "collapsed": true
   },
   "outputs": [],
   "source": [
    "#Removes all unnecessary warnings by Python\n",
    "import warnings\n",
    "warnings.filterwarnings('ignore')"
   ]
  },
  {
   "cell_type": "code",
   "execution_count": 3,
   "metadata": {
    "collapsed": true
   },
   "outputs": [],
   "source": [
    "# Imports for better visualization\n",
    "\n",
    "from collections import defaultdict\n",
    "import scipy as sp\n",
    "from matplotlib import rcParams\n",
    "import matplotlib.cm as cm\n",
    "import matplotlib as mpl\n",
    "\n",
    "#colorbrewer2 Dark2 qualitative color table\n",
    "dark2_colors = [(0.10588235294117647, 0.6196078431372549, 0.4666666666666667),\n",
    "                (0.8509803921568627, 0.37254901960784315, 0.00784313725490196),\n",
    "                (0.4588235294117647, 0.4392156862745098, 0.7019607843137254),\n",
    "                (0.9058823529411765, 0.1607843137254902, 0.5411764705882353),\n",
    "                (0.4, 0.6509803921568628, 0.11764705882352941),\n",
    "                (0.9019607843137255, 0.6705882352941176, 0.00784313725490196),\n",
    "                (0.6509803921568628, 0.4627450980392157, 0.11372549019607843)]\n",
    "\n",
    "rcParams['figure.figsize'] = (14, 6)\n",
    "rcParams['figure.dpi'] = 250\n",
    "rcParams['axes.color_cycle'] = dark2_colors\n",
    "rcParams['lines.linewidth'] = 3\n",
    "rcParams['axes.facecolor'] = 'white'\n",
    "rcParams['font.size'] = 25\n",
    "rcParams['patch.edgecolor'] = 'white'\n",
    "rcParams['patch.facecolor'] = dark2_colors[0]\n",
    "rcParams['font.family'] = 'StixGeneral'"
   ]
  },
  {
   "cell_type": "code",
   "execution_count": 4,
   "metadata": {
    "collapsed": true
   },
   "outputs": [],
   "source": [
    "#Show all the columns \n",
    "pd.set_option('display.max_columns',None)"
   ]
  },
  {
   "cell_type": "code",
   "execution_count": 5,
   "metadata": {
    "collapsed": true
   },
   "outputs": [],
   "source": [
    "#Reading in all the data from different datasets \n",
    "paydam = pd.read_excel('paydam.xlsx')\n",
    "paydav = pd.read_csv('paydv.csv')"
   ]
  },
  {
   "cell_type": "code",
   "execution_count": 6,
   "metadata": {
    "collapsed": true
   },
   "outputs": [],
   "source": [
    "del paydam['Year_pay']\n",
    "del paydav['Year_pay']\n",
    "del paydam['date_pay']\n",
    "del paydav['date_pay']"
   ]
  },
  {
   "cell_type": "code",
   "execution_count": 7,
   "metadata": {
    "collapsed": true
   },
   "outputs": [],
   "source": [
    "del paydam['Realization Date']\n",
    "del paydav['Realization Date']"
   ]
  },
  {
   "cell_type": "code",
   "execution_count": 8,
   "metadata": {
    "collapsed": false
   },
   "outputs": [
    {
     "data": {
      "text/html": [
       "<div>\n",
       "<table border=\"1\" class=\"dataframe\">\n",
       "  <thead>\n",
       "    <tr style=\"text-align: right;\">\n",
       "      <th></th>\n",
       "      <th>Account Number</th>\n",
       "      <th>Sum</th>\n",
       "      <th>Jan</th>\n",
       "      <th>Feb</th>\n",
       "      <th>Mar</th>\n",
       "      <th>Card I TYPE</th>\n",
       "      <th>Card II TYPE</th>\n",
       "      <th>Other</th>\n",
       "      <th>Paper based/Post</th>\n",
       "    </tr>\n",
       "  </thead>\n",
       "  <tbody>\n",
       "    <tr>\n",
       "      <th>0</th>\n",
       "      <td>M1</td>\n",
       "      <td>1209.810</td>\n",
       "      <td>0.0</td>\n",
       "      <td>0.0</td>\n",
       "      <td>1.0</td>\n",
       "      <td>0.0</td>\n",
       "      <td>1.0</td>\n",
       "      <td>0.0</td>\n",
       "      <td>0.0</td>\n",
       "    </tr>\n",
       "    <tr>\n",
       "      <th>1</th>\n",
       "      <td>M1</td>\n",
       "      <td>1209.810</td>\n",
       "      <td>0.0</td>\n",
       "      <td>1.0</td>\n",
       "      <td>0.0</td>\n",
       "      <td>0.0</td>\n",
       "      <td>1.0</td>\n",
       "      <td>0.0</td>\n",
       "      <td>0.0</td>\n",
       "    </tr>\n",
       "    <tr>\n",
       "      <th>2</th>\n",
       "      <td>M1</td>\n",
       "      <td>1209.810</td>\n",
       "      <td>1.0</td>\n",
       "      <td>0.0</td>\n",
       "      <td>0.0</td>\n",
       "      <td>0.0</td>\n",
       "      <td>1.0</td>\n",
       "      <td>0.0</td>\n",
       "      <td>0.0</td>\n",
       "    </tr>\n",
       "    <tr>\n",
       "      <th>3</th>\n",
       "      <td>M2</td>\n",
       "      <td>751.695</td>\n",
       "      <td>0.0</td>\n",
       "      <td>0.0</td>\n",
       "      <td>1.0</td>\n",
       "      <td>0.0</td>\n",
       "      <td>1.0</td>\n",
       "      <td>0.0</td>\n",
       "      <td>0.0</td>\n",
       "    </tr>\n",
       "    <tr>\n",
       "      <th>4</th>\n",
       "      <td>M2</td>\n",
       "      <td>751.695</td>\n",
       "      <td>0.0</td>\n",
       "      <td>1.0</td>\n",
       "      <td>0.0</td>\n",
       "      <td>0.0</td>\n",
       "      <td>1.0</td>\n",
       "      <td>0.0</td>\n",
       "      <td>0.0</td>\n",
       "    </tr>\n",
       "  </tbody>\n",
       "</table>\n",
       "</div>"
      ],
      "text/plain": [
       "  Account Number       Sum  Jan  Feb  Mar   Card I TYPE   Card II TYPE  Other  \\\n",
       "0             M1  1209.810  0.0  0.0  1.0           0.0            1.0    0.0   \n",
       "1             M1  1209.810  0.0  1.0  0.0           0.0            1.0    0.0   \n",
       "2             M1  1209.810  1.0  0.0  0.0           0.0            1.0    0.0   \n",
       "3             M2   751.695  0.0  0.0  1.0           0.0            1.0    0.0   \n",
       "4             M2   751.695  0.0  1.0  0.0           0.0            1.0    0.0   \n",
       "\n",
       "   Paper based/Post  \n",
       "0               0.0  \n",
       "1               0.0  \n",
       "2               0.0  \n",
       "3               0.0  \n",
       "4               0.0  "
      ]
     },
     "execution_count": 8,
     "metadata": {},
     "output_type": "execute_result"
    }
   ],
   "source": [
    "bill = pd.get_dummies(paydam['month_pay'])\n",
    "billu = pd.get_dummies(paydam['Paytype'])\n",
    "dfm = pd.concat([paydam, bill,billu], axis=1)\n",
    "dfm.rename(columns={1: 'Jan',2:'Feb',3:'Mar'}, inplace=True)\n",
    "del dfm['month_pay']\n",
    "del dfm['Paytype']\n",
    "dfm.head()"
   ]
  },
  {
   "cell_type": "code",
   "execution_count": 9,
   "metadata": {
    "collapsed": false
   },
   "outputs": [
    {
     "data": {
      "text/html": [
       "<div>\n",
       "<table border=\"1\" class=\"dataframe\">\n",
       "  <thead>\n",
       "    <tr style=\"text-align: right;\">\n",
       "      <th></th>\n",
       "      <th>Account Number</th>\n",
       "      <th>Sum</th>\n",
       "      <th>May</th>\n",
       "      <th>Jun</th>\n",
       "      <th>July</th>\n",
       "      <th>Card I TYPE</th>\n",
       "      <th>Card II TYPE</th>\n",
       "      <th>Paper based/Post</th>\n",
       "    </tr>\n",
       "  </thead>\n",
       "  <tbody>\n",
       "    <tr>\n",
       "      <th>0</th>\n",
       "      <td>V1</td>\n",
       "      <td>2061.465</td>\n",
       "      <td>0.0</td>\n",
       "      <td>1.0</td>\n",
       "      <td>0.0</td>\n",
       "      <td>0.0</td>\n",
       "      <td>1.0</td>\n",
       "      <td>0.0</td>\n",
       "    </tr>\n",
       "    <tr>\n",
       "      <th>1</th>\n",
       "      <td>V1</td>\n",
       "      <td>748.965</td>\n",
       "      <td>1.0</td>\n",
       "      <td>0.0</td>\n",
       "      <td>0.0</td>\n",
       "      <td>0.0</td>\n",
       "      <td>1.0</td>\n",
       "      <td>0.0</td>\n",
       "    </tr>\n",
       "    <tr>\n",
       "      <th>2</th>\n",
       "      <td>V1</td>\n",
       "      <td>748.965</td>\n",
       "      <td>0.0</td>\n",
       "      <td>0.0</td>\n",
       "      <td>1.0</td>\n",
       "      <td>0.0</td>\n",
       "      <td>1.0</td>\n",
       "      <td>0.0</td>\n",
       "    </tr>\n",
       "    <tr>\n",
       "      <th>3</th>\n",
       "      <td>V2</td>\n",
       "      <td>824.670</td>\n",
       "      <td>0.0</td>\n",
       "      <td>1.0</td>\n",
       "      <td>0.0</td>\n",
       "      <td>0.0</td>\n",
       "      <td>1.0</td>\n",
       "      <td>0.0</td>\n",
       "    </tr>\n",
       "    <tr>\n",
       "      <th>4</th>\n",
       "      <td>V2</td>\n",
       "      <td>824.670</td>\n",
       "      <td>1.0</td>\n",
       "      <td>0.0</td>\n",
       "      <td>0.0</td>\n",
       "      <td>0.0</td>\n",
       "      <td>1.0</td>\n",
       "      <td>0.0</td>\n",
       "    </tr>\n",
       "  </tbody>\n",
       "</table>\n",
       "</div>"
      ],
      "text/plain": [
       "  Account Number       Sum  May  Jun  July   Card I TYPE   Card II TYPE  \\\n",
       "0             V1  2061.465  0.0  1.0   0.0           0.0            1.0   \n",
       "1             V1   748.965  1.0  0.0   0.0           0.0            1.0   \n",
       "2             V1   748.965  0.0  0.0   1.0           0.0            1.0   \n",
       "3             V2   824.670  0.0  1.0   0.0           0.0            1.0   \n",
       "4             V2   824.670  1.0  0.0   0.0           0.0            1.0   \n",
       "\n",
       "   Paper based/Post  \n",
       "0               0.0  \n",
       "1               0.0  \n",
       "2               0.0  \n",
       "3               0.0  \n",
       "4               0.0  "
      ]
     },
     "execution_count": 9,
     "metadata": {},
     "output_type": "execute_result"
    }
   ],
   "source": [
    "bill = pd.get_dummies(paydav['month_pay'])\n",
    "billu = pd.get_dummies(paydav['Paytype'])\n",
    "dfv = pd.concat([paydav, bill,billu], axis=1)\n",
    "del dfv['month_pay']\n",
    "del dfv['Paytype']\n",
    "dfv.rename(columns={5:'May',6:'Jun',7:'July'}, inplace=True)\n",
    "dfv.head()"
   ]
  },
  {
   "cell_type": "code",
   "execution_count": 10,
   "metadata": {
    "collapsed": true
   },
   "outputs": [],
   "source": [
    "dfm['Jan'] = dfm['Jan']*dfm['Sum']\n",
    "dfm['Feb'] = dfm['Feb']*dfm['Sum']\n",
    "dfm['Mar'] = dfm['Mar']*dfm['Sum']"
   ]
  },
  {
   "cell_type": "code",
   "execution_count": 11,
   "metadata": {
    "collapsed": true
   },
   "outputs": [],
   "source": [
    "dfv['May'] = dfv['May']*dfv['Sum']\n",
    "dfv['Jun'] = dfv['Jun']*dfv['Sum']\n",
    "dfv['July'] = dfv['July']*dfv['Sum']"
   ]
  },
  {
   "cell_type": "code",
   "execution_count": 16,
   "metadata": {
    "collapsed": true
   },
   "outputs": [],
   "source": [
    "dfm.rename(columns={'Jan':'Jan_pay','Feb':'Feb_pay','Mar':'Mar_pay'}, inplace=True)\n",
    "dfv.rename(columns={'May':'May_pay','Jun':'Jun_pay','July':'July_pay'}, inplace=True)"
   ]
  },
  {
   "cell_type": "code",
   "execution_count": 18,
   "metadata": {
    "collapsed": false
   },
   "outputs": [],
   "source": [
    "defm = dfm.groupby('Account Number').sum()\n",
    "defv = dfv.groupby('Account Number').sum()"
   ]
  },
  {
   "cell_type": "code",
   "execution_count": 20,
   "metadata": {
    "collapsed": true
   },
   "outputs": [],
   "source": [
    "defm.to_csv('paydamup.csv',index=True)\n",
    "defv.to_csv('paydavup.csv',index=True)"
   ]
  },
  {
   "cell_type": "code",
   "execution_count": 22,
   "metadata": {
    "collapsed": false
   },
   "outputs": [
    {
     "data": {
      "text/html": [
       "<div>\n",
       "<table border=\"1\" class=\"dataframe\">\n",
       "  <thead>\n",
       "    <tr style=\"text-align: right;\">\n",
       "      <th></th>\n",
       "      <th>Sum</th>\n",
       "      <th>May_pay</th>\n",
       "      <th>Jun_pay</th>\n",
       "      <th>July_pay</th>\n",
       "      <th>Card I TYPE</th>\n",
       "      <th>Card II TYPE</th>\n",
       "      <th>Paper based/Post</th>\n",
       "    </tr>\n",
       "    <tr>\n",
       "      <th>Account Number</th>\n",
       "      <th></th>\n",
       "      <th></th>\n",
       "      <th></th>\n",
       "      <th></th>\n",
       "      <th></th>\n",
       "      <th></th>\n",
       "      <th></th>\n",
       "    </tr>\n",
       "  </thead>\n",
       "  <tbody>\n",
       "    <tr>\n",
       "      <th>V1</th>\n",
       "      <td>3559.395</td>\n",
       "      <td>748.965</td>\n",
       "      <td>2061.465</td>\n",
       "      <td>748.965</td>\n",
       "      <td>0.0</td>\n",
       "      <td>3.0</td>\n",
       "      <td>0.0</td>\n",
       "    </tr>\n",
       "    <tr>\n",
       "      <th>V10</th>\n",
       "      <td>3370.185</td>\n",
       "      <td>1123.395</td>\n",
       "      <td>1123.395</td>\n",
       "      <td>1123.395</td>\n",
       "      <td>0.0</td>\n",
       "      <td>3.0</td>\n",
       "      <td>0.0</td>\n",
       "    </tr>\n",
       "    <tr>\n",
       "      <th>V1000</th>\n",
       "      <td>1988.910</td>\n",
       "      <td>662.970</td>\n",
       "      <td>662.970</td>\n",
       "      <td>662.970</td>\n",
       "      <td>0.0</td>\n",
       "      <td>3.0</td>\n",
       "      <td>0.0</td>\n",
       "    </tr>\n",
       "    <tr>\n",
       "      <th>V1001</th>\n",
       "      <td>2251.620</td>\n",
       "      <td>750.540</td>\n",
       "      <td>750.540</td>\n",
       "      <td>750.540</td>\n",
       "      <td>3.0</td>\n",
       "      <td>0.0</td>\n",
       "      <td>0.0</td>\n",
       "    </tr>\n",
       "    <tr>\n",
       "      <th>V1002</th>\n",
       "      <td>32.760</td>\n",
       "      <td>10.920</td>\n",
       "      <td>10.920</td>\n",
       "      <td>10.920</td>\n",
       "      <td>0.0</td>\n",
       "      <td>3.0</td>\n",
       "      <td>0.0</td>\n",
       "    </tr>\n",
       "  </tbody>\n",
       "</table>\n",
       "</div>"
      ],
      "text/plain": [
       "                     Sum   May_pay   Jun_pay  July_pay   Card I TYPE  \\\n",
       "Account Number                                                         \n",
       "V1              3559.395   748.965  2061.465   748.965           0.0   \n",
       "V10             3370.185  1123.395  1123.395  1123.395           0.0   \n",
       "V1000           1988.910   662.970   662.970   662.970           0.0   \n",
       "V1001           2251.620   750.540   750.540   750.540           3.0   \n",
       "V1002             32.760    10.920    10.920    10.920           0.0   \n",
       "\n",
       "                 Card II TYPE  Paper based/Post  \n",
       "Account Number                                   \n",
       "V1                        3.0               0.0  \n",
       "V10                       3.0               0.0  \n",
       "V1000                     3.0               0.0  \n",
       "V1001                     0.0               0.0  \n",
       "V1002                     3.0               0.0  "
      ]
     },
     "execution_count": 22,
     "metadata": {},
     "output_type": "execute_result"
    }
   ],
   "source": [
    "defv.head() # Change name of card one and cardtwo in excel manually can't be done here"
   ]
  },
  {
   "cell_type": "code",
   "execution_count": 5,
   "metadata": {
    "collapsed": false
   },
   "outputs": [],
   "source": [
    "defm = pd.read_csv('paydamup.csv')\n",
    "demog = pd.read_csv('AFMVIM.csv')"
   ]
  },
  {
   "cell_type": "code",
   "execution_count": 6,
   "metadata": {
    "collapsed": true
   },
   "outputs": [],
   "source": [
    "demog = demog[['Account Number','Churn']]"
   ]
  },
  {
   "cell_type": "code",
   "execution_count": 7,
   "metadata": {
    "collapsed": false
   },
   "outputs": [],
   "source": [
    "df8 = pd.merge(defm,demog,on='Account Number',how='inner')"
   ]
  },
  {
   "cell_type": "code",
   "execution_count": 8,
   "metadata": {
    "collapsed": false
   },
   "outputs": [],
   "source": [
    "df8['avg_pay'] = (df8['Jan_pay']+df8['Feb_pay']+df8['Mar_pay'])/(df8['cardone']+df8[' cardtwo']+df8['paper'])"
   ]
  },
  {
   "cell_type": "code",
   "execution_count": 9,
   "metadata": {
    "collapsed": false
   },
   "outputs": [
    {
     "data": {
      "text/plain": [
       "<matplotlib.axes._subplots.AxesSubplot at 0x219c6425ac8>"
      ]
     },
     "execution_count": 9,
     "metadata": {},
     "output_type": "execute_result"
    },
    {
     "data": {
      "image/png": "[encoded data removed]",
      "text/plain": [
       "<matplotlib.figure.Figure at 0x219c6425278>"
      ]
     },
     "metadata": {},
     "output_type": "display_data"
    }
   ],
   "source": [
    "sns.distplot(df8[\"Feb_pay\"][df8['Churn']==1],bins=100,kde=False)"
   ]
  },
  {
   "cell_type": "code",
   "execution_count": 10,
   "metadata": {
    "collapsed": false
   },
   "outputs": [
    {
     "data": {
      "text/plain": [
       "<matplotlib.axes._subplots.AxesSubplot at 0x219c5cceb38>"
      ]
     },
     "execution_count": 10,
     "metadata": {},
     "output_type": "execute_result"
    },
    {
     "data": {
      "image/png": "[encoded data removed]",
      "text/plain": [
       "<matplotlib.figure.Figure at 0x219c5ddf9b0>"
      ]
     },
     "metadata": {},
     "output_type": "display_data"
    }
   ],
   "source": [
    "sns.distplot(df8[\"Feb_pay\"][(df8['Churn']==0)&(df8['Feb_pay']<=6000)],bins=100,kde=False)"
   ]
  },
  {
   "cell_type": "code",
   "execution_count": 65,
   "metadata": {
    "collapsed": false
   },
   "outputs": [
    {
     "data": {
      "text/plain": [
       "count     462.000000\n",
       "mean      627.318636\n",
       "std       594.449406\n",
       "min         0.000000\n",
       "25%         0.000000\n",
       "50%       666.750000\n",
       "75%       833.883750\n",
       "max      5748.435000\n",
       "Name: Feb_pay, dtype: float64"
      ]
     },
     "execution_count": 65,
     "metadata": {},
     "output_type": "execute_result"
    },
    {
     "data": {
      "text/plain": [
       "count     9181.000000\n",
       "mean       752.848696\n",
       "std        560.098979\n",
       "min          0.000000\n",
       "25%        636.090000\n",
       "50%        749.700000\n",
       "75%        927.360000\n",
       "max      23296.035000\n",
       "Name: Feb_pay, dtype: float64"
      ]
     },
     "execution_count": 65,
     "metadata": {},
     "output_type": "execute_result"
    },
    {
     "data": {
      "text/plain": [
       "count     9643.000000\n",
       "mean       746.834501\n",
       "std        562.399654\n",
       "min          0.000000\n",
       "25%        629.895000\n",
       "50%        749.385000\n",
       "75%        921.637500\n",
       "max      23296.035000\n",
       "Name: Feb_pay, dtype: float64"
      ]
     },
     "execution_count": 65,
     "metadata": {},
     "output_type": "execute_result"
    }
   ],
   "source": [
    "df8[\"Feb_pay\"][df8['Churn']==1].describe()\n",
    "df8[\"Feb_pay\"][df8['Churn']==0].describe()\n",
    "df8[\"Feb_pay\"].describe()"
   ]
  },
  {
   "cell_type": "code",
   "execution_count": 77,
   "metadata": {
    "collapsed": true
   },
   "outputs": [],
   "source": [
    "df8['Febpb'] = '0-14.25%'\n",
    "df8['Febpb'][(df8['Feb_pay']>0)&(df8['Feb_pay']<629.8951)]='14.25-25%'\n",
    "df8['Febpb'][(df8['Feb_pay']>=629.8951)&(df8['Feb_pay']<749.3851)]='25-50%'\n",
    "df8['Febpb'][(df8['Feb_pay']>=749.3851)&(df8['Feb_pay']<921.63751)]='50-75%'\n",
    "df8['Febpb'][df8['Feb_pay']>=921.63751]='75-100%'"
   ]
  },
  {
   "cell_type": "code",
   "execution_count": 79,
   "metadata": {
    "collapsed": false
   },
   "outputs": [
    {
     "data": {
      "text/plain": [
       "<seaborn.axisgrid.FacetGrid at 0x219c12acef0>"
      ]
     },
     "execution_count": 79,
     "metadata": {},
     "output_type": "execute_result"
    },
    {
     "data": {
      "image/png": "[encoded data removed]",
      "text/plain": [
       "<matplotlib.figure.Figure at 0x219cccdec18>"
      ]
     },
     "metadata": {},
     "output_type": "display_data"
    }
   ],
   "source": [
    "ax = sns.factorplot(x='Febpb',y='Churn',data=df8,size=5,order=['0-14.25%','14.25-25%','25-50%','50-75%','75-100%'])\n",
    "ax.set(xlabel='Feb Payment',ylabel='Churn Rate',title='February Payment analysis with Churn')"
   ]
  },
  {
   "cell_type": "code",
   "execution_count": 13,
   "metadata": {
    "collapsed": false
   },
   "outputs": [
    {
     "data": {
      "text/plain": [
       "<matplotlib.axes._subplots.AxesSubplot at 0x219c625eba8>"
      ]
     },
     "execution_count": 13,
     "metadata": {},
     "output_type": "execute_result"
    },
    {
     "data": {
      "image/png": "[encoded data removed]",
      "text/plain": [
       "<matplotlib.figure.Figure at 0x219c6222dd8>"
      ]
     },
     "metadata": {},
     "output_type": "display_data"
    }
   ],
   "source": [
    "sns.distplot(df8[\"Jan_pay\"][df8['Churn']==1],bins=100,kde=False)"
   ]
  },
  {
   "cell_type": "code",
   "execution_count": 16,
   "metadata": {
    "collapsed": false
   },
   "outputs": [
    {
     "data": {
      "text/plain": [
       "<matplotlib.axes._subplots.AxesSubplot at 0x219c77e63c8>"
      ]
     },
     "execution_count": 16,
     "metadata": {},
     "output_type": "execute_result"
    },
    {
     "data": {
      "image/png": "[encoded data removed]",
      "text/plain": [
       "<matplotlib.figure.Figure at 0x219c6af7ac8>"
      ]
     },
     "metadata": {},
     "output_type": "display_data"
    }
   ],
   "source": [
    "sns.distplot(df8[\"Jan_pay\"][(df8['Churn']==0)&(df8['Jan_pay']<=4000)],bins=100,kde=False)"
   ]
  },
  {
   "cell_type": "code",
   "execution_count": 82,
   "metadata": {
    "collapsed": false
   },
   "outputs": [
    {
     "data": {
      "text/plain": [
       "count     9643.000000\n",
       "mean       786.193222\n",
       "std        547.979089\n",
       "min          0.000000\n",
       "25%        643.860000\n",
       "50%        751.695000\n",
       "75%        950.880000\n",
       "max      22487.850000\n",
       "Name: Jan_pay, dtype: float64"
      ]
     },
     "execution_count": 82,
     "metadata": {},
     "output_type": "execute_result"
    }
   ],
   "source": [
    "df8[\"Jan_pay\"].describe()"
   ]
  },
  {
   "cell_type": "code",
   "execution_count": 88,
   "metadata": {
    "collapsed": true
   },
   "outputs": [],
   "source": [
    "df8['Janpb'] = '0 Pay(10%)'\n",
    "df8['Janpb'][(df8['Jan_pay']>0)&(df8['Jan_pay']<643.861)]='9.9-25%'\n",
    "df8['Janpb'][(df8['Jan_pay']>=643.861)&(df8['Jan_pay']<751.6951)]='25-50%'\n",
    "df8['Janpb'][(df8['Jan_pay']>=751.6951)&(df8['Jan_pay']<950.881)]='50-75%'\n",
    "df8['Janpb'][df8['Jan_pay']>=950.881]='75-100%'"
   ]
  },
  {
   "cell_type": "code",
   "execution_count": 90,
   "metadata": {
    "collapsed": false
   },
   "outputs": [
    {
     "data": {
      "text/plain": [
       "<seaborn.axisgrid.FacetGrid at 0x219d4d76550>"
      ]
     },
     "execution_count": 90,
     "metadata": {},
     "output_type": "execute_result"
    },
    {
     "data": {
      "image/png": "[encoded data removed]",
      "text/plain": [
       "<matplotlib.figure.Figure at 0x219d4d768d0>"
      ]
     },
     "metadata": {},
     "output_type": "display_data"
    }
   ],
   "source": [
    "ax = sns.factorplot(x='Janpb',y='Churn',data=df8,size=5,order=['0-9.9%','9.9-25%','25-50%','50-75%','75-100%'])\n",
    "ax.set(xlabel='Jan Payment',ylabel='Churn Rate',title='January Payment analysis with Churn')"
   ]
  },
  {
   "cell_type": "code",
   "execution_count": 87,
   "metadata": {
    "collapsed": false
   },
   "outputs": [
    {
     "data": {
      "text/plain": [
       "0.25012962770921915"
      ]
     },
     "execution_count": 87,
     "metadata": {},
     "output_type": "execute_result"
    }
   ],
   "source": [
    "(954+1458)/(954+1458+2407+2411+2413)"
   ]
  },
  {
   "cell_type": "code",
   "execution_count": 17,
   "metadata": {
    "collapsed": false
   },
   "outputs": [
    {
     "data": {
      "text/plain": [
       "<matplotlib.axes._subplots.AxesSubplot at 0x219c77347b8>"
      ]
     },
     "execution_count": 17,
     "metadata": {},
     "output_type": "execute_result"
    },
    {
     "data": {
      "image/png": "[encoded data removed]",
      "text/plain": [
       "<matplotlib.figure.Figure at 0x219c6d95a58>"
      ]
     },
     "metadata": {},
     "output_type": "display_data"
    }
   ],
   "source": [
    "sns.distplot(df8[\"Mar_pay\"][df8['Churn']==1],bins=100,kde=False)"
   ]
  },
  {
   "cell_type": "code",
   "execution_count": 22,
   "metadata": {
    "collapsed": false
   },
   "outputs": [
    {
     "data": {
      "text/plain": [
       "<matplotlib.axes._subplots.AxesSubplot at 0x219ca3f6da0>"
      ]
     },
     "execution_count": 22,
     "metadata": {},
     "output_type": "execute_result"
    },
    {
     "data": {
      "image/png": "[encoded data removed]",
      "text/plain": [
       "<matplotlib.figure.Figure at 0x219ca1aa198>"
      ]
     },
     "metadata": {},
     "output_type": "display_data"
    }
   ],
   "source": [
    "sns.distplot(df8[\"Mar_pay\"][(df8['Churn']==0)&(df8['Mar_pay']<=6000)],bins=100,kde=False)"
   ]
  },
  {
   "cell_type": "code",
   "execution_count": 31,
   "metadata": {
    "collapsed": false
   },
   "outputs": [
    {
     "data": {
      "text/plain": [
       "count     462.000000\n",
       "mean      646.500682\n",
       "std       635.165628\n",
       "min         0.000000\n",
       "25%         0.000000\n",
       "50%       682.290000\n",
       "75%       870.922500\n",
       "max      5770.275000\n",
       "Name: Mar_pay, dtype: float64"
      ]
     },
     "execution_count": 31,
     "metadata": {},
     "output_type": "execute_result"
    },
    {
     "data": {
      "text/plain": [
       "count     9181.000000\n",
       "mean       895.389107\n",
       "std        606.947314\n",
       "min          0.000000\n",
       "25%        648.900000\n",
       "50%        782.250000\n",
       "75%       1019.340000\n",
       "max      23261.910000\n",
       "Name: Mar_pay, dtype: float64"
      ]
     },
     "execution_count": 31,
     "metadata": {},
     "output_type": "execute_result"
    },
    {
     "data": {
      "text/plain": [
       "count     9643.000000\n",
       "mean       883.464763\n",
       "std        610.613286\n",
       "min          0.000000\n",
       "25%        648.165000\n",
       "50%        777.210000\n",
       "75%       1013.040000\n",
       "max      23261.910000\n",
       "Name: Mar_pay, dtype: float64"
      ]
     },
     "execution_count": 31,
     "metadata": {},
     "output_type": "execute_result"
    }
   ],
   "source": [
    "df8[\"Mar_pay\"][df8['Churn']==1].describe()\n",
    "df8[\"Mar_pay\"][df8['Churn']==0].describe()\n",
    "df8[\"Mar_pay\"].describe()"
   ]
  },
  {
   "cell_type": "code",
   "execution_count": 58,
   "metadata": {
    "collapsed": true
   },
   "outputs": [],
   "source": [
    "df8['Marpb'] = '0-5%'\n",
    "df8['Marpb'][(df8['Mar_pay']>0)&(df8['Mar_pay']<648.17)]='5-25%'\n",
    "df8['Marpb'][(df8['Mar_pay']>=648.17)&(df8['Mar_pay']<777.22)]='25-50%'\n",
    "df8['Marpb'][(df8['Mar_pay']>=777.22)&(df8['Mar_pay']<1014)]='50-75%'\n",
    "df8['Marpb'][df8['Mar_pay']>=1014]='75-100%'"
   ]
  },
  {
   "cell_type": "code",
   "execution_count": 64,
   "metadata": {
    "collapsed": false
   },
   "outputs": [
    {
     "data": {
      "text/plain": [
       "<seaborn.axisgrid.FacetGrid at 0x219d4c1bf60>"
      ]
     },
     "execution_count": 64,
     "metadata": {},
     "output_type": "execute_result"
    },
    {
     "data": {
      "image/png": "[encoded data removed]",
      "text/plain": [
       "<matplotlib.figure.Figure at 0x219d4c1b550>"
      ]
     },
     "metadata": {},
     "output_type": "display_data"
    }
   ],
   "source": [
    "ax = sns.factorplot(x='Marpb',y='Churn',data=df8,size=5,order=['0-5%','5-25%','25-50%','50-75%','75-100%'])\n",
    "ax.set(xlabel='March Payment',ylabel='Churn Rate',title='March Payment analysis with Churn')"
   ]
  },
  {
   "cell_type": "code",
   "execution_count": 53,
   "metadata": {
    "collapsed": false
   },
   "outputs": [
    {
     "data": {
      "text/plain": [
       "d    2415\n",
       "e    2406\n",
       "c    2391\n",
       "b    1945\n",
       "a     486\n",
       "Name: Marpb, dtype: int64"
      ]
     },
     "execution_count": 53,
     "metadata": {},
     "output_type": "execute_result"
    }
   ],
   "source": []
  },
  {
   "cell_type": "code",
   "execution_count": 57,
   "metadata": {
    "collapsed": false
   },
   "outputs": [
    {
     "data": {
      "text/plain": [
       "0.5000518510836877"
      ]
     },
     "execution_count": 57,
     "metadata": {},
     "output_type": "execute_result"
    }
   ],
   "source": [
    "(486+1945+2391)/(486+1945+2391+2406+2415)"
   ]
  },
  {
   "cell_type": "code",
   "execution_count": null,
   "metadata": {
    "collapsed": true
   },
   "outputs": [],
   "source": []
  }
 ],
 "metadata": {
  "anaconda-cloud": {},
  "kernelspec": {
   "display_name": "Python [Root]",
   "language": "python",
   "name": "Python [Root]"
  },
  "language_info": {
   "codemirror_mode": {
    "name": "ipython",
    "version": 3
   },
   "file_extension": ".py",
   "mimetype": "text/x-python",
   "name": "python",
   "nbconvert_exporter": "python",
   "pygments_lexer": "ipython3",
   "version": "3.5.2"
  }
 },
 "nbformat": 4,
 "nbformat_minor": 1
}
