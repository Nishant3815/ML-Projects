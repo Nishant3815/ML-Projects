{
 "cells": [
  {
   "cell_type": "code",
   "execution_count": 21,
   "metadata": {
    "collapsed": true
   },
   "outputs": [],
   "source": [
    "# Making all the necessary imports for further processing \n",
    "import numpy as np\n",
    "import pandas as pd\n",
    "import heapq\n",
    "from collections import Counter\n",
    "import math as mt"
   ]
  },
  {
   "cell_type": "code",
   "execution_count": 22,
   "metadata": {
    "collapsed": true
   },
   "outputs": [],
   "source": [
    "# Read the training as well as testing files\n",
    "data = pd.read_csv(\"train.csv\")\n",
    "test = pd.read_csv(\"test.csv\")"
   ]
  },
  {
   "cell_type": "code",
   "execution_count": 23,
   "metadata": {
    "collapsed": true
   },
   "outputs": [],
   "source": [
    "# Extract the Year as well as month feature from the given dataset to be used for future predictions\n",
    "data['Date'] = data['Date'].astype(str)\n",
    "data['Year'] = data['Date'].str[0:4]\n",
    "data['Month'] = data['Date'].str[4:6]"
   ]
  },
  {
   "cell_type": "code",
   "execution_count": 24,
   "metadata": {
    "collapsed": true
   },
   "outputs": [],
   "source": [
    "# Convert the datatypes of the given Month and Year feature to integer types\n",
    "data['Month'] = data['Month'].astype(int)\n",
    "data['Year'] = data['Year'].astype(int)"
   ]
  },
  {
   "cell_type": "code",
   "execution_count": 25,
   "metadata": {
    "collapsed": false
   },
   "outputs": [
    {
     "name": "stderr",
     "output_type": "stream",
     "text": [
      "C:\\Users\\NISHANT\\Anaconda3\\lib\\site-packages\\ipykernel\\__main__.py:3: SettingWithCopyWarning: \n",
      "A value is trying to be set on a copy of a slice from a DataFrame\n",
      "\n",
      "See the caveats in the documentation: http://pandas.pydata.org/pandas-docs/stable/indexing.html#indexing-view-versus-copy\n",
      "  app.launch_new_instance()\n",
      "C:\\Users\\NISHANT\\Anaconda3\\lib\\site-packages\\ipykernel\\__main__.py:4: SettingWithCopyWarning: \n",
      "A value is trying to be set on a copy of a slice from a DataFrame\n",
      "\n",
      "See the caveats in the documentation: http://pandas.pydata.org/pandas-docs/stable/indexing.html#indexing-view-versus-copy\n"
     ]
    }
   ],
   "source": [
    "# For two different years get count of the month from start and doing this would ensure that the effect of both\n",
    "# the month and year are incorporated in our model\n",
    "data['Month'][data['Year']==2012] = 12+ (data['Month'][data['Year']==2012])\n",
    "data['Month'][data['Year']==2013] = 24+ (data['Month'][data['Year']==2013])"
   ]
  },
  {
   "cell_type": "code",
   "execution_count": 26,
   "metadata": {
    "collapsed": false
   },
   "outputs": [
    {
     "data": {
      "text/html": [
       "<div>\n",
       "<table border=\"1\" class=\"dataframe\">\n",
       "  <thead>\n",
       "    <tr style=\"text-align: right;\">\n",
       "      <th></th>\n",
       "      <th>PID</th>\n",
       "      <th>Date</th>\n",
       "      <th>Event</th>\n",
       "      <th>Year</th>\n",
       "      <th>Month</th>\n",
       "    </tr>\n",
       "  </thead>\n",
       "  <tbody>\n",
       "    <tr>\n",
       "      <th>0</th>\n",
       "      <td>1028890</td>\n",
       "      <td>201101</td>\n",
       "      <td>2186</td>\n",
       "      <td>2011</td>\n",
       "      <td>1</td>\n",
       "    </tr>\n",
       "    <tr>\n",
       "      <th>1</th>\n",
       "      <td>1028890</td>\n",
       "      <td>201101</td>\n",
       "      <td>7087</td>\n",
       "      <td>2011</td>\n",
       "      <td>1</td>\n",
       "    </tr>\n",
       "    <tr>\n",
       "      <th>2</th>\n",
       "      <td>1028890</td>\n",
       "      <td>201101</td>\n",
       "      <td>4848</td>\n",
       "      <td>2011</td>\n",
       "      <td>1</td>\n",
       "    </tr>\n",
       "    <tr>\n",
       "      <th>3</th>\n",
       "      <td>1028890</td>\n",
       "      <td>201101</td>\n",
       "      <td>2214</td>\n",
       "      <td>2011</td>\n",
       "      <td>1</td>\n",
       "    </tr>\n",
       "    <tr>\n",
       "      <th>4</th>\n",
       "      <td>1028890</td>\n",
       "      <td>201102</td>\n",
       "      <td>7087</td>\n",
       "      <td>2011</td>\n",
       "      <td>2</td>\n",
       "    </tr>\n",
       "  </tbody>\n",
       "</table>\n",
       "</div>"
      ],
      "text/plain": [
       "       PID    Date Event  Year  Month\n",
       "0  1028890  201101  2186  2011      1\n",
       "1  1028890  201101  7087  2011      1\n",
       "2  1028890  201101  4848  2011      1\n",
       "3  1028890  201101  2214  2011      1\n",
       "4  1028890  201102  7087  2011      2"
      ]
     },
     "execution_count": 26,
     "metadata": {},
     "output_type": "execute_result"
    }
   ],
   "source": [
    "#See the first five values of our dataset\n",
    "data.head()"
   ]
  },
  {
   "cell_type": "code",
   "execution_count": 27,
   "metadata": {
    "collapsed": true
   },
   "outputs": [],
   "source": [
    "#Assign weights to the model exponentially.This would ensure that the recent events are given more weight than the previous\n",
    "#events.This general trend was obseved in the dataset that the last values were found to be more in repeatition than the \n",
    "#previous observations in last (say last 50 events) like in above \"1028890\" where initially 7087 was found to be repeated \n",
    "#many times initially thus increasing its importance but as the sequence increases with time its effect is diluted and new events\n",
    "#tend to affect patient more frequently than the previuos events.I also tried various other metrics like linear weight allocation\n",
    "#power based weight allocation etc, the score of exponentialwith log based weight allocation were highest and hence I decided to finally \n",
    "#choose it.\n",
    "data['Weighted_factor_expolog'] = data['Month'].apply(lambda x: (mt.log(x)*mt.exp(x)))"
   ]
  },
  {
   "cell_type": "code",
   "execution_count": 28,
   "metadata": {
    "collapsed": true
   },
   "outputs": [],
   "source": [
    "# Create a new dataframe and group weight according to Patient ID and Event\n",
    "data_new = pd.DataFrame()\n",
    "data_new = (data['Weighted_factor_expolog'].groupby([data['PID'],data['Event']]).sum()).reset_index()"
   ]
  },
  {
   "cell_type": "code",
   "execution_count": 29,
   "metadata": {
    "collapsed": true
   },
   "outputs": [],
   "source": [
    "# Group the data according to patient id and arrange it in form of lists of weights and events\n",
    "data_new = data_new.groupby('PID').agg(lambda x: x.tolist())"
   ]
  },
  {
   "cell_type": "code",
   "execution_count": 30,
   "metadata": {
    "collapsed": true
   },
   "outputs": [],
   "source": [
    "# Reset index to numerical from 'PID' \n",
    "data_new2 = data_new.reset_index()"
   ]
  },
  {
   "cell_type": "code",
   "execution_count": 31,
   "metadata": {
    "collapsed": false
   },
   "outputs": [
    {
     "data": {
      "text/html": [
       "<div>\n",
       "<table border=\"1\" class=\"dataframe\">\n",
       "  <thead>\n",
       "    <tr style=\"text-align: right;\">\n",
       "      <th></th>\n",
       "      <th>PID</th>\n",
       "      <th>Event</th>\n",
       "      <th>Weighted_factor_expolog</th>\n",
       "    </tr>\n",
       "  </thead>\n",
       "  <tbody>\n",
       "    <tr>\n",
       "      <th>0</th>\n",
       "      <td>1000001</td>\n",
       "      <td>[1579, 1797, 1809, 1817, 2117, 2178, 2204, 222...</td>\n",
       "      <td>[238.861764964, 405876.158204, 3.65376234221e+...</td>\n",
       "    </tr>\n",
       "    <tr>\n",
       "      <th>1</th>\n",
       "      <td>1000011</td>\n",
       "      <td>[0090, 1103, 1121, 1579, 1934, 1955, 1958, 196...</td>\n",
       "      <td>[637705962868.0, 4015164094.86, 1134767.94557,...</td>\n",
       "    </tr>\n",
       "    <tr>\n",
       "      <th>2</th>\n",
       "      <td>1000019</td>\n",
       "      <td>[2664, 2670, 2689, 2780, 2912, 3000, 3004, 311...</td>\n",
       "      <td>[3.63468093659e+13, 3.63468093659e+13, 2.05749...</td>\n",
       "    </tr>\n",
       "    <tr>\n",
       "      <th>3</th>\n",
       "      <td>1000025</td>\n",
       "      <td>[1105, 1806, 1890, 1905, 2110, 2111, 2113, 216...</td>\n",
       "      <td>[0.0, 11606650177.0, 2.05749645649e+15, 317374...</td>\n",
       "    </tr>\n",
       "    <tr>\n",
       "      <th>4</th>\n",
       "      <td>1000029</td>\n",
       "      <td>[1101, 1142, 1172, 1204, 1579, 2113, 2253, 250...</td>\n",
       "      <td>[24637529.8137, 2.05749645647e+15, 24637529.81...</td>\n",
       "    </tr>\n",
       "  </tbody>\n",
       "</table>\n",
       "</div>"
      ],
      "text/plain": [
       "       PID                                              Event  \\\n",
       "0  1000001  [1579, 1797, 1809, 1817, 2117, 2178, 2204, 222...   \n",
       "1  1000011  [0090, 1103, 1121, 1579, 1934, 1955, 1958, 196...   \n",
       "2  1000019  [2664, 2670, 2689, 2780, 2912, 3000, 3004, 311...   \n",
       "3  1000025  [1105, 1806, 1890, 1905, 2110, 2111, 2113, 216...   \n",
       "4  1000029  [1101, 1142, 1172, 1204, 1579, 2113, 2253, 250...   \n",
       "\n",
       "                             Weighted_factor_expolog  \n",
       "0  [238.861764964, 405876.158204, 3.65376234221e+...  \n",
       "1  [637705962868.0, 4015164094.86, 1134767.94557,...  \n",
       "2  [3.63468093659e+13, 3.63468093659e+13, 2.05749...  \n",
       "3  [0.0, 11606650177.0, 2.05749645649e+15, 317374...  \n",
       "4  [24637529.8137, 2.05749645647e+15, 24637529.81...  "
      ]
     },
     "execution_count": 31,
     "metadata": {},
     "output_type": "execute_result"
    }
   ],
   "source": [
    "data_new2.head()"
   ]
  },
  {
   "cell_type": "code",
   "execution_count": 32,
   "metadata": {
    "collapsed": true
   },
   "outputs": [],
   "source": [
    "#Create a new column with blank values\n",
    "data_new2['Subtop10'] = ''"
   ]
  },
  {
   "cell_type": "code",
   "execution_count": 33,
   "metadata": {
    "collapsed": false
   },
   "outputs": [
    {
     "data": {
      "text/html": [
       "<div>\n",
       "<table border=\"1\" class=\"dataframe\">\n",
       "  <thead>\n",
       "    <tr style=\"text-align: right;\">\n",
       "      <th></th>\n",
       "      <th>PID</th>\n",
       "      <th>Event</th>\n",
       "      <th>Weighted_factor_expolog</th>\n",
       "      <th>Subtop10</th>\n",
       "    </tr>\n",
       "  </thead>\n",
       "  <tbody>\n",
       "    <tr>\n",
       "      <th>0</th>\n",
       "      <td>1000001</td>\n",
       "      <td>[1579, 1797, 1809, 1817, 2117, 2178, 2204, 222...</td>\n",
       "      <td>[238.861764964, 405876.158204, 3.65376234221e+...</td>\n",
       "      <td></td>\n",
       "    </tr>\n",
       "    <tr>\n",
       "      <th>1</th>\n",
       "      <td>1000011</td>\n",
       "      <td>[0090, 1103, 1121, 1579, 1934, 1955, 1958, 196...</td>\n",
       "      <td>[637705962868.0, 4015164094.86, 1134767.94557,...</td>\n",
       "      <td></td>\n",
       "    </tr>\n",
       "    <tr>\n",
       "      <th>2</th>\n",
       "      <td>1000019</td>\n",
       "      <td>[2664, 2670, 2689, 2780, 2912, 3000, 3004, 311...</td>\n",
       "      <td>[3.63468093659e+13, 3.63468093659e+13, 2.05749...</td>\n",
       "      <td></td>\n",
       "    </tr>\n",
       "    <tr>\n",
       "      <th>3</th>\n",
       "      <td>1000025</td>\n",
       "      <td>[1105, 1806, 1890, 1905, 2110, 2111, 2113, 216...</td>\n",
       "      <td>[0.0, 11606650177.0, 2.05749645649e+15, 317374...</td>\n",
       "      <td></td>\n",
       "    </tr>\n",
       "    <tr>\n",
       "      <th>4</th>\n",
       "      <td>1000029</td>\n",
       "      <td>[1101, 1142, 1172, 1204, 1579, 2113, 2253, 250...</td>\n",
       "      <td>[24637529.8137, 2.05749645647e+15, 24637529.81...</td>\n",
       "      <td></td>\n",
       "    </tr>\n",
       "  </tbody>\n",
       "</table>\n",
       "</div>"
      ],
      "text/plain": [
       "       PID                                              Event  \\\n",
       "0  1000001  [1579, 1797, 1809, 1817, 2117, 2178, 2204, 222...   \n",
       "1  1000011  [0090, 1103, 1121, 1579, 1934, 1955, 1958, 196...   \n",
       "2  1000019  [2664, 2670, 2689, 2780, 2912, 3000, 3004, 311...   \n",
       "3  1000025  [1105, 1806, 1890, 1905, 2110, 2111, 2113, 216...   \n",
       "4  1000029  [1101, 1142, 1172, 1204, 1579, 2113, 2253, 250...   \n",
       "\n",
       "                             Weighted_factor_expolog Subtop10  \n",
       "0  [238.861764964, 405876.158204, 3.65376234221e+...           \n",
       "1  [637705962868.0, 4015164094.86, 1134767.94557,...           \n",
       "2  [3.63468093659e+13, 3.63468093659e+13, 2.05749...           \n",
       "3  [0.0, 11606650177.0, 2.05749645649e+15, 317374...           \n",
       "4  [24637529.8137, 2.05749645647e+15, 24637529.81...           "
      ]
     },
     "execution_count": 33,
     "metadata": {},
     "output_type": "execute_result"
    }
   ],
   "source": [
    "data_new2.head()"
   ]
  },
  {
   "cell_type": "code",
   "execution_count": 34,
   "metadata": {
    "collapsed": false
   },
   "outputs": [
    {
     "name": "stderr",
     "output_type": "stream",
     "text": [
      "C:\\Users\\NISHANT\\Anaconda3\\lib\\site-packages\\pandas\\core\\indexing.py:132: SettingWithCopyWarning: \n",
      "A value is trying to be set on a copy of a slice from a DataFrame\n",
      "\n",
      "See the caveats in the documentation: http://pandas.pydata.org/pandas-docs/stable/indexing.html#indexing-view-versus-copy\n",
      "  self._setitem_with_indexer(indexer, value)\n"
     ]
    }
   ],
   "source": [
    "# For each of the patient id create a dictionary and then fill subtop column \n",
    "for i in range(len(data_new2)):\n",
    "    keys = data_new.iloc[i][0]\n",
    "    values = data_new.iloc[i][1]\n",
    "    dictionary = dict(zip(keys, values))\n",
    "    top10 = heapq.nlargest(10, dictionary, key=dictionary.get)\n",
    "    data_new2[\"Subtop10\"].iloc[i] = top10"
   ]
  },
  {
   "cell_type": "code",
   "execution_count": 35,
   "metadata": {
    "collapsed": true
   },
   "outputs": [],
   "source": [
    "# Used this code from ZS starter script in python \n",
    "for i in range(1,11):\n",
    "    data_new2[\"Event\" + str(i)] = data_new2[\"Subtop10\"].apply(lambda x: x[i-1])"
   ]
  },
  {
   "cell_type": "code",
   "execution_count": 36,
   "metadata": {
    "collapsed": false
   },
   "outputs": [
    {
     "data": {
      "text/html": [
       "<div>\n",
       "<table border=\"1\" class=\"dataframe\">\n",
       "  <thead>\n",
       "    <tr style=\"text-align: right;\">\n",
       "      <th></th>\n",
       "      <th>PID</th>\n",
       "      <th>Event</th>\n",
       "      <th>Weighted_factor_expolog</th>\n",
       "      <th>Subtop10</th>\n",
       "      <th>Event1</th>\n",
       "      <th>Event2</th>\n",
       "      <th>Event3</th>\n",
       "      <th>Event4</th>\n",
       "      <th>Event5</th>\n",
       "      <th>Event6</th>\n",
       "      <th>Event7</th>\n",
       "      <th>Event8</th>\n",
       "      <th>Event9</th>\n",
       "      <th>Event10</th>\n",
       "    </tr>\n",
       "  </thead>\n",
       "  <tbody>\n",
       "    <tr>\n",
       "      <th>0</th>\n",
       "      <td>1000001</td>\n",
       "      <td>[1579, 1797, 1809, 1817, 2117, 2178, 2204, 222...</td>\n",
       "      <td>[238.861764964, 405876.158204, 3.65376234221e+...</td>\n",
       "      <td>[1809, 2605, 7132, 2382, 4848, 2632, 2761, 379...</td>\n",
       "      <td>1809</td>\n",
       "      <td>2605</td>\n",
       "      <td>7132</td>\n",
       "      <td>2382</td>\n",
       "      <td>4848</td>\n",
       "      <td>2632</td>\n",
       "      <td>2761</td>\n",
       "      <td>3799</td>\n",
       "      <td>3222</td>\n",
       "      <td>3620</td>\n",
       "    </tr>\n",
       "    <tr>\n",
       "      <th>1</th>\n",
       "      <td>1000011</td>\n",
       "      <td>[0090, 1103, 1121, 1579, 1934, 1955, 1958, 196...</td>\n",
       "      <td>[637705962868.0, 4015164094.86, 1134767.94557,...</td>\n",
       "      <td>[8502, 8680, 8295, V221, 2902, 3717, 3472, 408...</td>\n",
       "      <td>8502</td>\n",
       "      <td>8680</td>\n",
       "      <td>8295</td>\n",
       "      <td>V221</td>\n",
       "      <td>2902</td>\n",
       "      <td>3717</td>\n",
       "      <td>3472</td>\n",
       "      <td>4084</td>\n",
       "      <td>3217</td>\n",
       "      <td>3033</td>\n",
       "    </tr>\n",
       "    <tr>\n",
       "      <th>2</th>\n",
       "      <td>1000019</td>\n",
       "      <td>[2664, 2670, 2689, 2780, 2912, 3000, 3004, 311...</td>\n",
       "      <td>[3.63468093659e+13, 3.63468093659e+13, 2.05749...</td>\n",
       "      <td>[9920, 9191, 3641, V700, 8006, 9938, 9047, 845...</td>\n",
       "      <td>9920</td>\n",
       "      <td>9191</td>\n",
       "      <td>3641</td>\n",
       "      <td>V700</td>\n",
       "      <td>8006</td>\n",
       "      <td>9938</td>\n",
       "      <td>9047</td>\n",
       "      <td>8455</td>\n",
       "      <td>8372</td>\n",
       "      <td>8230</td>\n",
       "    </tr>\n",
       "    <tr>\n",
       "      <th>3</th>\n",
       "      <td>1000025</td>\n",
       "      <td>[1105, 1806, 1890, 1905, 2110, 2111, 2113, 216...</td>\n",
       "      <td>[0.0, 11606650177.0, 2.05749645649e+15, 317374...</td>\n",
       "      <td>[3641, 8260, 2674, 2635, V700, 2525, 5990, 713...</td>\n",
       "      <td>3641</td>\n",
       "      <td>8260</td>\n",
       "      <td>2674</td>\n",
       "      <td>2635</td>\n",
       "      <td>V700</td>\n",
       "      <td>2525</td>\n",
       "      <td>5990</td>\n",
       "      <td>7132</td>\n",
       "      <td>3419</td>\n",
       "      <td>3397</td>\n",
       "    </tr>\n",
       "    <tr>\n",
       "      <th>4</th>\n",
       "      <td>1000029</td>\n",
       "      <td>[1101, 1142, 1172, 1204, 1579, 2113, 2253, 250...</td>\n",
       "      <td>[24637529.8137, 2.05749645647e+15, 24637529.81...</td>\n",
       "      <td>[3638, 2533, 9921, 4011, 3051, 3616, 7902, 719...</td>\n",
       "      <td>3638</td>\n",
       "      <td>2533</td>\n",
       "      <td>9921</td>\n",
       "      <td>4011</td>\n",
       "      <td>3051</td>\n",
       "      <td>3616</td>\n",
       "      <td>7902</td>\n",
       "      <td>7194</td>\n",
       "      <td>7871</td>\n",
       "      <td>1579</td>\n",
       "    </tr>\n",
       "  </tbody>\n",
       "</table>\n",
       "</div>"
      ],
      "text/plain": [
       "       PID                                              Event  \\\n",
       "0  1000001  [1579, 1797, 1809, 1817, 2117, 2178, 2204, 222...   \n",
       "1  1000011  [0090, 1103, 1121, 1579, 1934, 1955, 1958, 196...   \n",
       "2  1000019  [2664, 2670, 2689, 2780, 2912, 3000, 3004, 311...   \n",
       "3  1000025  [1105, 1806, 1890, 1905, 2110, 2111, 2113, 216...   \n",
       "4  1000029  [1101, 1142, 1172, 1204, 1579, 2113, 2253, 250...   \n",
       "\n",
       "                             Weighted_factor_expolog  \\\n",
       "0  [238.861764964, 405876.158204, 3.65376234221e+...   \n",
       "1  [637705962868.0, 4015164094.86, 1134767.94557,...   \n",
       "2  [3.63468093659e+13, 3.63468093659e+13, 2.05749...   \n",
       "3  [0.0, 11606650177.0, 2.05749645649e+15, 317374...   \n",
       "4  [24637529.8137, 2.05749645647e+15, 24637529.81...   \n",
       "\n",
       "                                            Subtop10 Event1 Event2 Event3  \\\n",
       "0  [1809, 2605, 7132, 2382, 4848, 2632, 2761, 379...   1809   2605   7132   \n",
       "1  [8502, 8680, 8295, V221, 2902, 3717, 3472, 408...   8502   8680   8295   \n",
       "2  [9920, 9191, 3641, V700, 8006, 9938, 9047, 845...   9920   9191   3641   \n",
       "3  [3641, 8260, 2674, 2635, V700, 2525, 5990, 713...   3641   8260   2674   \n",
       "4  [3638, 2533, 9921, 4011, 3051, 3616, 7902, 719...   3638   2533   9921   \n",
       "\n",
       "  Event4 Event5 Event6 Event7 Event8 Event9 Event10  \n",
       "0   2382   4848   2632   2761   3799   3222    3620  \n",
       "1   V221   2902   3717   3472   4084   3217    3033  \n",
       "2   V700   8006   9938   9047   8455   8372    8230  \n",
       "3   2635   V700   2525   5990   7132   3419    3397  \n",
       "4   4011   3051   3616   7902   7194   7871    1579  "
      ]
     },
     "execution_count": 36,
     "metadata": {},
     "output_type": "execute_result"
    }
   ],
   "source": [
    "data_new2.head()"
   ]
  },
  {
   "cell_type": "code",
   "execution_count": 37,
   "metadata": {
    "collapsed": true
   },
   "outputs": [],
   "source": [
    "#Deleting all unnecessary rows\n",
    "del data_new2['Event']\n",
    "del data_new2['Weighted_factor_expolog']\n",
    "del data_new2['Subtop10']"
   ]
  },
  {
   "cell_type": "code",
   "execution_count": 39,
   "metadata": {
    "collapsed": false
   },
   "outputs": [
    {
     "data": {
      "text/html": [
       "<div>\n",
       "<table border=\"1\" class=\"dataframe\">\n",
       "  <thead>\n",
       "    <tr style=\"text-align: right;\">\n",
       "      <th></th>\n",
       "      <th>PID</th>\n",
       "      <th>Event1</th>\n",
       "      <th>Event2</th>\n",
       "      <th>Event3</th>\n",
       "      <th>Event4</th>\n",
       "      <th>Event5</th>\n",
       "      <th>Event6</th>\n",
       "      <th>Event7</th>\n",
       "      <th>Event8</th>\n",
       "      <th>Event9</th>\n",
       "      <th>Event10</th>\n",
       "    </tr>\n",
       "  </thead>\n",
       "  <tbody>\n",
       "    <tr>\n",
       "      <th>0</th>\n",
       "      <td>1000001</td>\n",
       "      <td>1809</td>\n",
       "      <td>2605</td>\n",
       "      <td>7132</td>\n",
       "      <td>2382</td>\n",
       "      <td>4848</td>\n",
       "      <td>2632</td>\n",
       "      <td>2761</td>\n",
       "      <td>3799</td>\n",
       "      <td>3222</td>\n",
       "      <td>3620</td>\n",
       "    </tr>\n",
       "    <tr>\n",
       "      <th>1</th>\n",
       "      <td>1000011</td>\n",
       "      <td>8502</td>\n",
       "      <td>8680</td>\n",
       "      <td>8295</td>\n",
       "      <td>V221</td>\n",
       "      <td>2902</td>\n",
       "      <td>3717</td>\n",
       "      <td>3472</td>\n",
       "      <td>4084</td>\n",
       "      <td>3217</td>\n",
       "      <td>3033</td>\n",
       "    </tr>\n",
       "    <tr>\n",
       "      <th>2</th>\n",
       "      <td>1000019</td>\n",
       "      <td>9920</td>\n",
       "      <td>9191</td>\n",
       "      <td>3641</td>\n",
       "      <td>V700</td>\n",
       "      <td>8006</td>\n",
       "      <td>9938</td>\n",
       "      <td>9047</td>\n",
       "      <td>8455</td>\n",
       "      <td>8372</td>\n",
       "      <td>8230</td>\n",
       "    </tr>\n",
       "    <tr>\n",
       "      <th>3</th>\n",
       "      <td>1000025</td>\n",
       "      <td>3641</td>\n",
       "      <td>8260</td>\n",
       "      <td>2674</td>\n",
       "      <td>2635</td>\n",
       "      <td>V700</td>\n",
       "      <td>2525</td>\n",
       "      <td>5990</td>\n",
       "      <td>7132</td>\n",
       "      <td>3419</td>\n",
       "      <td>3397</td>\n",
       "    </tr>\n",
       "    <tr>\n",
       "      <th>4</th>\n",
       "      <td>1000029</td>\n",
       "      <td>3638</td>\n",
       "      <td>2533</td>\n",
       "      <td>9921</td>\n",
       "      <td>4011</td>\n",
       "      <td>3051</td>\n",
       "      <td>3616</td>\n",
       "      <td>7902</td>\n",
       "      <td>7194</td>\n",
       "      <td>7871</td>\n",
       "      <td>1579</td>\n",
       "    </tr>\n",
       "  </tbody>\n",
       "</table>\n",
       "</div>"
      ],
      "text/plain": [
       "       PID Event1 Event2 Event3 Event4 Event5 Event6 Event7 Event8 Event9  \\\n",
       "0  1000001   1809   2605   7132   2382   4848   2632   2761   3799   3222   \n",
       "1  1000011   8502   8680   8295   V221   2902   3717   3472   4084   3217   \n",
       "2  1000019   9920   9191   3641   V700   8006   9938   9047   8455   8372   \n",
       "3  1000025   3641   8260   2674   2635   V700   2525   5990   7132   3419   \n",
       "4  1000029   3638   2533   9921   4011   3051   3616   7902   7194   7871   \n",
       "\n",
       "  Event10  \n",
       "0    3620  \n",
       "1    3033  \n",
       "2    8230  \n",
       "3    3397  \n",
       "4    1579  "
      ]
     },
     "execution_count": 39,
     "metadata": {},
     "output_type": "execute_result"
    }
   ],
   "source": [
    "data_new2.head()"
   ]
  },
  {
   "cell_type": "code",
   "execution_count": 41,
   "metadata": {
    "collapsed": false
   },
   "outputs": [],
   "source": [
    "del data_new2['Event8']\n",
    "del data_new2['Event9']\n",
    "del data_new2['Event10']"
   ]
  },
  {
   "cell_type": "code",
   "execution_count": 42,
   "metadata": {
    "collapsed": true
   },
   "outputs": [],
   "source": [
    "#Repredicting values of event 8 by replacing it with Event 1 as event 1 is more prominent.I would say this was just a random \n",
    "#card that somehow worked to increase the score of the metric.\n",
    "data_new2['Event8'] = data_new2['Event1']\n",
    "data_new2['Event9'] = data_new2['Event2']\n",
    "data_new2['Event10'] = data_new2['Event3']"
   ]
  },
  {
   "cell_type": "code",
   "execution_count": 43,
   "metadata": {
    "collapsed": true
   },
   "outputs": [],
   "source": [
    "data_new2.to_csv(\"NishantRaj.csv\",index = False)"
   ]
  },
  {
   "cell_type": "markdown",
   "metadata": {},
   "source": [
    "# NDCG FUNCTION FOR CROSS-VALIDATION"
   ]
  },
  {
   "cell_type": "code",
   "execution_count": 45,
   "metadata": {
    "collapsed": true
   },
   "outputs": [],
   "source": [
    "import math\n",
    "import numpy as np"
   ]
  },
  {
   "cell_type": "code",
   "execution_count": 46,
   "metadata": {
    "collapsed": false
   },
   "outputs": [
    {
     "name": "stdout",
     "output_type": "stream",
     "text": [
      "[ 1.  0.  0.  0.  0.  0.  0.  0.  0.  0.]\n",
      "0.220157632865\n"
     ]
    }
   ],
   "source": [
    "predicted=[1398,1111,2222, 3333, 4444, 5555, 6666, 7777, 8888, 9999]\n",
    "test=[1398, 1115, 2227, 3323, 4494, 5355, 6686, 7477, 8388, 9989]\n",
    "def ndcg_scorer(y_pred,y_test):\n",
    "\n",
    "    score_mat=[0]*10\n",
    "    y_pred=list(np.asfarray(y_pred))\n",
    "    y_test=list(np.asfarray(y_test))\n",
    "    for i in range(10):\n",
    "        if y_pred[i]==y_test[i]:\n",
    "            score_mat[i]=1\n",
    "        elif y_pred[i] in y_test:\n",
    "            pos=y_test.index(y_pred[i])\n",
    "            score_mat[i]=min(((pos+1)/(i+1)),round((i+1)/(pos+1)))\n",
    "        else:\n",
    "            score_mat[i]=0\n",
    "    rel=np.asfarray(score_mat)\n",
    "    print(rel)\n",
    "    score=0\n",
    "    for i in range(10):\n",
    "        score+= (pow(2,rel[i])-1)/(math.log((i+2),2))\n",
    "    return score/4.5422\n",
    "print (ndcg_scorer(predicted,test))"
   ]
  },
  {
   "cell_type": "code",
   "execution_count": null,
   "metadata": {
    "collapsed": true
   },
   "outputs": [],
   "source": []
  }
 ],
 "metadata": {
  "kernelspec": {
   "display_name": "Python [Root]",
   "language": "python",
   "name": "Python [Root]"
  },
  "language_info": {
   "codemirror_mode": {
    "name": "ipython",
    "version": 3
   },
   "file_extension": ".py",
   "mimetype": "text/x-python",
   "name": "python",
   "nbconvert_exporter": "python",
   "pygments_lexer": "ipython3",
   "version": "3.5.2"
  }
 },
 "nbformat": 4,
 "nbformat_minor": 2
}
