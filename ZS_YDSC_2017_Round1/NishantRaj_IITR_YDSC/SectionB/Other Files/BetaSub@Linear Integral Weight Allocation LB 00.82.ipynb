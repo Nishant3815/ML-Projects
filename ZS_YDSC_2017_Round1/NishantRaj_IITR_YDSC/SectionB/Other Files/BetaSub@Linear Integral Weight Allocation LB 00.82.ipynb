{
 "cells": [
  {
   "cell_type": "code",
   "execution_count": 1,
   "metadata": {
    "collapsed": true
   },
   "outputs": [],
   "source": [
    "#Necessary imports \n",
    "import numpy as np\n",
    "import pandas as pd\n",
    "#Read the train & test datasets\n",
    "data = pd.read_csv(\"train.csv\")\n",
    "test = pd.read_csv(\"test.csv\")"
   ]
  },
  {
   "cell_type": "code",
   "execution_count": 2,
   "metadata": {
    "collapsed": false
   },
   "outputs": [
    {
     "name": "stderr",
     "output_type": "stream",
     "text": [
      "C:\\Users\\NISHANT\\Anaconda3\\lib\\site-packages\\ipykernel\\__main__.py:1: FutureWarning: sort(columns=....) is deprecated, use sort_values(by=.....)\n",
      "  if __name__ == '__main__':\n"
     ]
    }
   ],
   "source": [
    "# Rearranging the train dataset by grouping PID and aggregating it to list\n",
    "data = data.sort(['PID', 'Date'], ascending=[1, 1])\n",
    "data = data.reset_index(drop=True)\n",
    "data = data.groupby('PID').agg(lambda x: x.tolist())\n",
    "del data[\"Date\"]"
   ]
  },
  {
   "cell_type": "code",
   "execution_count": 45,
   "metadata": {
    "collapsed": false
   },
   "outputs": [
    {
     "data": {
      "text/html": [
       "<div>\n",
       "<table border=\"1\" class=\"dataframe\">\n",
       "  <thead>\n",
       "    <tr style=\"text-align: right;\">\n",
       "      <th></th>\n",
       "      <th>PID</th>\n",
       "      <th>Event</th>\n",
       "    </tr>\n",
       "  </thead>\n",
       "  <tbody>\n",
       "    <tr>\n",
       "      <th>0</th>\n",
       "      <td>1000001</td>\n",
       "      <td>[3263, 2580, 3382, 1817, 2632, 3263, 2841, 338...</td>\n",
       "    </tr>\n",
       "    <tr>\n",
       "      <th>1</th>\n",
       "      <td>1000011</td>\n",
       "      <td>[3009, 3388, 2621, 2526, 2493, 3210, 3210, 195...</td>\n",
       "    </tr>\n",
       "    <tr>\n",
       "      <th>2</th>\n",
       "      <td>1000019</td>\n",
       "      <td>[7865, 9920, V724, V283, 9920, 7681, V288, 655...</td>\n",
       "    </tr>\n",
       "    <tr>\n",
       "      <th>3</th>\n",
       "      <td>1000025</td>\n",
       "      <td>[2453, 2110, 2453, 3254, 4019, 7865, 7890, 530...</td>\n",
       "    </tr>\n",
       "    <tr>\n",
       "      <th>4</th>\n",
       "      <td>1000029</td>\n",
       "      <td>[2773, 2773, 2533, 2773, 2533, 2773, 2773, 253...</td>\n",
       "    </tr>\n",
       "  </tbody>\n",
       "</table>\n",
       "</div>"
      ],
      "text/plain": [
       "       PID                                              Event\n",
       "0  1000001  [3263, 2580, 3382, 1817, 2632, 3263, 2841, 338...\n",
       "1  1000011  [3009, 3388, 2621, 2526, 2493, 3210, 3210, 195...\n",
       "2  1000019  [7865, 9920, V724, V283, 9920, 7681, V288, 655...\n",
       "3  1000025  [2453, 2110, 2453, 3254, 4019, 7865, 7890, 530...\n",
       "4  1000029  [2773, 2773, 2533, 2773, 2533, 2773, 2773, 253..."
      ]
     },
     "execution_count": 45,
     "metadata": {},
     "output_type": "execute_result"
    }
   ],
   "source": [
    "# Visualize the dataset 'beta' formed by above described method \n",
    "beta = data.reset_index()\n",
    "beta.head()"
   ]
  },
  {
   "cell_type": "code",
   "execution_count": 46,
   "metadata": {
    "collapsed": false
   },
   "outputs": [],
   "source": [
    "#Creating a Submit column\n",
    "beta[\"Submit\"] = \"\""
   ]
  },
  {
   "cell_type": "code",
   "execution_count": 47,
   "metadata": {
    "collapsed": false,
    "scrolled": true
   },
   "outputs": [
    {
     "data": {
      "text/html": [
       "<div>\n",
       "<table border=\"1\" class=\"dataframe\">\n",
       "  <thead>\n",
       "    <tr style=\"text-align: right;\">\n",
       "      <th></th>\n",
       "      <th>PID</th>\n",
       "      <th>Event</th>\n",
       "      <th>Submit</th>\n",
       "    </tr>\n",
       "  </thead>\n",
       "  <tbody>\n",
       "    <tr>\n",
       "      <th>0</th>\n",
       "      <td>1000001</td>\n",
       "      <td>[3263, 2580, 3382, 1817, 2632, 3263, 2841, 338...</td>\n",
       "      <td></td>\n",
       "    </tr>\n",
       "    <tr>\n",
       "      <th>1</th>\n",
       "      <td>1000011</td>\n",
       "      <td>[3009, 3388, 2621, 2526, 2493, 3210, 3210, 195...</td>\n",
       "      <td></td>\n",
       "    </tr>\n",
       "  </tbody>\n",
       "</table>\n",
       "</div>"
      ],
      "text/plain": [
       "       PID                                              Event Submit\n",
       "0  1000001  [3263, 2580, 3382, 1817, 2632, 3263, 2841, 338...       \n",
       "1  1000011  [3009, 3388, 2621, 2526, 2493, 3210, 3210, 195...       "
      ]
     },
     "execution_count": 47,
     "metadata": {},
     "output_type": "execute_result"
    }
   ],
   "source": [
    "beta.head(2)"
   ]
  },
  {
   "cell_type": "code",
   "execution_count": 14,
   "metadata": {
    "collapsed": true
   },
   "outputs": [],
   "source": [
    "# Making necessary imports for further processing \n",
    "import itertools\n",
    "import heapq\n",
    "from collections import Counter"
   ]
  },
  {
   "cell_type": "raw",
   "metadata": {
    "collapsed": true
   },
   "source": [
    "In this approach of linear integral weight allocation we first start a loop to get the descriptions related to the the PIDs and initiatean empty list and then for the PID that is identified in current loop we repeat the events on the basis of index in events like for the case of PID=1000001, we append 3263 one times,258 two times,3382 three times,1817 for four times based on position and thus the most recent one gets the best weight. The benifit of using such a method was that even if an event occured only a few times at the end event occurences but a lot many times in the middle,it will still be able to find its representation.Then we loope to append it to list c and created a flat list and from that list finally a dictionary was created and the values were filled in submit column after getting best 10 events in sequence."
   ]
  },
  {
   "cell_type": "code",
   "execution_count": 49,
   "metadata": {
    "collapsed": false
   },
   "outputs": [
    {
     "name": "stderr",
     "output_type": "stream",
     "text": [
      "C:\\Users\\NISHANT\\Anaconda3\\lib\\site-packages\\pandas\\core\\indexing.py:132: SettingWithCopyWarning: \n",
      "A value is trying to be set on a copy of a slice from a DataFrame\n",
      "\n",
      "See the caveats in the documentation: http://pandas.pydata.org/pandas-docs/stable/indexing.html#indexing-view-versus-copy\n",
      "  self._setitem_with_indexer(indexer, value)\n"
     ]
    }
   ],
   "source": [
    "#Code for description above\n",
    "for i in range(len(beta)):\n",
    "    a = beta.iloc[i][1]\n",
    "    c = []\n",
    "    for k,j in enumerate(a):\n",
    "        c.append(list(itertools.repeat(j, k+1)))\n",
    "    flat_list = [item for sublist in c for item in sublist]\n",
    "    d = dict(Counter(flat_list))\n",
    "    e = heapq.nlargest(10, d, key=d.get)\n",
    "    beta[\"Submit\"].iloc[i] = e\n"
   ]
  },
  {
   "cell_type": "code",
   "execution_count": 51,
   "metadata": {
    "collapsed": false
   },
   "outputs": [
    {
     "data": {
      "text/html": [
       "<div>\n",
       "<table border=\"1\" class=\"dataframe\">\n",
       "  <thead>\n",
       "    <tr style=\"text-align: right;\">\n",
       "      <th></th>\n",
       "      <th>PID</th>\n",
       "      <th>Event</th>\n",
       "      <th>Submit</th>\n",
       "    </tr>\n",
       "  </thead>\n",
       "  <tbody>\n",
       "    <tr>\n",
       "      <th>0</th>\n",
       "      <td>1000001</td>\n",
       "      <td>[3263, 2580, 3382, 1817, 2632, 3263, 2841, 338...</td>\n",
       "      <td>[3074, 2632, 3263, 2533, 2178, 9921, 3041, 356...</td>\n",
       "    </tr>\n",
       "    <tr>\n",
       "      <th>1</th>\n",
       "      <td>1000011</td>\n",
       "      <td>[3009, 3388, 2621, 2526, 2493, 3210, 3210, 195...</td>\n",
       "      <td>[9921, 9928, 8100, 8502, 8470, 3106, 2335, 409...</td>\n",
       "    </tr>\n",
       "    <tr>\n",
       "      <th>2</th>\n",
       "      <td>1000019</td>\n",
       "      <td>[7865, 9920, V724, V283, 9920, 7681, V288, 655...</td>\n",
       "      <td>[9928, 7194, 7313, 7682, 7311, 8140, 9594, 834...</td>\n",
       "    </tr>\n",
       "    <tr>\n",
       "      <th>3</th>\n",
       "      <td>1000025</td>\n",
       "      <td>[2453, 2110, 2453, 3254, 4019, 7865, 7890, 530...</td>\n",
       "      <td>[3641, 2674, 2635, 3254, 3419, 3410, 8444, 844...</td>\n",
       "    </tr>\n",
       "    <tr>\n",
       "      <th>4</th>\n",
       "      <td>1000029</td>\n",
       "      <td>[2773, 2773, 2533, 2773, 2533, 2773, 2773, 253...</td>\n",
       "      <td>[2533, 3638, 2773, 9921, 4011, 3051, 8830, 361...</td>\n",
       "    </tr>\n",
       "  </tbody>\n",
       "</table>\n",
       "</div>"
      ],
      "text/plain": [
       "       PID                                              Event  \\\n",
       "0  1000001  [3263, 2580, 3382, 1817, 2632, 3263, 2841, 338...   \n",
       "1  1000011  [3009, 3388, 2621, 2526, 2493, 3210, 3210, 195...   \n",
       "2  1000019  [7865, 9920, V724, V283, 9920, 7681, V288, 655...   \n",
       "3  1000025  [2453, 2110, 2453, 3254, 4019, 7865, 7890, 530...   \n",
       "4  1000029  [2773, 2773, 2533, 2773, 2533, 2773, 2773, 253...   \n",
       "\n",
       "                                              Submit  \n",
       "0  [3074, 2632, 3263, 2533, 2178, 9921, 3041, 356...  \n",
       "1  [9921, 9928, 8100, 8502, 8470, 3106, 2335, 409...  \n",
       "2  [9928, 7194, 7313, 7682, 7311, 8140, 9594, 834...  \n",
       "3  [3641, 2674, 2635, 3254, 3419, 3410, 8444, 844...  \n",
       "4  [2533, 3638, 2773, 9921, 4011, 3051, 8830, 361...  "
      ]
     },
     "execution_count": 51,
     "metadata": {},
     "output_type": "execute_result"
    }
   ],
   "source": [
    "beta.head()"
   ]
  },
  {
   "cell_type": "code",
   "execution_count": 53,
   "metadata": {
    "collapsed": false
   },
   "outputs": [],
   "source": [
    "# Copied from ZS starter code to create a dataframe\n",
    "for i in range(1,11):\n",
    "    beta[\"Event\" + str(i)] = beta[\"Submit\"].apply(lambda x: x[i-1])"
   ]
  },
  {
   "cell_type": "code",
   "execution_count": 55,
   "metadata": {
    "collapsed": false
   },
   "outputs": [],
   "source": [
    "#Delete columns\n",
    "del beta['Event']\n",
    "del beta['Submit']"
   ]
  },
  {
   "cell_type": "code",
   "execution_count": 57,
   "metadata": {
    "collapsed": false
   },
   "outputs": [
    {
     "data": {
      "text/html": [
       "<div>\n",
       "<table border=\"1\" class=\"dataframe\">\n",
       "  <thead>\n",
       "    <tr style=\"text-align: right;\">\n",
       "      <th></th>\n",
       "      <th>PID</th>\n",
       "      <th>Event1</th>\n",
       "      <th>Event2</th>\n",
       "      <th>Event3</th>\n",
       "      <th>Event4</th>\n",
       "      <th>Event5</th>\n",
       "      <th>Event6</th>\n",
       "      <th>Event7</th>\n",
       "      <th>Event8</th>\n",
       "      <th>Event9</th>\n",
       "      <th>Event10</th>\n",
       "    </tr>\n",
       "  </thead>\n",
       "  <tbody>\n",
       "    <tr>\n",
       "      <th>0</th>\n",
       "      <td>1000001</td>\n",
       "      <td>3074</td>\n",
       "      <td>2632</td>\n",
       "      <td>3263</td>\n",
       "      <td>2533</td>\n",
       "      <td>2178</td>\n",
       "      <td>9921</td>\n",
       "      <td>3041</td>\n",
       "      <td>3568</td>\n",
       "      <td>3016</td>\n",
       "      <td>J705</td>\n",
       "    </tr>\n",
       "    <tr>\n",
       "      <th>1</th>\n",
       "      <td>1000011</td>\n",
       "      <td>9921</td>\n",
       "      <td>9928</td>\n",
       "      <td>8100</td>\n",
       "      <td>8502</td>\n",
       "      <td>8470</td>\n",
       "      <td>3106</td>\n",
       "      <td>2335</td>\n",
       "      <td>4097</td>\n",
       "      <td>6489</td>\n",
       "      <td>9637</td>\n",
       "    </tr>\n",
       "    <tr>\n",
       "      <th>2</th>\n",
       "      <td>1000019</td>\n",
       "      <td>9928</td>\n",
       "      <td>7194</td>\n",
       "      <td>7313</td>\n",
       "      <td>7682</td>\n",
       "      <td>7311</td>\n",
       "      <td>8140</td>\n",
       "      <td>9594</td>\n",
       "      <td>8340</td>\n",
       "      <td>E888</td>\n",
       "      <td>6522</td>\n",
       "    </tr>\n",
       "    <tr>\n",
       "      <th>3</th>\n",
       "      <td>1000025</td>\n",
       "      <td>3641</td>\n",
       "      <td>2674</td>\n",
       "      <td>2635</td>\n",
       "      <td>3254</td>\n",
       "      <td>3419</td>\n",
       "      <td>3410</td>\n",
       "      <td>8444</td>\n",
       "      <td>8443</td>\n",
       "      <td>9921</td>\n",
       "      <td>3167</td>\n",
       "    </tr>\n",
       "    <tr>\n",
       "      <th>4</th>\n",
       "      <td>1000029</td>\n",
       "      <td>2533</td>\n",
       "      <td>3638</td>\n",
       "      <td>2773</td>\n",
       "      <td>9921</td>\n",
       "      <td>4011</td>\n",
       "      <td>3051</td>\n",
       "      <td>8830</td>\n",
       "      <td>3616</td>\n",
       "      <td>7373</td>\n",
       "      <td>7871</td>\n",
       "    </tr>\n",
       "  </tbody>\n",
       "</table>\n",
       "</div>"
      ],
      "text/plain": [
       "       PID Event1 Event2 Event3 Event4 Event5 Event6 Event7 Event8 Event9  \\\n",
       "0  1000001   3074   2632   3263   2533   2178   9921   3041   3568   3016   \n",
       "1  1000011   9921   9928   8100   8502   8470   3106   2335   4097   6489   \n",
       "2  1000019   9928   7194   7313   7682   7311   8140   9594   8340   E888   \n",
       "3  1000025   3641   2674   2635   3254   3419   3410   8444   8443   9921   \n",
       "4  1000029   2533   3638   2773   9921   4011   3051   8830   3616   7373   \n",
       "\n",
       "  Event10  \n",
       "0    J705  \n",
       "1    9637  \n",
       "2    6522  \n",
       "3    3167  \n",
       "4    7871  "
      ]
     },
     "execution_count": 57,
     "metadata": {},
     "output_type": "execute_result"
    }
   ],
   "source": [
    "beta.head()"
   ]
  },
  {
   "cell_type": "code",
   "execution_count": 59,
   "metadata": {
    "collapsed": true
   },
   "outputs": [],
   "source": [
    "#Generate .csv file for above code. This produced a LB score around 0.82\n",
    "beta.to_csv(\"beta.csv\",index = False)"
   ]
  },
  {
   "cell_type": "code",
   "execution_count": null,
   "metadata": {
    "collapsed": true
   },
   "outputs": [],
   "source": []
  }
 ],
 "metadata": {
  "anaconda-cloud": {},
  "kernelspec": {
   "display_name": "Python [Root]",
   "language": "python",
   "name": "Python [Root]"
  },
  "language_info": {
   "codemirror_mode": {
    "name": "ipython",
    "version": 3
   },
   "file_extension": ".py",
   "mimetype": "text/x-python",
   "name": "python",
   "nbconvert_exporter": "python",
   "pygments_lexer": "ipython3",
   "version": "3.5.2"
  }
 },
 "nbformat": 4,
 "nbformat_minor": 0
}
